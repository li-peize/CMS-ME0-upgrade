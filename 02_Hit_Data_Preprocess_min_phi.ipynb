{
 "cells": [
  {
   "cell_type": "markdown",
   "metadata": {},
   "source": [
    "# All Data"
   ]
  },
  {
   "cell_type": "code",
   "execution_count": 1,
   "metadata": {
    "ExecuteTime": {
     "end_time": "2019-05-29T19:58:18.027882Z",
     "start_time": "2019-05-29T19:58:17.453183Z"
    }
   },
   "outputs": [],
   "source": [
    "import numpy as np\n",
    "import pandas as pd"
   ]
  },
  {
   "cell_type": "code",
   "execution_count": 2,
   "metadata": {
    "ExecuteTime": {
     "end_time": "2019-05-29T19:58:18.251264Z",
     "start_time": "2019-05-29T19:58:18.034958Z"
    }
   },
   "outputs": [],
   "source": [
    "# configure plots\n",
    "import matplotlib.pyplot as plt\n",
    "%matplotlib inline\n",
    "from matplotlib.pylab import rcParams\n",
    "rcParams['figure.figsize'] = 6, 4"
   ]
  },
  {
   "cell_type": "code",
   "execution_count": 3,
   "metadata": {
    "ExecuteTime": {
     "end_time": "2019-05-29T19:59:34.468997Z",
     "start_time": "2019-05-29T19:58:18.317800Z"
    }
   },
   "outputs": [],
   "source": [
    "data = np.load(\"data_all.npy\")"
   ]
  },
  {
   "cell_type": "code",
   "execution_count": 4,
   "metadata": {
    "ExecuteTime": {
     "end_time": "2019-05-29T19:59:34.546271Z",
     "start_time": "2019-05-29T19:59:34.536341Z"
    }
   },
   "outputs": [
    {
     "data": {
      "text/plain": [
       "163737"
      ]
     },
     "execution_count": 4,
     "metadata": {},
     "output_type": "execute_result"
    }
   ],
   "source": [
    "len(data['vh_size'])"
   ]
  },
  {
   "cell_type": "markdown",
   "metadata": {},
   "source": [
    "# Part Data"
   ]
  },
  {
   "cell_type": "code",
   "execution_count": 147,
   "metadata": {
    "ExecuteTime": {
     "end_time": "2019-05-29T19:39:50.842840Z",
     "start_time": "2019-05-29T19:39:23.229093Z"
    }
   },
   "outputs": [],
   "source": [
    "data_part = np.load('data1_full.npy')"
   ]
  },
  {
   "cell_type": "code",
   "execution_count": 148,
   "metadata": {
    "ExecuteTime": {
     "end_time": "2019-05-29T19:40:04.256222Z",
     "start_time": "2019-05-29T19:40:04.169147Z"
    }
   },
   "outputs": [],
   "source": [
    "df_part = pd.DataFrame(data_part)"
   ]
  },
  {
   "cell_type": "code",
   "execution_count": 149,
   "metadata": {
    "ExecuteTime": {
     "end_time": "2019-05-29T19:40:12.356638Z",
     "start_time": "2019-05-29T19:40:12.320119Z"
    }
   },
   "outputs": [
    {
     "data": {
      "text/html": [
       "<div>\n",
       "<style scoped>\n",
       "    .dataframe tbody tr th:only-of-type {\n",
       "        vertical-align: middle;\n",
       "    }\n",
       "\n",
       "    .dataframe tbody tr th {\n",
       "        vertical-align: top;\n",
       "    }\n",
       "\n",
       "    .dataframe thead th {\n",
       "        text-align: right;\n",
       "    }\n",
       "</style>\n",
       "<table border=\"1\" class=\"dataframe\">\n",
       "  <thead>\n",
       "    <tr style=\"text-align: right;\">\n",
       "      <th></th>\n",
       "      <th>vh_endcap</th>\n",
       "      <th>vh_station</th>\n",
       "      <th>vh_ring</th>\n",
       "      <th>vh_sector</th>\n",
       "      <th>vh_subsector</th>\n",
       "      <th>vh_chamber</th>\n",
       "      <th>vh_cscid</th>\n",
       "      <th>vh_bx</th>\n",
       "      <th>vh_type</th>\n",
       "      <th>vh_neighbor</th>\n",
       "      <th>...</th>\n",
       "      <th>vp_event</th>\n",
       "      <th>vp_pdgid</th>\n",
       "      <th>vp_status</th>\n",
       "      <th>vp_genp</th>\n",
       "      <th>vp_size</th>\n",
       "      <th>ve_event</th>\n",
       "      <th>ve_run</th>\n",
       "      <th>ve_lumi</th>\n",
       "      <th>ve_npv</th>\n",
       "      <th>ve_size</th>\n",
       "    </tr>\n",
       "  </thead>\n",
       "  <tbody>\n",
       "    <tr>\n",
       "      <th>0</th>\n",
       "      <td>[1, 1, 1, 1, 1, 1, 1, 1, -1, -1, -1, -1, -1, -...</td>\n",
       "      <td>[1, 1, 1, 1, 3, 3, 4, 4, 1, 1, 1, 1, 3, 3, 4]</td>\n",
       "      <td>[1, 1, 1, 2, 2, 2, 2, 2, 1, 1, 2, 2, 2, 2, 2]</td>\n",
       "      <td>[3, 3, 3, 3, 3, 3, 3, 3, 6, 6, 6, 6, 6, 6, 6]</td>\n",
       "      <td>[1, 1, 1, 1, 0, 0, 0, 0, 1, 1, 1, 1, 0, 0, 0]</td>\n",
       "      <td>[15, 15, 15, 15, 15, 15, 15, 15, 34, 34, 34, 3...</td>\n",
       "      <td>[1, 1, 1, 4, 4, 4, 4, 4, 2, 2, 5, 5, 5, 5, 5]</td>\n",
       "      <td>[0, 0, 0, 0, 0, 0, 0, 0, 0, 0, 0, 0, 0, 0, 0]</td>\n",
       "      <td>[3, 3, 3, 1, 1, 2, 1, 2, 1, 3, 1, 2, 1, 2, 1]</td>\n",
       "      <td>[0, 0, 0, 0, 0, 0, 0, 0, 0, 0, 0, 0, 0, 0, 0]</td>\n",
       "      <td>...</td>\n",
       "      <td>[0, 0]</td>\n",
       "      <td>[-13, 13]</td>\n",
       "      <td>[1, 1]</td>\n",
       "      <td>[0, 1]</td>\n",
       "      <td>2</td>\n",
       "      <td>[244986]</td>\n",
       "      <td>[1]</td>\n",
       "      <td>[246]</td>\n",
       "      <td>[0]</td>\n",
       "      <td>1</td>\n",
       "    </tr>\n",
       "    <tr>\n",
       "      <th>1</th>\n",
       "      <td>[1, 1, 1, 1, 1, 1, 1, 1, 1, 1, 1, 1, -1, -1, -...</td>\n",
       "      <td>[1, 1, 1, 1, 2, 1, 2, 3, 3, 4, 4, 4, 1, 1, 1, ...</td>\n",
       "      <td>[1, 1, 1, 1, 1, 1, 1, 1, 1, 1, 1, 1, 1, 1, 1, ...</td>\n",
       "      <td>[4, 4, 4, 4, 4, 4, 4, 4, 4, 4, 4, 4, 1, 1, 1, ...</td>\n",
       "      <td>[1, 1, 1, 1, 0, 0, 0, 0, 0, 0, 0, 0, 1, 1, 1, ...</td>\n",
       "      <td>[23, 23, 23, 23, 12, 12, 12, 12, 12, 12, 12, 1...</td>\n",
       "      <td>[3, 3, 3, 3, 2, 2, 2, 2, 2, 2, 2, 2, 3, 3, 3, ...</td>\n",
       "      <td>[0, 0, 0, 0, 0, 0, 0, 0, 0, 0, 0, 0, 0, 0, 0, ...</td>\n",
       "      <td>[1, 1, 3, 3, 3, 4, 1, 1, 2, 1, 2, 2, 1, 3, 3, ...</td>\n",
       "      <td>[0, 0, 0, 0, 0, 0, 0, 0, 0, 0, 0, 0, 0, 0, 0, ...</td>\n",
       "      <td>...</td>\n",
       "      <td>[0, 0]</td>\n",
       "      <td>[-13, 13]</td>\n",
       "      <td>[1, 1]</td>\n",
       "      <td>[0, 1]</td>\n",
       "      <td>2</td>\n",
       "      <td>[244987]</td>\n",
       "      <td>[1]</td>\n",
       "      <td>[246]</td>\n",
       "      <td>[0]</td>\n",
       "      <td>1</td>\n",
       "    </tr>\n",
       "  </tbody>\n",
       "</table>\n",
       "<p>2 rows × 82 columns</p>\n",
       "</div>"
      ],
      "text/plain": [
       "                                           vh_endcap  \\\n",
       "0  [1, 1, 1, 1, 1, 1, 1, 1, -1, -1, -1, -1, -1, -...   \n",
       "1  [1, 1, 1, 1, 1, 1, 1, 1, 1, 1, 1, 1, -1, -1, -...   \n",
       "\n",
       "                                          vh_station  \\\n",
       "0      [1, 1, 1, 1, 3, 3, 4, 4, 1, 1, 1, 1, 3, 3, 4]   \n",
       "1  [1, 1, 1, 1, 2, 1, 2, 3, 3, 4, 4, 4, 1, 1, 1, ...   \n",
       "\n",
       "                                             vh_ring  \\\n",
       "0      [1, 1, 1, 2, 2, 2, 2, 2, 1, 1, 2, 2, 2, 2, 2]   \n",
       "1  [1, 1, 1, 1, 1, 1, 1, 1, 1, 1, 1, 1, 1, 1, 1, ...   \n",
       "\n",
       "                                           vh_sector  \\\n",
       "0      [3, 3, 3, 3, 3, 3, 3, 3, 6, 6, 6, 6, 6, 6, 6]   \n",
       "1  [4, 4, 4, 4, 4, 4, 4, 4, 4, 4, 4, 4, 1, 1, 1, ...   \n",
       "\n",
       "                                        vh_subsector  \\\n",
       "0      [1, 1, 1, 1, 0, 0, 0, 0, 1, 1, 1, 1, 0, 0, 0]   \n",
       "1  [1, 1, 1, 1, 0, 0, 0, 0, 0, 0, 0, 0, 1, 1, 1, ...   \n",
       "\n",
       "                                          vh_chamber  \\\n",
       "0  [15, 15, 15, 15, 15, 15, 15, 15, 34, 34, 34, 3...   \n",
       "1  [23, 23, 23, 23, 12, 12, 12, 12, 12, 12, 12, 1...   \n",
       "\n",
       "                                            vh_cscid  \\\n",
       "0      [1, 1, 1, 4, 4, 4, 4, 4, 2, 2, 5, 5, 5, 5, 5]   \n",
       "1  [3, 3, 3, 3, 2, 2, 2, 2, 2, 2, 2, 2, 3, 3, 3, ...   \n",
       "\n",
       "                                               vh_bx  \\\n",
       "0      [0, 0, 0, 0, 0, 0, 0, 0, 0, 0, 0, 0, 0, 0, 0]   \n",
       "1  [0, 0, 0, 0, 0, 0, 0, 0, 0, 0, 0, 0, 0, 0, 0, ...   \n",
       "\n",
       "                                             vh_type  \\\n",
       "0      [3, 3, 3, 1, 1, 2, 1, 2, 1, 3, 1, 2, 1, 2, 1]   \n",
       "1  [1, 1, 3, 3, 3, 4, 1, 1, 2, 1, 2, 2, 1, 3, 3, ...   \n",
       "\n",
       "                                         vh_neighbor  ... vp_event   vp_pdgid  \\\n",
       "0      [0, 0, 0, 0, 0, 0, 0, 0, 0, 0, 0, 0, 0, 0, 0]  ...   [0, 0]  [-13, 13]   \n",
       "1  [0, 0, 0, 0, 0, 0, 0, 0, 0, 0, 0, 0, 0, 0, 0, ...  ...   [0, 0]  [-13, 13]   \n",
       "\n",
       "  vp_status vp_genp vp_size  ve_event ve_run ve_lumi ve_npv ve_size  \n",
       "0    [1, 1]  [0, 1]       2  [244986]    [1]   [246]    [0]       1  \n",
       "1    [1, 1]  [0, 1]       2  [244987]    [1]   [246]    [0]       1  \n",
       "\n",
       "[2 rows x 82 columns]"
      ]
     },
     "execution_count": 149,
     "metadata": {},
     "output_type": "execute_result"
    }
   ],
   "source": [
    "df_part.head(2)"
   ]
  },
  {
   "cell_type": "markdown",
   "metadata": {
    "ExecuteTime": {
     "end_time": "2019-03-27T12:48:49.214254Z",
     "start_time": "2019-03-27T12:48:49.203131Z"
    }
   },
   "source": [
    "# Column Names"
   ]
  },
  {
   "cell_type": "code",
   "execution_count": 150,
   "metadata": {
    "ExecuteTime": {
     "end_time": "2019-05-29T19:40:20.561440Z",
     "start_time": "2019-05-29T19:40:20.555831Z"
    }
   },
   "outputs": [],
   "source": [
    "column_names = df_part.columns"
   ]
  },
  {
   "cell_type": "code",
   "execution_count": 151,
   "metadata": {
    "ExecuteTime": {
     "end_time": "2019-05-29T19:40:28.881039Z",
     "start_time": "2019-05-29T19:40:28.875673Z"
    }
   },
   "outputs": [
    {
     "data": {
      "text/plain": [
       "Index(['vh_endcap', 'vh_station', 'vh_ring', 'vh_sector', 'vh_subsector',\n",
       "       'vh_chamber', 'vh_cscid', 'vh_bx', 'vh_type', 'vh_neighbor', 'vh_strip',\n",
       "       'vh_wire', 'vh_roll', 'vh_pattern', 'vh_quality', 'vh_bend', 'vh_time',\n",
       "       'vh_fr', 'vh_emtf_phi', 'vh_emtf_theta', 'vh_sim_phi', 'vh_sim_theta',\n",
       "       'vh_sim_eta', 'vh_sim_r', 'vh_sim_z', 'vh_sim_tp1', 'vh_sim_tp2',\n",
       "       'vh_size', 'vt_pt', 'vt_xml_pt', 'vt_phi', 'vt_eta', 'vt_theta', 'vt_q',\n",
       "       'vt_address', 'vt_mode', 'vt_endcap', 'vt_sector', 'vt_bx',\n",
       "       'vt_hitref1', 'vt_hitref2', 'vt_hitref3', 'vt_hitref4', 'vt_size',\n",
       "       'vu_pt', 'vu_phi', 'vu_eta', 'vu_theta', 'vu_q', 'vu_vx', 'vu_vy',\n",
       "       'vu_vz', 'vu_rinv', 'vu_chi2', 'vu_ndof', 'vu_sector', 'vu_sim_pt',\n",
       "       'vu_sim_phi', 'vu_sim_eta', 'vu_sim_tp', 'vu_sim_pdgid', 'vu_sim_assoc',\n",
       "       'vu_size', 'vp_pt', 'vp_phi', 'vp_eta', 'vp_theta', 'vp_vx', 'vp_vy',\n",
       "       'vp_vz', 'vp_q', 'vp_bx', 'vp_event', 'vp_pdgid', 'vp_status',\n",
       "       'vp_genp', 'vp_size', 've_event', 've_run', 've_lumi', 've_npv',\n",
       "       've_size'],\n",
       "      dtype='object')"
      ]
     },
     "execution_count": 151,
     "metadata": {},
     "output_type": "execute_result"
    }
   ],
   "source": [
    "column_names"
   ]
  },
  {
   "cell_type": "markdown",
   "metadata": {},
   "source": [
    "# Create Hit Data Container"
   ]
  },
  {
   "cell_type": "code",
   "execution_count": 64,
   "metadata": {
    "ExecuteTime": {
     "end_time": "2019-03-27T13:11:10.375886Z",
     "start_time": "2019-03-27T13:11:10.367281Z"
    }
   },
   "outputs": [
    {
     "data": {
      "text/plain": [
       "Index(['vh_endcap', 'vh_station', 'vh_ring', 'vh_sector', 'vh_subsector',\n",
       "       'vh_chamber', 'vh_cscid', 'vh_bx', 'vh_type', 'vh_neighbor', 'vh_strip',\n",
       "       'vh_wire', 'vh_roll', 'vh_pattern', 'vh_quality', 'vh_bend', 'vh_time',\n",
       "       'vh_fr', 'vh_emtf_phi', 'vh_emtf_theta', 'vh_sim_phi', 'vh_sim_theta',\n",
       "       'vh_sim_eta', 'vh_sim_r', 'vh_sim_z', 'vh_sim_tp1', 'vh_sim_tp2'],\n",
       "      dtype='object')"
      ]
     },
     "execution_count": 64,
     "metadata": {},
     "output_type": "execute_result"
    }
   ],
   "source": [
    "hit_names = column_names[0:27]\n",
    "hit_names"
   ]
  },
  {
   "cell_type": "code",
   "execution_count": 67,
   "metadata": {
    "ExecuteTime": {
     "end_time": "2019-03-27T13:13:41.761996Z",
     "start_time": "2019-03-27T13:13:41.755204Z"
    }
   },
   "outputs": [
    {
     "data": {
      "text/plain": [
       "3240189"
      ]
     },
     "execution_count": 67,
     "metadata": {},
     "output_type": "execute_result"
    }
   ],
   "source": [
    "hit_count = data['vh_size'].sum()\n",
    "hit_count"
   ]
  },
  {
   "cell_type": "code",
   "execution_count": 68,
   "metadata": {
    "ExecuteTime": {
     "end_time": "2019-03-27T13:16:02.495291Z",
     "start_time": "2019-03-27T13:15:53.742613Z"
    }
   },
   "outputs": [],
   "source": [
    "hit_df = pd.DataFrame(index = range(hit_count), columns = hit_names)"
   ]
  },
  {
   "cell_type": "markdown",
   "metadata": {
    "ExecuteTime": {
     "end_time": "2019-03-27T13:16:46.507625Z",
     "start_time": "2019-03-27T13:16:44.322391Z"
    }
   },
   "source": [
    "# Transpose and Fill"
   ]
  },
  {
   "cell_type": "code",
   "execution_count": 80,
   "metadata": {
    "ExecuteTime": {
     "end_time": "2019-03-27T13:26:45.004514Z",
     "start_time": "2019-03-27T13:26:17.233825Z"
    }
   },
   "outputs": [],
   "source": [
    "for name in hit_names:\n",
    "    hit_df[name] = np.hstack(data[name])"
   ]
  },
  {
   "cell_type": "markdown",
   "metadata": {},
   "source": [
    "# Save Hit Data"
   ]
  },
  {
   "cell_type": "code",
   "execution_count": 82,
   "metadata": {
    "ExecuteTime": {
     "end_time": "2019-03-27T13:33:35.053381Z",
     "start_time": "2019-03-27T13:31:42.826218Z"
    }
   },
   "outputs": [],
   "source": [
    "hit_df.to_csv('hit_df.csv')"
   ]
  },
  {
   "cell_type": "markdown",
   "metadata": {
    "ExecuteTime": {
     "end_time": "2019-03-27T13:21:30.454742Z",
     "start_time": "2019-03-27T13:21:30.107789Z"
    }
   },
   "source": [
    "# Add Event Index"
   ]
  },
  {
   "cell_type": "code",
   "execution_count": 159,
   "metadata": {
    "ExecuteTime": {
     "end_time": "2019-05-29T19:44:27.383013Z",
     "start_time": "2019-05-29T19:44:27.372831Z"
    }
   },
   "outputs": [
    {
     "data": {
      "text/plain": [
       "163737"
      ]
     },
     "execution_count": 159,
     "metadata": {},
     "output_type": "execute_result"
    }
   ],
   "source": [
    "event_count = len(data)\n",
    "event_count"
   ]
  },
  {
   "cell_type": "code",
   "execution_count": 88,
   "metadata": {
    "ExecuteTime": {
     "end_time": "2019-03-27T13:52:36.040547Z",
     "start_time": "2019-03-27T13:52:36.035783Z"
    }
   },
   "outputs": [],
   "source": [
    "hit_size = data['vh_size']"
   ]
  },
  {
   "cell_type": "code",
   "execution_count": 161,
   "metadata": {
    "ExecuteTime": {
     "end_time": "2019-05-29T19:44:53.349999Z",
     "start_time": "2019-05-29T19:44:53.346951Z"
    }
   },
   "outputs": [],
   "source": [
    "event_index = np.empty(0,dtype=np.int32)"
   ]
  },
  {
   "cell_type": "code",
   "execution_count": 128,
   "metadata": {
    "ExecuteTime": {
     "end_time": "2019-03-27T14:38:08.831742Z",
     "start_time": "2019-03-27T14:36:36.308152Z"
    }
   },
   "outputs": [],
   "source": [
    "for i in range(len(hit_size)):\n",
    "    event_index = np.hstack((event_index, np.full(hit_size[i],i,np.int32)))"
   ]
  },
  {
   "cell_type": "code",
   "execution_count": 163,
   "metadata": {
    "ExecuteTime": {
     "end_time": "2019-05-29T19:45:38.233578Z",
     "start_time": "2019-05-29T19:45:38.230178Z"
    }
   },
   "outputs": [
    {
     "name": "stdout",
     "output_type": "stream",
     "text": [
      "395882\n"
     ]
    }
   ],
   "source": [
    "print(len(event_index))"
   ]
  },
  {
   "cell_type": "code",
   "execution_count": 164,
   "metadata": {
    "ExecuteTime": {
     "end_time": "2019-05-29T19:45:50.659640Z",
     "start_time": "2019-05-29T19:45:50.654943Z"
    }
   },
   "outputs": [
    {
     "data": {
      "text/plain": [
       "array([     0,      0,      1, ..., 163736, 163736, 163736], dtype=int32)"
      ]
     },
     "execution_count": 164,
     "metadata": {},
     "output_type": "execute_result"
    }
   ],
   "source": [
    "event_index"
   ]
  },
  {
   "cell_type": "code",
   "execution_count": 131,
   "metadata": {
    "ExecuteTime": {
     "end_time": "2019-03-27T14:38:17.772438Z",
     "start_time": "2019-03-27T14:38:17.767567Z"
    }
   },
   "outputs": [],
   "source": [
    "hit_df['ve_id'] = event_index"
   ]
  },
  {
   "cell_type": "code",
   "execution_count": 133,
   "metadata": {
    "ExecuteTime": {
     "end_time": "2019-03-27T14:40:48.089966Z",
     "start_time": "2019-03-27T14:38:51.967554Z"
    }
   },
   "outputs": [],
   "source": [
    "hit_df.to_csv('hit_df.csv')"
   ]
  },
  {
   "cell_type": "markdown",
   "metadata": {},
   "source": [
    "# Feature Preselection"
   ]
  },
  {
   "cell_type": "code",
   "execution_count": null,
   "metadata": {},
   "outputs": [],
   "source": []
  },
  {
   "cell_type": "markdown",
   "metadata": {},
   "source": [
    "# Median"
   ]
  },
  {
   "cell_type": "code",
   "execution_count": 5,
   "metadata": {
    "ExecuteTime": {
     "end_time": "2019-05-29T19:59:56.484958Z",
     "start_time": "2019-05-29T19:59:47.143045Z"
    }
   },
   "outputs": [
    {
     "name": "stderr",
     "output_type": "stream",
     "text": [
      "/anaconda3/lib/python3.6/site-packages/numpy/lib/arraysetops.py:522: FutureWarning: elementwise comparison failed; returning scalar instead, but in the future will perform elementwise comparison\n",
      "  mask |= (ar1 == a)\n"
     ]
    }
   ],
   "source": [
    "hit_df = pd.read_csv('hit_df.csv', index_col = 0)"
   ]
  },
  {
   "cell_type": "code",
   "execution_count": 6,
   "metadata": {
    "ExecuteTime": {
     "end_time": "2019-05-29T19:59:59.622658Z",
     "start_time": "2019-05-29T19:59:59.589062Z"
    }
   },
   "outputs": [
    {
     "data": {
      "text/html": [
       "<div>\n",
       "<style scoped>\n",
       "    .dataframe tbody tr th:only-of-type {\n",
       "        vertical-align: middle;\n",
       "    }\n",
       "\n",
       "    .dataframe tbody tr th {\n",
       "        vertical-align: top;\n",
       "    }\n",
       "\n",
       "    .dataframe thead th {\n",
       "        text-align: right;\n",
       "    }\n",
       "</style>\n",
       "<table border=\"1\" class=\"dataframe\">\n",
       "  <thead>\n",
       "    <tr style=\"text-align: right;\">\n",
       "      <th></th>\n",
       "      <th>vh_endcap</th>\n",
       "      <th>vh_station</th>\n",
       "      <th>vh_ring</th>\n",
       "      <th>vh_sector</th>\n",
       "      <th>vh_subsector</th>\n",
       "      <th>vh_chamber</th>\n",
       "      <th>vh_cscid</th>\n",
       "      <th>vh_bx</th>\n",
       "      <th>vh_type</th>\n",
       "      <th>vh_neighbor</th>\n",
       "      <th>...</th>\n",
       "      <th>vh_emtf_phi</th>\n",
       "      <th>vh_emtf_theta</th>\n",
       "      <th>vh_sim_phi</th>\n",
       "      <th>vh_sim_theta</th>\n",
       "      <th>vh_sim_eta</th>\n",
       "      <th>vh_sim_r</th>\n",
       "      <th>vh_sim_z</th>\n",
       "      <th>vh_sim_tp1</th>\n",
       "      <th>vh_sim_tp2</th>\n",
       "      <th>ve_id</th>\n",
       "    </tr>\n",
       "  </thead>\n",
       "  <tbody>\n",
       "    <tr>\n",
       "      <th>0</th>\n",
       "      <td>1</td>\n",
       "      <td>1</td>\n",
       "      <td>1</td>\n",
       "      <td>3</td>\n",
       "      <td>1</td>\n",
       "      <td>15</td>\n",
       "      <td>1</td>\n",
       "      <td>0</td>\n",
       "      <td>3</td>\n",
       "      <td>0</td>\n",
       "      <td>...</td>\n",
       "      <td>1755</td>\n",
       "      <td>47</td>\n",
       "      <td>142.25080</td>\n",
       "      <td>21.884860</td>\n",
       "      <td>1.643317</td>\n",
       "      <td>228.14865</td>\n",
       "      <td>567.97125</td>\n",
       "      <td>-1</td>\n",
       "      <td>-1</td>\n",
       "      <td>0</td>\n",
       "    </tr>\n",
       "    <tr>\n",
       "      <th>1</th>\n",
       "      <td>1</td>\n",
       "      <td>1</td>\n",
       "      <td>1</td>\n",
       "      <td>3</td>\n",
       "      <td>1</td>\n",
       "      <td>15</td>\n",
       "      <td>1</td>\n",
       "      <td>0</td>\n",
       "      <td>3</td>\n",
       "      <td>0</td>\n",
       "      <td>...</td>\n",
       "      <td>1752</td>\n",
       "      <td>47</td>\n",
       "      <td>142.19790</td>\n",
       "      <td>21.884146</td>\n",
       "      <td>1.643350</td>\n",
       "      <td>228.14046</td>\n",
       "      <td>567.97125</td>\n",
       "      <td>-1</td>\n",
       "      <td>-1</td>\n",
       "      <td>0</td>\n",
       "    </tr>\n",
       "    <tr>\n",
       "      <th>2</th>\n",
       "      <td>1</td>\n",
       "      <td>1</td>\n",
       "      <td>1</td>\n",
       "      <td>3</td>\n",
       "      <td>1</td>\n",
       "      <td>15</td>\n",
       "      <td>1</td>\n",
       "      <td>0</td>\n",
       "      <td>3</td>\n",
       "      <td>0</td>\n",
       "      <td>...</td>\n",
       "      <td>1688</td>\n",
       "      <td>47</td>\n",
       "      <td>141.13908</td>\n",
       "      <td>21.873484</td>\n",
       "      <td>1.643849</td>\n",
       "      <td>228.01768</td>\n",
       "      <td>567.97125</td>\n",
       "      <td>-1</td>\n",
       "      <td>-1</td>\n",
       "      <td>0</td>\n",
       "    </tr>\n",
       "    <tr>\n",
       "      <th>3</th>\n",
       "      <td>1</td>\n",
       "      <td>1</td>\n",
       "      <td>2</td>\n",
       "      <td>3</td>\n",
       "      <td>1</td>\n",
       "      <td>15</td>\n",
       "      <td>4</td>\n",
       "      <td>0</td>\n",
       "      <td>1</td>\n",
       "      <td>0</td>\n",
       "      <td>...</td>\n",
       "      <td>1680</td>\n",
       "      <td>49</td>\n",
       "      <td>140.98416</td>\n",
       "      <td>22.409435</td>\n",
       "      <td>1.619029</td>\n",
       "      <td>293.33813</td>\n",
       "      <td>711.35913</td>\n",
       "      <td>0</td>\n",
       "      <td>0</td>\n",
       "      <td>0</td>\n",
       "    </tr>\n",
       "    <tr>\n",
       "      <th>4</th>\n",
       "      <td>1</td>\n",
       "      <td>3</td>\n",
       "      <td>2</td>\n",
       "      <td>3</td>\n",
       "      <td>0</td>\n",
       "      <td>15</td>\n",
       "      <td>4</td>\n",
       "      <td>0</td>\n",
       "      <td>1</td>\n",
       "      <td>0</td>\n",
       "      <td>...</td>\n",
       "      <td>1687</td>\n",
       "      <td>50</td>\n",
       "      <td>141.13275</td>\n",
       "      <td>22.423573</td>\n",
       "      <td>1.618382</td>\n",
       "      <td>381.45663</td>\n",
       "      <td>924.40350</td>\n",
       "      <td>0</td>\n",
       "      <td>0</td>\n",
       "      <td>0</td>\n",
       "    </tr>\n",
       "  </tbody>\n",
       "</table>\n",
       "<p>5 rows × 28 columns</p>\n",
       "</div>"
      ],
      "text/plain": [
       "   vh_endcap  vh_station  vh_ring  vh_sector  vh_subsector  vh_chamber  \\\n",
       "0          1           1        1          3             1          15   \n",
       "1          1           1        1          3             1          15   \n",
       "2          1           1        1          3             1          15   \n",
       "3          1           1        2          3             1          15   \n",
       "4          1           3        2          3             0          15   \n",
       "\n",
       "   vh_cscid  vh_bx  vh_type  vh_neighbor  ...  vh_emtf_phi  vh_emtf_theta  \\\n",
       "0         1      0        3            0  ...         1755             47   \n",
       "1         1      0        3            0  ...         1752             47   \n",
       "2         1      0        3            0  ...         1688             47   \n",
       "3         4      0        1            0  ...         1680             49   \n",
       "4         4      0        1            0  ...         1687             50   \n",
       "\n",
       "   vh_sim_phi  vh_sim_theta  vh_sim_eta   vh_sim_r   vh_sim_z  vh_sim_tp1  \\\n",
       "0   142.25080     21.884860    1.643317  228.14865  567.97125          -1   \n",
       "1   142.19790     21.884146    1.643350  228.14046  567.97125          -1   \n",
       "2   141.13908     21.873484    1.643849  228.01768  567.97125          -1   \n",
       "3   140.98416     22.409435    1.619029  293.33813  711.35913           0   \n",
       "4   141.13275     22.423573    1.618382  381.45663  924.40350           0   \n",
       "\n",
       "   vh_sim_tp2  ve_id  \n",
       "0          -1      0  \n",
       "1          -1      0  \n",
       "2          -1      0  \n",
       "3           0      0  \n",
       "4           0      0  \n",
       "\n",
       "[5 rows x 28 columns]"
      ]
     },
     "execution_count": 6,
     "metadata": {},
     "output_type": "execute_result"
    }
   ],
   "source": [
    "hit_df.head()"
   ]
  },
  {
   "cell_type": "code",
   "execution_count": 8,
   "metadata": {
    "ExecuteTime": {
     "end_time": "2019-05-29T14:46:12.910099Z",
     "start_time": "2019-05-29T14:46:12.905576Z"
    },
    "scrolled": true
   },
   "outputs": [
    {
     "data": {
      "text/plain": [
       "(3240189, 28)"
      ]
     },
     "execution_count": 8,
     "metadata": {},
     "output_type": "execute_result"
    }
   ],
   "source": [
    "hit_df.shape"
   ]
  },
  {
   "cell_type": "markdown",
   "metadata": {},
   "source": [
    "## Split Endcaps"
   ]
  },
  {
   "cell_type": "code",
   "execution_count": 7,
   "metadata": {
    "ExecuteTime": {
     "end_time": "2019-05-29T20:00:18.775758Z",
     "start_time": "2019-05-29T20:00:18.458713Z"
    }
   },
   "outputs": [],
   "source": [
    "hit_ec1 = hit_df[hit_df['vh_endcap']==1]"
   ]
  },
  {
   "cell_type": "code",
   "execution_count": 8,
   "metadata": {
    "ExecuteTime": {
     "end_time": "2019-05-29T20:00:19.986052Z",
     "start_time": "2019-05-29T20:00:19.713516Z"
    }
   },
   "outputs": [],
   "source": [
    "hit_ec2 = hit_df[hit_df['vh_endcap']==-1]"
   ]
  },
  {
   "cell_type": "code",
   "execution_count": 9,
   "metadata": {
    "ExecuteTime": {
     "end_time": "2019-05-29T20:00:27.767024Z",
     "start_time": "2019-05-29T20:00:27.746945Z"
    }
   },
   "outputs": [
    {
     "data": {
      "text/html": [
       "<div>\n",
       "<style scoped>\n",
       "    .dataframe tbody tr th:only-of-type {\n",
       "        vertical-align: middle;\n",
       "    }\n",
       "\n",
       "    .dataframe tbody tr th {\n",
       "        vertical-align: top;\n",
       "    }\n",
       "\n",
       "    .dataframe thead th {\n",
       "        text-align: right;\n",
       "    }\n",
       "</style>\n",
       "<table border=\"1\" class=\"dataframe\">\n",
       "  <thead>\n",
       "    <tr style=\"text-align: right;\">\n",
       "      <th></th>\n",
       "      <th>vh_endcap</th>\n",
       "      <th>vh_station</th>\n",
       "      <th>vh_ring</th>\n",
       "      <th>vh_sector</th>\n",
       "      <th>vh_subsector</th>\n",
       "      <th>vh_chamber</th>\n",
       "      <th>vh_cscid</th>\n",
       "      <th>vh_bx</th>\n",
       "      <th>vh_type</th>\n",
       "      <th>vh_neighbor</th>\n",
       "      <th>...</th>\n",
       "      <th>vh_emtf_phi</th>\n",
       "      <th>vh_emtf_theta</th>\n",
       "      <th>vh_sim_phi</th>\n",
       "      <th>vh_sim_theta</th>\n",
       "      <th>vh_sim_eta</th>\n",
       "      <th>vh_sim_r</th>\n",
       "      <th>vh_sim_z</th>\n",
       "      <th>vh_sim_tp1</th>\n",
       "      <th>vh_sim_tp2</th>\n",
       "      <th>ve_id</th>\n",
       "    </tr>\n",
       "  </thead>\n",
       "  <tbody>\n",
       "    <tr>\n",
       "      <th>0</th>\n",
       "      <td>1</td>\n",
       "      <td>1</td>\n",
       "      <td>1</td>\n",
       "      <td>3</td>\n",
       "      <td>1</td>\n",
       "      <td>15</td>\n",
       "      <td>1</td>\n",
       "      <td>0</td>\n",
       "      <td>3</td>\n",
       "      <td>0</td>\n",
       "      <td>...</td>\n",
       "      <td>1755</td>\n",
       "      <td>47</td>\n",
       "      <td>142.25080</td>\n",
       "      <td>21.884860</td>\n",
       "      <td>1.643317</td>\n",
       "      <td>228.14865</td>\n",
       "      <td>567.97125</td>\n",
       "      <td>-1</td>\n",
       "      <td>-1</td>\n",
       "      <td>0</td>\n",
       "    </tr>\n",
       "    <tr>\n",
       "      <th>1</th>\n",
       "      <td>1</td>\n",
       "      <td>1</td>\n",
       "      <td>1</td>\n",
       "      <td>3</td>\n",
       "      <td>1</td>\n",
       "      <td>15</td>\n",
       "      <td>1</td>\n",
       "      <td>0</td>\n",
       "      <td>3</td>\n",
       "      <td>0</td>\n",
       "      <td>...</td>\n",
       "      <td>1752</td>\n",
       "      <td>47</td>\n",
       "      <td>142.19790</td>\n",
       "      <td>21.884146</td>\n",
       "      <td>1.643350</td>\n",
       "      <td>228.14046</td>\n",
       "      <td>567.97125</td>\n",
       "      <td>-1</td>\n",
       "      <td>-1</td>\n",
       "      <td>0</td>\n",
       "    </tr>\n",
       "    <tr>\n",
       "      <th>2</th>\n",
       "      <td>1</td>\n",
       "      <td>1</td>\n",
       "      <td>1</td>\n",
       "      <td>3</td>\n",
       "      <td>1</td>\n",
       "      <td>15</td>\n",
       "      <td>1</td>\n",
       "      <td>0</td>\n",
       "      <td>3</td>\n",
       "      <td>0</td>\n",
       "      <td>...</td>\n",
       "      <td>1688</td>\n",
       "      <td>47</td>\n",
       "      <td>141.13908</td>\n",
       "      <td>21.873484</td>\n",
       "      <td>1.643849</td>\n",
       "      <td>228.01768</td>\n",
       "      <td>567.97125</td>\n",
       "      <td>-1</td>\n",
       "      <td>-1</td>\n",
       "      <td>0</td>\n",
       "    </tr>\n",
       "    <tr>\n",
       "      <th>3</th>\n",
       "      <td>1</td>\n",
       "      <td>1</td>\n",
       "      <td>2</td>\n",
       "      <td>3</td>\n",
       "      <td>1</td>\n",
       "      <td>15</td>\n",
       "      <td>4</td>\n",
       "      <td>0</td>\n",
       "      <td>1</td>\n",
       "      <td>0</td>\n",
       "      <td>...</td>\n",
       "      <td>1680</td>\n",
       "      <td>49</td>\n",
       "      <td>140.98416</td>\n",
       "      <td>22.409435</td>\n",
       "      <td>1.619029</td>\n",
       "      <td>293.33813</td>\n",
       "      <td>711.35913</td>\n",
       "      <td>0</td>\n",
       "      <td>0</td>\n",
       "      <td>0</td>\n",
       "    </tr>\n",
       "    <tr>\n",
       "      <th>4</th>\n",
       "      <td>1</td>\n",
       "      <td>3</td>\n",
       "      <td>2</td>\n",
       "      <td>3</td>\n",
       "      <td>0</td>\n",
       "      <td>15</td>\n",
       "      <td>4</td>\n",
       "      <td>0</td>\n",
       "      <td>1</td>\n",
       "      <td>0</td>\n",
       "      <td>...</td>\n",
       "      <td>1687</td>\n",
       "      <td>50</td>\n",
       "      <td>141.13275</td>\n",
       "      <td>22.423573</td>\n",
       "      <td>1.618382</td>\n",
       "      <td>381.45663</td>\n",
       "      <td>924.40350</td>\n",
       "      <td>0</td>\n",
       "      <td>0</td>\n",
       "      <td>0</td>\n",
       "    </tr>\n",
       "  </tbody>\n",
       "</table>\n",
       "<p>5 rows × 28 columns</p>\n",
       "</div>"
      ],
      "text/plain": [
       "   vh_endcap  vh_station  vh_ring  vh_sector  vh_subsector  vh_chamber  \\\n",
       "0          1           1        1          3             1          15   \n",
       "1          1           1        1          3             1          15   \n",
       "2          1           1        1          3             1          15   \n",
       "3          1           1        2          3             1          15   \n",
       "4          1           3        2          3             0          15   \n",
       "\n",
       "   vh_cscid  vh_bx  vh_type  vh_neighbor  ...  vh_emtf_phi  vh_emtf_theta  \\\n",
       "0         1      0        3            0  ...         1755             47   \n",
       "1         1      0        3            0  ...         1752             47   \n",
       "2         1      0        3            0  ...         1688             47   \n",
       "3         4      0        1            0  ...         1680             49   \n",
       "4         4      0        1            0  ...         1687             50   \n",
       "\n",
       "   vh_sim_phi  vh_sim_theta  vh_sim_eta   vh_sim_r   vh_sim_z  vh_sim_tp1  \\\n",
       "0   142.25080     21.884860    1.643317  228.14865  567.97125          -1   \n",
       "1   142.19790     21.884146    1.643350  228.14046  567.97125          -1   \n",
       "2   141.13908     21.873484    1.643849  228.01768  567.97125          -1   \n",
       "3   140.98416     22.409435    1.619029  293.33813  711.35913           0   \n",
       "4   141.13275     22.423573    1.618382  381.45663  924.40350           0   \n",
       "\n",
       "   vh_sim_tp2  ve_id  \n",
       "0          -1      0  \n",
       "1          -1      0  \n",
       "2          -1      0  \n",
       "3           0      0  \n",
       "4           0      0  \n",
       "\n",
       "[5 rows x 28 columns]"
      ]
     },
     "execution_count": 9,
     "metadata": {},
     "output_type": "execute_result"
    }
   ],
   "source": [
    "hit_ec1.head()"
   ]
  },
  {
   "cell_type": "markdown",
   "metadata": {},
   "source": [
    "## Get Median"
   ]
  },
  {
   "cell_type": "code",
   "execution_count": 10,
   "metadata": {
    "ExecuteTime": {
     "end_time": "2019-05-29T20:00:46.863827Z",
     "start_time": "2019-05-29T20:00:46.856537Z"
    }
   },
   "outputs": [
    {
     "data": {
      "text/plain": [
       "(1614816, 28)"
      ]
     },
     "execution_count": 10,
     "metadata": {},
     "output_type": "execute_result"
    }
   ],
   "source": [
    "hit_ec1.shape"
   ]
  },
  {
   "cell_type": "code",
   "execution_count": 11,
   "metadata": {
    "ExecuteTime": {
     "end_time": "2019-05-29T20:00:47.906578Z",
     "start_time": "2019-05-29T20:00:47.864292Z"
    }
   },
   "outputs": [],
   "source": [
    "ids = hit_ec1['ve_id'].unique()"
   ]
  },
  {
   "cell_type": "code",
   "execution_count": 12,
   "metadata": {
    "ExecuteTime": {
     "end_time": "2019-05-29T20:00:48.661414Z",
     "start_time": "2019-05-29T20:00:48.658659Z"
    }
   },
   "outputs": [],
   "source": [
    "theta_median = []"
   ]
  },
  {
   "cell_type": "code",
   "execution_count": 13,
   "metadata": {
    "ExecuteTime": {
     "end_time": "2019-05-29T20:01:02.596501Z",
     "start_time": "2019-05-29T20:00:49.433963Z"
    }
   },
   "outputs": [
    {
     "ename": "KeyboardInterrupt",
     "evalue": "",
     "output_type": "error",
     "traceback": [
      "\u001b[0;31m---------------------------------------------------------------------------\u001b[0m",
      "\u001b[0;31mKeyboardInterrupt\u001b[0m                         Traceback (most recent call last)",
      "\u001b[0;32m<ipython-input-13-7cfcd309a933>\u001b[0m in \u001b[0;36m<module>\u001b[0;34m\u001b[0m\n\u001b[1;32m      1\u001b[0m \u001b[0;32mfor\u001b[0m \u001b[0mi\u001b[0m \u001b[0;32min\u001b[0m \u001b[0mids\u001b[0m\u001b[0;34m:\u001b[0m\u001b[0;34m\u001b[0m\u001b[0;34m\u001b[0m\u001b[0m\n\u001b[0;32m----> 2\u001b[0;31m     \u001b[0mtheta_median\u001b[0m\u001b[0;34m.\u001b[0m\u001b[0mappend\u001b[0m\u001b[0;34m(\u001b[0m\u001b[0mhit_ec1\u001b[0m\u001b[0;34m[\u001b[0m\u001b[0mhit_ec1\u001b[0m\u001b[0;34m[\u001b[0m\u001b[0;34m've_id'\u001b[0m\u001b[0;34m]\u001b[0m\u001b[0;34m==\u001b[0m\u001b[0mi\u001b[0m\u001b[0;34m]\u001b[0m\u001b[0;34m[\u001b[0m\u001b[0;34m'vh_sim_theta'\u001b[0m\u001b[0;34m]\u001b[0m\u001b[0;34m.\u001b[0m\u001b[0mmedian\u001b[0m\u001b[0;34m(\u001b[0m\u001b[0;34m)\u001b[0m\u001b[0;34m)\u001b[0m\u001b[0;34m\u001b[0m\u001b[0;34m\u001b[0m\u001b[0m\n\u001b[0m",
      "\u001b[0;32m/anaconda3/lib/python3.6/site-packages/pandas/core/ops.py\u001b[0m in \u001b[0;36mwrapper\u001b[0;34m(self, other, axis)\u001b[0m\n\u001b[1;32m   1764\u001b[0m \u001b[0;34m\u001b[0m\u001b[0m\n\u001b[1;32m   1765\u001b[0m             \u001b[0;32mwith\u001b[0m \u001b[0mnp\u001b[0m\u001b[0;34m.\u001b[0m\u001b[0merrstate\u001b[0m\u001b[0;34m(\u001b[0m\u001b[0mall\u001b[0m\u001b[0;34m=\u001b[0m\u001b[0;34m'ignore'\u001b[0m\u001b[0;34m)\u001b[0m\u001b[0;34m:\u001b[0m\u001b[0;34m\u001b[0m\u001b[0;34m\u001b[0m\u001b[0m\n\u001b[0;32m-> 1766\u001b[0;31m                 \u001b[0mres\u001b[0m \u001b[0;34m=\u001b[0m \u001b[0mna_op\u001b[0m\u001b[0;34m(\u001b[0m\u001b[0mvalues\u001b[0m\u001b[0;34m,\u001b[0m \u001b[0mother\u001b[0m\u001b[0;34m)\u001b[0m\u001b[0;34m\u001b[0m\u001b[0;34m\u001b[0m\u001b[0m\n\u001b[0m\u001b[1;32m   1767\u001b[0m             \u001b[0;32mif\u001b[0m \u001b[0mis_scalar\u001b[0m\u001b[0;34m(\u001b[0m\u001b[0mres\u001b[0m\u001b[0;34m)\u001b[0m\u001b[0;34m:\u001b[0m\u001b[0;34m\u001b[0m\u001b[0;34m\u001b[0m\u001b[0m\n\u001b[1;32m   1768\u001b[0m                 raise TypeError('Could not compare {typ} type with Series'\n",
      "\u001b[0;32m/anaconda3/lib/python3.6/site-packages/pandas/core/ops.py\u001b[0m in \u001b[0;36mna_op\u001b[0;34m(x, y)\u001b[0m\n\u001b[1;32m   1647\u001b[0m             \u001b[0;32mif\u001b[0m \u001b[0mmethod\u001b[0m \u001b[0;32mis\u001b[0m \u001b[0;32mnot\u001b[0m \u001b[0;32mNone\u001b[0m\u001b[0;34m:\u001b[0m\u001b[0;34m\u001b[0m\u001b[0;34m\u001b[0m\u001b[0m\n\u001b[1;32m   1648\u001b[0m                 \u001b[0;32mwith\u001b[0m \u001b[0mnp\u001b[0m\u001b[0;34m.\u001b[0m\u001b[0merrstate\u001b[0m\u001b[0;34m(\u001b[0m\u001b[0mall\u001b[0m\u001b[0;34m=\u001b[0m\u001b[0;34m'ignore'\u001b[0m\u001b[0;34m)\u001b[0m\u001b[0;34m:\u001b[0m\u001b[0;34m\u001b[0m\u001b[0;34m\u001b[0m\u001b[0m\n\u001b[0;32m-> 1649\u001b[0;31m                     \u001b[0mresult\u001b[0m \u001b[0;34m=\u001b[0m \u001b[0mmethod\u001b[0m\u001b[0;34m(\u001b[0m\u001b[0my\u001b[0m\u001b[0;34m)\u001b[0m\u001b[0;34m\u001b[0m\u001b[0;34m\u001b[0m\u001b[0m\n\u001b[0m\u001b[1;32m   1650\u001b[0m                 \u001b[0;32mif\u001b[0m \u001b[0mresult\u001b[0m \u001b[0;32mis\u001b[0m \u001b[0mNotImplemented\u001b[0m\u001b[0;34m:\u001b[0m\u001b[0;34m\u001b[0m\u001b[0;34m\u001b[0m\u001b[0m\n\u001b[1;32m   1651\u001b[0m                     \u001b[0;32mreturn\u001b[0m \u001b[0minvalid_comparison\u001b[0m\u001b[0;34m(\u001b[0m\u001b[0mx\u001b[0m\u001b[0;34m,\u001b[0m \u001b[0my\u001b[0m\u001b[0;34m,\u001b[0m \u001b[0mop\u001b[0m\u001b[0;34m)\u001b[0m\u001b[0;34m\u001b[0m\u001b[0;34m\u001b[0m\u001b[0m\n",
      "\u001b[0;31mKeyboardInterrupt\u001b[0m: "
     ]
    }
   ],
   "source": [
    "for i in ids:\n",
    "    theta_median.append(hit_ec1[hit_ec1['ve_id']==i]['vh_sim_theta'].median())"
   ]
  },
  {
   "cell_type": "code",
   "execution_count": null,
   "metadata": {
    "ExecuteTime": {
     "end_time": "2019-05-29T20:01:02.600567Z",
     "start_time": "2019-05-29T20:00:53.985Z"
    }
   },
   "outputs": [],
   "source": [
    "phi_median = []"
   ]
  },
  {
   "cell_type": "code",
   "execution_count": null,
   "metadata": {
    "ExecuteTime": {
     "end_time": "2019-05-29T20:01:02.602340Z",
     "start_time": "2019-05-29T20:00:55.312Z"
    }
   },
   "outputs": [],
   "source": [
    "for i in ids:\n",
    "    phi_median.append(hit_ec1[hit_ec1['ve_id']==i]['vh_sim_phi'].median())"
   ]
  },
  {
   "cell_type": "code",
   "execution_count": null,
   "metadata": {
    "ExecuteTime": {
     "end_time": "2019-05-29T20:01:02.605233Z",
     "start_time": "2019-05-29T20:00:55.485Z"
    }
   },
   "outputs": [],
   "source": [
    "eta_median = []"
   ]
  },
  {
   "cell_type": "code",
   "execution_count": null,
   "metadata": {
    "ExecuteTime": {
     "end_time": "2019-05-29T20:01:02.607592Z",
     "start_time": "2019-05-29T20:00:55.662Z"
    }
   },
   "outputs": [],
   "source": [
    "for i in ids:\n",
    "    eta_median.append(hit_ec1[hit_ec1['ve_id']==i]['vh_sim_eta'].median())"
   ]
  },
  {
   "cell_type": "code",
   "execution_count": null,
   "metadata": {
    "ExecuteTime": {
     "end_time": "2019-05-29T20:01:02.610052Z",
     "start_time": "2019-05-29T20:00:55.816Z"
    }
   },
   "outputs": [],
   "source": [
    "median_df = pd.DataFrame()"
   ]
  },
  {
   "cell_type": "code",
   "execution_count": null,
   "metadata": {
    "ExecuteTime": {
     "end_time": "2019-05-29T20:01:02.612477Z",
     "start_time": "2019-05-29T20:00:56.013Z"
    }
   },
   "outputs": [],
   "source": [
    "median_df['ve_id'] = ids"
   ]
  },
  {
   "cell_type": "code",
   "execution_count": 250,
   "metadata": {
    "ExecuteTime": {
     "end_time": "2019-05-14T12:11:03.896433Z",
     "start_time": "2019-05-14T12:11:03.882271Z"
    }
   },
   "outputs": [],
   "source": [
    "median_df['theta_median'] = theta_median"
   ]
  },
  {
   "cell_type": "code",
   "execution_count": 251,
   "metadata": {
    "ExecuteTime": {
     "end_time": "2019-05-14T12:11:07.617079Z",
     "start_time": "2019-05-14T12:11:07.597767Z"
    }
   },
   "outputs": [],
   "source": [
    "median_df['phi_median'] = phi_median"
   ]
  },
  {
   "cell_type": "code",
   "execution_count": 252,
   "metadata": {
    "ExecuteTime": {
     "end_time": "2019-05-14T12:11:11.289949Z",
     "start_time": "2019-05-14T12:11:11.276182Z"
    }
   },
   "outputs": [],
   "source": [
    "median_df['eta_median'] = eta_median"
   ]
  },
  {
   "cell_type": "code",
   "execution_count": 279,
   "metadata": {
    "ExecuteTime": {
     "end_time": "2019-05-14T22:11:26.883944Z",
     "start_time": "2019-05-14T22:11:26.872417Z"
    }
   },
   "outputs": [
    {
     "data": {
      "text/html": [
       "<div>\n",
       "<style scoped>\n",
       "    .dataframe tbody tr th:only-of-type {\n",
       "        vertical-align: middle;\n",
       "    }\n",
       "\n",
       "    .dataframe tbody tr th {\n",
       "        vertical-align: top;\n",
       "    }\n",
       "\n",
       "    .dataframe thead th {\n",
       "        text-align: right;\n",
       "    }\n",
       "</style>\n",
       "<table border=\"1\" class=\"dataframe\">\n",
       "  <thead>\n",
       "    <tr style=\"text-align: right;\">\n",
       "      <th></th>\n",
       "      <th>ve_id</th>\n",
       "      <th>theta_median</th>\n",
       "      <th>phi_median</th>\n",
       "      <th>eta_median</th>\n",
       "    </tr>\n",
       "  </thead>\n",
       "  <tbody>\n",
       "    <tr>\n",
       "      <th>0</th>\n",
       "      <td>0</td>\n",
       "      <td>22.381725</td>\n",
       "      <td>141.058455</td>\n",
       "      <td>1.620299</td>\n",
       "    </tr>\n",
       "    <tr>\n",
       "      <th>1</th>\n",
       "      <td>1</td>\n",
       "      <td>15.110317</td>\n",
       "      <td>-141.673995</td>\n",
       "      <td>2.020179</td>\n",
       "    </tr>\n",
       "    <tr>\n",
       "      <th>2</th>\n",
       "      <td>2</td>\n",
       "      <td>21.016869</td>\n",
       "      <td>-110.063550</td>\n",
       "      <td>1.684747</td>\n",
       "    </tr>\n",
       "    <tr>\n",
       "      <th>3</th>\n",
       "      <td>3</td>\n",
       "      <td>10.484757</td>\n",
       "      <td>113.099700</td>\n",
       "      <td>2.388656</td>\n",
       "    </tr>\n",
       "    <tr>\n",
       "      <th>4</th>\n",
       "      <td>4</td>\n",
       "      <td>13.612604</td>\n",
       "      <td>47.813921</td>\n",
       "      <td>2.125661</td>\n",
       "    </tr>\n",
       "  </tbody>\n",
       "</table>\n",
       "</div>"
      ],
      "text/plain": [
       "   ve_id  theta_median  phi_median  eta_median\n",
       "0      0     22.381725  141.058455    1.620299\n",
       "1      1     15.110317 -141.673995    2.020179\n",
       "2      2     21.016869 -110.063550    1.684747\n",
       "3      3     10.484757  113.099700    2.388656\n",
       "4      4     13.612604   47.813921    2.125661"
      ]
     },
     "execution_count": 279,
     "metadata": {},
     "output_type": "execute_result"
    }
   ],
   "source": [
    "median_df.head()"
   ]
  },
  {
   "cell_type": "markdown",
   "metadata": {},
   "source": [
    "## Get Phi Median Hit Data"
   ]
  },
  {
   "cell_type": "code",
   "execution_count": 275,
   "metadata": {
    "ExecuteTime": {
     "end_time": "2019-05-14T21:40:44.786441Z",
     "start_time": "2019-05-14T21:40:43.803895Z"
    }
   },
   "outputs": [],
   "source": [
    "hit_ec1 = hit_ec1.sort_values(by=['ve_id', 'vh_sim_phi'])"
   ]
  },
  {
   "cell_type": "code",
   "execution_count": 277,
   "metadata": {
    "ExecuteTime": {
     "end_time": "2019-05-14T21:41:46.612518Z",
     "start_time": "2019-05-14T21:41:46.603062Z"
    }
   },
   "outputs": [],
   "source": [
    "median_station = []\n",
    "median_type = []\n",
    "median_ring = []"
   ]
  },
  {
   "cell_type": "code",
   "execution_count": 278,
   "metadata": {
    "ExecuteTime": {
     "end_time": "2019-05-14T22:10:57.717564Z",
     "start_time": "2019-05-14T21:45:46.833204Z"
    }
   },
   "outputs": [],
   "source": [
    "for i in ids:\n",
    "    tempindex = hit_ec1[hit_ec1['ve_id']==i]['vh_sim_phi'].shape[0]\n",
    "    medianindex = tempindex // 2\n",
    "    median_station.append(hit_ec1[hit_ec1['ve_id']==i].iloc[medianindex, :]['vh_station'])\n",
    "    median_type.append(hit_ec1[hit_ec1['ve_id']==i].iloc[medianindex, :]['vh_type'])\n",
    "    median_ring.append(hit_ec1[hit_ec1['ve_id']==i].iloc[medianindex, :]['vh_ring'])"
   ]
  },
  {
   "cell_type": "code",
   "execution_count": 280,
   "metadata": {
    "ExecuteTime": {
     "end_time": "2019-05-14T22:12:31.745936Z",
     "start_time": "2019-05-14T22:12:31.683358Z"
    }
   },
   "outputs": [],
   "source": [
    "median_df['median_station'] = median_station\n",
    "median_df['median_type'] = median_type\n",
    "median_df['median_ring'] = median_ring"
   ]
  },
  {
   "cell_type": "markdown",
   "metadata": {},
   "source": [
    "## Calculate Median Virtual Station"
   ]
  },
  {
   "cell_type": "code",
   "execution_count": 285,
   "metadata": {
    "ExecuteTime": {
     "end_time": "2019-05-14T22:32:35.499630Z",
     "start_time": "2019-05-14T22:32:35.495518Z"
    }
   },
   "outputs": [],
   "source": [
    "median_df['median_virtual_station'] = 0"
   ]
  },
  {
   "cell_type": "code",
   "execution_count": 296,
   "metadata": {
    "ExecuteTime": {
     "end_time": "2019-05-15T09:08:57.861118Z",
     "start_time": "2019-05-15T09:08:57.848493Z"
    }
   },
   "outputs": [
    {
     "data": {
      "text/plain": [
       "True"
      ]
     },
     "execution_count": 296,
     "metadata": {},
     "output_type": "execute_result"
    }
   ],
   "source": [
    "median_df[median_df['ve_id']==0]['median_type'].item() == 1"
   ]
  },
  {
   "cell_type": "code",
   "execution_count": 317,
   "metadata": {
    "ExecuteTime": {
     "end_time": "2019-05-15T10:41:09.250176Z",
     "start_time": "2019-05-15T10:41:09.236001Z"
    }
   },
   "outputs": [
    {
     "data": {
      "text/html": [
       "<div>\n",
       "<style scoped>\n",
       "    .dataframe tbody tr th:only-of-type {\n",
       "        vertical-align: middle;\n",
       "    }\n",
       "\n",
       "    .dataframe tbody tr th {\n",
       "        vertical-align: top;\n",
       "    }\n",
       "\n",
       "    .dataframe thead th {\n",
       "        text-align: right;\n",
       "    }\n",
       "</style>\n",
       "<table border=\"1\" class=\"dataframe\">\n",
       "  <thead>\n",
       "    <tr style=\"text-align: right;\">\n",
       "      <th></th>\n",
       "      <th>ve_id</th>\n",
       "      <th>theta_median</th>\n",
       "      <th>phi_median</th>\n",
       "      <th>eta_median</th>\n",
       "      <th>median_station</th>\n",
       "      <th>median_type</th>\n",
       "      <th>median_ring</th>\n",
       "    </tr>\n",
       "  </thead>\n",
       "  <tbody>\n",
       "    <tr>\n",
       "      <th>0</th>\n",
       "      <td>0</td>\n",
       "      <td>22.381725</td>\n",
       "      <td>141.058455</td>\n",
       "      <td>1.620299</td>\n",
       "      <td>3.0</td>\n",
       "      <td>1.0</td>\n",
       "      <td>2.0</td>\n",
       "    </tr>\n",
       "    <tr>\n",
       "      <th>1</th>\n",
       "      <td>1</td>\n",
       "      <td>15.110317</td>\n",
       "      <td>-141.673995</td>\n",
       "      <td>2.020179</td>\n",
       "      <td>2.0</td>\n",
       "      <td>1.0</td>\n",
       "      <td>1.0</td>\n",
       "    </tr>\n",
       "    <tr>\n",
       "      <th>2</th>\n",
       "      <td>2</td>\n",
       "      <td>21.016869</td>\n",
       "      <td>-110.063550</td>\n",
       "      <td>1.684747</td>\n",
       "      <td>2.0</td>\n",
       "      <td>1.0</td>\n",
       "      <td>1.0</td>\n",
       "    </tr>\n",
       "    <tr>\n",
       "      <th>3</th>\n",
       "      <td>3</td>\n",
       "      <td>10.484757</td>\n",
       "      <td>113.099700</td>\n",
       "      <td>2.388656</td>\n",
       "      <td>4.0</td>\n",
       "      <td>2.0</td>\n",
       "      <td>1.0</td>\n",
       "    </tr>\n",
       "    <tr>\n",
       "      <th>4</th>\n",
       "      <td>4</td>\n",
       "      <td>13.612605</td>\n",
       "      <td>47.813921</td>\n",
       "      <td>2.125661</td>\n",
       "      <td>2.0</td>\n",
       "      <td>3.0</td>\n",
       "      <td>1.0</td>\n",
       "    </tr>\n",
       "  </tbody>\n",
       "</table>\n",
       "</div>"
      ],
      "text/plain": [
       "   ve_id  theta_median  phi_median  eta_median  median_station  median_type  \\\n",
       "0      0     22.381725  141.058455    1.620299             3.0          1.0   \n",
       "1      1     15.110317 -141.673995    2.020179             2.0          1.0   \n",
       "2      2     21.016869 -110.063550    1.684747             2.0          1.0   \n",
       "3      3     10.484757  113.099700    2.388656             4.0          2.0   \n",
       "4      4     13.612605   47.813921    2.125661             2.0          3.0   \n",
       "\n",
       "   median_ring  \n",
       "0          2.0  \n",
       "1          1.0  \n",
       "2          1.0  \n",
       "3          1.0  \n",
       "4          1.0  "
      ]
     },
     "execution_count": 317,
     "metadata": {},
     "output_type": "execute_result"
    }
   ],
   "source": [
    "median_df.head()"
   ]
  },
  {
   "cell_type": "code",
   "execution_count": 340,
   "metadata": {
    "ExecuteTime": {
     "end_time": "2019-05-15T11:05:15.451028Z",
     "start_time": "2019-05-15T11:05:15.437247Z"
    }
   },
   "outputs": [
    {
     "name": "stdout",
     "output_type": "stream",
     "text": [
      "3.0    4159\n",
      "2.0    3190\n",
      "1.0    2473\n",
      "4.0    1309\n",
      "Name: median_ring, dtype: int64\n"
     ]
    }
   ],
   "source": [
    "print(median_df[(median_df['median_type']==1) & (median_df['median_station']==1)]['median_ring'].value_counts())"
   ]
  },
  {
   "cell_type": "code",
   "execution_count": 339,
   "metadata": {
    "ExecuteTime": {
     "end_time": "2019-05-15T11:04:32.257214Z",
     "start_time": "2019-05-15T11:04:32.253120Z"
    }
   },
   "outputs": [
    {
     "data": {
      "text/plain": [
       "9822"
      ]
     },
     "execution_count": 339,
     "metadata": {},
     "output_type": "execute_result"
    }
   ],
   "source": [
    "4159 + 2473 + 3190"
   ]
  },
  {
   "cell_type": "code",
   "execution_count": 334,
   "metadata": {
    "ExecuteTime": {
     "end_time": "2019-05-15T10:58:20.014524Z",
     "start_time": "2019-05-15T10:58:19.980501Z"
    }
   },
   "outputs": [
    {
     "name": "stdout",
     "output_type": "stream",
     "text": [
      "4.0    717\n",
      "Name: median_type, dtype: int64\n",
      "3.0    1789\n",
      "Name: median_type, dtype: int64\n",
      "3.0    24436\n",
      "Name: median_type, dtype: int64\n",
      "2.0    3869\n",
      "Name: median_type, dtype: int64\n",
      "2.0    4661\n",
      "Name: median_type, dtype: int64\n",
      "2.0    16235\n",
      "Name: median_type, dtype: int64\n",
      "2.0    13540\n",
      "Name: median_type, dtype: int64\n",
      "1.0    2473\n",
      "Name: median_type, dtype: int64\n",
      "1.0    3190\n",
      "Name: median_type, dtype: int64\n",
      "1.0    43388\n",
      "Name: median_type, dtype: int64\n",
      "1.0    26595\n",
      "Name: median_type, dtype: int64\n",
      "1.0    17129\n",
      "Name: median_type, dtype: int64\n",
      "1.0    4159\n",
      "Name: median_type, dtype: int64\n"
     ]
    }
   ],
   "source": [
    "print(temp_8['median_type'].value_counts())\n",
    "print(temp_9['median_type'].value_counts())\n",
    "print(temp_10['median_type'].value_counts())\n",
    "print(temp_11['median_type'].value_counts())\n",
    "print(temp_12['median_type'].value_counts())\n",
    "print(temp_13['median_type'].value_counts())"
   ]
  },
  {
   "cell_type": "code",
   "execution_count": 316,
   "metadata": {
    "ExecuteTime": {
     "end_time": "2019-05-15T10:40:21.406821Z",
     "start_time": "2019-05-15T10:40:21.397433Z"
    }
   },
   "outputs": [
    {
     "data": {
      "text/plain": [
       "(2473, 7)"
      ]
     },
     "execution_count": 316,
     "metadata": {},
     "output_type": "execute_result"
    }
   ],
   "source": [
    "median_df[(median_df['median_type']==1) & (median_df['median_station']==1)& (median_df['median_ring']==1)].shape"
   ]
  },
  {
   "cell_type": "code",
   "execution_count": 327,
   "metadata": {
    "ExecuteTime": {
     "end_time": "2019-05-15T10:54:05.777026Z",
     "start_time": "2019-05-15T10:54:05.766971Z"
    }
   },
   "outputs": [
    {
     "data": {
      "text/plain": [
       "(3190, 7)"
      ]
     },
     "execution_count": 327,
     "metadata": {},
     "output_type": "execute_result"
    }
   ],
   "source": [
    "median_df[(median_df['median_type']==1) & (median_df['median_station']==1)& (median_df['median_ring']==2)].shape"
   ]
  },
  {
   "cell_type": "code",
   "execution_count": 328,
   "metadata": {
    "ExecuteTime": {
     "end_time": "2019-05-15T10:54:26.933365Z",
     "start_time": "2019-05-15T10:54:26.920598Z"
    }
   },
   "outputs": [
    {
     "data": {
      "text/plain": [
       "(4159, 7)"
      ]
     },
     "execution_count": 328,
     "metadata": {},
     "output_type": "execute_result"
    }
   ],
   "source": [
    "median_df[(median_df['median_type']==1) & (median_df['median_station']==1)& (median_df['median_ring']==3)].shape"
   ]
  },
  {
   "cell_type": "code",
   "execution_count": 341,
   "metadata": {
    "ExecuteTime": {
     "end_time": "2019-05-15T11:07:16.444612Z",
     "start_time": "2019-05-15T11:07:10.093019Z"
    },
    "scrolled": true
   },
   "outputs": [
    {
     "name": "stderr",
     "output_type": "stream",
     "text": [
      "/anaconda3/lib/python3.6/site-packages/ipykernel_launcher.py:2: SettingWithCopyWarning: \n",
      "A value is trying to be set on a copy of a slice from a DataFrame.\n",
      "Try using .loc[row_indexer,col_indexer] = value instead\n",
      "\n",
      "See the caveats in the documentation: http://pandas.pydata.org/pandas-docs/stable/indexing.html#indexing-view-versus-copy\n",
      "  \n",
      "/anaconda3/lib/python3.6/site-packages/ipykernel_launcher.py:4: SettingWithCopyWarning: \n",
      "A value is trying to be set on a copy of a slice from a DataFrame.\n",
      "Try using .loc[row_indexer,col_indexer] = value instead\n",
      "\n",
      "See the caveats in the documentation: http://pandas.pydata.org/pandas-docs/stable/indexing.html#indexing-view-versus-copy\n",
      "  after removing the cwd from sys.path.\n",
      "/anaconda3/lib/python3.6/site-packages/ipykernel_launcher.py:6: SettingWithCopyWarning: \n",
      "A value is trying to be set on a copy of a slice from a DataFrame.\n",
      "Try using .loc[row_indexer,col_indexer] = value instead\n",
      "\n",
      "See the caveats in the documentation: http://pandas.pydata.org/pandas-docs/stable/indexing.html#indexing-view-versus-copy\n",
      "  \n",
      "/anaconda3/lib/python3.6/site-packages/ipykernel_launcher.py:8: SettingWithCopyWarning: \n",
      "A value is trying to be set on a copy of a slice from a DataFrame.\n",
      "Try using .loc[row_indexer,col_indexer] = value instead\n",
      "\n",
      "See the caveats in the documentation: http://pandas.pydata.org/pandas-docs/stable/indexing.html#indexing-view-versus-copy\n",
      "  \n",
      "/anaconda3/lib/python3.6/site-packages/ipykernel_launcher.py:10: SettingWithCopyWarning: \n",
      "A value is trying to be set on a copy of a slice from a DataFrame.\n",
      "Try using .loc[row_indexer,col_indexer] = value instead\n",
      "\n",
      "See the caveats in the documentation: http://pandas.pydata.org/pandas-docs/stable/indexing.html#indexing-view-versus-copy\n",
      "  # Remove the CWD from sys.path while we load stuff.\n",
      "/anaconda3/lib/python3.6/site-packages/ipykernel_launcher.py:12: SettingWithCopyWarning: \n",
      "A value is trying to be set on a copy of a slice from a DataFrame.\n",
      "Try using .loc[row_indexer,col_indexer] = value instead\n",
      "\n",
      "See the caveats in the documentation: http://pandas.pydata.org/pandas-docs/stable/indexing.html#indexing-view-versus-copy\n",
      "  if sys.path[0] == '':\n",
      "/anaconda3/lib/python3.6/site-packages/ipykernel_launcher.py:14: SettingWithCopyWarning: \n",
      "A value is trying to be set on a copy of a slice from a DataFrame.\n",
      "Try using .loc[row_indexer,col_indexer] = value instead\n",
      "\n",
      "See the caveats in the documentation: http://pandas.pydata.org/pandas-docs/stable/indexing.html#indexing-view-versus-copy\n",
      "  \n",
      "/anaconda3/lib/python3.6/site-packages/ipykernel_launcher.py:16: SettingWithCopyWarning: \n",
      "A value is trying to be set on a copy of a slice from a DataFrame.\n",
      "Try using .loc[row_indexer,col_indexer] = value instead\n",
      "\n",
      "See the caveats in the documentation: http://pandas.pydata.org/pandas-docs/stable/indexing.html#indexing-view-versus-copy\n",
      "  app.launch_new_instance()\n",
      "/anaconda3/lib/python3.6/site-packages/ipykernel_launcher.py:18: SettingWithCopyWarning: \n",
      "A value is trying to be set on a copy of a slice from a DataFrame.\n",
      "Try using .loc[row_indexer,col_indexer] = value instead\n",
      "\n",
      "See the caveats in the documentation: http://pandas.pydata.org/pandas-docs/stable/indexing.html#indexing-view-versus-copy\n",
      "/anaconda3/lib/python3.6/site-packages/ipykernel_launcher.py:20: SettingWithCopyWarning: \n",
      "A value is trying to be set on a copy of a slice from a DataFrame.\n",
      "Try using .loc[row_indexer,col_indexer] = value instead\n",
      "\n",
      "See the caveats in the documentation: http://pandas.pydata.org/pandas-docs/stable/indexing.html#indexing-view-versus-copy\n",
      "/anaconda3/lib/python3.6/site-packages/ipykernel_launcher.py:22: SettingWithCopyWarning: \n",
      "A value is trying to be set on a copy of a slice from a DataFrame.\n",
      "Try using .loc[row_indexer,col_indexer] = value instead\n",
      "\n",
      "See the caveats in the documentation: http://pandas.pydata.org/pandas-docs/stable/indexing.html#indexing-view-versus-copy\n",
      "/anaconda3/lib/python3.6/site-packages/ipykernel_launcher.py:24: SettingWithCopyWarning: \n",
      "A value is trying to be set on a copy of a slice from a DataFrame.\n",
      "Try using .loc[row_indexer,col_indexer] = value instead\n",
      "\n",
      "See the caveats in the documentation: http://pandas.pydata.org/pandas-docs/stable/indexing.html#indexing-view-versus-copy\n",
      "/anaconda3/lib/python3.6/site-packages/ipykernel_launcher.py:26: SettingWithCopyWarning: \n",
      "A value is trying to be set on a copy of a slice from a DataFrame.\n",
      "Try using .loc[row_indexer,col_indexer] = value instead\n",
      "\n",
      "See the caveats in the documentation: http://pandas.pydata.org/pandas-docs/stable/indexing.html#indexing-view-versus-copy\n",
      "/anaconda3/lib/python3.6/site-packages/ipykernel_launcher.py:28: SettingWithCopyWarning: \n",
      "A value is trying to be set on a copy of a slice from a DataFrame.\n",
      "Try using .loc[row_indexer,col_indexer] = value instead\n",
      "\n",
      "See the caveats in the documentation: http://pandas.pydata.org/pandas-docs/stable/indexing.html#indexing-view-versus-copy\n"
     ]
    }
   ],
   "source": [
    "temp_1 = median_df[median_df['median_type']==4]\n",
    "temp_1['median_virtual_station'] = 1\n",
    "temp_2 = median_df[(median_df['median_type']==3) & (median_df['median_station']==1)]\n",
    "temp_2['median_virtual_station'] = 1\n",
    "temp_3 = median_df[(median_df['median_type']==3) & (median_df['median_station']==2)]\n",
    "temp_3['median_virtual_station'] = 5\n",
    "temp_4 = median_df[(median_df['median_type']==2) & (median_df['median_station']==1)]\n",
    "temp_4['median_virtual_station'] = 4\n",
    "temp_5 = median_df[(median_df['median_type']==2) & (median_df['median_station']==2)]\n",
    "temp_5['median_virtual_station'] = 5\n",
    "temp_6 = median_df[(median_df['median_type']==2) & (median_df['median_station']==3)]\n",
    "temp_6['median_virtual_station'] = 8\n",
    "temp_7 = median_df[(median_df['median_type']==2) & (median_df['median_station']==4)]\n",
    "temp_7['median_virtual_station'] = 10\n",
    "temp_8 = median_df[(median_df['median_type']==1) & (median_df['median_station']==1)& (median_df['median_ring']==1)]\n",
    "temp_8['median_virtual_station'] = 2\n",
    "temp_14 = median_df[(median_df['median_type']==1) & (median_df['median_station']==1)& (median_df['median_ring']==4)]\n",
    "temp_14['median_virtual_station'] = 2\n",
    "temp_9 = median_df[(median_df['median_type']==1) & (median_df['median_station']==1)& (median_df['median_ring']==2)]\n",
    "temp_9['median_virtual_station'] = 3\n",
    "temp_13 = median_df[(median_df['median_type']==1) & (median_df['median_station']==1)& (median_df['median_ring']==3)]\n",
    "temp_13['median_virtual_station'] = 3\n",
    "temp_10 = median_df[(median_df['median_type']==1) & (median_df['median_station']==2)]\n",
    "temp_10['median_virtual_station'] = 6\n",
    "temp_11 = median_df[(median_df['median_type']==1) & (median_df['median_station']==3)]\n",
    "temp_11['median_virtual_station'] = 7\n",
    "temp_12 = median_df[(median_df['median_type']==1) & (median_df['median_station']==4)]\n",
    "temp_12['median_virtual_station'] = 9"
   ]
  },
  {
   "cell_type": "code",
   "execution_count": 342,
   "metadata": {
    "ExecuteTime": {
     "end_time": "2019-05-15T11:07:35.963152Z",
     "start_time": "2019-05-15T11:07:35.949459Z"
    }
   },
   "outputs": [],
   "source": [
    "temps = [temp_1, temp_2, temp_3, temp_4, temp_5, temp_6, temp_7, \n",
    "         temp_8, temp_9, temp_10, temp_11, temp_12, temp_13, temp_14]"
   ]
  },
  {
   "cell_type": "code",
   "execution_count": 343,
   "metadata": {
    "ExecuteTime": {
     "end_time": "2019-05-15T11:07:43.747363Z",
     "start_time": "2019-05-15T11:07:43.718373Z"
    }
   },
   "outputs": [],
   "source": [
    "median_df = pd.concat(temps)"
   ]
  },
  {
   "cell_type": "code",
   "execution_count": 346,
   "metadata": {
    "ExecuteTime": {
     "end_time": "2019-05-15T11:08:32.789438Z",
     "start_time": "2019-05-15T11:08:32.766620Z"
    }
   },
   "outputs": [],
   "source": [
    "median_df = median_df.sort_values(by=['ve_id'])"
   ]
  },
  {
   "cell_type": "code",
   "execution_count": 348,
   "metadata": {
    "ExecuteTime": {
     "end_time": "2019-05-15T11:09:14.504956Z",
     "start_time": "2019-05-15T11:09:14.491592Z"
    }
   },
   "outputs": [
    {
     "data": {
      "text/html": [
       "<div>\n",
       "<style scoped>\n",
       "    .dataframe tbody tr th:only-of-type {\n",
       "        vertical-align: middle;\n",
       "    }\n",
       "\n",
       "    .dataframe tbody tr th {\n",
       "        vertical-align: top;\n",
       "    }\n",
       "\n",
       "    .dataframe thead th {\n",
       "        text-align: right;\n",
       "    }\n",
       "</style>\n",
       "<table border=\"1\" class=\"dataframe\">\n",
       "  <thead>\n",
       "    <tr style=\"text-align: right;\">\n",
       "      <th></th>\n",
       "      <th>ve_id</th>\n",
       "      <th>theta_median</th>\n",
       "      <th>phi_median</th>\n",
       "      <th>eta_median</th>\n",
       "      <th>median_station</th>\n",
       "      <th>median_type</th>\n",
       "      <th>median_ring</th>\n",
       "      <th>median_virtual_station</th>\n",
       "    </tr>\n",
       "  </thead>\n",
       "  <tbody>\n",
       "    <tr>\n",
       "      <th>0</th>\n",
       "      <td>0</td>\n",
       "      <td>22.381725</td>\n",
       "      <td>141.058455</td>\n",
       "      <td>1.620299</td>\n",
       "      <td>3.0</td>\n",
       "      <td>1.0</td>\n",
       "      <td>2.0</td>\n",
       "      <td>7</td>\n",
       "    </tr>\n",
       "    <tr>\n",
       "      <th>1</th>\n",
       "      <td>1</td>\n",
       "      <td>15.110317</td>\n",
       "      <td>-141.673995</td>\n",
       "      <td>2.020179</td>\n",
       "      <td>2.0</td>\n",
       "      <td>1.0</td>\n",
       "      <td>1.0</td>\n",
       "      <td>6</td>\n",
       "    </tr>\n",
       "    <tr>\n",
       "      <th>2</th>\n",
       "      <td>2</td>\n",
       "      <td>21.016869</td>\n",
       "      <td>-110.063550</td>\n",
       "      <td>1.684747</td>\n",
       "      <td>2.0</td>\n",
       "      <td>1.0</td>\n",
       "      <td>1.0</td>\n",
       "      <td>6</td>\n",
       "    </tr>\n",
       "    <tr>\n",
       "      <th>3</th>\n",
       "      <td>3</td>\n",
       "      <td>10.484757</td>\n",
       "      <td>113.099700</td>\n",
       "      <td>2.388656</td>\n",
       "      <td>4.0</td>\n",
       "      <td>2.0</td>\n",
       "      <td>1.0</td>\n",
       "      <td>10</td>\n",
       "    </tr>\n",
       "    <tr>\n",
       "      <th>4</th>\n",
       "      <td>4</td>\n",
       "      <td>13.612605</td>\n",
       "      <td>47.813921</td>\n",
       "      <td>2.125661</td>\n",
       "      <td>2.0</td>\n",
       "      <td>3.0</td>\n",
       "      <td>1.0</td>\n",
       "      <td>5</td>\n",
       "    </tr>\n",
       "  </tbody>\n",
       "</table>\n",
       "</div>"
      ],
      "text/plain": [
       "   ve_id  theta_median  phi_median  eta_median  median_station  median_type  \\\n",
       "0      0     22.381725  141.058455    1.620299             3.0          1.0   \n",
       "1      1     15.110317 -141.673995    2.020179             2.0          1.0   \n",
       "2      2     21.016869 -110.063550    1.684747             2.0          1.0   \n",
       "3      3     10.484757  113.099700    2.388656             4.0          2.0   \n",
       "4      4     13.612605   47.813921    2.125661             2.0          3.0   \n",
       "\n",
       "   median_ring  median_virtual_station  \n",
       "0          2.0                       7  \n",
       "1          1.0                       6  \n",
       "2          1.0                       6  \n",
       "3          1.0                      10  \n",
       "4          1.0                       5  "
      ]
     },
     "execution_count": 348,
     "metadata": {},
     "output_type": "execute_result"
    }
   ],
   "source": [
    "median_df.head()"
   ]
  },
  {
   "cell_type": "markdown",
   "metadata": {},
   "source": [
    "## Save Median Data"
   ]
  },
  {
   "cell_type": "code",
   "execution_count": 282,
   "metadata": {
    "ExecuteTime": {
     "end_time": "2019-05-14T22:22:44.585783Z",
     "start_time": "2019-05-14T22:22:43.141479Z"
    }
   },
   "outputs": [],
   "source": [
    "median_df.to_csv('median_virtual_station.csv')"
   ]
  },
  {
   "cell_type": "code",
   "execution_count": 14,
   "metadata": {
    "ExecuteTime": {
     "end_time": "2019-05-29T20:01:44.367958Z",
     "start_time": "2019-05-29T20:01:44.072063Z"
    }
   },
   "outputs": [],
   "source": [
    "median_df = pd.read_csv('median_virtual_station.csv', index_col = 0)"
   ]
  },
  {
   "cell_type": "code",
   "execution_count": 15,
   "metadata": {
    "ExecuteTime": {
     "end_time": "2019-05-29T20:01:50.714218Z",
     "start_time": "2019-05-29T20:01:50.701540Z"
    }
   },
   "outputs": [
    {
     "data": {
      "text/html": [
       "<div>\n",
       "<style scoped>\n",
       "    .dataframe tbody tr th:only-of-type {\n",
       "        vertical-align: middle;\n",
       "    }\n",
       "\n",
       "    .dataframe tbody tr th {\n",
       "        vertical-align: top;\n",
       "    }\n",
       "\n",
       "    .dataframe thead th {\n",
       "        text-align: right;\n",
       "    }\n",
       "</style>\n",
       "<table border=\"1\" class=\"dataframe\">\n",
       "  <thead>\n",
       "    <tr style=\"text-align: right;\">\n",
       "      <th></th>\n",
       "      <th>ve_id</th>\n",
       "      <th>theta_median</th>\n",
       "      <th>phi_median</th>\n",
       "      <th>eta_median</th>\n",
       "      <th>median_station</th>\n",
       "      <th>median_type</th>\n",
       "      <th>median_ring</th>\n",
       "      <th>median_virtual_station</th>\n",
       "    </tr>\n",
       "  </thead>\n",
       "  <tbody>\n",
       "    <tr>\n",
       "      <th>0</th>\n",
       "      <td>0</td>\n",
       "      <td>22.381725</td>\n",
       "      <td>141.058455</td>\n",
       "      <td>1.620299</td>\n",
       "      <td>3.0</td>\n",
       "      <td>1.0</td>\n",
       "      <td>2.0</td>\n",
       "      <td>7</td>\n",
       "    </tr>\n",
       "    <tr>\n",
       "      <th>1</th>\n",
       "      <td>1</td>\n",
       "      <td>15.110317</td>\n",
       "      <td>-141.673995</td>\n",
       "      <td>2.020179</td>\n",
       "      <td>2.0</td>\n",
       "      <td>1.0</td>\n",
       "      <td>1.0</td>\n",
       "      <td>6</td>\n",
       "    </tr>\n",
       "    <tr>\n",
       "      <th>2</th>\n",
       "      <td>2</td>\n",
       "      <td>21.016869</td>\n",
       "      <td>-110.063550</td>\n",
       "      <td>1.684747</td>\n",
       "      <td>2.0</td>\n",
       "      <td>1.0</td>\n",
       "      <td>1.0</td>\n",
       "      <td>6</td>\n",
       "    </tr>\n",
       "    <tr>\n",
       "      <th>3</th>\n",
       "      <td>3</td>\n",
       "      <td>10.484757</td>\n",
       "      <td>113.099700</td>\n",
       "      <td>2.388656</td>\n",
       "      <td>4.0</td>\n",
       "      <td>2.0</td>\n",
       "      <td>1.0</td>\n",
       "      <td>10</td>\n",
       "    </tr>\n",
       "    <tr>\n",
       "      <th>4</th>\n",
       "      <td>4</td>\n",
       "      <td>13.612605</td>\n",
       "      <td>47.813921</td>\n",
       "      <td>2.125661</td>\n",
       "      <td>2.0</td>\n",
       "      <td>3.0</td>\n",
       "      <td>1.0</td>\n",
       "      <td>5</td>\n",
       "    </tr>\n",
       "  </tbody>\n",
       "</table>\n",
       "</div>"
      ],
      "text/plain": [
       "   ve_id  theta_median  phi_median  eta_median  median_station  median_type  \\\n",
       "0      0     22.381725  141.058455    1.620299             3.0          1.0   \n",
       "1      1     15.110317 -141.673995    2.020179             2.0          1.0   \n",
       "2      2     21.016869 -110.063550    1.684747             2.0          1.0   \n",
       "3      3     10.484757  113.099700    2.388656             4.0          2.0   \n",
       "4      4     13.612605   47.813921    2.125661             2.0          3.0   \n",
       "\n",
       "   median_ring  median_virtual_station  \n",
       "0          2.0                       7  \n",
       "1          1.0                       6  \n",
       "2          1.0                       6  \n",
       "3          1.0                      10  \n",
       "4          1.0                       5  "
      ]
     },
     "execution_count": 15,
     "metadata": {},
     "output_type": "execute_result"
    }
   ],
   "source": [
    "median_df.head()"
   ]
  },
  {
   "cell_type": "markdown",
   "metadata": {},
   "source": [
    "## Add Median to Hit Data"
   ]
  },
  {
   "cell_type": "code",
   "execution_count": 16,
   "metadata": {
    "ExecuteTime": {
     "end_time": "2019-05-29T20:02:00.722121Z",
     "start_time": "2019-05-29T20:02:00.236613Z"
    }
   },
   "outputs": [],
   "source": [
    "hit_ec1_new = hit_ec1.join(median_df.set_index('ve_id'), on='ve_id')"
   ]
  },
  {
   "cell_type": "code",
   "execution_count": 17,
   "metadata": {
    "ExecuteTime": {
     "end_time": "2019-05-29T20:02:02.108124Z",
     "start_time": "2019-05-29T20:02:02.102068Z"
    }
   },
   "outputs": [
    {
     "data": {
      "text/plain": [
       "(1614816, 35)"
      ]
     },
     "execution_count": 17,
     "metadata": {},
     "output_type": "execute_result"
    }
   ],
   "source": [
    "hit_ec1_new.shape"
   ]
  },
  {
   "cell_type": "markdown",
   "metadata": {},
   "source": [
    "## Get Delta and Delta ABS"
   ]
  },
  {
   "cell_type": "code",
   "execution_count": 14,
   "metadata": {
    "ExecuteTime": {
     "end_time": "2019-05-29T15:10:07.397214Z",
     "start_time": "2019-05-29T15:10:07.359920Z"
    }
   },
   "outputs": [],
   "source": [
    "hit_ec1_new['delta_theta'] = hit_ec1_new['vh_sim_theta'] - hit_ec1_new['theta_median']"
   ]
  },
  {
   "cell_type": "code",
   "execution_count": 15,
   "metadata": {
    "ExecuteTime": {
     "end_time": "2019-05-29T15:10:09.861799Z",
     "start_time": "2019-05-29T15:10:09.854009Z"
    }
   },
   "outputs": [],
   "source": [
    "hit_ec1_new['delta_phi'] = hit_ec1_new['vh_sim_phi'] - hit_ec1_new['phi_median']"
   ]
  },
  {
   "cell_type": "code",
   "execution_count": 16,
   "metadata": {
    "ExecuteTime": {
     "end_time": "2019-05-29T15:10:12.451916Z",
     "start_time": "2019-05-29T15:10:12.437467Z"
    }
   },
   "outputs": [],
   "source": [
    "hit_ec1_new['delta_eta'] = hit_ec1_new['vh_sim_eta'] - hit_ec1_new['eta_median']"
   ]
  },
  {
   "cell_type": "markdown",
   "metadata": {},
   "source": [
    "### Solve Delta Phi 360 Degree Problem"
   ]
  },
  {
   "cell_type": "code",
   "execution_count": 26,
   "metadata": {
    "ExecuteTime": {
     "end_time": "2019-05-29T15:14:09.962298Z",
     "start_time": "2019-05-29T15:14:09.943006Z"
    }
   },
   "outputs": [
    {
     "data": {
      "text/plain": [
       "179.979355"
      ]
     },
     "execution_count": 26,
     "metadata": {},
     "output_type": "execute_result"
    }
   ],
   "source": [
    "hit_ec1_new['delta_phi'].max()"
   ]
  },
  {
   "cell_type": "code",
   "execution_count": 18,
   "metadata": {
    "ExecuteTime": {
     "end_time": "2019-05-29T15:10:36.866982Z",
     "start_time": "2019-05-29T15:10:36.419065Z"
    }
   },
   "outputs": [
    {
     "data": {
      "text/plain": [
       "(548, 38)"
      ]
     },
     "execution_count": 18,
     "metadata": {},
     "output_type": "execute_result"
    }
   ],
   "source": [
    "hit_ec1_new[hit_ec1_new['delta_phi']<-180].shape"
   ]
  },
  {
   "cell_type": "code",
   "execution_count": 23,
   "metadata": {
    "ExecuteTime": {
     "end_time": "2019-05-29T15:13:43.235716Z",
     "start_time": "2019-05-29T15:13:43.222967Z"
    }
   },
   "outputs": [],
   "source": [
    "plus = hit_ec1_new[hit_ec1_new['delta_phi'] > 180]\n",
    "minus = hit_ec1_new[hit_ec1_new['delta_phi'] < -180]"
   ]
  },
  {
   "cell_type": "code",
   "execution_count": 24,
   "metadata": {
    "ExecuteTime": {
     "end_time": "2019-05-29T15:13:51.165009Z",
     "start_time": "2019-05-29T15:13:50.906365Z"
    },
    "scrolled": true
   },
   "outputs": [
    {
     "name": "stderr",
     "output_type": "stream",
     "text": [
      "/anaconda3/lib/python3.6/site-packages/ipykernel_launcher.py:1: SettingWithCopyWarning: \n",
      "A value is trying to be set on a copy of a slice from a DataFrame.\n",
      "Try using .loc[row_indexer,col_indexer] = value instead\n",
      "\n",
      "See the caveats in the documentation: http://pandas.pydata.org/pandas-docs/stable/indexing.html#indexing-view-versus-copy\n",
      "  \"\"\"Entry point for launching an IPython kernel.\n",
      "/anaconda3/lib/python3.6/site-packages/ipykernel_launcher.py:2: SettingWithCopyWarning: \n",
      "A value is trying to be set on a copy of a slice from a DataFrame.\n",
      "Try using .loc[row_indexer,col_indexer] = value instead\n",
      "\n",
      "See the caveats in the documentation: http://pandas.pydata.org/pandas-docs/stable/indexing.html#indexing-view-versus-copy\n",
      "  \n"
     ]
    }
   ],
   "source": [
    "plus['delta_phi'] = plus['delta_phi'] - 360\n",
    "minus['delta_phi'] = minus['delta_phi'] + 360"
   ]
  },
  {
   "cell_type": "code",
   "execution_count": 25,
   "metadata": {
    "ExecuteTime": {
     "end_time": "2019-05-29T15:14:07.018202Z",
     "start_time": "2019-05-29T15:14:06.415964Z"
    }
   },
   "outputs": [],
   "source": [
    "hit_ec1_new.loc[hit_ec1_new['delta_phi'] > 180] = plus\n",
    "hit_ec1_new.loc[hit_ec1_new['delta_phi'] < -180] = minus"
   ]
  },
  {
   "cell_type": "code",
   "execution_count": 27,
   "metadata": {
    "ExecuteTime": {
     "end_time": "2019-05-29T15:14:52.488649Z",
     "start_time": "2019-05-29T15:14:51.940567Z"
    }
   },
   "outputs": [
    {
     "data": {
      "image/png": "[encoded data removed]",
      "text/plain": [
       "<Figure size 432x288 with 1 Axes>"
      ]
     },
     "metadata": {
      "needs_background": "light"
     },
     "output_type": "display_data"
    }
   ],
   "source": [
    "fig, ax = plt.subplots()\n",
    "ax.hist(hit_ec1_new['delta_phi'],200)\n",
    "plt.xlim(-10, 10)\n",
    "ax.grid(True)\n",
    "# fig.savefig('1.jpg', format='jpg', dpi=900)"
   ]
  },
  {
   "cell_type": "markdown",
   "metadata": {},
   "source": [
    "### Delta ABS"
   ]
  },
  {
   "cell_type": "code",
   "execution_count": 28,
   "metadata": {
    "ExecuteTime": {
     "end_time": "2019-05-29T15:15:11.351977Z",
     "start_time": "2019-05-29T15:15:11.311291Z"
    }
   },
   "outputs": [],
   "source": [
    "hit_ec1_new['delta_theta_abs'] = hit_ec1_new['delta_theta'].abs()\n",
    "hit_ec1_new['delta_phi_abs'] = hit_ec1_new['delta_phi'].abs()\n",
    "hit_ec1_new['delta_eta_abs'] = hit_ec1_new['delta_eta'].abs()"
   ]
  },
  {
   "cell_type": "code",
   "execution_count": 29,
   "metadata": {
    "ExecuteTime": {
     "end_time": "2019-05-29T15:16:39.191311Z",
     "start_time": "2019-05-29T15:16:39.186479Z"
    }
   },
   "outputs": [
    {
     "data": {
      "text/plain": [
       "(1614816, 41)"
      ]
     },
     "execution_count": 29,
     "metadata": {},
     "output_type": "execute_result"
    }
   ],
   "source": [
    "hit_ec1_new.shape"
   ]
  },
  {
   "cell_type": "code",
   "execution_count": 30,
   "metadata": {
    "ExecuteTime": {
     "end_time": "2019-05-29T15:17:50.525080Z",
     "start_time": "2019-05-29T15:17:49.806376Z"
    }
   },
   "outputs": [],
   "source": [
    "hit_ec1_new = hit_ec1_new[hit_ec1_new['delta_phi_abs']<7]"
   ]
  },
  {
   "cell_type": "code",
   "execution_count": 31,
   "metadata": {
    "ExecuteTime": {
     "end_time": "2019-05-29T15:17:53.232447Z",
     "start_time": "2019-05-29T15:17:53.226531Z"
    }
   },
   "outputs": [
    {
     "data": {
      "text/plain": [
       "(1609936, 41)"
      ]
     },
     "execution_count": 31,
     "metadata": {},
     "output_type": "execute_result"
    }
   ],
   "source": [
    "hit_ec1_new.shape"
   ]
  },
  {
   "cell_type": "markdown",
   "metadata": {},
   "source": [
    "## Save Hit Data of Endcap 1 with Median"
   ]
  },
  {
   "cell_type": "code",
   "execution_count": 32,
   "metadata": {
    "ExecuteTime": {
     "end_time": "2019-05-29T15:19:41.489782Z",
     "start_time": "2019-05-29T15:18:33.751631Z"
    }
   },
   "outputs": [],
   "source": [
    "hit_ec1_new.to_csv('hit_ec1_median_delta_abs_outlier.csv')"
   ]
  },
  {
   "cell_type": "markdown",
   "metadata": {},
   "source": [
    "## Load Hit Data of Endcap 1 with Median"
   ]
  },
  {
   "cell_type": "code",
   "execution_count": 19,
   "metadata": {
    "ExecuteTime": {
     "end_time": "2019-05-29T20:02:51.452519Z",
     "start_time": "2019-05-29T20:02:42.627288Z"
    }
   },
   "outputs": [
    {
     "name": "stderr",
     "output_type": "stream",
     "text": [
      "/anaconda3/lib/python3.6/site-packages/numpy/lib/arraysetops.py:522: FutureWarning: elementwise comparison failed; returning scalar instead, but in the future will perform elementwise comparison\n",
      "  mask |= (ar1 == a)\n"
     ]
    }
   ],
   "source": [
    "hit_ec1 = pd.read_csv('hit_ec1_median_delta_abs_outlier.csv', index_col = 0)"
   ]
  },
  {
   "cell_type": "code",
   "execution_count": 34,
   "metadata": {
    "ExecuteTime": {
     "end_time": "2019-05-29T15:19:57.353937Z",
     "start_time": "2019-05-29T15:19:57.349008Z"
    }
   },
   "outputs": [
    {
     "data": {
      "text/plain": [
       "Index(['vh_endcap', 'vh_station', 'vh_ring', 'vh_sector', 'vh_subsector',\n",
       "       'vh_chamber', 'vh_cscid', 'vh_bx', 'vh_type', 'vh_neighbor', 'vh_strip',\n",
       "       'vh_wire', 'vh_roll', 'vh_pattern', 'vh_quality', 'vh_bend', 'vh_time',\n",
       "       'vh_fr', 'vh_emtf_phi', 'vh_emtf_theta', 'vh_sim_phi', 'vh_sim_theta',\n",
       "       'vh_sim_eta', 'vh_sim_r', 'vh_sim_z', 'vh_sim_tp1', 'vh_sim_tp2',\n",
       "       've_id', 'theta_median', 'phi_median', 'eta_median', 'median_station',\n",
       "       'median_type', 'median_ring', 'median_virtual_station', 'delta_theta',\n",
       "       'delta_phi', 'delta_eta', 'delta_theta_abs', 'delta_phi_abs',\n",
       "       'delta_eta_abs'],\n",
       "      dtype='object')"
      ]
     },
     "execution_count": 34,
     "metadata": {},
     "output_type": "execute_result"
    }
   ],
   "source": [
    "hit_ec1.columns"
   ]
  },
  {
   "cell_type": "markdown",
   "metadata": {},
   "source": [
    "# Sort"
   ]
  },
  {
   "cell_type": "code",
   "execution_count": 35,
   "metadata": {
    "ExecuteTime": {
     "end_time": "2019-05-29T15:20:13.240190Z",
     "start_time": "2019-05-29T15:20:11.610325Z"
    },
    "scrolled": true
   },
   "outputs": [],
   "source": [
    "hit_ec1 = hit_ec1.sort_values(by=['ve_id', 'delta_phi_abs', 'delta_theta_abs'])"
   ]
  },
  {
   "cell_type": "markdown",
   "metadata": {},
   "source": [
    "# Split Virtual Stations"
   ]
  },
  {
   "cell_type": "markdown",
   "metadata": {},
   "source": [
    "## ME0\n",
    "\n",
    "type = 4"
   ]
  },
  {
   "cell_type": "code",
   "execution_count": 36,
   "metadata": {
    "ExecuteTime": {
     "end_time": "2019-05-29T15:20:16.530813Z",
     "start_time": "2019-05-29T15:20:16.447999Z"
    }
   },
   "outputs": [],
   "source": [
    "hit_me0 = hit_ec1[hit_ec1['vh_type']==4]"
   ]
  },
  {
   "cell_type": "code",
   "execution_count": 37,
   "metadata": {
    "ExecuteTime": {
     "end_time": "2019-05-29T15:20:19.205998Z",
     "start_time": "2019-05-29T15:20:19.200612Z"
    }
   },
   "outputs": [],
   "source": [
    "hit_me0_sel = hit_me0[['ve_id', \n",
    "                       'delta_theta', \n",
    "                       'delta_phi', \n",
    "                       'delta_eta', \n",
    "                       'vh_pattern', \n",
    "                       'vh_quality', \n",
    "                       'vh_bend', \n",
    "                       'vh_fr']]"
   ]
  },
  {
   "cell_type": "markdown",
   "metadata": {},
   "source": [
    "Choose the first hit"
   ]
  },
  {
   "cell_type": "code",
   "execution_count": 38,
   "metadata": {
    "ExecuteTime": {
     "end_time": "2019-05-29T15:20:22.157330Z",
     "start_time": "2019-05-29T15:20:22.126941Z"
    }
   },
   "outputs": [],
   "source": [
    "me0_ec1 = hit_me0_sel.drop_duplicates(subset = 've_id', keep = 'first')"
   ]
  },
  {
   "cell_type": "code",
   "execution_count": 39,
   "metadata": {
    "ExecuteTime": {
     "end_time": "2019-05-29T15:20:25.516604Z",
     "start_time": "2019-05-29T15:20:24.959755Z"
    }
   },
   "outputs": [],
   "source": [
    "me0_ec1.to_csv('me0_ec1_minphi.csv')"
   ]
  },
  {
   "cell_type": "markdown",
   "metadata": {},
   "source": [
    "## ME1\n",
    "\n",
    "type = 1\n",
    "\n",
    "station = 1"
   ]
  },
  {
   "cell_type": "markdown",
   "metadata": {},
   "source": [
    "ME"
   ]
  },
  {
   "cell_type": "code",
   "execution_count": 40,
   "metadata": {
    "ExecuteTime": {
     "end_time": "2019-05-29T15:20:28.973397Z",
     "start_time": "2019-05-29T15:20:28.753316Z"
    }
   },
   "outputs": [],
   "source": [
    "hit_me = hit_ec1[hit_ec1['vh_type']==1]"
   ]
  },
  {
   "cell_type": "markdown",
   "metadata": {},
   "source": [
    "ME1"
   ]
  },
  {
   "cell_type": "code",
   "execution_count": 41,
   "metadata": {
    "ExecuteTime": {
     "end_time": "2019-05-29T15:20:32.784754Z",
     "start_time": "2019-05-29T15:20:32.711085Z"
    }
   },
   "outputs": [],
   "source": [
    "hit_me1 = hit_me[hit_me['vh_station']==1]"
   ]
  },
  {
   "cell_type": "code",
   "execution_count": 42,
   "metadata": {
    "ExecuteTime": {
     "end_time": "2019-05-29T15:20:36.676493Z",
     "start_time": "2019-05-29T15:20:36.669531Z"
    }
   },
   "outputs": [],
   "source": [
    "hit_me1_sel = hit_me1[['ve_id', \n",
    "                       'delta_theta', \n",
    "                       'delta_phi', \n",
    "                       'delta_eta', \n",
    "                       'vh_pattern', \n",
    "                       'vh_quality', \n",
    "                       'vh_bend', \n",
    "                       'vh_fr']]"
   ]
  },
  {
   "cell_type": "code",
   "execution_count": 43,
   "metadata": {
    "ExecuteTime": {
     "end_time": "2019-05-29T15:20:40.557141Z",
     "start_time": "2019-05-29T15:20:40.537962Z"
    }
   },
   "outputs": [],
   "source": [
    "me1_ec1 = hit_me1_sel.drop_duplicates(subset = 've_id', keep = 'first')"
   ]
  },
  {
   "cell_type": "code",
   "execution_count": 44,
   "metadata": {
    "ExecuteTime": {
     "end_time": "2019-05-29T15:20:45.969160Z",
     "start_time": "2019-05-29T15:20:44.479366Z"
    }
   },
   "outputs": [],
   "source": [
    "me1_ec1.to_csv('me1_ec1_minphi.csv')"
   ]
  },
  {
   "cell_type": "markdown",
   "metadata": {},
   "source": [
    "## ME1/1\n",
    "\n",
    "type = 1\n",
    "\n",
    "station = 1\n",
    "\n",
    "ring = 1 or 4"
   ]
  },
  {
   "cell_type": "code",
   "execution_count": 45,
   "metadata": {
    "ExecuteTime": {
     "end_time": "2019-05-29T15:20:49.814661Z",
     "start_time": "2019-05-29T15:20:49.797258Z"
    }
   },
   "outputs": [],
   "source": [
    "hit_me11b = hit_me1[hit_me1['vh_ring']==1]"
   ]
  },
  {
   "cell_type": "code",
   "execution_count": 46,
   "metadata": {
    "ExecuteTime": {
     "end_time": "2019-05-29T15:20:53.894268Z",
     "start_time": "2019-05-29T15:20:53.876316Z"
    }
   },
   "outputs": [],
   "source": [
    "hit_me11a = hit_me1[hit_me1['vh_ring']==4]"
   ]
  },
  {
   "cell_type": "code",
   "execution_count": 47,
   "metadata": {
    "ExecuteTime": {
     "end_time": "2019-05-29T15:20:57.566252Z",
     "start_time": "2019-05-29T15:20:57.528939Z"
    }
   },
   "outputs": [],
   "source": [
    "hit_me11 = pd.concat([hit_me11b, hit_me11a])"
   ]
  },
  {
   "cell_type": "code",
   "execution_count": 48,
   "metadata": {
    "ExecuteTime": {
     "end_time": "2019-05-29T15:21:01.302893Z",
     "start_time": "2019-05-29T15:21:01.225150Z"
    }
   },
   "outputs": [],
   "source": [
    "hit_me11 = hit_me11.sort_values(by=['ve_id'])"
   ]
  },
  {
   "cell_type": "code",
   "execution_count": 49,
   "metadata": {
    "ExecuteTime": {
     "end_time": "2019-05-29T15:21:05.012572Z",
     "start_time": "2019-05-29T15:21:05.006691Z"
    }
   },
   "outputs": [],
   "source": [
    "hit_me11_sel = hit_me11[['ve_id', \n",
    "                       'delta_theta', \n",
    "                       'delta_phi', \n",
    "                       'delta_eta', \n",
    "                       'vh_pattern', \n",
    "                       'vh_quality', \n",
    "                       'vh_bend', \n",
    "                       'vh_fr']]"
   ]
  },
  {
   "cell_type": "code",
   "execution_count": 50,
   "metadata": {
    "ExecuteTime": {
     "end_time": "2019-05-29T15:21:08.956331Z",
     "start_time": "2019-05-29T15:21:08.939414Z"
    }
   },
   "outputs": [],
   "source": [
    "me11_ec1 = hit_me11_sel.drop_duplicates(subset = 've_id', keep = 'first')"
   ]
  },
  {
   "cell_type": "code",
   "execution_count": 51,
   "metadata": {
    "ExecuteTime": {
     "end_time": "2019-05-29T15:21:13.710288Z",
     "start_time": "2019-05-29T15:21:12.759752Z"
    }
   },
   "outputs": [],
   "source": [
    "me11_ec1.to_csv('me11_ec1_minphi.csv')"
   ]
  },
  {
   "cell_type": "markdown",
   "metadata": {},
   "source": [
    "## ME1/2\n",
    "\n",
    "type = 1\n",
    "\n",
    "station = 1\n",
    "\n",
    "ring = 2 or 3"
   ]
  },
  {
   "cell_type": "code",
   "execution_count": 52,
   "metadata": {
    "ExecuteTime": {
     "end_time": "2019-05-29T15:21:17.435304Z",
     "start_time": "2019-05-29T15:21:17.413117Z"
    }
   },
   "outputs": [],
   "source": [
    "hit_me12a = hit_me1[hit_me1['vh_ring']==2]\n",
    "hit_me12b = hit_me1[hit_me1['vh_ring']==3]"
   ]
  },
  {
   "cell_type": "code",
   "execution_count": 53,
   "metadata": {
    "ExecuteTime": {
     "end_time": "2019-05-29T15:21:21.293240Z",
     "start_time": "2019-05-29T15:21:21.267536Z"
    }
   },
   "outputs": [],
   "source": [
    "hit_me12 = pd.concat([hit_me12b, hit_me12a])"
   ]
  },
  {
   "cell_type": "code",
   "execution_count": 54,
   "metadata": {
    "ExecuteTime": {
     "end_time": "2019-05-29T15:21:25.266986Z",
     "start_time": "2019-05-29T15:21:25.223081Z"
    }
   },
   "outputs": [],
   "source": [
    "hit_me12 = hit_me12.sort_values(by=['ve_id'])"
   ]
  },
  {
   "cell_type": "code",
   "execution_count": 55,
   "metadata": {
    "ExecuteTime": {
     "end_time": "2019-05-29T15:21:29.873665Z",
     "start_time": "2019-05-29T15:21:29.867323Z"
    }
   },
   "outputs": [],
   "source": [
    "hit_me12_sel = hit_me12[['ve_id', \n",
    "                       'delta_theta', \n",
    "                       'delta_phi', \n",
    "                       'delta_eta', \n",
    "                       'vh_pattern', \n",
    "                       'vh_quality', \n",
    "                       'vh_bend', \n",
    "                       'vh_fr']]"
   ]
  },
  {
   "cell_type": "code",
   "execution_count": 56,
   "metadata": {
    "ExecuteTime": {
     "end_time": "2019-05-29T15:21:34.576498Z",
     "start_time": "2019-05-29T15:21:34.556835Z"
    }
   },
   "outputs": [],
   "source": [
    "me12_ec1 = hit_me12_sel.drop_duplicates(subset = 've_id', keep = 'first')"
   ]
  },
  {
   "cell_type": "code",
   "execution_count": 57,
   "metadata": {
    "ExecuteTime": {
     "end_time": "2019-05-29T15:21:39.535353Z",
     "start_time": "2019-05-29T15:21:38.740007Z"
    }
   },
   "outputs": [],
   "source": [
    "me12_ec1.to_csv('me12_ec1_minphi.csv')"
   ]
  },
  {
   "cell_type": "markdown",
   "metadata": {},
   "source": [
    "## ME2\n",
    "\n",
    "type = 1\n",
    "\n",
    "station = 2"
   ]
  },
  {
   "cell_type": "code",
   "execution_count": 58,
   "metadata": {
    "ExecuteTime": {
     "end_time": "2019-05-29T15:21:43.724320Z",
     "start_time": "2019-05-29T15:21:43.659261Z"
    }
   },
   "outputs": [],
   "source": [
    "hit_me2 = hit_me[hit_me['vh_station']==2]"
   ]
  },
  {
   "cell_type": "code",
   "execution_count": 59,
   "metadata": {
    "ExecuteTime": {
     "end_time": "2019-05-29T15:21:48.652345Z",
     "start_time": "2019-05-29T15:21:48.644142Z"
    }
   },
   "outputs": [],
   "source": [
    "hit_me2_sel = hit_me2[['ve_id', \n",
    "                       'delta_theta', \n",
    "                       'delta_phi', \n",
    "                       'delta_eta', \n",
    "                       'vh_pattern', \n",
    "                       'vh_quality', \n",
    "                       'vh_bend', \n",
    "                       'vh_fr']]"
   ]
  },
  {
   "cell_type": "code",
   "execution_count": 60,
   "metadata": {
    "ExecuteTime": {
     "end_time": "2019-05-29T15:21:53.198114Z",
     "start_time": "2019-05-29T15:21:53.173991Z"
    }
   },
   "outputs": [],
   "source": [
    "me2_ec1 = hit_me2_sel.drop_duplicates(subset = 've_id', keep = 'first')"
   ]
  },
  {
   "cell_type": "code",
   "execution_count": 61,
   "metadata": {
    "ExecuteTime": {
     "end_time": "2019-05-29T15:21:59.918566Z",
     "start_time": "2019-05-29T15:21:58.425477Z"
    }
   },
   "outputs": [],
   "source": [
    "me2_ec1.to_csv('me2_ec1_minphi.csv')"
   ]
  },
  {
   "cell_type": "markdown",
   "metadata": {},
   "source": [
    "## ME3\n",
    "\n",
    "type = 1\n",
    "\n",
    "station = 3"
   ]
  },
  {
   "cell_type": "code",
   "execution_count": 62,
   "metadata": {
    "ExecuteTime": {
     "end_time": "2019-05-29T15:22:04.574174Z",
     "start_time": "2019-05-29T15:22:04.513672Z"
    }
   },
   "outputs": [],
   "source": [
    "hit_me3 = hit_me[hit_me['vh_station']==3]"
   ]
  },
  {
   "cell_type": "code",
   "execution_count": 63,
   "metadata": {
    "ExecuteTime": {
     "end_time": "2019-05-29T15:22:09.391696Z",
     "start_time": "2019-05-29T15:22:09.384762Z"
    }
   },
   "outputs": [],
   "source": [
    "hit_me3_sel = hit_me3[['ve_id', \n",
    "                       'delta_theta', \n",
    "                       'delta_phi', \n",
    "                       'delta_eta', \n",
    "                       'vh_pattern', \n",
    "                       'vh_quality', \n",
    "                       'vh_bend', \n",
    "                       'vh_fr']]"
   ]
  },
  {
   "cell_type": "code",
   "execution_count": 64,
   "metadata": {
    "ExecuteTime": {
     "end_time": "2019-05-29T15:22:14.455247Z",
     "start_time": "2019-05-29T15:22:14.432709Z"
    }
   },
   "outputs": [],
   "source": [
    "me3_ec1 = hit_me3_sel.drop_duplicates(subset = 've_id', keep = 'first')"
   ]
  },
  {
   "cell_type": "code",
   "execution_count": 65,
   "metadata": {
    "ExecuteTime": {
     "end_time": "2019-05-29T15:22:20.484791Z",
     "start_time": "2019-05-29T15:22:19.112974Z"
    }
   },
   "outputs": [],
   "source": [
    "me3_ec1.to_csv('me3_ec1_minphi.csv')"
   ]
  },
  {
   "cell_type": "markdown",
   "metadata": {},
   "source": [
    "## ME4\n",
    "\n",
    "type = 1\n",
    "\n",
    "station = 4"
   ]
  },
  {
   "cell_type": "code",
   "execution_count": 66,
   "metadata": {
    "ExecuteTime": {
     "end_time": "2019-05-29T15:22:25.358386Z",
     "start_time": "2019-05-29T15:22:25.304193Z"
    }
   },
   "outputs": [],
   "source": [
    "hit_me4 = hit_me[hit_me['vh_station']==4]"
   ]
  },
  {
   "cell_type": "code",
   "execution_count": 67,
   "metadata": {
    "ExecuteTime": {
     "end_time": "2019-05-29T15:22:30.123983Z",
     "start_time": "2019-05-29T15:22:30.117321Z"
    }
   },
   "outputs": [],
   "source": [
    "hit_me4_sel = hit_me4[['ve_id', \n",
    "                       'delta_theta', \n",
    "                       'delta_phi', \n",
    "                       'delta_eta', \n",
    "                       'vh_pattern', \n",
    "                       'vh_quality', \n",
    "                       'vh_bend', \n",
    "                       'vh_fr']]"
   ]
  },
  {
   "cell_type": "code",
   "execution_count": 68,
   "metadata": {
    "ExecuteTime": {
     "end_time": "2019-05-29T15:22:35.338177Z",
     "start_time": "2019-05-29T15:22:35.314447Z"
    }
   },
   "outputs": [],
   "source": [
    "me4_ec1 = hit_me4_sel.drop_duplicates(subset = 've_id', keep = 'first')"
   ]
  },
  {
   "cell_type": "code",
   "execution_count": 69,
   "metadata": {
    "ExecuteTime": {
     "end_time": "2019-05-29T15:22:42.373892Z",
     "start_time": "2019-05-29T15:22:41.083241Z"
    }
   },
   "outputs": [],
   "source": [
    "me4_ec1.to_csv('me4_ec1_minphi.csv')"
   ]
  },
  {
   "cell_type": "markdown",
   "metadata": {},
   "source": [
    "## GE1\n",
    "\n",
    "type = 3\n",
    "\n",
    "station = 1"
   ]
  },
  {
   "cell_type": "markdown",
   "metadata": {},
   "source": [
    "GE"
   ]
  },
  {
   "cell_type": "code",
   "execution_count": 70,
   "metadata": {
    "ExecuteTime": {
     "end_time": "2019-05-29T15:22:48.359128Z",
     "start_time": "2019-05-29T15:22:48.257652Z"
    }
   },
   "outputs": [],
   "source": [
    "hit_ge = hit_ec1[hit_ec1['vh_type']==3]"
   ]
  },
  {
   "cell_type": "markdown",
   "metadata": {},
   "source": [
    "GE1"
   ]
  },
  {
   "cell_type": "code",
   "execution_count": 71,
   "metadata": {
    "ExecuteTime": {
     "end_time": "2019-05-29T15:22:53.378828Z",
     "start_time": "2019-05-29T15:22:53.350795Z"
    }
   },
   "outputs": [],
   "source": [
    "hit_ge1 = hit_ge[hit_ge['vh_station']==1]"
   ]
  },
  {
   "cell_type": "code",
   "execution_count": 72,
   "metadata": {
    "ExecuteTime": {
     "end_time": "2019-05-29T15:22:59.202028Z",
     "start_time": "2019-05-29T15:22:59.195203Z"
    }
   },
   "outputs": [],
   "source": [
    "hit_ge1_sel = hit_ge1[['ve_id', \n",
    "                       'delta_theta', \n",
    "                       'delta_phi', \n",
    "                       'delta_eta', \n",
    "                       'vh_pattern', \n",
    "                       'vh_quality', \n",
    "                       'vh_bend', \n",
    "                       'vh_fr']]"
   ]
  },
  {
   "cell_type": "code",
   "execution_count": 73,
   "metadata": {
    "ExecuteTime": {
     "end_time": "2019-05-29T15:23:04.225938Z",
     "start_time": "2019-05-29T15:23:04.210463Z"
    }
   },
   "outputs": [],
   "source": [
    "ge1_ec1 = hit_ge1_sel.drop_duplicates(subset = 've_id', keep = 'first')"
   ]
  },
  {
   "cell_type": "code",
   "execution_count": 74,
   "metadata": {
    "ExecuteTime": {
     "end_time": "2019-05-29T15:23:09.930589Z",
     "start_time": "2019-05-29T15:23:09.324213Z"
    }
   },
   "outputs": [],
   "source": [
    "ge1_ec1.to_csv('ge1_ec1_minphi.csv')"
   ]
  },
  {
   "cell_type": "markdown",
   "metadata": {},
   "source": [
    "## GE2\n",
    "\n",
    "type = 3\n",
    "\n",
    "station = 2"
   ]
  },
  {
   "cell_type": "markdown",
   "metadata": {},
   "source": [
    "GE2"
   ]
  },
  {
   "cell_type": "code",
   "execution_count": 75,
   "metadata": {
    "ExecuteTime": {
     "end_time": "2019-05-29T15:23:15.882543Z",
     "start_time": "2019-05-29T15:23:15.839529Z"
    }
   },
   "outputs": [],
   "source": [
    "hit_ge2 = hit_ge[hit_ge['vh_station']==2]"
   ]
  },
  {
   "cell_type": "code",
   "execution_count": 76,
   "metadata": {
    "ExecuteTime": {
     "end_time": "2019-05-29T15:23:21.268823Z",
     "start_time": "2019-05-29T15:23:21.261155Z"
    }
   },
   "outputs": [],
   "source": [
    "hit_ge2_sel = hit_ge2[['ve_id', \n",
    "                       'delta_theta', \n",
    "                       'delta_phi', \n",
    "                       'delta_eta', \n",
    "                       'vh_pattern', \n",
    "                       'vh_quality', \n",
    "                       'vh_bend', \n",
    "                       'vh_fr']]"
   ]
  },
  {
   "cell_type": "code",
   "execution_count": 77,
   "metadata": {
    "ExecuteTime": {
     "end_time": "2019-05-29T15:23:26.866967Z",
     "start_time": "2019-05-29T15:23:26.846440Z"
    }
   },
   "outputs": [],
   "source": [
    "ge2_ec1 = hit_ge2_sel.drop_duplicates(subset = 've_id', keep = 'first')"
   ]
  },
  {
   "cell_type": "code",
   "execution_count": 78,
   "metadata": {
    "ExecuteTime": {
     "end_time": "2019-05-29T15:23:33.479224Z",
     "start_time": "2019-05-29T15:23:32.582962Z"
    }
   },
   "outputs": [],
   "source": [
    "ge2_ec1.to_csv('ge2_ec1_minphi.csv')"
   ]
  },
  {
   "cell_type": "markdown",
   "metadata": {},
   "source": [
    "## RE1\n",
    "\n",
    "type = 2\n",
    "\n",
    "station = 1"
   ]
  },
  {
   "cell_type": "markdown",
   "metadata": {},
   "source": [
    "RE"
   ]
  },
  {
   "cell_type": "code",
   "execution_count": 79,
   "metadata": {
    "ExecuteTime": {
     "end_time": "2019-05-29T15:23:39.649790Z",
     "start_time": "2019-05-29T15:23:39.513614Z"
    }
   },
   "outputs": [],
   "source": [
    "hit_re = hit_ec1[hit_ec1['vh_type']==2]"
   ]
  },
  {
   "cell_type": "markdown",
   "metadata": {},
   "source": [
    "RE1"
   ]
  },
  {
   "cell_type": "code",
   "execution_count": 80,
   "metadata": {
    "ExecuteTime": {
     "end_time": "2019-05-29T15:23:45.439426Z",
     "start_time": "2019-05-29T15:23:45.409944Z"
    }
   },
   "outputs": [],
   "source": [
    "hit_re1 = hit_re[hit_re['vh_station']==1]"
   ]
  },
  {
   "cell_type": "code",
   "execution_count": 81,
   "metadata": {
    "ExecuteTime": {
     "end_time": "2019-05-29T15:23:51.141070Z",
     "start_time": "2019-05-29T15:23:51.137151Z"
    }
   },
   "outputs": [],
   "source": [
    "hit_re1_sel = hit_re1[['ve_id', \n",
    "                       'delta_theta', \n",
    "                       'delta_phi', \n",
    "                       'delta_eta', \n",
    "                       'vh_pattern', \n",
    "                       'vh_quality', \n",
    "                       'vh_bend', \n",
    "                       'vh_fr']]"
   ]
  },
  {
   "cell_type": "code",
   "execution_count": 82,
   "metadata": {
    "ExecuteTime": {
     "end_time": "2019-05-29T15:23:56.858300Z",
     "start_time": "2019-05-29T15:23:56.842352Z"
    }
   },
   "outputs": [],
   "source": [
    "re1_ec1 = hit_re1_sel.drop_duplicates(subset = 've_id', keep = 'first')"
   ]
  },
  {
   "cell_type": "code",
   "execution_count": 83,
   "metadata": {
    "ExecuteTime": {
     "end_time": "2019-05-29T15:24:03.383687Z",
     "start_time": "2019-05-29T15:24:02.960067Z"
    }
   },
   "outputs": [],
   "source": [
    "re1_ec1.to_csv('re1_ec1_minphi.csv')"
   ]
  },
  {
   "cell_type": "markdown",
   "metadata": {},
   "source": [
    "## RE2\n",
    "\n",
    "type = 2\n",
    "\n",
    "station = 2"
   ]
  },
  {
   "cell_type": "markdown",
   "metadata": {},
   "source": [
    "RE2"
   ]
  },
  {
   "cell_type": "code",
   "execution_count": 84,
   "metadata": {
    "ExecuteTime": {
     "end_time": "2019-05-29T15:24:08.930376Z",
     "start_time": "2019-05-29T15:24:08.910666Z"
    }
   },
   "outputs": [],
   "source": [
    "hit_re2 = hit_re[hit_re['vh_station']==2]"
   ]
  },
  {
   "cell_type": "code",
   "execution_count": 85,
   "metadata": {
    "ExecuteTime": {
     "end_time": "2019-05-29T15:24:14.584813Z",
     "start_time": "2019-05-29T15:24:14.580315Z"
    }
   },
   "outputs": [],
   "source": [
    "hit_re2_sel = hit_re2[['ve_id', \n",
    "                       'delta_theta', \n",
    "                       'delta_phi', \n",
    "                       'delta_eta', \n",
    "                       'vh_pattern', \n",
    "                       'vh_quality', \n",
    "                       'vh_bend', \n",
    "                       'vh_fr']]"
   ]
  },
  {
   "cell_type": "code",
   "execution_count": 86,
   "metadata": {
    "ExecuteTime": {
     "end_time": "2019-05-29T15:24:20.327822Z",
     "start_time": "2019-05-29T15:24:20.314922Z"
    }
   },
   "outputs": [],
   "source": [
    "re2_ec1 = hit_re2_sel.drop_duplicates(subset = 've_id', keep = 'first')"
   ]
  },
  {
   "cell_type": "code",
   "execution_count": 87,
   "metadata": {
    "ExecuteTime": {
     "end_time": "2019-05-29T15:24:26.358698Z",
     "start_time": "2019-05-29T15:24:25.984464Z"
    }
   },
   "outputs": [],
   "source": [
    "re2_ec1.to_csv('re2_ec1_minphi.csv')"
   ]
  },
  {
   "cell_type": "markdown",
   "metadata": {},
   "source": [
    "## RE3\n",
    "\n",
    "type = 2\n",
    "\n",
    "station = 3"
   ]
  },
  {
   "cell_type": "markdown",
   "metadata": {},
   "source": [
    "RE3"
   ]
  },
  {
   "cell_type": "code",
   "execution_count": 88,
   "metadata": {
    "ExecuteTime": {
     "end_time": "2019-05-29T15:24:32.141204Z",
     "start_time": "2019-05-29T15:24:32.087802Z"
    }
   },
   "outputs": [],
   "source": [
    "hit_re3 = hit_re[hit_re['vh_station']==3]"
   ]
  },
  {
   "cell_type": "code",
   "execution_count": 89,
   "metadata": {
    "ExecuteTime": {
     "end_time": "2019-05-29T15:24:38.005495Z",
     "start_time": "2019-05-29T15:24:37.998130Z"
    }
   },
   "outputs": [],
   "source": [
    "hit_re3_sel = hit_re3[['ve_id', \n",
    "                       'delta_theta', \n",
    "                       'delta_phi', \n",
    "                       'delta_eta', \n",
    "                       'vh_pattern', \n",
    "                       'vh_quality', \n",
    "                       'vh_bend', \n",
    "                       'vh_fr']]"
   ]
  },
  {
   "cell_type": "code",
   "execution_count": 90,
   "metadata": {
    "ExecuteTime": {
     "end_time": "2019-05-29T15:24:43.791544Z",
     "start_time": "2019-05-29T15:24:43.767668Z"
    }
   },
   "outputs": [],
   "source": [
    "re3_ec1 = hit_re3_sel.drop_duplicates(subset = 've_id', keep = 'first')"
   ]
  },
  {
   "cell_type": "code",
   "execution_count": 91,
   "metadata": {
    "ExecuteTime": {
     "end_time": "2019-05-29T15:24:50.854942Z",
     "start_time": "2019-05-29T15:24:49.616533Z"
    }
   },
   "outputs": [],
   "source": [
    "re3_ec1.to_csv('re3_ec1_minphi.csv')"
   ]
  },
  {
   "cell_type": "markdown",
   "metadata": {},
   "source": [
    "## RE4\n",
    "\n",
    "type = 2\n",
    "\n",
    "station = 4"
   ]
  },
  {
   "cell_type": "markdown",
   "metadata": {},
   "source": [
    "RE4"
   ]
  },
  {
   "cell_type": "code",
   "execution_count": 92,
   "metadata": {
    "ExecuteTime": {
     "end_time": "2019-05-29T15:24:56.741967Z",
     "start_time": "2019-05-29T15:24:56.691593Z"
    }
   },
   "outputs": [],
   "source": [
    "hit_re4 = hit_re[hit_re['vh_station']==4]"
   ]
  },
  {
   "cell_type": "code",
   "execution_count": 93,
   "metadata": {
    "ExecuteTime": {
     "end_time": "2019-05-29T15:25:02.682643Z",
     "start_time": "2019-05-29T15:25:02.675710Z"
    }
   },
   "outputs": [],
   "source": [
    "hit_re4_sel = hit_re4[['ve_id', \n",
    "                       'delta_theta', \n",
    "                       'delta_phi', \n",
    "                       'delta_eta', \n",
    "                       'vh_pattern', \n",
    "                       'vh_quality', \n",
    "                       'vh_bend', \n",
    "                       'vh_fr']]"
   ]
  },
  {
   "cell_type": "code",
   "execution_count": 94,
   "metadata": {
    "ExecuteTime": {
     "end_time": "2019-05-29T15:25:08.606747Z",
     "start_time": "2019-05-29T15:25:08.581489Z"
    }
   },
   "outputs": [],
   "source": [
    "re4_ec1 = hit_re4_sel.drop_duplicates(subset = 've_id', keep = 'first')"
   ]
  },
  {
   "cell_type": "code",
   "execution_count": 95,
   "metadata": {
    "ExecuteTime": {
     "end_time": "2019-05-29T15:25:15.742513Z",
     "start_time": "2019-05-29T15:25:14.550346Z"
    }
   },
   "outputs": [],
   "source": [
    "re4_ec1.to_csv('re4_ec1_minphi.csv')"
   ]
  },
  {
   "cell_type": "markdown",
   "metadata": {},
   "source": [
    "## GE1 + ME0"
   ]
  },
  {
   "cell_type": "markdown",
   "metadata": {},
   "source": [
    "Which detector is the hit from?"
   ]
  },
  {
   "cell_type": "code",
   "execution_count": 96,
   "metadata": {
    "ExecuteTime": {
     "end_time": "2019-05-29T15:25:21.735336Z",
     "start_time": "2019-05-29T15:25:21.720048Z"
    }
   },
   "outputs": [],
   "source": [
    "hit_ge1me0 = hit_re[(hit_re['vh_type']==4)|((hit_re['vh_type']==3)&(hit_re['vh_station']==1))]"
   ]
  },
  {
   "cell_type": "code",
   "execution_count": 97,
   "metadata": {
    "ExecuteTime": {
     "end_time": "2019-05-29T15:25:27.634732Z",
     "start_time": "2019-05-29T15:25:27.630247Z"
    }
   },
   "outputs": [],
   "source": [
    "hit_ge1me0_sel = hit_ge1me0[['ve_id', \n",
    "                            'delta_theta', \n",
    "                            'delta_phi', \n",
    "                            'delta_eta', \n",
    "                            'vh_pattern', \n",
    "                            'vh_quality', \n",
    "                            'vh_bend', \n",
    "                            'vh_fr']]"
   ]
  },
  {
   "cell_type": "code",
   "execution_count": 98,
   "metadata": {
    "ExecuteTime": {
     "end_time": "2019-05-29T15:25:33.481546Z",
     "start_time": "2019-05-29T15:25:33.478347Z"
    }
   },
   "outputs": [],
   "source": [
    "ge1me0_ec1 = hit_ge1me0_sel.drop_duplicates(subset = 've_id', keep = 'first')"
   ]
  },
  {
   "cell_type": "markdown",
   "metadata": {},
   "source": [
    "Abandon the above method"
   ]
  },
  {
   "cell_type": "code",
   "execution_count": 99,
   "metadata": {
    "ExecuteTime": {
     "end_time": "2019-05-29T15:25:39.331308Z",
     "start_time": "2019-05-29T15:25:39.328319Z"
    }
   },
   "outputs": [],
   "source": [
    "detectors = [ge1_ec1, me0_ec1]"
   ]
  },
  {
   "cell_type": "code",
   "execution_count": 100,
   "metadata": {
    "ExecuteTime": {
     "end_time": "2019-05-29T15:25:45.262984Z",
     "start_time": "2019-05-29T15:25:45.255311Z"
    }
   },
   "outputs": [],
   "source": [
    "me0ge1_ec1 = pd.concat(detectors)"
   ]
  },
  {
   "cell_type": "code",
   "execution_count": 101,
   "metadata": {
    "ExecuteTime": {
     "end_time": "2019-05-29T15:25:51.241446Z",
     "start_time": "2019-05-29T15:25:51.237768Z"
    }
   },
   "outputs": [
    {
     "data": {
      "text/plain": [
       "(114817, 8)"
      ]
     },
     "execution_count": 101,
     "metadata": {},
     "output_type": "execute_result"
    }
   ],
   "source": [
    "me0ge1_ec1.shape"
   ]
  },
  {
   "cell_type": "code",
   "execution_count": 102,
   "metadata": {
    "ExecuteTime": {
     "end_time": "2019-05-29T15:25:57.215157Z",
     "start_time": "2019-05-29T15:25:57.210774Z"
    }
   },
   "outputs": [],
   "source": [
    "me0ge1_ec1['delta_phi_abs'] = me0ge1_ec1['delta_phi'].abs()"
   ]
  },
  {
   "cell_type": "code",
   "execution_count": 103,
   "metadata": {
    "ExecuteTime": {
     "end_time": "2019-05-29T15:26:03.283852Z",
     "start_time": "2019-05-29T15:26:03.202920Z"
    }
   },
   "outputs": [],
   "source": [
    "me0ge1_ec1 = me0ge1_ec1.sort_values(by=['ve_id', 'delta_phi_abs'])"
   ]
  },
  {
   "cell_type": "code",
   "execution_count": 104,
   "metadata": {
    "ExecuteTime": {
     "end_time": "2019-05-29T15:26:09.331293Z",
     "start_time": "2019-05-29T15:26:09.308870Z"
    }
   },
   "outputs": [],
   "source": [
    "me0ge1_ec1 = me0ge1_ec1.drop_duplicates(subset = 've_id', keep = 'first')"
   ]
  },
  {
   "cell_type": "code",
   "execution_count": 105,
   "metadata": {
    "ExecuteTime": {
     "end_time": "2019-05-29T15:26:16.462619Z",
     "start_time": "2019-05-29T15:26:15.429068Z"
    }
   },
   "outputs": [],
   "source": [
    "me0ge1_ec1.to_csv('me0ge1_ec1_minphi.csv')"
   ]
  },
  {
   "cell_type": "markdown",
   "metadata": {},
   "source": [
    "## GE2 + RE2"
   ]
  },
  {
   "cell_type": "code",
   "execution_count": 106,
   "metadata": {
    "ExecuteTime": {
     "end_time": "2019-05-29T15:26:22.601188Z",
     "start_time": "2019-05-29T15:26:22.598524Z"
    }
   },
   "outputs": [],
   "source": [
    "detectors = [ge2_ec1, re2_ec1]"
   ]
  },
  {
   "cell_type": "code",
   "execution_count": 107,
   "metadata": {
    "ExecuteTime": {
     "end_time": "2019-05-29T15:26:28.629158Z",
     "start_time": "2019-05-29T15:26:28.619597Z"
    }
   },
   "outputs": [],
   "source": [
    "ge2re2_ec1 = pd.concat(detectors)"
   ]
  },
  {
   "cell_type": "code",
   "execution_count": 108,
   "metadata": {
    "ExecuteTime": {
     "end_time": "2019-05-29T15:26:34.698524Z",
     "start_time": "2019-05-29T15:26:34.694487Z"
    }
   },
   "outputs": [
    {
     "data": {
      "text/plain": [
       "(115859, 8)"
      ]
     },
     "execution_count": 108,
     "metadata": {},
     "output_type": "execute_result"
    }
   ],
   "source": [
    "ge2re2_ec1.shape"
   ]
  },
  {
   "cell_type": "code",
   "execution_count": 109,
   "metadata": {
    "ExecuteTime": {
     "end_time": "2019-05-29T15:26:40.781610Z",
     "start_time": "2019-05-29T15:26:40.776575Z"
    }
   },
   "outputs": [],
   "source": [
    "ge2re2_ec1['delta_phi_abs'] = ge2re2_ec1['delta_phi'].abs()"
   ]
  },
  {
   "cell_type": "code",
   "execution_count": 110,
   "metadata": {
    "ExecuteTime": {
     "end_time": "2019-05-29T15:26:46.902780Z",
     "start_time": "2019-05-29T15:26:46.828897Z"
    }
   },
   "outputs": [],
   "source": [
    "ge2re2_ec1 = ge2re2_ec1.sort_values(by=['ve_id', 'delta_phi_abs'])"
   ]
  },
  {
   "cell_type": "code",
   "execution_count": 111,
   "metadata": {
    "ExecuteTime": {
     "end_time": "2019-05-29T15:26:52.983773Z",
     "start_time": "2019-05-29T15:26:52.955668Z"
    }
   },
   "outputs": [],
   "source": [
    "ge2re2_ec1 = ge2re2_ec1.drop_duplicates(subset = 've_id', keep = 'first')"
   ]
  },
  {
   "cell_type": "code",
   "execution_count": 112,
   "metadata": {
    "ExecuteTime": {
     "end_time": "2019-05-29T15:27:00.385896Z",
     "start_time": "2019-05-29T15:26:59.101941Z"
    }
   },
   "outputs": [],
   "source": [
    "ge2re2_ec1.to_csv('ge2re2_ec1_minphi.csv')"
   ]
  },
  {
   "cell_type": "markdown",
   "metadata": {},
   "source": [
    "## RE3/2 + RE3/3"
   ]
  },
  {
   "cell_type": "code",
   "execution_count": 113,
   "metadata": {
    "ExecuteTime": {
     "end_time": "2019-05-29T15:27:06.524245Z",
     "start_time": "2019-05-29T15:27:06.501731Z"
    }
   },
   "outputs": [],
   "source": [
    "hit_re32re33 = hit_re3[hit_re3['vh_ring']!=1]"
   ]
  },
  {
   "cell_type": "code",
   "execution_count": 114,
   "metadata": {
    "ExecuteTime": {
     "end_time": "2019-05-29T15:27:12.711475Z",
     "start_time": "2019-05-29T15:27:12.705460Z"
    }
   },
   "outputs": [],
   "source": [
    "hit_re32re33_sel = hit_re32re33[['ve_id', \n",
    "                                'delta_theta', \n",
    "                                'delta_phi', \n",
    "                                'delta_eta', \n",
    "                                'vh_pattern', \n",
    "                                'vh_quality', \n",
    "                                'vh_bend', \n",
    "                                'vh_fr']]"
   ]
  },
  {
   "cell_type": "code",
   "execution_count": 115,
   "metadata": {
    "ExecuteTime": {
     "end_time": "2019-05-29T15:27:18.911717Z",
     "start_time": "2019-05-29T15:27:18.895009Z"
    }
   },
   "outputs": [],
   "source": [
    "re32re33_ec1 = hit_re32re33_sel.drop_duplicates(subset = 've_id', keep = 'first')"
   ]
  },
  {
   "cell_type": "code",
   "execution_count": 116,
   "metadata": {
    "ExecuteTime": {
     "end_time": "2019-05-29T15:27:25.814320Z",
     "start_time": "2019-05-29T15:27:25.206382Z"
    }
   },
   "outputs": [],
   "source": [
    "re32re33_ec1.to_csv('re32re33_ec1_minphi.csv')"
   ]
  },
  {
   "cell_type": "markdown",
   "metadata": {},
   "source": [
    "## RE4/2 + RE4/3"
   ]
  },
  {
   "cell_type": "code",
   "execution_count": 117,
   "metadata": {
    "ExecuteTime": {
     "end_time": "2019-05-29T15:27:32.111582Z",
     "start_time": "2019-05-29T15:27:32.089814Z"
    }
   },
   "outputs": [],
   "source": [
    "hit_re42re43 = hit_re4[hit_re4['vh_ring']!=1]"
   ]
  },
  {
   "cell_type": "code",
   "execution_count": 118,
   "metadata": {
    "ExecuteTime": {
     "end_time": "2019-05-29T15:27:38.438863Z",
     "start_time": "2019-05-29T15:27:38.433528Z"
    }
   },
   "outputs": [],
   "source": [
    "hit_re42re43_sel = hit_re42re43[['ve_id', \n",
    "                                'delta_theta', \n",
    "                                'delta_phi', \n",
    "                                'delta_eta', \n",
    "                                'vh_pattern', \n",
    "                                'vh_quality', \n",
    "                                'vh_bend', \n",
    "                                'vh_fr']]"
   ]
  },
  {
   "cell_type": "code",
   "execution_count": 119,
   "metadata": {
    "ExecuteTime": {
     "end_time": "2019-05-29T15:27:44.804871Z",
     "start_time": "2019-05-29T15:27:44.791013Z"
    }
   },
   "outputs": [],
   "source": [
    "re42re43_ec1 = hit_re42re43_sel.drop_duplicates(subset = 've_id', keep = 'first')"
   ]
  },
  {
   "cell_type": "code",
   "execution_count": 120,
   "metadata": {
    "ExecuteTime": {
     "end_time": "2019-05-29T15:27:51.816732Z",
     "start_time": "2019-05-29T15:27:51.187300Z"
    }
   },
   "outputs": [],
   "source": [
    "re42re43_ec1.to_csv('re42re43_ec1_minphi.csv')"
   ]
  },
  {
   "cell_type": "markdown",
   "metadata": {},
   "source": [
    "# Track Variables"
   ]
  },
  {
   "cell_type": "markdown",
   "metadata": {},
   "source": [
    "## Medians"
   ]
  },
  {
   "cell_type": "code",
   "execution_count": 22,
   "metadata": {
    "ExecuteTime": {
     "end_time": "2019-05-29T20:03:58.171810Z",
     "start_time": "2019-05-29T20:03:58.139677Z"
    }
   },
   "outputs": [],
   "source": [
    "medians = hit_ec1[['ve_id', 'theta_median', 'phi_median', 'eta_median', 'median_virtual_station']]"
   ]
  },
  {
   "cell_type": "code",
   "execution_count": 23,
   "metadata": {
    "ExecuteTime": {
     "end_time": "2019-05-29T20:03:59.538044Z",
     "start_time": "2019-05-29T20:03:59.343636Z"
    }
   },
   "outputs": [],
   "source": [
    "medians = medians.drop_duplicates(subset = 've_id', keep = 'first')"
   ]
  },
  {
   "cell_type": "code",
   "execution_count": 28,
   "metadata": {
    "ExecuteTime": {
     "end_time": "2019-05-29T20:06:41.918794Z",
     "start_time": "2019-05-29T20:06:41.912695Z"
    }
   },
   "outputs": [
    {
     "data": {
      "text/plain": [
       "0               0\n",
       "15              1\n",
       "38              2\n",
       "70              3\n",
       "90              4\n",
       "134             5\n",
       "156             6\n",
       "170             7\n",
       "186             9\n",
       "201            10\n",
       "215            11\n",
       "225            12\n",
       "262            13\n",
       "280            14\n",
       "297            15\n",
       "319            16\n",
       "338            17\n",
       "357            18\n",
       "384            19\n",
       "399            20\n",
       "403            21\n",
       "428            22\n",
       "438            23\n",
       "453            24\n",
       "477            25\n",
       "493            26\n",
       "507            27\n",
       "523            28\n",
       "541            29\n",
       "563            30\n",
       "            ...  \n",
       "3239636    163707\n",
       "3239678    163708\n",
       "3239690    163709\n",
       "3239723    163710\n",
       "3239737    163711\n",
       "3239752    163712\n",
       "3239789    163713\n",
       "3239809    163714\n",
       "3239833    163715\n",
       "3239846    163716\n",
       "3239850    163717\n",
       "3239856    163718\n",
       "3239879    163719\n",
       "3239919    163720\n",
       "3239930    163721\n",
       "3239955    163722\n",
       "3239969    163723\n",
       "3239982    163724\n",
       "3239999    163725\n",
       "3240013    163726\n",
       "3240040    163727\n",
       "3240056    163728\n",
       "3240072    163729\n",
       "3240089    163730\n",
       "3240093    163731\n",
       "3240108    163732\n",
       "3240127    163733\n",
       "3240143    163734\n",
       "3240158    163735\n",
       "3240165    163736\n",
       "Name: ve_id, Length: 163472, dtype: int64"
      ]
     },
     "execution_count": 28,
     "metadata": {},
     "output_type": "execute_result"
    }
   ],
   "source": [
    "medians['ve_id']"
   ]
  },
  {
   "cell_type": "markdown",
   "metadata": {},
   "source": [
    "# Merge Track"
   ]
  },
  {
   "cell_type": "markdown",
   "metadata": {},
   "source": [
    "## Join 4 station data\n",
    "\n",
    "ME1 ME2 ME3 ME4"
   ]
  },
  {
   "cell_type": "code",
   "execution_count": 150,
   "metadata": {
    "ExecuteTime": {
     "end_time": "2019-05-12T10:41:16.609087Z",
     "start_time": "2019-05-12T10:41:16.604716Z"
    }
   },
   "outputs": [],
   "source": [
    "index = pd.DataFrame(np.arange(1, 163737, dtype=np.int32), columns = ['ve_id'])"
   ]
  },
  {
   "cell_type": "code",
   "execution_count": 151,
   "metadata": {
    "ExecuteTime": {
     "end_time": "2019-05-12T10:41:19.444685Z",
     "start_time": "2019-05-12T10:41:19.070003Z"
    }
   },
   "outputs": [
    {
     "name": "stderr",
     "output_type": "stream",
     "text": [
      "/anaconda3/lib/python3.6/site-packages/ipykernel_launcher.py:1: SettingWithCopyWarning: \n",
      "A value is trying to be set on a copy of a slice from a DataFrame.\n",
      "Try using .loc[row_indexer,col_indexer] = value instead\n",
      "\n",
      "See the caveats in the documentation: http://pandas.pydata.org/pandas-docs/stable/indexing.html#indexing-view-versus-copy\n",
      "  \"\"\"Entry point for launching an IPython kernel.\n",
      "/anaconda3/lib/python3.6/site-packages/ipykernel_launcher.py:2: SettingWithCopyWarning: \n",
      "A value is trying to be set on a copy of a slice from a DataFrame.\n",
      "Try using .loc[row_indexer,col_indexer] = value instead\n",
      "\n",
      "See the caveats in the documentation: http://pandas.pydata.org/pandas-docs/stable/indexing.html#indexing-view-versus-copy\n",
      "  \n",
      "/anaconda3/lib/python3.6/site-packages/ipykernel_launcher.py:3: SettingWithCopyWarning: \n",
      "A value is trying to be set on a copy of a slice from a DataFrame.\n",
      "Try using .loc[row_indexer,col_indexer] = value instead\n",
      "\n",
      "See the caveats in the documentation: http://pandas.pydata.org/pandas-docs/stable/indexing.html#indexing-view-versus-copy\n",
      "  This is separate from the ipykernel package so we can avoid doing imports until\n",
      "/anaconda3/lib/python3.6/site-packages/ipykernel_launcher.py:4: SettingWithCopyWarning: \n",
      "A value is trying to be set on a copy of a slice from a DataFrame.\n",
      "Try using .loc[row_indexer,col_indexer] = value instead\n",
      "\n",
      "See the caveats in the documentation: http://pandas.pydata.org/pandas-docs/stable/indexing.html#indexing-view-versus-copy\n",
      "  after removing the cwd from sys.path.\n"
     ]
    }
   ],
   "source": [
    "me1_ec1['exist'] = 1\n",
    "me2_ec1['exist'] = 1\n",
    "me3_ec1['exist'] = 1\n",
    "me4_ec1['exist'] = 1"
   ]
  },
  {
   "cell_type": "code",
   "execution_count": 152,
   "metadata": {
    "ExecuteTime": {
     "end_time": "2019-05-12T10:41:26.098117Z",
     "start_time": "2019-05-12T10:41:26.044809Z"
    }
   },
   "outputs": [],
   "source": [
    "tracks = index.join(me1_ec1.set_index('ve_id'), on='ve_id')"
   ]
  },
  {
   "cell_type": "code",
   "execution_count": 153,
   "metadata": {
    "ExecuteTime": {
     "end_time": "2019-05-12T10:41:28.902152Z",
     "start_time": "2019-05-12T10:41:28.771160Z"
    }
   },
   "outputs": [],
   "source": [
    "tracks = tracks.join(me2_ec1.set_index('ve_id'), on='ve_id', rsuffix='_me2')\n",
    "tracks = tracks.join(me3_ec1.set_index('ve_id'), on='ve_id', rsuffix='_me3')\n",
    "tracks = tracks.join(me4_ec1.set_index('ve_id'), on='ve_id', rsuffix='_me4')"
   ]
  },
  {
   "cell_type": "code",
   "execution_count": 155,
   "metadata": {
    "ExecuteTime": {
     "end_time": "2019-05-12T10:47:44.497647Z",
     "start_time": "2019-05-12T10:47:44.483748Z"
    }
   },
   "outputs": [],
   "source": [
    "tracks['hit_count'] = tracks['exist'].fillna(0) + tracks['exist_me2'].fillna(0) + tracks['exist_me3'].fillna(0) + tracks['exist_me4'].fillna(0)"
   ]
  },
  {
   "cell_type": "code",
   "execution_count": 156,
   "metadata": {
    "ExecuteTime": {
     "end_time": "2019-05-12T10:48:26.366831Z",
     "start_time": "2019-05-12T10:48:26.353249Z"
    }
   },
   "outputs": [
    {
     "data": {
      "text/plain": [
       "4.0    94542\n",
       "3.0    43324\n",
       "2.0    21104\n",
       "1.0     4327\n",
       "0.0      439\n",
       "Name: hit_count, dtype: int64"
      ]
     },
     "execution_count": 156,
     "metadata": {},
     "output_type": "execute_result"
    }
   ],
   "source": [
    "tracks['hit_count'].value_counts()"
   ]
  },
  {
   "cell_type": "markdown",
   "metadata": {},
   "source": [
    "## Join 12 station data"
   ]
  },
  {
   "cell_type": "code",
   "execution_count": 198,
   "metadata": {
    "ExecuteTime": {
     "end_time": "2019-05-12T23:21:43.806129Z",
     "start_time": "2019-05-12T23:21:43.802190Z"
    }
   },
   "outputs": [],
   "source": [
    "index = pd.DataFrame(np.arange(1, 163737, dtype=np.int32), columns = ['ve_id'])"
   ]
  },
  {
   "cell_type": "code",
   "execution_count": 202,
   "metadata": {
    "ExecuteTime": {
     "end_time": "2019-05-12T23:24:07.694726Z",
     "start_time": "2019-05-12T23:24:06.854192Z"
    },
    "scrolled": true
   },
   "outputs": [
    {
     "name": "stderr",
     "output_type": "stream",
     "text": [
      "/anaconda3/lib/python3.6/site-packages/ipykernel_launcher.py:1: SettingWithCopyWarning: \n",
      "A value is trying to be set on a copy of a slice from a DataFrame.\n",
      "Try using .loc[row_indexer,col_indexer] = value instead\n",
      "\n",
      "See the caveats in the documentation: http://pandas.pydata.org/pandas-docs/stable/indexing.html#indexing-view-versus-copy\n",
      "  \"\"\"Entry point for launching an IPython kernel.\n",
      "/anaconda3/lib/python3.6/site-packages/ipykernel_launcher.py:2: SettingWithCopyWarning: \n",
      "A value is trying to be set on a copy of a slice from a DataFrame.\n",
      "Try using .loc[row_indexer,col_indexer] = value instead\n",
      "\n",
      "See the caveats in the documentation: http://pandas.pydata.org/pandas-docs/stable/indexing.html#indexing-view-versus-copy\n",
      "  \n",
      "/anaconda3/lib/python3.6/site-packages/ipykernel_launcher.py:3: SettingWithCopyWarning: \n",
      "A value is trying to be set on a copy of a slice from a DataFrame.\n",
      "Try using .loc[row_indexer,col_indexer] = value instead\n",
      "\n",
      "See the caveats in the documentation: http://pandas.pydata.org/pandas-docs/stable/indexing.html#indexing-view-versus-copy\n",
      "  This is separate from the ipykernel package so we can avoid doing imports until\n",
      "/anaconda3/lib/python3.6/site-packages/ipykernel_launcher.py:4: SettingWithCopyWarning: \n",
      "A value is trying to be set on a copy of a slice from a DataFrame.\n",
      "Try using .loc[row_indexer,col_indexer] = value instead\n",
      "\n",
      "See the caveats in the documentation: http://pandas.pydata.org/pandas-docs/stable/indexing.html#indexing-view-versus-copy\n",
      "  after removing the cwd from sys.path.\n",
      "/anaconda3/lib/python3.6/site-packages/ipykernel_launcher.py:5: SettingWithCopyWarning: \n",
      "A value is trying to be set on a copy of a slice from a DataFrame.\n",
      "Try using .loc[row_indexer,col_indexer] = value instead\n",
      "\n",
      "See the caveats in the documentation: http://pandas.pydata.org/pandas-docs/stable/indexing.html#indexing-view-versus-copy\n",
      "  \"\"\"\n",
      "/anaconda3/lib/python3.6/site-packages/ipykernel_launcher.py:6: SettingWithCopyWarning: \n",
      "A value is trying to be set on a copy of a slice from a DataFrame.\n",
      "Try using .loc[row_indexer,col_indexer] = value instead\n",
      "\n",
      "See the caveats in the documentation: http://pandas.pydata.org/pandas-docs/stable/indexing.html#indexing-view-versus-copy\n",
      "  \n",
      "/anaconda3/lib/python3.6/site-packages/ipykernel_launcher.py:7: SettingWithCopyWarning: \n",
      "A value is trying to be set on a copy of a slice from a DataFrame.\n",
      "Try using .loc[row_indexer,col_indexer] = value instead\n",
      "\n",
      "See the caveats in the documentation: http://pandas.pydata.org/pandas-docs/stable/indexing.html#indexing-view-versus-copy\n",
      "  import sys\n",
      "/anaconda3/lib/python3.6/site-packages/ipykernel_launcher.py:8: SettingWithCopyWarning: \n",
      "A value is trying to be set on a copy of a slice from a DataFrame.\n",
      "Try using .loc[row_indexer,col_indexer] = value instead\n",
      "\n",
      "See the caveats in the documentation: http://pandas.pydata.org/pandas-docs/stable/indexing.html#indexing-view-versus-copy\n",
      "  \n",
      "/anaconda3/lib/python3.6/site-packages/ipykernel_launcher.py:9: SettingWithCopyWarning: \n",
      "A value is trying to be set on a copy of a slice from a DataFrame.\n",
      "Try using .loc[row_indexer,col_indexer] = value instead\n",
      "\n",
      "See the caveats in the documentation: http://pandas.pydata.org/pandas-docs/stable/indexing.html#indexing-view-versus-copy\n",
      "  if __name__ == '__main__':\n",
      "/anaconda3/lib/python3.6/site-packages/ipykernel_launcher.py:10: SettingWithCopyWarning: \n",
      "A value is trying to be set on a copy of a slice from a DataFrame.\n",
      "Try using .loc[row_indexer,col_indexer] = value instead\n",
      "\n",
      "See the caveats in the documentation: http://pandas.pydata.org/pandas-docs/stable/indexing.html#indexing-view-versus-copy\n",
      "  # Remove the CWD from sys.path while we load stuff.\n",
      "/anaconda3/lib/python3.6/site-packages/ipykernel_launcher.py:11: SettingWithCopyWarning: \n",
      "A value is trying to be set on a copy of a slice from a DataFrame.\n",
      "Try using .loc[row_indexer,col_indexer] = value instead\n",
      "\n",
      "See the caveats in the documentation: http://pandas.pydata.org/pandas-docs/stable/indexing.html#indexing-view-versus-copy\n",
      "  # This is added back by InteractiveShellApp.init_path()\n",
      "/anaconda3/lib/python3.6/site-packages/ipykernel_launcher.py:12: SettingWithCopyWarning: \n",
      "A value is trying to be set on a copy of a slice from a DataFrame.\n",
      "Try using .loc[row_indexer,col_indexer] = value instead\n",
      "\n",
      "See the caveats in the documentation: http://pandas.pydata.org/pandas-docs/stable/indexing.html#indexing-view-versus-copy\n",
      "  if sys.path[0] == '':\n"
     ]
    }
   ],
   "source": [
    "me0_ec1['exist'] = 1\n",
    "me11_ec1['exist'] = 1\n",
    "me12_ec1['exist'] = 1\n",
    "me2_ec1['exist'] = 1\n",
    "me3_ec1['exist'] = 1\n",
    "me4_ec1['exist'] = 1\n",
    "ge1_ec1['exist'] = 1\n",
    "ge2_ec1['exist'] = 1\n",
    "re1_ec1['exist'] = 1\n",
    "re2_ec1['exist'] = 1\n",
    "re3_ec1['exist'] = 1\n",
    "re4_ec1['exist'] = 1"
   ]
  },
  {
   "cell_type": "code",
   "execution_count": 203,
   "metadata": {
    "ExecuteTime": {
     "end_time": "2019-05-12T23:27:10.615764Z",
     "start_time": "2019-05-12T23:27:10.559756Z"
    }
   },
   "outputs": [],
   "source": [
    "tracks = index.join(me0_ec1.set_index('ve_id'), on='ve_id')"
   ]
  },
  {
   "cell_type": "code",
   "execution_count": 204,
   "metadata": {
    "ExecuteTime": {
     "end_time": "2019-05-12T23:27:15.182083Z",
     "start_time": "2019-05-12T23:27:14.477557Z"
    }
   },
   "outputs": [],
   "source": [
    "tracks = tracks.join(me11_ec1.set_index('ve_id'), on='ve_id', rsuffix='_me11')\n",
    "tracks = tracks.join(me12_ec1.set_index('ve_id'), on='ve_id', rsuffix='_me12')\n",
    "tracks = tracks.join(me2_ec1.set_index('ve_id'), on='ve_id', rsuffix='_me2')\n",
    "tracks = tracks.join(me3_ec1.set_index('ve_id'), on='ve_id', rsuffix='_me3')\n",
    "tracks = tracks.join(me4_ec1.set_index('ve_id'), on='ve_id', rsuffix='_me4')\n",
    "tracks = tracks.join(ge1_ec1.set_index('ve_id'), on='ve_id', rsuffix='_ge1')\n",
    "tracks = tracks.join(ge2_ec1.set_index('ve_id'), on='ve_id', rsuffix='_ge2')\n",
    "tracks = tracks.join(re1_ec1.set_index('ve_id'), on='ve_id', rsuffix='_re1')\n",
    "tracks = tracks.join(re2_ec1.set_index('ve_id'), on='ve_id', rsuffix='_re2')\n",
    "tracks = tracks.join(re3_ec1.set_index('ve_id'), on='ve_id', rsuffix='_re3')\n",
    "tracks = tracks.join(re4_ec1.set_index('ve_id'), on='ve_id', rsuffix='_re4')"
   ]
  },
  {
   "cell_type": "markdown",
   "metadata": {},
   "source": [
    "Create a column to indicate hit counts."
   ]
  },
  {
   "cell_type": "code",
   "execution_count": 205,
   "metadata": {
    "ExecuteTime": {
     "end_time": "2019-05-12T23:29:02.048636Z",
     "start_time": "2019-05-12T23:29:02.011569Z"
    }
   },
   "outputs": [],
   "source": [
    "tracks['hit_count'] = (tracks['exist'].fillna(0) + \n",
    "                       tracks['exist_me11'].fillna(0) + \n",
    "                       tracks['exist_me12'].fillna(0) + \n",
    "                       tracks['exist_me2'].fillna(0) + \n",
    "                       tracks['exist_me3'].fillna(0) + \n",
    "                       tracks['exist_me4'].fillna(0) + \n",
    "                       tracks['exist_ge1'].fillna(0) + \n",
    "                       tracks['exist_ge2'].fillna(0) + \n",
    "                       tracks['exist_re1'].fillna(0) +\n",
    "                       tracks['exist_re2'].fillna(0) +\n",
    "                       tracks['exist_re3'].fillna(0) +\n",
    "                       tracks['exist_re4'].fillna(0))"
   ]
  },
  {
   "cell_type": "code",
   "execution_count": 206,
   "metadata": {
    "ExecuteTime": {
     "end_time": "2019-05-12T23:29:05.926578Z",
     "start_time": "2019-05-12T23:29:05.914541Z"
    }
   },
   "outputs": [
    {
     "data": {
      "text/plain": [
       "8.0     54178\n",
       "7.0     45933\n",
       "6.0     20137\n",
       "9.0     13967\n",
       "2.0     10422\n",
       "5.0      6585\n",
       "3.0      5491\n",
       "1.0      3273\n",
       "4.0      3136\n",
       "10.0      364\n",
       "0.0       247\n",
       "11.0        3\n",
       "Name: hit_count, dtype: int64"
      ]
     },
     "execution_count": 206,
     "metadata": {},
     "output_type": "execute_result"
    }
   ],
   "source": [
    "tracks['hit_count'].value_counts()"
   ]
  },
  {
   "cell_type": "markdown",
   "metadata": {},
   "source": [
    "## Join ALL MEGA Station Data"
   ]
  },
  {
   "cell_type": "code",
   "execution_count": 25,
   "metadata": {
    "ExecuteTime": {
     "end_time": "2019-05-29T20:04:56.334371Z",
     "start_time": "2019-05-29T20:04:53.872672Z"
    }
   },
   "outputs": [],
   "source": [
    "me0_ec1 = pd.read_csv('me0_ec1_minphi.csv', index_col = 0)\n",
    "me1_ec1 = pd.read_csv('me1_ec1_minphi.csv', index_col = 0)\n",
    "me11_ec1 = pd.read_csv('me11_ec1_minphi.csv', index_col = 0)\n",
    "me12_ec1 = pd.read_csv('me12_ec1_minphi.csv', index_col = 0)\n",
    "me2_ec1 = pd.read_csv('me2_ec1_minphi.csv', index_col = 0)\n",
    "me3_ec1 = pd.read_csv('me3_ec1_minphi.csv', index_col = 0)\n",
    "me4_ec1 = pd.read_csv('me4_ec1_minphi.csv', index_col = 0)\n",
    "ge1_ec1 = pd.read_csv('ge1_ec1_minphi.csv', index_col = 0)\n",
    "ge2_ec1 = pd.read_csv('ge2_ec1_minphi.csv', index_col = 0)\n",
    "re1_ec1 = pd.read_csv('re1_ec1_minphi.csv', index_col = 0)\n",
    "re2_ec1 = pd.read_csv('re2_ec1_minphi.csv', index_col = 0)\n",
    "re3_ec1 = pd.read_csv('re3_ec1_minphi.csv', index_col = 0)\n",
    "re4_ec1 = pd.read_csv('re4_ec1_minphi.csv', index_col = 0)\n",
    "ge1me0_ec1 = pd.read_csv('me0ge1_ec1_minphi.csv', index_col = 0)\n",
    "ge2re2_ec1 = pd.read_csv('ge2re2_ec1_minphi.csv', index_col = 0)\n",
    "re32re33_ec1 = pd.read_csv('re32re33_ec1_minphi.csv', index_col = 0)\n",
    "re42re43_ec1 = pd.read_csv('re42re43_ec1_minphi.csv', index_col = 0)"
   ]
  },
  {
   "cell_type": "code",
   "execution_count": 33,
   "metadata": {
    "ExecuteTime": {
     "end_time": "2019-05-29T20:07:41.137550Z",
     "start_time": "2019-05-29T20:07:41.133462Z"
    }
   },
   "outputs": [],
   "source": [
    "index = pd.DataFrame(np.arange(0, 163737, dtype=np.int32), columns = ['ve_id'])"
   ]
  },
  {
   "cell_type": "code",
   "execution_count": 34,
   "metadata": {
    "ExecuteTime": {
     "end_time": "2019-05-29T20:07:42.845974Z",
     "start_time": "2019-05-29T20:07:42.835959Z"
    }
   },
   "outputs": [
    {
     "data": {
      "text/html": [
       "<div>\n",
       "<style scoped>\n",
       "    .dataframe tbody tr th:only-of-type {\n",
       "        vertical-align: middle;\n",
       "    }\n",
       "\n",
       "    .dataframe tbody tr th {\n",
       "        vertical-align: top;\n",
       "    }\n",
       "\n",
       "    .dataframe thead th {\n",
       "        text-align: right;\n",
       "    }\n",
       "</style>\n",
       "<table border=\"1\" class=\"dataframe\">\n",
       "  <thead>\n",
       "    <tr style=\"text-align: right;\">\n",
       "      <th></th>\n",
       "      <th>ve_id</th>\n",
       "    </tr>\n",
       "  </thead>\n",
       "  <tbody>\n",
       "    <tr>\n",
       "      <th>0</th>\n",
       "      <td>0</td>\n",
       "    </tr>\n",
       "    <tr>\n",
       "      <th>1</th>\n",
       "      <td>1</td>\n",
       "    </tr>\n",
       "    <tr>\n",
       "      <th>2</th>\n",
       "      <td>2</td>\n",
       "    </tr>\n",
       "    <tr>\n",
       "      <th>3</th>\n",
       "      <td>3</td>\n",
       "    </tr>\n",
       "    <tr>\n",
       "      <th>4</th>\n",
       "      <td>4</td>\n",
       "    </tr>\n",
       "    <tr>\n",
       "      <th>5</th>\n",
       "      <td>5</td>\n",
       "    </tr>\n",
       "    <tr>\n",
       "      <th>6</th>\n",
       "      <td>6</td>\n",
       "    </tr>\n",
       "    <tr>\n",
       "      <th>7</th>\n",
       "      <td>7</td>\n",
       "    </tr>\n",
       "    <tr>\n",
       "      <th>8</th>\n",
       "      <td>8</td>\n",
       "    </tr>\n",
       "    <tr>\n",
       "      <th>9</th>\n",
       "      <td>9</td>\n",
       "    </tr>\n",
       "    <tr>\n",
       "      <th>10</th>\n",
       "      <td>10</td>\n",
       "    </tr>\n",
       "    <tr>\n",
       "      <th>11</th>\n",
       "      <td>11</td>\n",
       "    </tr>\n",
       "    <tr>\n",
       "      <th>12</th>\n",
       "      <td>12</td>\n",
       "    </tr>\n",
       "    <tr>\n",
       "      <th>13</th>\n",
       "      <td>13</td>\n",
       "    </tr>\n",
       "    <tr>\n",
       "      <th>14</th>\n",
       "      <td>14</td>\n",
       "    </tr>\n",
       "    <tr>\n",
       "      <th>15</th>\n",
       "      <td>15</td>\n",
       "    </tr>\n",
       "    <tr>\n",
       "      <th>16</th>\n",
       "      <td>16</td>\n",
       "    </tr>\n",
       "    <tr>\n",
       "      <th>17</th>\n",
       "      <td>17</td>\n",
       "    </tr>\n",
       "    <tr>\n",
       "      <th>18</th>\n",
       "      <td>18</td>\n",
       "    </tr>\n",
       "    <tr>\n",
       "      <th>19</th>\n",
       "      <td>19</td>\n",
       "    </tr>\n",
       "    <tr>\n",
       "      <th>20</th>\n",
       "      <td>20</td>\n",
       "    </tr>\n",
       "    <tr>\n",
       "      <th>21</th>\n",
       "      <td>21</td>\n",
       "    </tr>\n",
       "    <tr>\n",
       "      <th>22</th>\n",
       "      <td>22</td>\n",
       "    </tr>\n",
       "    <tr>\n",
       "      <th>23</th>\n",
       "      <td>23</td>\n",
       "    </tr>\n",
       "    <tr>\n",
       "      <th>24</th>\n",
       "      <td>24</td>\n",
       "    </tr>\n",
       "    <tr>\n",
       "      <th>25</th>\n",
       "      <td>25</td>\n",
       "    </tr>\n",
       "    <tr>\n",
       "      <th>26</th>\n",
       "      <td>26</td>\n",
       "    </tr>\n",
       "    <tr>\n",
       "      <th>27</th>\n",
       "      <td>27</td>\n",
       "    </tr>\n",
       "    <tr>\n",
       "      <th>28</th>\n",
       "      <td>28</td>\n",
       "    </tr>\n",
       "    <tr>\n",
       "      <th>29</th>\n",
       "      <td>29</td>\n",
       "    </tr>\n",
       "    <tr>\n",
       "      <th>...</th>\n",
       "      <td>...</td>\n",
       "    </tr>\n",
       "    <tr>\n",
       "      <th>163707</th>\n",
       "      <td>163707</td>\n",
       "    </tr>\n",
       "    <tr>\n",
       "      <th>163708</th>\n",
       "      <td>163708</td>\n",
       "    </tr>\n",
       "    <tr>\n",
       "      <th>163709</th>\n",
       "      <td>163709</td>\n",
       "    </tr>\n",
       "    <tr>\n",
       "      <th>163710</th>\n",
       "      <td>163710</td>\n",
       "    </tr>\n",
       "    <tr>\n",
       "      <th>163711</th>\n",
       "      <td>163711</td>\n",
       "    </tr>\n",
       "    <tr>\n",
       "      <th>163712</th>\n",
       "      <td>163712</td>\n",
       "    </tr>\n",
       "    <tr>\n",
       "      <th>163713</th>\n",
       "      <td>163713</td>\n",
       "    </tr>\n",
       "    <tr>\n",
       "      <th>163714</th>\n",
       "      <td>163714</td>\n",
       "    </tr>\n",
       "    <tr>\n",
       "      <th>163715</th>\n",
       "      <td>163715</td>\n",
       "    </tr>\n",
       "    <tr>\n",
       "      <th>163716</th>\n",
       "      <td>163716</td>\n",
       "    </tr>\n",
       "    <tr>\n",
       "      <th>163717</th>\n",
       "      <td>163717</td>\n",
       "    </tr>\n",
       "    <tr>\n",
       "      <th>163718</th>\n",
       "      <td>163718</td>\n",
       "    </tr>\n",
       "    <tr>\n",
       "      <th>163719</th>\n",
       "      <td>163719</td>\n",
       "    </tr>\n",
       "    <tr>\n",
       "      <th>163720</th>\n",
       "      <td>163720</td>\n",
       "    </tr>\n",
       "    <tr>\n",
       "      <th>163721</th>\n",
       "      <td>163721</td>\n",
       "    </tr>\n",
       "    <tr>\n",
       "      <th>163722</th>\n",
       "      <td>163722</td>\n",
       "    </tr>\n",
       "    <tr>\n",
       "      <th>163723</th>\n",
       "      <td>163723</td>\n",
       "    </tr>\n",
       "    <tr>\n",
       "      <th>163724</th>\n",
       "      <td>163724</td>\n",
       "    </tr>\n",
       "    <tr>\n",
       "      <th>163725</th>\n",
       "      <td>163725</td>\n",
       "    </tr>\n",
       "    <tr>\n",
       "      <th>163726</th>\n",
       "      <td>163726</td>\n",
       "    </tr>\n",
       "    <tr>\n",
       "      <th>163727</th>\n",
       "      <td>163727</td>\n",
       "    </tr>\n",
       "    <tr>\n",
       "      <th>163728</th>\n",
       "      <td>163728</td>\n",
       "    </tr>\n",
       "    <tr>\n",
       "      <th>163729</th>\n",
       "      <td>163729</td>\n",
       "    </tr>\n",
       "    <tr>\n",
       "      <th>163730</th>\n",
       "      <td>163730</td>\n",
       "    </tr>\n",
       "    <tr>\n",
       "      <th>163731</th>\n",
       "      <td>163731</td>\n",
       "    </tr>\n",
       "    <tr>\n",
       "      <th>163732</th>\n",
       "      <td>163732</td>\n",
       "    </tr>\n",
       "    <tr>\n",
       "      <th>163733</th>\n",
       "      <td>163733</td>\n",
       "    </tr>\n",
       "    <tr>\n",
       "      <th>163734</th>\n",
       "      <td>163734</td>\n",
       "    </tr>\n",
       "    <tr>\n",
       "      <th>163735</th>\n",
       "      <td>163735</td>\n",
       "    </tr>\n",
       "    <tr>\n",
       "      <th>163736</th>\n",
       "      <td>163736</td>\n",
       "    </tr>\n",
       "  </tbody>\n",
       "</table>\n",
       "<p>163737 rows × 1 columns</p>\n",
       "</div>"
      ],
      "text/plain": [
       "         ve_id\n",
       "0            0\n",
       "1            1\n",
       "2            2\n",
       "3            3\n",
       "4            4\n",
       "5            5\n",
       "6            6\n",
       "7            7\n",
       "8            8\n",
       "9            9\n",
       "10          10\n",
       "11          11\n",
       "12          12\n",
       "13          13\n",
       "14          14\n",
       "15          15\n",
       "16          16\n",
       "17          17\n",
       "18          18\n",
       "19          19\n",
       "20          20\n",
       "21          21\n",
       "22          22\n",
       "23          23\n",
       "24          24\n",
       "25          25\n",
       "26          26\n",
       "27          27\n",
       "28          28\n",
       "29          29\n",
       "...        ...\n",
       "163707  163707\n",
       "163708  163708\n",
       "163709  163709\n",
       "163710  163710\n",
       "163711  163711\n",
       "163712  163712\n",
       "163713  163713\n",
       "163714  163714\n",
       "163715  163715\n",
       "163716  163716\n",
       "163717  163717\n",
       "163718  163718\n",
       "163719  163719\n",
       "163720  163720\n",
       "163721  163721\n",
       "163722  163722\n",
       "163723  163723\n",
       "163724  163724\n",
       "163725  163725\n",
       "163726  163726\n",
       "163727  163727\n",
       "163728  163728\n",
       "163729  163729\n",
       "163730  163730\n",
       "163731  163731\n",
       "163732  163732\n",
       "163733  163733\n",
       "163734  163734\n",
       "163735  163735\n",
       "163736  163736\n",
       "\n",
       "[163737 rows x 1 columns]"
      ]
     },
     "execution_count": 34,
     "metadata": {},
     "output_type": "execute_result"
    }
   ],
   "source": [
    "index"
   ]
  },
  {
   "cell_type": "code",
   "execution_count": 35,
   "metadata": {
    "ExecuteTime": {
     "end_time": "2019-05-29T20:07:59.950992Z",
     "start_time": "2019-05-29T20:07:59.852207Z"
    },
    "scrolled": true
   },
   "outputs": [],
   "source": [
    "me0_ec1['exist'] = 1\n",
    "me1_ec1['exist'] = 1\n",
    "me11_ec1['exist'] = 1\n",
    "me12_ec1['exist'] = 1\n",
    "me2_ec1['exist'] = 1\n",
    "me3_ec1['exist'] = 1\n",
    "me4_ec1['exist'] = 1\n",
    "ge1_ec1['exist'] = 1\n",
    "ge2_ec1['exist'] = 1\n",
    "re1_ec1['exist'] = 1\n",
    "re2_ec1['exist'] = 1\n",
    "re3_ec1['exist'] = 1\n",
    "re4_ec1['exist'] = 1\n",
    "ge1me0_ec1['exist'] = 1\n",
    "ge2re2_ec1['exist'] = 1\n",
    "re32re33_ec1['exist'] = 1\n",
    "re42re43_ec1['exist'] = 1\n",
    "me0_ec1['exist_name'] = 'me0'\n",
    "me1_ec1['exist_name'] = 'me1'\n",
    "me11_ec1['exist_name'] = 'me11'\n",
    "me12_ec1['exist_name'] = 'me12'\n",
    "me2_ec1['exist_name'] = 'me2'\n",
    "me3_ec1['exist_name'] = 'me3'\n",
    "me4_ec1['exist_name'] = 'me4'\n",
    "ge1_ec1['exist_name'] = 'ge1'\n",
    "ge2_ec1['exist_name'] = 'ge2'\n",
    "re1_ec1['exist_name'] = 're1'\n",
    "re2_ec1['exist_name'] = 're2'\n",
    "re3_ec1['exist_name'] = 're3'\n",
    "re4_ec1['exist_name'] = 're4'\n",
    "ge1me0_ec1['exist_name'] = 'ge1me0'\n",
    "ge2re2_ec1['exist_name'] = 'ge2re2'\n",
    "re32re33_ec1['exist_name'] = 're32re33'\n",
    "re42re43_ec1['exist_name'] = 're42re43'"
   ]
  },
  {
   "cell_type": "code",
   "execution_count": 36,
   "metadata": {
    "ExecuteTime": {
     "end_time": "2019-05-29T20:08:01.882250Z",
     "start_time": "2019-05-29T20:08:01.832848Z"
    }
   },
   "outputs": [],
   "source": [
    "tracks = index.join(me0_ec1.set_index('ve_id'), on='ve_id')"
   ]
  },
  {
   "cell_type": "code",
   "execution_count": 37,
   "metadata": {
    "ExecuteTime": {
     "end_time": "2019-05-29T20:08:05.249527Z",
     "start_time": "2019-05-29T20:08:03.373535Z"
    }
   },
   "outputs": [],
   "source": [
    "tracks = tracks.join(me1_ec1.set_index('ve_id'), on='ve_id', rsuffix='_me1')\n",
    "tracks = tracks.join(me11_ec1.set_index('ve_id'), on='ve_id', rsuffix='_me11')\n",
    "tracks = tracks.join(me12_ec1.set_index('ve_id'), on='ve_id', rsuffix='_me12')\n",
    "tracks = tracks.join(me2_ec1.set_index('ve_id'), on='ve_id', rsuffix='_me2')\n",
    "tracks = tracks.join(me3_ec1.set_index('ve_id'), on='ve_id', rsuffix='_me3')\n",
    "tracks = tracks.join(me4_ec1.set_index('ve_id'), on='ve_id', rsuffix='_me4')\n",
    "tracks = tracks.join(ge1_ec1.set_index('ve_id'), on='ve_id', rsuffix='_ge1')\n",
    "tracks = tracks.join(ge2_ec1.set_index('ve_id'), on='ve_id', rsuffix='_ge2')\n",
    "tracks = tracks.join(re1_ec1.set_index('ve_id'), on='ve_id', rsuffix='_re1')\n",
    "tracks = tracks.join(re2_ec1.set_index('ve_id'), on='ve_id', rsuffix='_re2')\n",
    "tracks = tracks.join(re3_ec1.set_index('ve_id'), on='ve_id', rsuffix='_re3')\n",
    "tracks = tracks.join(re4_ec1.set_index('ve_id'), on='ve_id', rsuffix='_re4')\n",
    "tracks = tracks.join(ge1me0_ec1.set_index('ve_id'), on='ve_id', rsuffix='_ge1me0')\n",
    "tracks = tracks.join(ge2re2_ec1.set_index('ve_id'), on='ve_id', rsuffix='_ge2re2')\n",
    "tracks = tracks.join(re32re33_ec1.set_index('ve_id'), on='ve_id', rsuffix='_re32re33')\n",
    "tracks = tracks.join(re42re43_ec1.set_index('ve_id'), on='ve_id', rsuffix='_re42re43')"
   ]
  },
  {
   "cell_type": "markdown",
   "metadata": {},
   "source": [
    "Did not calculate the total count"
   ]
  },
  {
   "cell_type": "markdown",
   "metadata": {},
   "source": [
    "## Fill NaN"
   ]
  },
  {
   "cell_type": "markdown",
   "metadata": {},
   "source": [
    "## Add Track Variable"
   ]
  },
  {
   "cell_type": "code",
   "execution_count": 39,
   "metadata": {
    "ExecuteTime": {
     "end_time": "2019-05-29T20:08:53.906888Z",
     "start_time": "2019-05-29T20:08:53.725716Z"
    }
   },
   "outputs": [],
   "source": [
    "tracks = tracks.join(medians.set_index('ve_id'), on='ve_id')"
   ]
  },
  {
   "cell_type": "code",
   "execution_count": 120,
   "metadata": {
    "ExecuteTime": {
     "end_time": "2019-05-29T20:39:28.988431Z",
     "start_time": "2019-05-29T20:39:28.960703Z"
    }
   },
   "outputs": [
    {
     "data": {
      "text/html": [
       "<div>\n",
       "<style scoped>\n",
       "    .dataframe tbody tr th:only-of-type {\n",
       "        vertical-align: middle;\n",
       "    }\n",
       "\n",
       "    .dataframe tbody tr th {\n",
       "        vertical-align: top;\n",
       "    }\n",
       "\n",
       "    .dataframe thead th {\n",
       "        text-align: right;\n",
       "    }\n",
       "</style>\n",
       "<table border=\"1\" class=\"dataframe\">\n",
       "  <thead>\n",
       "    <tr style=\"text-align: right;\">\n",
       "      <th></th>\n",
       "      <th>ve_id</th>\n",
       "      <th>delta_theta</th>\n",
       "      <th>delta_phi</th>\n",
       "      <th>delta_eta</th>\n",
       "      <th>vh_pattern</th>\n",
       "      <th>vh_quality</th>\n",
       "      <th>vh_bend</th>\n",
       "      <th>vh_fr</th>\n",
       "      <th>exist</th>\n",
       "      <th>exist_name</th>\n",
       "      <th>...</th>\n",
       "      <th>vh_pattern_re42re43</th>\n",
       "      <th>vh_quality_re42re43</th>\n",
       "      <th>vh_bend_re42re43</th>\n",
       "      <th>vh_fr_re42re43</th>\n",
       "      <th>exist_re42re43</th>\n",
       "      <th>exist_name_re42re43</th>\n",
       "      <th>theta_median</th>\n",
       "      <th>phi_median</th>\n",
       "      <th>eta_median</th>\n",
       "      <th>median_virtual_station</th>\n",
       "    </tr>\n",
       "  </thead>\n",
       "  <tbody>\n",
       "    <tr>\n",
       "      <th>0</th>\n",
       "      <td>0</td>\n",
       "      <td>NaN</td>\n",
       "      <td>NaN</td>\n",
       "      <td>NaN</td>\n",
       "      <td>NaN</td>\n",
       "      <td>NaN</td>\n",
       "      <td>NaN</td>\n",
       "      <td>NaN</td>\n",
       "      <td>NaN</td>\n",
       "      <td>NaN</td>\n",
       "      <td>...</td>\n",
       "      <td>0.0</td>\n",
       "      <td>6.0</td>\n",
       "      <td>-99.0</td>\n",
       "      <td>1.0</td>\n",
       "      <td>1.0</td>\n",
       "      <td>re42re43</td>\n",
       "      <td>22.381725</td>\n",
       "      <td>141.058455</td>\n",
       "      <td>1.620299</td>\n",
       "      <td>7.0</td>\n",
       "    </tr>\n",
       "    <tr>\n",
       "      <th>1</th>\n",
       "      <td>1</td>\n",
       "      <td>-0.344954</td>\n",
       "      <td>0.280825</td>\n",
       "      <td>0.023355</td>\n",
       "      <td>1.0</td>\n",
       "      <td>17.0</td>\n",
       "      <td>-3.0</td>\n",
       "      <td>1.0</td>\n",
       "      <td>1.0</td>\n",
       "      <td>me0</td>\n",
       "      <td>...</td>\n",
       "      <td>NaN</td>\n",
       "      <td>NaN</td>\n",
       "      <td>NaN</td>\n",
       "      <td>NaN</td>\n",
       "      <td>NaN</td>\n",
       "      <td>NaN</td>\n",
       "      <td>15.110317</td>\n",
       "      <td>-141.673995</td>\n",
       "      <td>2.020179</td>\n",
       "      <td>6.0</td>\n",
       "    </tr>\n",
       "    <tr>\n",
       "      <th>2</th>\n",
       "      <td>2</td>\n",
       "      <td>NaN</td>\n",
       "      <td>NaN</td>\n",
       "      <td>NaN</td>\n",
       "      <td>NaN</td>\n",
       "      <td>NaN</td>\n",
       "      <td>NaN</td>\n",
       "      <td>NaN</td>\n",
       "      <td>NaN</td>\n",
       "      <td>NaN</td>\n",
       "      <td>...</td>\n",
       "      <td>0.0</td>\n",
       "      <td>3.0</td>\n",
       "      <td>-99.0</td>\n",
       "      <td>0.0</td>\n",
       "      <td>1.0</td>\n",
       "      <td>re42re43</td>\n",
       "      <td>21.016869</td>\n",
       "      <td>-110.063550</td>\n",
       "      <td>1.684747</td>\n",
       "      <td>6.0</td>\n",
       "    </tr>\n",
       "    <tr>\n",
       "      <th>3</th>\n",
       "      <td>3</td>\n",
       "      <td>0.330953</td>\n",
       "      <td>0.040215</td>\n",
       "      <td>-0.031257</td>\n",
       "      <td>1.0</td>\n",
       "      <td>0.0</td>\n",
       "      <td>0.0</td>\n",
       "      <td>0.0</td>\n",
       "      <td>1.0</td>\n",
       "      <td>me0</td>\n",
       "      <td>...</td>\n",
       "      <td>NaN</td>\n",
       "      <td>NaN</td>\n",
       "      <td>NaN</td>\n",
       "      <td>NaN</td>\n",
       "      <td>NaN</td>\n",
       "      <td>NaN</td>\n",
       "      <td>10.484757</td>\n",
       "      <td>113.099700</td>\n",
       "      <td>2.388656</td>\n",
       "      <td>10.0</td>\n",
       "    </tr>\n",
       "    <tr>\n",
       "      <th>4</th>\n",
       "      <td>4</td>\n",
       "      <td>-0.204488</td>\n",
       "      <td>0.184381</td>\n",
       "      <td>0.015275</td>\n",
       "      <td>1.0</td>\n",
       "      <td>0.0</td>\n",
       "      <td>0.0</td>\n",
       "      <td>0.0</td>\n",
       "      <td>1.0</td>\n",
       "      <td>me0</td>\n",
       "      <td>...</td>\n",
       "      <td>NaN</td>\n",
       "      <td>NaN</td>\n",
       "      <td>NaN</td>\n",
       "      <td>NaN</td>\n",
       "      <td>NaN</td>\n",
       "      <td>NaN</td>\n",
       "      <td>13.612605</td>\n",
       "      <td>47.813921</td>\n",
       "      <td>2.125661</td>\n",
       "      <td>5.0</td>\n",
       "    </tr>\n",
       "  </tbody>\n",
       "</table>\n",
       "<p>5 rows × 160 columns</p>\n",
       "</div>"
      ],
      "text/plain": [
       "   ve_id  delta_theta  delta_phi  delta_eta  vh_pattern  vh_quality  vh_bend  \\\n",
       "0      0          NaN        NaN        NaN         NaN         NaN      NaN   \n",
       "1      1    -0.344954   0.280825   0.023355         1.0        17.0     -3.0   \n",
       "2      2          NaN        NaN        NaN         NaN         NaN      NaN   \n",
       "3      3     0.330953   0.040215  -0.031257         1.0         0.0      0.0   \n",
       "4      4    -0.204488   0.184381   0.015275         1.0         0.0      0.0   \n",
       "\n",
       "   vh_fr  exist exist_name  ...  vh_pattern_re42re43  vh_quality_re42re43  \\\n",
       "0    NaN    NaN        NaN  ...                  0.0                  6.0   \n",
       "1    1.0    1.0        me0  ...                  NaN                  NaN   \n",
       "2    NaN    NaN        NaN  ...                  0.0                  3.0   \n",
       "3    0.0    1.0        me0  ...                  NaN                  NaN   \n",
       "4    0.0    1.0        me0  ...                  NaN                  NaN   \n",
       "\n",
       "   vh_bend_re42re43  vh_fr_re42re43  exist_re42re43  exist_name_re42re43  \\\n",
       "0             -99.0             1.0             1.0             re42re43   \n",
       "1               NaN             NaN             NaN                  NaN   \n",
       "2             -99.0             0.0             1.0             re42re43   \n",
       "3               NaN             NaN             NaN                  NaN   \n",
       "4               NaN             NaN             NaN                  NaN   \n",
       "\n",
       "   theta_median  phi_median eta_median  median_virtual_station  \n",
       "0     22.381725  141.058455   1.620299                     7.0  \n",
       "1     15.110317 -141.673995   2.020179                     6.0  \n",
       "2     21.016869 -110.063550   1.684747                     6.0  \n",
       "3     10.484757  113.099700   2.388656                    10.0  \n",
       "4     13.612605   47.813921   2.125661                     5.0  \n",
       "\n",
       "[5 rows x 160 columns]"
      ]
     },
     "execution_count": 120,
     "metadata": {},
     "output_type": "execute_result"
    }
   ],
   "source": [
    "tracks.head()"
   ]
  },
  {
   "cell_type": "markdown",
   "metadata": {},
   "source": [
    "## Calculate hit counts"
   ]
  },
  {
   "cell_type": "markdown",
   "metadata": {},
   "source": [
    "# Frequent Modes Analysis"
   ]
  },
  {
   "cell_type": "markdown",
   "metadata": {},
   "source": [
    "# Target Value (y)"
   ]
  },
  {
   "cell_type": "code",
   "execution_count": 99,
   "metadata": {
    "ExecuteTime": {
     "end_time": "2019-05-29T20:37:50.210833Z",
     "start_time": "2019-05-29T20:37:50.205512Z"
    },
    "scrolled": true
   },
   "outputs": [
    {
     "data": {
      "text/plain": [
       "array([array([30.163197, 30.163197], dtype=float32),\n",
       "       array([45.87434, 45.87434], dtype=float32),\n",
       "       array([89.10662, 89.10662], dtype=float32), ...,\n",
       "       array([60.514774, 60.514774], dtype=float32),\n",
       "       array([93.74769, 93.74769], dtype=float32),\n",
       "       array([2.8926315, 2.8926315], dtype=float32)], dtype=object)"
      ]
     },
     "execution_count": 99,
     "metadata": {},
     "output_type": "execute_result"
    }
   ],
   "source": [
    "data['vp_pt']"
   ]
  },
  {
   "cell_type": "code",
   "execution_count": 100,
   "metadata": {
    "ExecuteTime": {
     "end_time": "2019-05-29T20:37:52.157144Z",
     "start_time": "2019-05-29T20:37:52.153715Z"
    }
   },
   "outputs": [],
   "source": [
    "data['vp_pt'][55307] = [50, 50]\n",
    "data['vp_pt'][55307] = [50, 50]\n",
    "data['vp_pt'][55307] = [50, 50]"
   ]
  },
  {
   "cell_type": "code",
   "execution_count": 101,
   "metadata": {
    "ExecuteTime": {
     "end_time": "2019-05-29T20:37:53.924641Z",
     "start_time": "2019-05-29T20:37:53.920733Z"
    }
   },
   "outputs": [
    {
     "data": {
      "text/plain": [
       "[50, 50]"
      ]
     },
     "execution_count": 101,
     "metadata": {},
     "output_type": "execute_result"
    }
   ],
   "source": [
    "data['vp_pt'][55307]"
   ]
  },
  {
   "cell_type": "code",
   "execution_count": 102,
   "metadata": {
    "ExecuteTime": {
     "end_time": "2019-05-29T20:37:55.480748Z",
     "start_time": "2019-05-29T20:37:55.476824Z"
    }
   },
   "outputs": [
    {
     "data": {
      "text/plain": [
       "(163737,)"
      ]
     },
     "execution_count": 102,
     "metadata": {},
     "output_type": "execute_result"
    }
   ],
   "source": [
    "data['vp_pt'].shape"
   ]
  },
  {
   "cell_type": "code",
   "execution_count": 103,
   "metadata": {
    "ExecuteTime": {
     "end_time": "2019-05-29T20:37:56.994357Z",
     "start_time": "2019-05-29T20:37:56.951799Z"
    }
   },
   "outputs": [],
   "source": [
    "b = pd.DataFrame(data['vp_pt'])"
   ]
  },
  {
   "cell_type": "code",
   "execution_count": 104,
   "metadata": {
    "ExecuteTime": {
     "end_time": "2019-05-29T20:38:12.667948Z",
     "start_time": "2019-05-29T20:37:58.684269Z"
    }
   },
   "outputs": [],
   "source": [
    "b.to_csv('hell.csv')"
   ]
  },
  {
   "cell_type": "code",
   "execution_count": 105,
   "metadata": {
    "ExecuteTime": {
     "end_time": "2019-05-29T20:38:14.323106Z",
     "start_time": "2019-05-29T20:38:14.275616Z"
    }
   },
   "outputs": [],
   "source": [
    "pt_df = pd.DataFrame(index = range(327474), columns = ['pt'])"
   ]
  },
  {
   "cell_type": "code",
   "execution_count": 106,
   "metadata": {
    "ExecuteTime": {
     "end_time": "2019-05-29T20:38:16.303444Z",
     "start_time": "2019-05-29T20:38:16.000714Z"
    }
   },
   "outputs": [
    {
     "data": {
      "text/plain": [
       "array([[30.16319656, 30.16319656],\n",
       "       [45.87434006, 45.87434006],\n",
       "       [89.10662079, 89.10662079],\n",
       "       ...,\n",
       "       [60.51477432, 60.51477432],\n",
       "       [93.74768829, 93.74768829],\n",
       "       [ 2.89263153,  2.89263153]])"
      ]
     },
     "execution_count": 106,
     "metadata": {},
     "output_type": "execute_result"
    }
   ],
   "source": [
    "np.reshape(np.hstack(data['vp_pt']), (-1, 2))"
   ]
  },
  {
   "cell_type": "code",
   "execution_count": 107,
   "metadata": {
    "ExecuteTime": {
     "end_time": "2019-05-29T20:38:18.447328Z",
     "start_time": "2019-05-29T20:38:18.137296Z"
    }
   },
   "outputs": [
    {
     "data": {
      "text/plain": [
       "(327474,)"
      ]
     },
     "execution_count": 107,
     "metadata": {},
     "output_type": "execute_result"
    }
   ],
   "source": [
    "np.hstack(data['vp_pt']).shape"
   ]
  },
  {
   "cell_type": "code",
   "execution_count": 108,
   "metadata": {
    "ExecuteTime": {
     "end_time": "2019-05-29T20:38:20.192263Z",
     "start_time": "2019-05-29T20:38:20.189063Z"
    }
   },
   "outputs": [],
   "source": [
    "from numpy import array"
   ]
  },
  {
   "cell_type": "code",
   "execution_count": 109,
   "metadata": {
    "ExecuteTime": {
     "end_time": "2019-05-29T20:38:22.024541Z",
     "start_time": "2019-05-29T20:38:21.722376Z"
    }
   },
   "outputs": [],
   "source": [
    "pt_df['pt'] = np.hstack(data['vp_pt'])"
   ]
  },
  {
   "cell_type": "code",
   "execution_count": 110,
   "metadata": {
    "ExecuteTime": {
     "end_time": "2019-05-29T20:38:23.886391Z",
     "start_time": "2019-05-29T20:38:23.588921Z"
    }
   },
   "outputs": [],
   "source": [
    "pt = pd.DataFrame(np.reshape(np.hstack(data['vp_pt']), (-1, 2)), columns = ['pt', 'del'])"
   ]
  },
  {
   "cell_type": "code",
   "execution_count": 111,
   "metadata": {
    "ExecuteTime": {
     "end_time": "2019-05-29T20:38:25.852150Z",
     "start_time": "2019-05-29T20:38:25.550211Z"
    }
   },
   "outputs": [],
   "source": [
    "q = pd.DataFrame(np.reshape(np.hstack(data['vp_q']), (-1, 2)), columns = ['q1', 'q2'])"
   ]
  },
  {
   "cell_type": "code",
   "execution_count": 112,
   "metadata": {
    "ExecuteTime": {
     "end_time": "2019-05-29T20:38:27.589543Z",
     "start_time": "2019-05-29T20:38:27.298031Z"
    }
   },
   "outputs": [],
   "source": [
    "eta = pd.DataFrame(np.reshape(np.hstack(data['vp_eta']), (-1, 2)), columns = ['eta1', 'eta2'])"
   ]
  },
  {
   "cell_type": "code",
   "execution_count": 113,
   "metadata": {
    "ExecuteTime": {
     "end_time": "2019-05-29T20:38:29.076038Z",
     "start_time": "2019-05-29T20:38:29.064567Z"
    }
   },
   "outputs": [],
   "source": [
    "pt['q'] = np.sign(eta['eta1'])"
   ]
  },
  {
   "cell_type": "code",
   "execution_count": 114,
   "metadata": {
    "ExecuteTime": {
     "end_time": "2019-05-29T20:38:30.778082Z",
     "start_time": "2019-05-29T20:38:30.774695Z"
    }
   },
   "outputs": [],
   "source": [
    "del pt['del']"
   ]
  },
  {
   "cell_type": "code",
   "execution_count": 115,
   "metadata": {
    "ExecuteTime": {
     "end_time": "2019-05-29T20:38:32.226825Z",
     "start_time": "2019-05-29T20:38:32.222084Z"
    }
   },
   "outputs": [],
   "source": [
    "pt['q/pt'] = pt['q'] / pt['pt']"
   ]
  },
  {
   "cell_type": "code",
   "execution_count": 118,
   "metadata": {
    "ExecuteTime": {
     "end_time": "2019-05-29T20:38:38.626804Z",
     "start_time": "2019-05-29T20:38:38.617748Z"
    }
   },
   "outputs": [
    {
     "data": {
      "text/html": [
       "<div>\n",
       "<style scoped>\n",
       "    .dataframe tbody tr th:only-of-type {\n",
       "        vertical-align: middle;\n",
       "    }\n",
       "\n",
       "    .dataframe tbody tr th {\n",
       "        vertical-align: top;\n",
       "    }\n",
       "\n",
       "    .dataframe thead th {\n",
       "        text-align: right;\n",
       "    }\n",
       "</style>\n",
       "<table border=\"1\" class=\"dataframe\">\n",
       "  <thead>\n",
       "    <tr style=\"text-align: right;\">\n",
       "      <th></th>\n",
       "      <th>pt</th>\n",
       "      <th>q</th>\n",
       "      <th>q/pt</th>\n",
       "      <th>ve_id</th>\n",
       "    </tr>\n",
       "  </thead>\n",
       "  <tbody>\n",
       "    <tr>\n",
       "      <th>0</th>\n",
       "      <td>30.163197</td>\n",
       "      <td>1.0</td>\n",
       "      <td>0.033153</td>\n",
       "      <td>0</td>\n",
       "    </tr>\n",
       "    <tr>\n",
       "      <th>1</th>\n",
       "      <td>45.874340</td>\n",
       "      <td>1.0</td>\n",
       "      <td>0.021799</td>\n",
       "      <td>1</td>\n",
       "    </tr>\n",
       "    <tr>\n",
       "      <th>2</th>\n",
       "      <td>89.106621</td>\n",
       "      <td>-1.0</td>\n",
       "      <td>-0.011223</td>\n",
       "      <td>2</td>\n",
       "    </tr>\n",
       "    <tr>\n",
       "      <th>3</th>\n",
       "      <td>58.869408</td>\n",
       "      <td>1.0</td>\n",
       "      <td>0.016987</td>\n",
       "      <td>3</td>\n",
       "    </tr>\n",
       "    <tr>\n",
       "      <th>4</th>\n",
       "      <td>57.881783</td>\n",
       "      <td>1.0</td>\n",
       "      <td>0.017277</td>\n",
       "      <td>4</td>\n",
       "    </tr>\n",
       "  </tbody>\n",
       "</table>\n",
       "</div>"
      ],
      "text/plain": [
       "          pt    q      q/pt  ve_id\n",
       "0  30.163197  1.0  0.033153      0\n",
       "1  45.874340  1.0  0.021799      1\n",
       "2  89.106621 -1.0 -0.011223      2\n",
       "3  58.869408  1.0  0.016987      3\n",
       "4  57.881783  1.0  0.017277      4"
      ]
     },
     "execution_count": 118,
     "metadata": {},
     "output_type": "execute_result"
    }
   ],
   "source": [
    "pt.head()"
   ]
  },
  {
   "cell_type": "code",
   "execution_count": 117,
   "metadata": {
    "ExecuteTime": {
     "end_time": "2019-05-29T20:38:36.606232Z",
     "start_time": "2019-05-29T20:38:36.601986Z"
    }
   },
   "outputs": [],
   "source": [
    "pt['ve_id'] = np.arange(0, 163737, dtype=np.int32)"
   ]
  },
  {
   "cell_type": "code",
   "execution_count": 119,
   "metadata": {
    "ExecuteTime": {
     "end_time": "2019-05-29T20:38:42.277300Z",
     "start_time": "2019-05-29T20:38:41.286246Z"
    }
   },
   "outputs": [],
   "source": [
    "pt.to_csv('target.csv')"
   ]
  },
  {
   "cell_type": "code",
   "execution_count": 121,
   "metadata": {
    "ExecuteTime": {
     "end_time": "2019-05-29T20:40:19.449374Z",
     "start_time": "2019-05-29T20:40:19.061499Z"
    }
   },
   "outputs": [],
   "source": [
    "tracks = tracks.join(pt.set_index('ve_id'), on='ve_id')"
   ]
  },
  {
   "cell_type": "code",
   "execution_count": 123,
   "metadata": {
    "ExecuteTime": {
     "end_time": "2019-05-29T20:40:34.655556Z",
     "start_time": "2019-05-29T20:40:34.518397Z"
    }
   },
   "outputs": [
    {
     "data": {
      "text/html": [
       "<div>\n",
       "<style scoped>\n",
       "    .dataframe tbody tr th:only-of-type {\n",
       "        vertical-align: middle;\n",
       "    }\n",
       "\n",
       "    .dataframe tbody tr th {\n",
       "        vertical-align: top;\n",
       "    }\n",
       "\n",
       "    .dataframe thead th {\n",
       "        text-align: right;\n",
       "    }\n",
       "</style>\n",
       "<table border=\"1\" class=\"dataframe\">\n",
       "  <thead>\n",
       "    <tr style=\"text-align: right;\">\n",
       "      <th></th>\n",
       "      <th>ve_id</th>\n",
       "      <th>delta_theta</th>\n",
       "      <th>delta_phi</th>\n",
       "      <th>delta_eta</th>\n",
       "      <th>vh_pattern</th>\n",
       "      <th>vh_quality</th>\n",
       "      <th>vh_bend</th>\n",
       "      <th>vh_fr</th>\n",
       "      <th>exist</th>\n",
       "      <th>exist_name</th>\n",
       "      <th>...</th>\n",
       "      <th>vh_fr_re42re43</th>\n",
       "      <th>exist_re42re43</th>\n",
       "      <th>exist_name_re42re43</th>\n",
       "      <th>theta_median</th>\n",
       "      <th>phi_median</th>\n",
       "      <th>eta_median</th>\n",
       "      <th>median_virtual_station</th>\n",
       "      <th>pt</th>\n",
       "      <th>q</th>\n",
       "      <th>q/pt</th>\n",
       "    </tr>\n",
       "  </thead>\n",
       "  <tbody>\n",
       "    <tr>\n",
       "      <th>0</th>\n",
       "      <td>0</td>\n",
       "      <td>NaN</td>\n",
       "      <td>NaN</td>\n",
       "      <td>NaN</td>\n",
       "      <td>NaN</td>\n",
       "      <td>NaN</td>\n",
       "      <td>NaN</td>\n",
       "      <td>NaN</td>\n",
       "      <td>NaN</td>\n",
       "      <td>NaN</td>\n",
       "      <td>...</td>\n",
       "      <td>1.0</td>\n",
       "      <td>1.0</td>\n",
       "      <td>re42re43</td>\n",
       "      <td>22.381725</td>\n",
       "      <td>141.058455</td>\n",
       "      <td>1.620299</td>\n",
       "      <td>7.0</td>\n",
       "      <td>30.163197</td>\n",
       "      <td>1.0</td>\n",
       "      <td>0.033153</td>\n",
       "    </tr>\n",
       "    <tr>\n",
       "      <th>1</th>\n",
       "      <td>1</td>\n",
       "      <td>-0.344954</td>\n",
       "      <td>0.280825</td>\n",
       "      <td>0.023355</td>\n",
       "      <td>1.0</td>\n",
       "      <td>17.0</td>\n",
       "      <td>-3.0</td>\n",
       "      <td>1.0</td>\n",
       "      <td>1.0</td>\n",
       "      <td>me0</td>\n",
       "      <td>...</td>\n",
       "      <td>NaN</td>\n",
       "      <td>NaN</td>\n",
       "      <td>NaN</td>\n",
       "      <td>15.110317</td>\n",
       "      <td>-141.673995</td>\n",
       "      <td>2.020179</td>\n",
       "      <td>6.0</td>\n",
       "      <td>45.874340</td>\n",
       "      <td>1.0</td>\n",
       "      <td>0.021799</td>\n",
       "    </tr>\n",
       "    <tr>\n",
       "      <th>2</th>\n",
       "      <td>2</td>\n",
       "      <td>NaN</td>\n",
       "      <td>NaN</td>\n",
       "      <td>NaN</td>\n",
       "      <td>NaN</td>\n",
       "      <td>NaN</td>\n",
       "      <td>NaN</td>\n",
       "      <td>NaN</td>\n",
       "      <td>NaN</td>\n",
       "      <td>NaN</td>\n",
       "      <td>...</td>\n",
       "      <td>0.0</td>\n",
       "      <td>1.0</td>\n",
       "      <td>re42re43</td>\n",
       "      <td>21.016869</td>\n",
       "      <td>-110.063550</td>\n",
       "      <td>1.684747</td>\n",
       "      <td>6.0</td>\n",
       "      <td>89.106621</td>\n",
       "      <td>-1.0</td>\n",
       "      <td>-0.011223</td>\n",
       "    </tr>\n",
       "    <tr>\n",
       "      <th>3</th>\n",
       "      <td>3</td>\n",
       "      <td>0.330953</td>\n",
       "      <td>0.040215</td>\n",
       "      <td>-0.031257</td>\n",
       "      <td>1.0</td>\n",
       "      <td>0.0</td>\n",
       "      <td>0.0</td>\n",
       "      <td>0.0</td>\n",
       "      <td>1.0</td>\n",
       "      <td>me0</td>\n",
       "      <td>...</td>\n",
       "      <td>NaN</td>\n",
       "      <td>NaN</td>\n",
       "      <td>NaN</td>\n",
       "      <td>10.484757</td>\n",
       "      <td>113.099700</td>\n",
       "      <td>2.388656</td>\n",
       "      <td>10.0</td>\n",
       "      <td>58.869408</td>\n",
       "      <td>1.0</td>\n",
       "      <td>0.016987</td>\n",
       "    </tr>\n",
       "    <tr>\n",
       "      <th>4</th>\n",
       "      <td>4</td>\n",
       "      <td>-0.204488</td>\n",
       "      <td>0.184381</td>\n",
       "      <td>0.015275</td>\n",
       "      <td>1.0</td>\n",
       "      <td>0.0</td>\n",
       "      <td>0.0</td>\n",
       "      <td>0.0</td>\n",
       "      <td>1.0</td>\n",
       "      <td>me0</td>\n",
       "      <td>...</td>\n",
       "      <td>NaN</td>\n",
       "      <td>NaN</td>\n",
       "      <td>NaN</td>\n",
       "      <td>13.612605</td>\n",
       "      <td>47.813921</td>\n",
       "      <td>2.125661</td>\n",
       "      <td>5.0</td>\n",
       "      <td>57.881783</td>\n",
       "      <td>1.0</td>\n",
       "      <td>0.017277</td>\n",
       "    </tr>\n",
       "    <tr>\n",
       "      <th>5</th>\n",
       "      <td>5</td>\n",
       "      <td>0.395316</td>\n",
       "      <td>-0.361645</td>\n",
       "      <td>-0.027399</td>\n",
       "      <td>1.0</td>\n",
       "      <td>0.0</td>\n",
       "      <td>0.0</td>\n",
       "      <td>0.0</td>\n",
       "      <td>1.0</td>\n",
       "      <td>me0</td>\n",
       "      <td>...</td>\n",
       "      <td>NaN</td>\n",
       "      <td>NaN</td>\n",
       "      <td>NaN</td>\n",
       "      <td>14.388595</td>\n",
       "      <td>-82.739825</td>\n",
       "      <td>2.069663</td>\n",
       "      <td>9.0</td>\n",
       "      <td>50.196407</td>\n",
       "      <td>-1.0</td>\n",
       "      <td>-0.019922</td>\n",
       "    </tr>\n",
       "    <tr>\n",
       "      <th>6</th>\n",
       "      <td>6</td>\n",
       "      <td>NaN</td>\n",
       "      <td>NaN</td>\n",
       "      <td>NaN</td>\n",
       "      <td>NaN</td>\n",
       "      <td>NaN</td>\n",
       "      <td>NaN</td>\n",
       "      <td>NaN</td>\n",
       "      <td>NaN</td>\n",
       "      <td>NaN</td>\n",
       "      <td>...</td>\n",
       "      <td>1.0</td>\n",
       "      <td>1.0</td>\n",
       "      <td>re42re43</td>\n",
       "      <td>21.175463</td>\n",
       "      <td>138.888345</td>\n",
       "      <td>1.677060</td>\n",
       "      <td>5.0</td>\n",
       "      <td>72.260803</td>\n",
       "      <td>1.0</td>\n",
       "      <td>0.013839</td>\n",
       "    </tr>\n",
       "    <tr>\n",
       "      <th>7</th>\n",
       "      <td>7</td>\n",
       "      <td>NaN</td>\n",
       "      <td>NaN</td>\n",
       "      <td>NaN</td>\n",
       "      <td>NaN</td>\n",
       "      <td>NaN</td>\n",
       "      <td>NaN</td>\n",
       "      <td>NaN</td>\n",
       "      <td>NaN</td>\n",
       "      <td>NaN</td>\n",
       "      <td>...</td>\n",
       "      <td>1.0</td>\n",
       "      <td>1.0</td>\n",
       "      <td>re42re43</td>\n",
       "      <td>32.415860</td>\n",
       "      <td>159.130200</td>\n",
       "      <td>1.235543</td>\n",
       "      <td>9.0</td>\n",
       "      <td>28.016636</td>\n",
       "      <td>1.0</td>\n",
       "      <td>0.035693</td>\n",
       "    </tr>\n",
       "    <tr>\n",
       "      <th>8</th>\n",
       "      <td>8</td>\n",
       "      <td>NaN</td>\n",
       "      <td>NaN</td>\n",
       "      <td>NaN</td>\n",
       "      <td>NaN</td>\n",
       "      <td>NaN</td>\n",
       "      <td>NaN</td>\n",
       "      <td>NaN</td>\n",
       "      <td>NaN</td>\n",
       "      <td>NaN</td>\n",
       "      <td>...</td>\n",
       "      <td>NaN</td>\n",
       "      <td>NaN</td>\n",
       "      <td>NaN</td>\n",
       "      <td>NaN</td>\n",
       "      <td>NaN</td>\n",
       "      <td>NaN</td>\n",
       "      <td>NaN</td>\n",
       "      <td>88.643768</td>\n",
       "      <td>-1.0</td>\n",
       "      <td>-0.011281</td>\n",
       "    </tr>\n",
       "    <tr>\n",
       "      <th>9</th>\n",
       "      <td>9</td>\n",
       "      <td>NaN</td>\n",
       "      <td>NaN</td>\n",
       "      <td>NaN</td>\n",
       "      <td>NaN</td>\n",
       "      <td>NaN</td>\n",
       "      <td>NaN</td>\n",
       "      <td>NaN</td>\n",
       "      <td>NaN</td>\n",
       "      <td>NaN</td>\n",
       "      <td>...</td>\n",
       "      <td>1.0</td>\n",
       "      <td>1.0</td>\n",
       "      <td>re42re43</td>\n",
       "      <td>18.969759</td>\n",
       "      <td>95.155700</td>\n",
       "      <td>1.789335</td>\n",
       "      <td>10.0</td>\n",
       "      <td>68.142036</td>\n",
       "      <td>1.0</td>\n",
       "      <td>0.014675</td>\n",
       "    </tr>\n",
       "    <tr>\n",
       "      <th>10</th>\n",
       "      <td>10</td>\n",
       "      <td>NaN</td>\n",
       "      <td>NaN</td>\n",
       "      <td>NaN</td>\n",
       "      <td>NaN</td>\n",
       "      <td>NaN</td>\n",
       "      <td>NaN</td>\n",
       "      <td>NaN</td>\n",
       "      <td>NaN</td>\n",
       "      <td>NaN</td>\n",
       "      <td>...</td>\n",
       "      <td>NaN</td>\n",
       "      <td>NaN</td>\n",
       "      <td>NaN</td>\n",
       "      <td>24.973456</td>\n",
       "      <td>-6.401951</td>\n",
       "      <td>1.507551</td>\n",
       "      <td>8.0</td>\n",
       "      <td>76.107056</td>\n",
       "      <td>1.0</td>\n",
       "      <td>0.013139</td>\n",
       "    </tr>\n",
       "    <tr>\n",
       "      <th>11</th>\n",
       "      <td>11</td>\n",
       "      <td>NaN</td>\n",
       "      <td>NaN</td>\n",
       "      <td>NaN</td>\n",
       "      <td>NaN</td>\n",
       "      <td>NaN</td>\n",
       "      <td>NaN</td>\n",
       "      <td>NaN</td>\n",
       "      <td>NaN</td>\n",
       "      <td>NaN</td>\n",
       "      <td>...</td>\n",
       "      <td>NaN</td>\n",
       "      <td>NaN</td>\n",
       "      <td>NaN</td>\n",
       "      <td>34.508940</td>\n",
       "      <td>63.602818</td>\n",
       "      <td>1.169269</td>\n",
       "      <td>6.0</td>\n",
       "      <td>5.580204</td>\n",
       "      <td>1.0</td>\n",
       "      <td>0.179205</td>\n",
       "    </tr>\n",
       "    <tr>\n",
       "      <th>12</th>\n",
       "      <td>12</td>\n",
       "      <td>-0.257476</td>\n",
       "      <td>0.242390</td>\n",
       "      <td>0.017432</td>\n",
       "      <td>1.0</td>\n",
       "      <td>18.0</td>\n",
       "      <td>-2.0</td>\n",
       "      <td>1.0</td>\n",
       "      <td>1.0</td>\n",
       "      <td>me0</td>\n",
       "      <td>...</td>\n",
       "      <td>NaN</td>\n",
       "      <td>NaN</td>\n",
       "      <td>NaN</td>\n",
       "      <td>15.068189</td>\n",
       "      <td>-65.088550</td>\n",
       "      <td>2.023001</td>\n",
       "      <td>2.0</td>\n",
       "      <td>17.302628</td>\n",
       "      <td>1.0</td>\n",
       "      <td>0.057795</td>\n",
       "    </tr>\n",
       "    <tr>\n",
       "      <th>13</th>\n",
       "      <td>13</td>\n",
       "      <td>0.106934</td>\n",
       "      <td>0.240967</td>\n",
       "      <td>-0.007734</td>\n",
       "      <td>1.0</td>\n",
       "      <td>52.0</td>\n",
       "      <td>0.0</td>\n",
       "      <td>0.0</td>\n",
       "      <td>1.0</td>\n",
       "      <td>me0</td>\n",
       "      <td>...</td>\n",
       "      <td>NaN</td>\n",
       "      <td>NaN</td>\n",
       "      <td>NaN</td>\n",
       "      <td>13.910934</td>\n",
       "      <td>78.338613</td>\n",
       "      <td>2.103770</td>\n",
       "      <td>6.0</td>\n",
       "      <td>52.789883</td>\n",
       "      <td>1.0</td>\n",
       "      <td>0.018943</td>\n",
       "    </tr>\n",
       "    <tr>\n",
       "      <th>14</th>\n",
       "      <td>14</td>\n",
       "      <td>NaN</td>\n",
       "      <td>NaN</td>\n",
       "      <td>NaN</td>\n",
       "      <td>NaN</td>\n",
       "      <td>NaN</td>\n",
       "      <td>NaN</td>\n",
       "      <td>NaN</td>\n",
       "      <td>NaN</td>\n",
       "      <td>NaN</td>\n",
       "      <td>...</td>\n",
       "      <td>NaN</td>\n",
       "      <td>NaN</td>\n",
       "      <td>NaN</td>\n",
       "      <td>28.113377</td>\n",
       "      <td>-36.143538</td>\n",
       "      <td>1.384779</td>\n",
       "      <td>8.0</td>\n",
       "      <td>49.285294</td>\n",
       "      <td>1.0</td>\n",
       "      <td>0.020290</td>\n",
       "    </tr>\n",
       "    <tr>\n",
       "      <th>15</th>\n",
       "      <td>15</td>\n",
       "      <td>NaN</td>\n",
       "      <td>NaN</td>\n",
       "      <td>NaN</td>\n",
       "      <td>NaN</td>\n",
       "      <td>NaN</td>\n",
       "      <td>NaN</td>\n",
       "      <td>NaN</td>\n",
       "      <td>NaN</td>\n",
       "      <td>NaN</td>\n",
       "      <td>...</td>\n",
       "      <td>1.0</td>\n",
       "      <td>1.0</td>\n",
       "      <td>re42re43</td>\n",
       "      <td>29.765286</td>\n",
       "      <td>-176.914270</td>\n",
       "      <td>1.325180</td>\n",
       "      <td>6.0</td>\n",
       "      <td>76.640167</td>\n",
       "      <td>-1.0</td>\n",
       "      <td>-0.013048</td>\n",
       "    </tr>\n",
       "    <tr>\n",
       "      <th>16</th>\n",
       "      <td>16</td>\n",
       "      <td>NaN</td>\n",
       "      <td>NaN</td>\n",
       "      <td>NaN</td>\n",
       "      <td>NaN</td>\n",
       "      <td>NaN</td>\n",
       "      <td>NaN</td>\n",
       "      <td>NaN</td>\n",
       "      <td>NaN</td>\n",
       "      <td>NaN</td>\n",
       "      <td>...</td>\n",
       "      <td>0.0</td>\n",
       "      <td>1.0</td>\n",
       "      <td>re42re43</td>\n",
       "      <td>17.658613</td>\n",
       "      <td>-12.466813</td>\n",
       "      <td>1.862191</td>\n",
       "      <td>9.0</td>\n",
       "      <td>29.404547</td>\n",
       "      <td>-1.0</td>\n",
       "      <td>-0.034008</td>\n",
       "    </tr>\n",
       "    <tr>\n",
       "      <th>17</th>\n",
       "      <td>17</td>\n",
       "      <td>0.261779</td>\n",
       "      <td>-0.211005</td>\n",
       "      <td>-0.024557</td>\n",
       "      <td>1.0</td>\n",
       "      <td>0.0</td>\n",
       "      <td>0.0</td>\n",
       "      <td>0.0</td>\n",
       "      <td>1.0</td>\n",
       "      <td>me0</td>\n",
       "      <td>...</td>\n",
       "      <td>NaN</td>\n",
       "      <td>NaN</td>\n",
       "      <td>NaN</td>\n",
       "      <td>10.592312</td>\n",
       "      <td>-88.199675</td>\n",
       "      <td>2.378392</td>\n",
       "      <td>6.0</td>\n",
       "      <td>49.485443</td>\n",
       "      <td>-1.0</td>\n",
       "      <td>-0.020208</td>\n",
       "    </tr>\n",
       "    <tr>\n",
       "      <th>18</th>\n",
       "      <td>18</td>\n",
       "      <td>0.007130</td>\n",
       "      <td>-3.230444</td>\n",
       "      <td>-0.000488</td>\n",
       "      <td>1.0</td>\n",
       "      <td>15.0</td>\n",
       "      <td>5.0</td>\n",
       "      <td>0.0</td>\n",
       "      <td>1.0</td>\n",
       "      <td>me0</td>\n",
       "      <td>...</td>\n",
       "      <td>NaN</td>\n",
       "      <td>NaN</td>\n",
       "      <td>NaN</td>\n",
       "      <td>14.755083</td>\n",
       "      <td>-115.929430</td>\n",
       "      <td>2.044238</td>\n",
       "      <td>7.0</td>\n",
       "      <td>5.020916</td>\n",
       "      <td>-1.0</td>\n",
       "      <td>-0.199167</td>\n",
       "    </tr>\n",
       "    <tr>\n",
       "      <th>19</th>\n",
       "      <td>19</td>\n",
       "      <td>NaN</td>\n",
       "      <td>NaN</td>\n",
       "      <td>NaN</td>\n",
       "      <td>NaN</td>\n",
       "      <td>NaN</td>\n",
       "      <td>NaN</td>\n",
       "      <td>NaN</td>\n",
       "      <td>NaN</td>\n",
       "      <td>NaN</td>\n",
       "      <td>...</td>\n",
       "      <td>1.0</td>\n",
       "      <td>1.0</td>\n",
       "      <td>re42re43</td>\n",
       "      <td>23.039959</td>\n",
       "      <td>-77.338960</td>\n",
       "      <td>1.590540</td>\n",
       "      <td>10.0</td>\n",
       "      <td>93.225235</td>\n",
       "      <td>1.0</td>\n",
       "      <td>0.010727</td>\n",
       "    </tr>\n",
       "    <tr>\n",
       "      <th>20</th>\n",
       "      <td>20</td>\n",
       "      <td>NaN</td>\n",
       "      <td>NaN</td>\n",
       "      <td>NaN</td>\n",
       "      <td>NaN</td>\n",
       "      <td>NaN</td>\n",
       "      <td>NaN</td>\n",
       "      <td>NaN</td>\n",
       "      <td>NaN</td>\n",
       "      <td>NaN</td>\n",
       "      <td>...</td>\n",
       "      <td>NaN</td>\n",
       "      <td>NaN</td>\n",
       "      <td>NaN</td>\n",
       "      <td>36.538559</td>\n",
       "      <td>-9.833919</td>\n",
       "      <td>1.108288</td>\n",
       "      <td>6.0</td>\n",
       "      <td>45.828392</td>\n",
       "      <td>-1.0</td>\n",
       "      <td>-0.021821</td>\n",
       "    </tr>\n",
       "    <tr>\n",
       "      <th>21</th>\n",
       "      <td>21</td>\n",
       "      <td>0.134107</td>\n",
       "      <td>0.949910</td>\n",
       "      <td>-0.010758</td>\n",
       "      <td>1.0</td>\n",
       "      <td>75.0</td>\n",
       "      <td>-1.0</td>\n",
       "      <td>0.0</td>\n",
       "      <td>1.0</td>\n",
       "      <td>me0</td>\n",
       "      <td>...</td>\n",
       "      <td>NaN</td>\n",
       "      <td>NaN</td>\n",
       "      <td>NaN</td>\n",
       "      <td>12.499372</td>\n",
       "      <td>5.268401</td>\n",
       "      <td>2.211719</td>\n",
       "      <td>7.0</td>\n",
       "      <td>18.860706</td>\n",
       "      <td>1.0</td>\n",
       "      <td>0.053020</td>\n",
       "    </tr>\n",
       "    <tr>\n",
       "      <th>22</th>\n",
       "      <td>22</td>\n",
       "      <td>NaN</td>\n",
       "      <td>NaN</td>\n",
       "      <td>NaN</td>\n",
       "      <td>NaN</td>\n",
       "      <td>NaN</td>\n",
       "      <td>NaN</td>\n",
       "      <td>NaN</td>\n",
       "      <td>NaN</td>\n",
       "      <td>NaN</td>\n",
       "      <td>...</td>\n",
       "      <td>NaN</td>\n",
       "      <td>NaN</td>\n",
       "      <td>NaN</td>\n",
       "      <td>33.298300</td>\n",
       "      <td>155.296350</td>\n",
       "      <td>1.207154</td>\n",
       "      <td>7.0</td>\n",
       "      <td>31.684862</td>\n",
       "      <td>-1.0</td>\n",
       "      <td>-0.031561</td>\n",
       "    </tr>\n",
       "    <tr>\n",
       "      <th>23</th>\n",
       "      <td>23</td>\n",
       "      <td>NaN</td>\n",
       "      <td>NaN</td>\n",
       "      <td>NaN</td>\n",
       "      <td>NaN</td>\n",
       "      <td>NaN</td>\n",
       "      <td>NaN</td>\n",
       "      <td>NaN</td>\n",
       "      <td>NaN</td>\n",
       "      <td>NaN</td>\n",
       "      <td>...</td>\n",
       "      <td>1.0</td>\n",
       "      <td>1.0</td>\n",
       "      <td>re42re43</td>\n",
       "      <td>23.270005</td>\n",
       "      <td>120.198007</td>\n",
       "      <td>1.580332</td>\n",
       "      <td>9.0</td>\n",
       "      <td>89.056755</td>\n",
       "      <td>-1.0</td>\n",
       "      <td>-0.011229</td>\n",
       "    </tr>\n",
       "    <tr>\n",
       "      <th>24</th>\n",
       "      <td>24</td>\n",
       "      <td>NaN</td>\n",
       "      <td>NaN</td>\n",
       "      <td>NaN</td>\n",
       "      <td>NaN</td>\n",
       "      <td>NaN</td>\n",
       "      <td>NaN</td>\n",
       "      <td>NaN</td>\n",
       "      <td>NaN</td>\n",
       "      <td>NaN</td>\n",
       "      <td>...</td>\n",
       "      <td>1.0</td>\n",
       "      <td>1.0</td>\n",
       "      <td>re42re43</td>\n",
       "      <td>17.394592</td>\n",
       "      <td>-79.398515</td>\n",
       "      <td>1.877492</td>\n",
       "      <td>6.0</td>\n",
       "      <td>38.083904</td>\n",
       "      <td>-1.0</td>\n",
       "      <td>-0.026258</td>\n",
       "    </tr>\n",
       "    <tr>\n",
       "      <th>25</th>\n",
       "      <td>25</td>\n",
       "      <td>NaN</td>\n",
       "      <td>NaN</td>\n",
       "      <td>NaN</td>\n",
       "      <td>NaN</td>\n",
       "      <td>NaN</td>\n",
       "      <td>NaN</td>\n",
       "      <td>NaN</td>\n",
       "      <td>NaN</td>\n",
       "      <td>NaN</td>\n",
       "      <td>...</td>\n",
       "      <td>1.0</td>\n",
       "      <td>1.0</td>\n",
       "      <td>re42re43</td>\n",
       "      <td>27.205833</td>\n",
       "      <td>80.138080</td>\n",
       "      <td>1.418903</td>\n",
       "      <td>7.0</td>\n",
       "      <td>69.183578</td>\n",
       "      <td>-1.0</td>\n",
       "      <td>-0.014454</td>\n",
       "    </tr>\n",
       "    <tr>\n",
       "      <th>26</th>\n",
       "      <td>26</td>\n",
       "      <td>NaN</td>\n",
       "      <td>NaN</td>\n",
       "      <td>NaN</td>\n",
       "      <td>NaN</td>\n",
       "      <td>NaN</td>\n",
       "      <td>NaN</td>\n",
       "      <td>NaN</td>\n",
       "      <td>NaN</td>\n",
       "      <td>NaN</td>\n",
       "      <td>...</td>\n",
       "      <td>1.0</td>\n",
       "      <td>1.0</td>\n",
       "      <td>re42re43</td>\n",
       "      <td>22.866474</td>\n",
       "      <td>-80.461754</td>\n",
       "      <td>1.598304</td>\n",
       "      <td>9.0</td>\n",
       "      <td>85.672638</td>\n",
       "      <td>1.0</td>\n",
       "      <td>0.011672</td>\n",
       "    </tr>\n",
       "    <tr>\n",
       "      <th>27</th>\n",
       "      <td>27</td>\n",
       "      <td>NaN</td>\n",
       "      <td>NaN</td>\n",
       "      <td>NaN</td>\n",
       "      <td>NaN</td>\n",
       "      <td>NaN</td>\n",
       "      <td>NaN</td>\n",
       "      <td>NaN</td>\n",
       "      <td>NaN</td>\n",
       "      <td>NaN</td>\n",
       "      <td>...</td>\n",
       "      <td>0.0</td>\n",
       "      <td>1.0</td>\n",
       "      <td>re42re43</td>\n",
       "      <td>21.682045</td>\n",
       "      <td>45.929790</td>\n",
       "      <td>1.652855</td>\n",
       "      <td>9.0</td>\n",
       "      <td>86.499672</td>\n",
       "      <td>-1.0</td>\n",
       "      <td>-0.011561</td>\n",
       "    </tr>\n",
       "    <tr>\n",
       "      <th>28</th>\n",
       "      <td>28</td>\n",
       "      <td>NaN</td>\n",
       "      <td>NaN</td>\n",
       "      <td>NaN</td>\n",
       "      <td>NaN</td>\n",
       "      <td>NaN</td>\n",
       "      <td>NaN</td>\n",
       "      <td>NaN</td>\n",
       "      <td>NaN</td>\n",
       "      <td>NaN</td>\n",
       "      <td>...</td>\n",
       "      <td>0.0</td>\n",
       "      <td>1.0</td>\n",
       "      <td>re42re43</td>\n",
       "      <td>18.335256</td>\n",
       "      <td>-134.464325</td>\n",
       "      <td>1.823964</td>\n",
       "      <td>7.0</td>\n",
       "      <td>69.126648</td>\n",
       "      <td>1.0</td>\n",
       "      <td>0.014466</td>\n",
       "    </tr>\n",
       "    <tr>\n",
       "      <th>29</th>\n",
       "      <td>29</td>\n",
       "      <td>-0.077333</td>\n",
       "      <td>-0.344425</td>\n",
       "      <td>0.005852</td>\n",
       "      <td>1.0</td>\n",
       "      <td>0.0</td>\n",
       "      <td>0.0</td>\n",
       "      <td>0.0</td>\n",
       "      <td>1.0</td>\n",
       "      <td>me0</td>\n",
       "      <td>...</td>\n",
       "      <td>NaN</td>\n",
       "      <td>NaN</td>\n",
       "      <td>NaN</td>\n",
       "      <td>13.373705</td>\n",
       "      <td>77.662830</td>\n",
       "      <td>2.143529</td>\n",
       "      <td>8.0</td>\n",
       "      <td>22.159410</td>\n",
       "      <td>-1.0</td>\n",
       "      <td>-0.045128</td>\n",
       "    </tr>\n",
       "    <tr>\n",
       "      <th>...</th>\n",
       "      <td>...</td>\n",
       "      <td>...</td>\n",
       "      <td>...</td>\n",
       "      <td>...</td>\n",
       "      <td>...</td>\n",
       "      <td>...</td>\n",
       "      <td>...</td>\n",
       "      <td>...</td>\n",
       "      <td>...</td>\n",
       "      <td>...</td>\n",
       "      <td>...</td>\n",
       "      <td>...</td>\n",
       "      <td>...</td>\n",
       "      <td>...</td>\n",
       "      <td>...</td>\n",
       "      <td>...</td>\n",
       "      <td>...</td>\n",
       "      <td>...</td>\n",
       "      <td>...</td>\n",
       "      <td>...</td>\n",
       "      <td>...</td>\n",
       "    </tr>\n",
       "    <tr>\n",
       "      <th>163707</th>\n",
       "      <td>163707</td>\n",
       "      <td>0.273543</td>\n",
       "      <td>-0.095295</td>\n",
       "      <td>-0.018738</td>\n",
       "      <td>1.0</td>\n",
       "      <td>0.0</td>\n",
       "      <td>0.0</td>\n",
       "      <td>0.0</td>\n",
       "      <td>1.0</td>\n",
       "      <td>me0</td>\n",
       "      <td>...</td>\n",
       "      <td>NaN</td>\n",
       "      <td>NaN</td>\n",
       "      <td>NaN</td>\n",
       "      <td>14.624681</td>\n",
       "      <td>-47.799778</td>\n",
       "      <td>2.053213</td>\n",
       "      <td>9.0</td>\n",
       "      <td>79.004417</td>\n",
       "      <td>1.0</td>\n",
       "      <td>0.012658</td>\n",
       "    </tr>\n",
       "    <tr>\n",
       "      <th>163708</th>\n",
       "      <td>163708</td>\n",
       "      <td>NaN</td>\n",
       "      <td>NaN</td>\n",
       "      <td>NaN</td>\n",
       "      <td>NaN</td>\n",
       "      <td>NaN</td>\n",
       "      <td>NaN</td>\n",
       "      <td>NaN</td>\n",
       "      <td>NaN</td>\n",
       "      <td>NaN</td>\n",
       "      <td>...</td>\n",
       "      <td>NaN</td>\n",
       "      <td>NaN</td>\n",
       "      <td>NaN</td>\n",
       "      <td>26.850828</td>\n",
       "      <td>141.795260</td>\n",
       "      <td>1.432538</td>\n",
       "      <td>9.0</td>\n",
       "      <td>30.394482</td>\n",
       "      <td>1.0</td>\n",
       "      <td>0.032901</td>\n",
       "    </tr>\n",
       "    <tr>\n",
       "      <th>163709</th>\n",
       "      <td>163709</td>\n",
       "      <td>-0.084323</td>\n",
       "      <td>0.168030</td>\n",
       "      <td>0.006383</td>\n",
       "      <td>1.0</td>\n",
       "      <td>0.0</td>\n",
       "      <td>0.0</td>\n",
       "      <td>1.0</td>\n",
       "      <td>1.0</td>\n",
       "      <td>me0</td>\n",
       "      <td>...</td>\n",
       "      <td>NaN</td>\n",
       "      <td>NaN</td>\n",
       "      <td>NaN</td>\n",
       "      <td>13.371843</td>\n",
       "      <td>-61.798775</td>\n",
       "      <td>2.143670</td>\n",
       "      <td>7.0</td>\n",
       "      <td>83.773994</td>\n",
       "      <td>-1.0</td>\n",
       "      <td>-0.011937</td>\n",
       "    </tr>\n",
       "    <tr>\n",
       "      <th>163710</th>\n",
       "      <td>163710</td>\n",
       "      <td>NaN</td>\n",
       "      <td>NaN</td>\n",
       "      <td>NaN</td>\n",
       "      <td>NaN</td>\n",
       "      <td>NaN</td>\n",
       "      <td>NaN</td>\n",
       "      <td>NaN</td>\n",
       "      <td>NaN</td>\n",
       "      <td>NaN</td>\n",
       "      <td>...</td>\n",
       "      <td>NaN</td>\n",
       "      <td>NaN</td>\n",
       "      <td>NaN</td>\n",
       "      <td>19.239065</td>\n",
       "      <td>-78.348445</td>\n",
       "      <td>1.774974</td>\n",
       "      <td>6.0</td>\n",
       "      <td>14.102129</td>\n",
       "      <td>1.0</td>\n",
       "      <td>0.070911</td>\n",
       "    </tr>\n",
       "    <tr>\n",
       "      <th>163711</th>\n",
       "      <td>163711</td>\n",
       "      <td>NaN</td>\n",
       "      <td>NaN</td>\n",
       "      <td>NaN</td>\n",
       "      <td>NaN</td>\n",
       "      <td>NaN</td>\n",
       "      <td>NaN</td>\n",
       "      <td>NaN</td>\n",
       "      <td>NaN</td>\n",
       "      <td>NaN</td>\n",
       "      <td>...</td>\n",
       "      <td>NaN</td>\n",
       "      <td>NaN</td>\n",
       "      <td>NaN</td>\n",
       "      <td>15.544653</td>\n",
       "      <td>-33.666298</td>\n",
       "      <td>1.991497</td>\n",
       "      <td>6.0</td>\n",
       "      <td>8.774992</td>\n",
       "      <td>-1.0</td>\n",
       "      <td>-0.113960</td>\n",
       "    </tr>\n",
       "    <tr>\n",
       "      <th>163712</th>\n",
       "      <td>163712</td>\n",
       "      <td>-0.130288</td>\n",
       "      <td>-0.444524</td>\n",
       "      <td>0.009846</td>\n",
       "      <td>1.0</td>\n",
       "      <td>0.0</td>\n",
       "      <td>0.0</td>\n",
       "      <td>0.0</td>\n",
       "      <td>1.0</td>\n",
       "      <td>me0</td>\n",
       "      <td>...</td>\n",
       "      <td>NaN</td>\n",
       "      <td>NaN</td>\n",
       "      <td>NaN</td>\n",
       "      <td>13.418500</td>\n",
       "      <td>-117.819590</td>\n",
       "      <td>2.140154</td>\n",
       "      <td>5.0</td>\n",
       "      <td>38.677494</td>\n",
       "      <td>1.0</td>\n",
       "      <td>0.025855</td>\n",
       "    </tr>\n",
       "    <tr>\n",
       "      <th>163713</th>\n",
       "      <td>163713</td>\n",
       "      <td>-0.050394</td>\n",
       "      <td>0.152201</td>\n",
       "      <td>0.003813</td>\n",
       "      <td>1.0</td>\n",
       "      <td>0.0</td>\n",
       "      <td>0.0</td>\n",
       "      <td>1.0</td>\n",
       "      <td>1.0</td>\n",
       "      <td>me0</td>\n",
       "      <td>...</td>\n",
       "      <td>NaN</td>\n",
       "      <td>NaN</td>\n",
       "      <td>NaN</td>\n",
       "      <td>13.335582</td>\n",
       "      <td>21.057848</td>\n",
       "      <td>2.146417</td>\n",
       "      <td>8.0</td>\n",
       "      <td>95.864204</td>\n",
       "      <td>-1.0</td>\n",
       "      <td>-0.010431</td>\n",
       "    </tr>\n",
       "    <tr>\n",
       "      <th>163714</th>\n",
       "      <td>163714</td>\n",
       "      <td>NaN</td>\n",
       "      <td>NaN</td>\n",
       "      <td>NaN</td>\n",
       "      <td>NaN</td>\n",
       "      <td>NaN</td>\n",
       "      <td>NaN</td>\n",
       "      <td>NaN</td>\n",
       "      <td>NaN</td>\n",
       "      <td>NaN</td>\n",
       "      <td>...</td>\n",
       "      <td>NaN</td>\n",
       "      <td>NaN</td>\n",
       "      <td>NaN</td>\n",
       "      <td>15.768400</td>\n",
       "      <td>110.531810</td>\n",
       "      <td>1.977026</td>\n",
       "      <td>6.0</td>\n",
       "      <td>93.236938</td>\n",
       "      <td>1.0</td>\n",
       "      <td>0.010725</td>\n",
       "    </tr>\n",
       "    <tr>\n",
       "      <th>163715</th>\n",
       "      <td>163715</td>\n",
       "      <td>NaN</td>\n",
       "      <td>NaN</td>\n",
       "      <td>NaN</td>\n",
       "      <td>NaN</td>\n",
       "      <td>NaN</td>\n",
       "      <td>NaN</td>\n",
       "      <td>NaN</td>\n",
       "      <td>NaN</td>\n",
       "      <td>NaN</td>\n",
       "      <td>...</td>\n",
       "      <td>NaN</td>\n",
       "      <td>NaN</td>\n",
       "      <td>NaN</td>\n",
       "      <td>31.620956</td>\n",
       "      <td>176.260345</td>\n",
       "      <td>1.261712</td>\n",
       "      <td>9.0</td>\n",
       "      <td>64.504753</td>\n",
       "      <td>-1.0</td>\n",
       "      <td>-0.015503</td>\n",
       "    </tr>\n",
       "    <tr>\n",
       "      <th>163716</th>\n",
       "      <td>163716</td>\n",
       "      <td>NaN</td>\n",
       "      <td>NaN</td>\n",
       "      <td>NaN</td>\n",
       "      <td>NaN</td>\n",
       "      <td>NaN</td>\n",
       "      <td>NaN</td>\n",
       "      <td>NaN</td>\n",
       "      <td>NaN</td>\n",
       "      <td>NaN</td>\n",
       "      <td>...</td>\n",
       "      <td>NaN</td>\n",
       "      <td>NaN</td>\n",
       "      <td>NaN</td>\n",
       "      <td>36.737916</td>\n",
       "      <td>-96.890377</td>\n",
       "      <td>1.102467</td>\n",
       "      <td>6.0</td>\n",
       "      <td>64.042648</td>\n",
       "      <td>-1.0</td>\n",
       "      <td>-0.015615</td>\n",
       "    </tr>\n",
       "    <tr>\n",
       "      <th>163717</th>\n",
       "      <td>163717</td>\n",
       "      <td>NaN</td>\n",
       "      <td>NaN</td>\n",
       "      <td>NaN</td>\n",
       "      <td>NaN</td>\n",
       "      <td>NaN</td>\n",
       "      <td>NaN</td>\n",
       "      <td>NaN</td>\n",
       "      <td>NaN</td>\n",
       "      <td>NaN</td>\n",
       "      <td>...</td>\n",
       "      <td>NaN</td>\n",
       "      <td>NaN</td>\n",
       "      <td>NaN</td>\n",
       "      <td>36.155163</td>\n",
       "      <td>0.164904</td>\n",
       "      <td>1.119579</td>\n",
       "      <td>7.0</td>\n",
       "      <td>91.384377</td>\n",
       "      <td>-1.0</td>\n",
       "      <td>-0.010943</td>\n",
       "    </tr>\n",
       "    <tr>\n",
       "      <th>163718</th>\n",
       "      <td>163718</td>\n",
       "      <td>NaN</td>\n",
       "      <td>NaN</td>\n",
       "      <td>NaN</td>\n",
       "      <td>NaN</td>\n",
       "      <td>NaN</td>\n",
       "      <td>NaN</td>\n",
       "      <td>NaN</td>\n",
       "      <td>NaN</td>\n",
       "      <td>NaN</td>\n",
       "      <td>...</td>\n",
       "      <td>NaN</td>\n",
       "      <td>NaN</td>\n",
       "      <td>NaN</td>\n",
       "      <td>16.997568</td>\n",
       "      <td>176.192950</td>\n",
       "      <td>1.900932</td>\n",
       "      <td>8.0</td>\n",
       "      <td>15.788856</td>\n",
       "      <td>-1.0</td>\n",
       "      <td>-0.063336</td>\n",
       "    </tr>\n",
       "    <tr>\n",
       "      <th>163719</th>\n",
       "      <td>163719</td>\n",
       "      <td>0.146153</td>\n",
       "      <td>-0.146281</td>\n",
       "      <td>-0.013724</td>\n",
       "      <td>1.0</td>\n",
       "      <td>0.0</td>\n",
       "      <td>0.0</td>\n",
       "      <td>1.0</td>\n",
       "      <td>1.0</td>\n",
       "      <td>me0</td>\n",
       "      <td>...</td>\n",
       "      <td>NaN</td>\n",
       "      <td>NaN</td>\n",
       "      <td>NaN</td>\n",
       "      <td>10.638957</td>\n",
       "      <td>14.846953</td>\n",
       "      <td>2.373973</td>\n",
       "      <td>5.0</td>\n",
       "      <td>77.850128</td>\n",
       "      <td>1.0</td>\n",
       "      <td>0.012845</td>\n",
       "    </tr>\n",
       "    <tr>\n",
       "      <th>163720</th>\n",
       "      <td>163720</td>\n",
       "      <td>NaN</td>\n",
       "      <td>NaN</td>\n",
       "      <td>NaN</td>\n",
       "      <td>NaN</td>\n",
       "      <td>NaN</td>\n",
       "      <td>NaN</td>\n",
       "      <td>NaN</td>\n",
       "      <td>NaN</td>\n",
       "      <td>NaN</td>\n",
       "      <td>...</td>\n",
       "      <td>NaN</td>\n",
       "      <td>NaN</td>\n",
       "      <td>NaN</td>\n",
       "      <td>32.526846</td>\n",
       "      <td>114.299490</td>\n",
       "      <td>1.231935</td>\n",
       "      <td>6.0</td>\n",
       "      <td>62.945068</td>\n",
       "      <td>-1.0</td>\n",
       "      <td>-0.015887</td>\n",
       "    </tr>\n",
       "    <tr>\n",
       "      <th>163721</th>\n",
       "      <td>163721</td>\n",
       "      <td>0.240826</td>\n",
       "      <td>-0.252484</td>\n",
       "      <td>-0.022594</td>\n",
       "      <td>1.0</td>\n",
       "      <td>21.0</td>\n",
       "      <td>1.0</td>\n",
       "      <td>0.0</td>\n",
       "      <td>1.0</td>\n",
       "      <td>me0</td>\n",
       "      <td>...</td>\n",
       "      <td>NaN</td>\n",
       "      <td>NaN</td>\n",
       "      <td>NaN</td>\n",
       "      <td>10.601449</td>\n",
       "      <td>-7.832253</td>\n",
       "      <td>2.377525</td>\n",
       "      <td>5.0</td>\n",
       "      <td>47.796432</td>\n",
       "      <td>-1.0</td>\n",
       "      <td>-0.020922</td>\n",
       "    </tr>\n",
       "    <tr>\n",
       "      <th>163722</th>\n",
       "      <td>163722</td>\n",
       "      <td>NaN</td>\n",
       "      <td>NaN</td>\n",
       "      <td>NaN</td>\n",
       "      <td>NaN</td>\n",
       "      <td>NaN</td>\n",
       "      <td>NaN</td>\n",
       "      <td>NaN</td>\n",
       "      <td>NaN</td>\n",
       "      <td>NaN</td>\n",
       "      <td>...</td>\n",
       "      <td>NaN</td>\n",
       "      <td>NaN</td>\n",
       "      <td>NaN</td>\n",
       "      <td>16.033472</td>\n",
       "      <td>-19.667225</td>\n",
       "      <td>1.960140</td>\n",
       "      <td>7.0</td>\n",
       "      <td>80.385559</td>\n",
       "      <td>-1.0</td>\n",
       "      <td>-0.012440</td>\n",
       "    </tr>\n",
       "    <tr>\n",
       "      <th>163723</th>\n",
       "      <td>163723</td>\n",
       "      <td>NaN</td>\n",
       "      <td>NaN</td>\n",
       "      <td>NaN</td>\n",
       "      <td>NaN</td>\n",
       "      <td>NaN</td>\n",
       "      <td>NaN</td>\n",
       "      <td>NaN</td>\n",
       "      <td>NaN</td>\n",
       "      <td>NaN</td>\n",
       "      <td>...</td>\n",
       "      <td>0.0</td>\n",
       "      <td>1.0</td>\n",
       "      <td>re42re43</td>\n",
       "      <td>32.924471</td>\n",
       "      <td>-26.165355</td>\n",
       "      <td>1.219099</td>\n",
       "      <td>7.0</td>\n",
       "      <td>49.332352</td>\n",
       "      <td>1.0</td>\n",
       "      <td>0.020271</td>\n",
       "    </tr>\n",
       "    <tr>\n",
       "      <th>163724</th>\n",
       "      <td>163724</td>\n",
       "      <td>0.000000</td>\n",
       "      <td>0.071775</td>\n",
       "      <td>0.000000</td>\n",
       "      <td>1.0</td>\n",
       "      <td>0.0</td>\n",
       "      <td>0.0</td>\n",
       "      <td>1.0</td>\n",
       "      <td>1.0</td>\n",
       "      <td>me0</td>\n",
       "      <td>...</td>\n",
       "      <td>NaN</td>\n",
       "      <td>NaN</td>\n",
       "      <td>NaN</td>\n",
       "      <td>13.296372</td>\n",
       "      <td>102.609820</td>\n",
       "      <td>2.149381</td>\n",
       "      <td>2.0</td>\n",
       "      <td>68.323608</td>\n",
       "      <td>-1.0</td>\n",
       "      <td>-0.014636</td>\n",
       "    </tr>\n",
       "    <tr>\n",
       "      <th>163725</th>\n",
       "      <td>163725</td>\n",
       "      <td>NaN</td>\n",
       "      <td>NaN</td>\n",
       "      <td>NaN</td>\n",
       "      <td>NaN</td>\n",
       "      <td>NaN</td>\n",
       "      <td>NaN</td>\n",
       "      <td>NaN</td>\n",
       "      <td>NaN</td>\n",
       "      <td>NaN</td>\n",
       "      <td>...</td>\n",
       "      <td>1.0</td>\n",
       "      <td>1.0</td>\n",
       "      <td>re42re43</td>\n",
       "      <td>23.132822</td>\n",
       "      <td>20.834514</td>\n",
       "      <td>1.586409</td>\n",
       "      <td>9.0</td>\n",
       "      <td>69.668686</td>\n",
       "      <td>1.0</td>\n",
       "      <td>0.014354</td>\n",
       "    </tr>\n",
       "    <tr>\n",
       "      <th>163726</th>\n",
       "      <td>163726</td>\n",
       "      <td>NaN</td>\n",
       "      <td>NaN</td>\n",
       "      <td>NaN</td>\n",
       "      <td>NaN</td>\n",
       "      <td>NaN</td>\n",
       "      <td>NaN</td>\n",
       "      <td>NaN</td>\n",
       "      <td>NaN</td>\n",
       "      <td>NaN</td>\n",
       "      <td>...</td>\n",
       "      <td>1.0</td>\n",
       "      <td>1.0</td>\n",
       "      <td>re42re43</td>\n",
       "      <td>27.145916</td>\n",
       "      <td>124.794820</td>\n",
       "      <td>1.421193</td>\n",
       "      <td>9.0</td>\n",
       "      <td>24.129374</td>\n",
       "      <td>1.0</td>\n",
       "      <td>0.041443</td>\n",
       "    </tr>\n",
       "    <tr>\n",
       "      <th>163727</th>\n",
       "      <td>163727</td>\n",
       "      <td>NaN</td>\n",
       "      <td>NaN</td>\n",
       "      <td>NaN</td>\n",
       "      <td>NaN</td>\n",
       "      <td>NaN</td>\n",
       "      <td>NaN</td>\n",
       "      <td>NaN</td>\n",
       "      <td>NaN</td>\n",
       "      <td>NaN</td>\n",
       "      <td>...</td>\n",
       "      <td>1.0</td>\n",
       "      <td>1.0</td>\n",
       "      <td>re42re43</td>\n",
       "      <td>27.077446</td>\n",
       "      <td>-158.432605</td>\n",
       "      <td>1.423815</td>\n",
       "      <td>4.0</td>\n",
       "      <td>44.104702</td>\n",
       "      <td>-1.0</td>\n",
       "      <td>-0.022673</td>\n",
       "    </tr>\n",
       "    <tr>\n",
       "      <th>163728</th>\n",
       "      <td>163728</td>\n",
       "      <td>NaN</td>\n",
       "      <td>NaN</td>\n",
       "      <td>NaN</td>\n",
       "      <td>NaN</td>\n",
       "      <td>NaN</td>\n",
       "      <td>NaN</td>\n",
       "      <td>NaN</td>\n",
       "      <td>NaN</td>\n",
       "      <td>NaN</td>\n",
       "      <td>...</td>\n",
       "      <td>0.0</td>\n",
       "      <td>1.0</td>\n",
       "      <td>re42re43</td>\n",
       "      <td>28.474266</td>\n",
       "      <td>-133.288725</td>\n",
       "      <td>1.371491</td>\n",
       "      <td>10.0</td>\n",
       "      <td>82.694191</td>\n",
       "      <td>-1.0</td>\n",
       "      <td>-0.012093</td>\n",
       "    </tr>\n",
       "    <tr>\n",
       "      <th>163729</th>\n",
       "      <td>163729</td>\n",
       "      <td>NaN</td>\n",
       "      <td>NaN</td>\n",
       "      <td>NaN</td>\n",
       "      <td>NaN</td>\n",
       "      <td>NaN</td>\n",
       "      <td>NaN</td>\n",
       "      <td>NaN</td>\n",
       "      <td>NaN</td>\n",
       "      <td>NaN</td>\n",
       "      <td>...</td>\n",
       "      <td>NaN</td>\n",
       "      <td>NaN</td>\n",
       "      <td>NaN</td>\n",
       "      <td>17.050055</td>\n",
       "      <td>-15.934568</td>\n",
       "      <td>1.897803</td>\n",
       "      <td>7.0</td>\n",
       "      <td>89.582230</td>\n",
       "      <td>-1.0</td>\n",
       "      <td>-0.011163</td>\n",
       "    </tr>\n",
       "    <tr>\n",
       "      <th>163730</th>\n",
       "      <td>163730</td>\n",
       "      <td>NaN</td>\n",
       "      <td>NaN</td>\n",
       "      <td>NaN</td>\n",
       "      <td>NaN</td>\n",
       "      <td>NaN</td>\n",
       "      <td>NaN</td>\n",
       "      <td>NaN</td>\n",
       "      <td>NaN</td>\n",
       "      <td>NaN</td>\n",
       "      <td>...</td>\n",
       "      <td>NaN</td>\n",
       "      <td>NaN</td>\n",
       "      <td>NaN</td>\n",
       "      <td>36.968010</td>\n",
       "      <td>117.147360</td>\n",
       "      <td>1.095768</td>\n",
       "      <td>6.0</td>\n",
       "      <td>40.804878</td>\n",
       "      <td>-1.0</td>\n",
       "      <td>-0.024507</td>\n",
       "    </tr>\n",
       "    <tr>\n",
       "      <th>163731</th>\n",
       "      <td>163731</td>\n",
       "      <td>NaN</td>\n",
       "      <td>NaN</td>\n",
       "      <td>NaN</td>\n",
       "      <td>NaN</td>\n",
       "      <td>NaN</td>\n",
       "      <td>NaN</td>\n",
       "      <td>NaN</td>\n",
       "      <td>NaN</td>\n",
       "      <td>NaN</td>\n",
       "      <td>...</td>\n",
       "      <td>0.0</td>\n",
       "      <td>1.0</td>\n",
       "      <td>re42re43</td>\n",
       "      <td>30.701078</td>\n",
       "      <td>-149.867175</td>\n",
       "      <td>1.292743</td>\n",
       "      <td>9.0</td>\n",
       "      <td>38.369625</td>\n",
       "      <td>1.0</td>\n",
       "      <td>0.026062</td>\n",
       "    </tr>\n",
       "    <tr>\n",
       "      <th>163732</th>\n",
       "      <td>163732</td>\n",
       "      <td>NaN</td>\n",
       "      <td>NaN</td>\n",
       "      <td>NaN</td>\n",
       "      <td>NaN</td>\n",
       "      <td>NaN</td>\n",
       "      <td>NaN</td>\n",
       "      <td>NaN</td>\n",
       "      <td>NaN</td>\n",
       "      <td>NaN</td>\n",
       "      <td>...</td>\n",
       "      <td>0.0</td>\n",
       "      <td>1.0</td>\n",
       "      <td>re42re43</td>\n",
       "      <td>19.438308</td>\n",
       "      <td>-33.027797</td>\n",
       "      <td>1.764472</td>\n",
       "      <td>6.0</td>\n",
       "      <td>90.481941</td>\n",
       "      <td>-1.0</td>\n",
       "      <td>-0.011052</td>\n",
       "    </tr>\n",
       "    <tr>\n",
       "      <th>163733</th>\n",
       "      <td>163733</td>\n",
       "      <td>0.256043</td>\n",
       "      <td>-0.293745</td>\n",
       "      <td>-0.020171</td>\n",
       "      <td>1.0</td>\n",
       "      <td>57.0</td>\n",
       "      <td>0.0</td>\n",
       "      <td>1.0</td>\n",
       "      <td>1.0</td>\n",
       "      <td>me0</td>\n",
       "      <td>...</td>\n",
       "      <td>NaN</td>\n",
       "      <td>NaN</td>\n",
       "      <td>NaN</td>\n",
       "      <td>12.672078</td>\n",
       "      <td>91.677205</td>\n",
       "      <td>2.197885</td>\n",
       "      <td>5.0</td>\n",
       "      <td>62.820778</td>\n",
       "      <td>-1.0</td>\n",
       "      <td>-0.015918</td>\n",
       "    </tr>\n",
       "    <tr>\n",
       "      <th>163734</th>\n",
       "      <td>163734</td>\n",
       "      <td>0.312464</td>\n",
       "      <td>-0.194660</td>\n",
       "      <td>-0.030225</td>\n",
       "      <td>1.0</td>\n",
       "      <td>85.0</td>\n",
       "      <td>3.0</td>\n",
       "      <td>1.0</td>\n",
       "      <td>1.0</td>\n",
       "      <td>me0</td>\n",
       "      <td>...</td>\n",
       "      <td>NaN</td>\n",
       "      <td>NaN</td>\n",
       "      <td>NaN</td>\n",
       "      <td>10.239648</td>\n",
       "      <td>145.129790</td>\n",
       "      <td>2.412441</td>\n",
       "      <td>6.0</td>\n",
       "      <td>60.514774</td>\n",
       "      <td>1.0</td>\n",
       "      <td>0.016525</td>\n",
       "    </tr>\n",
       "    <tr>\n",
       "      <th>163735</th>\n",
       "      <td>163735</td>\n",
       "      <td>NaN</td>\n",
       "      <td>NaN</td>\n",
       "      <td>NaN</td>\n",
       "      <td>NaN</td>\n",
       "      <td>NaN</td>\n",
       "      <td>NaN</td>\n",
       "      <td>NaN</td>\n",
       "      <td>NaN</td>\n",
       "      <td>NaN</td>\n",
       "      <td>...</td>\n",
       "      <td>NaN</td>\n",
       "      <td>NaN</td>\n",
       "      <td>NaN</td>\n",
       "      <td>33.554930</td>\n",
       "      <td>97.198918</td>\n",
       "      <td>1.199025</td>\n",
       "      <td>7.0</td>\n",
       "      <td>93.747688</td>\n",
       "      <td>-1.0</td>\n",
       "      <td>-0.010667</td>\n",
       "    </tr>\n",
       "    <tr>\n",
       "      <th>163736</th>\n",
       "      <td>163736</td>\n",
       "      <td>NaN</td>\n",
       "      <td>NaN</td>\n",
       "      <td>NaN</td>\n",
       "      <td>NaN</td>\n",
       "      <td>NaN</td>\n",
       "      <td>NaN</td>\n",
       "      <td>NaN</td>\n",
       "      <td>NaN</td>\n",
       "      <td>NaN</td>\n",
       "      <td>...</td>\n",
       "      <td>1.0</td>\n",
       "      <td>1.0</td>\n",
       "      <td>re42re43</td>\n",
       "      <td>25.561912</td>\n",
       "      <td>83.790215</td>\n",
       "      <td>1.483491</td>\n",
       "      <td>5.0</td>\n",
       "      <td>2.892632</td>\n",
       "      <td>NaN</td>\n",
       "      <td>NaN</td>\n",
       "    </tr>\n",
       "  </tbody>\n",
       "</table>\n",
       "<p>163737 rows × 163 columns</p>\n",
       "</div>"
      ],
      "text/plain": [
       "         ve_id  delta_theta  delta_phi  delta_eta  vh_pattern  vh_quality  \\\n",
       "0            0          NaN        NaN        NaN         NaN         NaN   \n",
       "1            1    -0.344954   0.280825   0.023355         1.0        17.0   \n",
       "2            2          NaN        NaN        NaN         NaN         NaN   \n",
       "3            3     0.330953   0.040215  -0.031257         1.0         0.0   \n",
       "4            4    -0.204488   0.184381   0.015275         1.0         0.0   \n",
       "5            5     0.395316  -0.361645  -0.027399         1.0         0.0   \n",
       "6            6          NaN        NaN        NaN         NaN         NaN   \n",
       "7            7          NaN        NaN        NaN         NaN         NaN   \n",
       "8            8          NaN        NaN        NaN         NaN         NaN   \n",
       "9            9          NaN        NaN        NaN         NaN         NaN   \n",
       "10          10          NaN        NaN        NaN         NaN         NaN   \n",
       "11          11          NaN        NaN        NaN         NaN         NaN   \n",
       "12          12    -0.257476   0.242390   0.017432         1.0        18.0   \n",
       "13          13     0.106934   0.240967  -0.007734         1.0        52.0   \n",
       "14          14          NaN        NaN        NaN         NaN         NaN   \n",
       "15          15          NaN        NaN        NaN         NaN         NaN   \n",
       "16          16          NaN        NaN        NaN         NaN         NaN   \n",
       "17          17     0.261779  -0.211005  -0.024557         1.0         0.0   \n",
       "18          18     0.007130  -3.230444  -0.000488         1.0        15.0   \n",
       "19          19          NaN        NaN        NaN         NaN         NaN   \n",
       "20          20          NaN        NaN        NaN         NaN         NaN   \n",
       "21          21     0.134107   0.949910  -0.010758         1.0        75.0   \n",
       "22          22          NaN        NaN        NaN         NaN         NaN   \n",
       "23          23          NaN        NaN        NaN         NaN         NaN   \n",
       "24          24          NaN        NaN        NaN         NaN         NaN   \n",
       "25          25          NaN        NaN        NaN         NaN         NaN   \n",
       "26          26          NaN        NaN        NaN         NaN         NaN   \n",
       "27          27          NaN        NaN        NaN         NaN         NaN   \n",
       "28          28          NaN        NaN        NaN         NaN         NaN   \n",
       "29          29    -0.077333  -0.344425   0.005852         1.0         0.0   \n",
       "...        ...          ...        ...        ...         ...         ...   \n",
       "163707  163707     0.273543  -0.095295  -0.018738         1.0         0.0   \n",
       "163708  163708          NaN        NaN        NaN         NaN         NaN   \n",
       "163709  163709    -0.084323   0.168030   0.006383         1.0         0.0   \n",
       "163710  163710          NaN        NaN        NaN         NaN         NaN   \n",
       "163711  163711          NaN        NaN        NaN         NaN         NaN   \n",
       "163712  163712    -0.130288  -0.444524   0.009846         1.0         0.0   \n",
       "163713  163713    -0.050394   0.152201   0.003813         1.0         0.0   \n",
       "163714  163714          NaN        NaN        NaN         NaN         NaN   \n",
       "163715  163715          NaN        NaN        NaN         NaN         NaN   \n",
       "163716  163716          NaN        NaN        NaN         NaN         NaN   \n",
       "163717  163717          NaN        NaN        NaN         NaN         NaN   \n",
       "163718  163718          NaN        NaN        NaN         NaN         NaN   \n",
       "163719  163719     0.146153  -0.146281  -0.013724         1.0         0.0   \n",
       "163720  163720          NaN        NaN        NaN         NaN         NaN   \n",
       "163721  163721     0.240826  -0.252484  -0.022594         1.0        21.0   \n",
       "163722  163722          NaN        NaN        NaN         NaN         NaN   \n",
       "163723  163723          NaN        NaN        NaN         NaN         NaN   \n",
       "163724  163724     0.000000   0.071775   0.000000         1.0         0.0   \n",
       "163725  163725          NaN        NaN        NaN         NaN         NaN   \n",
       "163726  163726          NaN        NaN        NaN         NaN         NaN   \n",
       "163727  163727          NaN        NaN        NaN         NaN         NaN   \n",
       "163728  163728          NaN        NaN        NaN         NaN         NaN   \n",
       "163729  163729          NaN        NaN        NaN         NaN         NaN   \n",
       "163730  163730          NaN        NaN        NaN         NaN         NaN   \n",
       "163731  163731          NaN        NaN        NaN         NaN         NaN   \n",
       "163732  163732          NaN        NaN        NaN         NaN         NaN   \n",
       "163733  163733     0.256043  -0.293745  -0.020171         1.0        57.0   \n",
       "163734  163734     0.312464  -0.194660  -0.030225         1.0        85.0   \n",
       "163735  163735          NaN        NaN        NaN         NaN         NaN   \n",
       "163736  163736          NaN        NaN        NaN         NaN         NaN   \n",
       "\n",
       "        vh_bend  vh_fr  exist exist_name  ...  vh_fr_re42re43  exist_re42re43  \\\n",
       "0           NaN    NaN    NaN        NaN  ...             1.0             1.0   \n",
       "1          -3.0    1.0    1.0        me0  ...             NaN             NaN   \n",
       "2           NaN    NaN    NaN        NaN  ...             0.0             1.0   \n",
       "3           0.0    0.0    1.0        me0  ...             NaN             NaN   \n",
       "4           0.0    0.0    1.0        me0  ...             NaN             NaN   \n",
       "5           0.0    0.0    1.0        me0  ...             NaN             NaN   \n",
       "6           NaN    NaN    NaN        NaN  ...             1.0             1.0   \n",
       "7           NaN    NaN    NaN        NaN  ...             1.0             1.0   \n",
       "8           NaN    NaN    NaN        NaN  ...             NaN             NaN   \n",
       "9           NaN    NaN    NaN        NaN  ...             1.0             1.0   \n",
       "10          NaN    NaN    NaN        NaN  ...             NaN             NaN   \n",
       "11          NaN    NaN    NaN        NaN  ...             NaN             NaN   \n",
       "12         -2.0    1.0    1.0        me0  ...             NaN             NaN   \n",
       "13          0.0    0.0    1.0        me0  ...             NaN             NaN   \n",
       "14          NaN    NaN    NaN        NaN  ...             NaN             NaN   \n",
       "15          NaN    NaN    NaN        NaN  ...             1.0             1.0   \n",
       "16          NaN    NaN    NaN        NaN  ...             0.0             1.0   \n",
       "17          0.0    0.0    1.0        me0  ...             NaN             NaN   \n",
       "18          5.0    0.0    1.0        me0  ...             NaN             NaN   \n",
       "19          NaN    NaN    NaN        NaN  ...             1.0             1.0   \n",
       "20          NaN    NaN    NaN        NaN  ...             NaN             NaN   \n",
       "21         -1.0    0.0    1.0        me0  ...             NaN             NaN   \n",
       "22          NaN    NaN    NaN        NaN  ...             NaN             NaN   \n",
       "23          NaN    NaN    NaN        NaN  ...             1.0             1.0   \n",
       "24          NaN    NaN    NaN        NaN  ...             1.0             1.0   \n",
       "25          NaN    NaN    NaN        NaN  ...             1.0             1.0   \n",
       "26          NaN    NaN    NaN        NaN  ...             1.0             1.0   \n",
       "27          NaN    NaN    NaN        NaN  ...             0.0             1.0   \n",
       "28          NaN    NaN    NaN        NaN  ...             0.0             1.0   \n",
       "29          0.0    0.0    1.0        me0  ...             NaN             NaN   \n",
       "...         ...    ...    ...        ...  ...             ...             ...   \n",
       "163707      0.0    0.0    1.0        me0  ...             NaN             NaN   \n",
       "163708      NaN    NaN    NaN        NaN  ...             NaN             NaN   \n",
       "163709      0.0    1.0    1.0        me0  ...             NaN             NaN   \n",
       "163710      NaN    NaN    NaN        NaN  ...             NaN             NaN   \n",
       "163711      NaN    NaN    NaN        NaN  ...             NaN             NaN   \n",
       "163712      0.0    0.0    1.0        me0  ...             NaN             NaN   \n",
       "163713      0.0    1.0    1.0        me0  ...             NaN             NaN   \n",
       "163714      NaN    NaN    NaN        NaN  ...             NaN             NaN   \n",
       "163715      NaN    NaN    NaN        NaN  ...             NaN             NaN   \n",
       "163716      NaN    NaN    NaN        NaN  ...             NaN             NaN   \n",
       "163717      NaN    NaN    NaN        NaN  ...             NaN             NaN   \n",
       "163718      NaN    NaN    NaN        NaN  ...             NaN             NaN   \n",
       "163719      0.0    1.0    1.0        me0  ...             NaN             NaN   \n",
       "163720      NaN    NaN    NaN        NaN  ...             NaN             NaN   \n",
       "163721      1.0    0.0    1.0        me0  ...             NaN             NaN   \n",
       "163722      NaN    NaN    NaN        NaN  ...             NaN             NaN   \n",
       "163723      NaN    NaN    NaN        NaN  ...             0.0             1.0   \n",
       "163724      0.0    1.0    1.0        me0  ...             NaN             NaN   \n",
       "163725      NaN    NaN    NaN        NaN  ...             1.0             1.0   \n",
       "163726      NaN    NaN    NaN        NaN  ...             1.0             1.0   \n",
       "163727      NaN    NaN    NaN        NaN  ...             1.0             1.0   \n",
       "163728      NaN    NaN    NaN        NaN  ...             0.0             1.0   \n",
       "163729      NaN    NaN    NaN        NaN  ...             NaN             NaN   \n",
       "163730      NaN    NaN    NaN        NaN  ...             NaN             NaN   \n",
       "163731      NaN    NaN    NaN        NaN  ...             0.0             1.0   \n",
       "163732      NaN    NaN    NaN        NaN  ...             0.0             1.0   \n",
       "163733      0.0    1.0    1.0        me0  ...             NaN             NaN   \n",
       "163734      3.0    1.0    1.0        me0  ...             NaN             NaN   \n",
       "163735      NaN    NaN    NaN        NaN  ...             NaN             NaN   \n",
       "163736      NaN    NaN    NaN        NaN  ...             1.0             1.0   \n",
       "\n",
       "        exist_name_re42re43  theta_median  phi_median  eta_median  \\\n",
       "0                  re42re43     22.381725  141.058455    1.620299   \n",
       "1                       NaN     15.110317 -141.673995    2.020179   \n",
       "2                  re42re43     21.016869 -110.063550    1.684747   \n",
       "3                       NaN     10.484757  113.099700    2.388656   \n",
       "4                       NaN     13.612605   47.813921    2.125661   \n",
       "5                       NaN     14.388595  -82.739825    2.069663   \n",
       "6                  re42re43     21.175463  138.888345    1.677060   \n",
       "7                  re42re43     32.415860  159.130200    1.235543   \n",
       "8                       NaN           NaN         NaN         NaN   \n",
       "9                  re42re43     18.969759   95.155700    1.789335   \n",
       "10                      NaN     24.973456   -6.401951    1.507551   \n",
       "11                      NaN     34.508940   63.602818    1.169269   \n",
       "12                      NaN     15.068189  -65.088550    2.023001   \n",
       "13                      NaN     13.910934   78.338613    2.103770   \n",
       "14                      NaN     28.113377  -36.143538    1.384779   \n",
       "15                 re42re43     29.765286 -176.914270    1.325180   \n",
       "16                 re42re43     17.658613  -12.466813    1.862191   \n",
       "17                      NaN     10.592312  -88.199675    2.378392   \n",
       "18                      NaN     14.755083 -115.929430    2.044238   \n",
       "19                 re42re43     23.039959  -77.338960    1.590540   \n",
       "20                      NaN     36.538559   -9.833919    1.108288   \n",
       "21                      NaN     12.499372    5.268401    2.211719   \n",
       "22                      NaN     33.298300  155.296350    1.207154   \n",
       "23                 re42re43     23.270005  120.198007    1.580332   \n",
       "24                 re42re43     17.394592  -79.398515    1.877492   \n",
       "25                 re42re43     27.205833   80.138080    1.418903   \n",
       "26                 re42re43     22.866474  -80.461754    1.598304   \n",
       "27                 re42re43     21.682045   45.929790    1.652855   \n",
       "28                 re42re43     18.335256 -134.464325    1.823964   \n",
       "29                      NaN     13.373705   77.662830    2.143529   \n",
       "...                     ...           ...         ...         ...   \n",
       "163707                  NaN     14.624681  -47.799778    2.053213   \n",
       "163708                  NaN     26.850828  141.795260    1.432538   \n",
       "163709                  NaN     13.371843  -61.798775    2.143670   \n",
       "163710                  NaN     19.239065  -78.348445    1.774974   \n",
       "163711                  NaN     15.544653  -33.666298    1.991497   \n",
       "163712                  NaN     13.418500 -117.819590    2.140154   \n",
       "163713                  NaN     13.335582   21.057848    2.146417   \n",
       "163714                  NaN     15.768400  110.531810    1.977026   \n",
       "163715                  NaN     31.620956  176.260345    1.261712   \n",
       "163716                  NaN     36.737916  -96.890377    1.102467   \n",
       "163717                  NaN     36.155163    0.164904    1.119579   \n",
       "163718                  NaN     16.997568  176.192950    1.900932   \n",
       "163719                  NaN     10.638957   14.846953    2.373973   \n",
       "163720                  NaN     32.526846  114.299490    1.231935   \n",
       "163721                  NaN     10.601449   -7.832253    2.377525   \n",
       "163722                  NaN     16.033472  -19.667225    1.960140   \n",
       "163723             re42re43     32.924471  -26.165355    1.219099   \n",
       "163724                  NaN     13.296372  102.609820    2.149381   \n",
       "163725             re42re43     23.132822   20.834514    1.586409   \n",
       "163726             re42re43     27.145916  124.794820    1.421193   \n",
       "163727             re42re43     27.077446 -158.432605    1.423815   \n",
       "163728             re42re43     28.474266 -133.288725    1.371491   \n",
       "163729                  NaN     17.050055  -15.934568    1.897803   \n",
       "163730                  NaN     36.968010  117.147360    1.095768   \n",
       "163731             re42re43     30.701078 -149.867175    1.292743   \n",
       "163732             re42re43     19.438308  -33.027797    1.764472   \n",
       "163733                  NaN     12.672078   91.677205    2.197885   \n",
       "163734                  NaN     10.239648  145.129790    2.412441   \n",
       "163735                  NaN     33.554930   97.198918    1.199025   \n",
       "163736             re42re43     25.561912   83.790215    1.483491   \n",
       "\n",
       "        median_virtual_station         pt    q      q/pt  \n",
       "0                          7.0  30.163197  1.0  0.033153  \n",
       "1                          6.0  45.874340  1.0  0.021799  \n",
       "2                          6.0  89.106621 -1.0 -0.011223  \n",
       "3                         10.0  58.869408  1.0  0.016987  \n",
       "4                          5.0  57.881783  1.0  0.017277  \n",
       "5                          9.0  50.196407 -1.0 -0.019922  \n",
       "6                          5.0  72.260803  1.0  0.013839  \n",
       "7                          9.0  28.016636  1.0  0.035693  \n",
       "8                          NaN  88.643768 -1.0 -0.011281  \n",
       "9                         10.0  68.142036  1.0  0.014675  \n",
       "10                         8.0  76.107056  1.0  0.013139  \n",
       "11                         6.0   5.580204  1.0  0.179205  \n",
       "12                         2.0  17.302628  1.0  0.057795  \n",
       "13                         6.0  52.789883  1.0  0.018943  \n",
       "14                         8.0  49.285294  1.0  0.020290  \n",
       "15                         6.0  76.640167 -1.0 -0.013048  \n",
       "16                         9.0  29.404547 -1.0 -0.034008  \n",
       "17                         6.0  49.485443 -1.0 -0.020208  \n",
       "18                         7.0   5.020916 -1.0 -0.199167  \n",
       "19                        10.0  93.225235  1.0  0.010727  \n",
       "20                         6.0  45.828392 -1.0 -0.021821  \n",
       "21                         7.0  18.860706  1.0  0.053020  \n",
       "22                         7.0  31.684862 -1.0 -0.031561  \n",
       "23                         9.0  89.056755 -1.0 -0.011229  \n",
       "24                         6.0  38.083904 -1.0 -0.026258  \n",
       "25                         7.0  69.183578 -1.0 -0.014454  \n",
       "26                         9.0  85.672638  1.0  0.011672  \n",
       "27                         9.0  86.499672 -1.0 -0.011561  \n",
       "28                         7.0  69.126648  1.0  0.014466  \n",
       "29                         8.0  22.159410 -1.0 -0.045128  \n",
       "...                        ...        ...  ...       ...  \n",
       "163707                     9.0  79.004417  1.0  0.012658  \n",
       "163708                     9.0  30.394482  1.0  0.032901  \n",
       "163709                     7.0  83.773994 -1.0 -0.011937  \n",
       "163710                     6.0  14.102129  1.0  0.070911  \n",
       "163711                     6.0   8.774992 -1.0 -0.113960  \n",
       "163712                     5.0  38.677494  1.0  0.025855  \n",
       "163713                     8.0  95.864204 -1.0 -0.010431  \n",
       "163714                     6.0  93.236938  1.0  0.010725  \n",
       "163715                     9.0  64.504753 -1.0 -0.015503  \n",
       "163716                     6.0  64.042648 -1.0 -0.015615  \n",
       "163717                     7.0  91.384377 -1.0 -0.010943  \n",
       "163718                     8.0  15.788856 -1.0 -0.063336  \n",
       "163719                     5.0  77.850128  1.0  0.012845  \n",
       "163720                     6.0  62.945068 -1.0 -0.015887  \n",
       "163721                     5.0  47.796432 -1.0 -0.020922  \n",
       "163722                     7.0  80.385559 -1.0 -0.012440  \n",
       "163723                     7.0  49.332352  1.0  0.020271  \n",
       "163724                     2.0  68.323608 -1.0 -0.014636  \n",
       "163725                     9.0  69.668686  1.0  0.014354  \n",
       "163726                     9.0  24.129374  1.0  0.041443  \n",
       "163727                     4.0  44.104702 -1.0 -0.022673  \n",
       "163728                    10.0  82.694191 -1.0 -0.012093  \n",
       "163729                     7.0  89.582230 -1.0 -0.011163  \n",
       "163730                     6.0  40.804878 -1.0 -0.024507  \n",
       "163731                     9.0  38.369625  1.0  0.026062  \n",
       "163732                     6.0  90.481941 -1.0 -0.011052  \n",
       "163733                     5.0  62.820778 -1.0 -0.015918  \n",
       "163734                     6.0  60.514774  1.0  0.016525  \n",
       "163735                     7.0  93.747688 -1.0 -0.010667  \n",
       "163736                     5.0   2.892632  NaN       NaN  \n",
       "\n",
       "[163737 rows x 163 columns]"
      ]
     },
     "execution_count": 123,
     "metadata": {},
     "output_type": "execute_result"
    }
   ],
   "source": [
    "tracks"
   ]
  },
  {
   "cell_type": "markdown",
   "metadata": {},
   "source": [
    "# Output mega data for Factory"
   ]
  },
  {
   "cell_type": "code",
   "execution_count": 144,
   "metadata": {
    "ExecuteTime": {
     "end_time": "2019-05-29T15:51:47.439380Z",
     "start_time": "2019-05-29T15:51:47.435165Z"
    }
   },
   "outputs": [
    {
     "data": {
      "text/plain": [
       "(163736, 166)"
      ]
     },
     "execution_count": 144,
     "metadata": {},
     "output_type": "execute_result"
    }
   ],
   "source": [
    "tracks.shape"
   ]
  },
  {
   "cell_type": "code",
   "execution_count": 145,
   "metadata": {
    "ExecuteTime": {
     "end_time": "2019-05-29T15:51:54.216939Z",
     "start_time": "2019-05-29T15:51:54.212220Z"
    }
   },
   "outputs": [
    {
     "data": {
      "text/plain": [
       "Index(['ve_id', 'delta_theta', 'delta_phi', 'delta_eta', 'vh_pattern',\n",
       "       'vh_quality', 'vh_bend', 'vh_fr', 'exist', 'exist_name',\n",
       "       ...\n",
       "       'theta_median', 'phi_median', 'eta_median', 'median_station',\n",
       "       'median_type', 'median_ring', 'median_virtual_station', 'pt', 'q',\n",
       "       'q/pt'],\n",
       "      dtype='object', length=166)"
      ]
     },
     "execution_count": 145,
     "metadata": {},
     "output_type": "execute_result"
    }
   ],
   "source": [
    "tracks.columns"
   ]
  },
  {
   "cell_type": "code",
   "execution_count": 124,
   "metadata": {
    "ExecuteTime": {
     "end_time": "2019-05-29T20:41:10.365647Z",
     "start_time": "2019-05-29T20:40:47.585539Z"
    }
   },
   "outputs": [],
   "source": [
    "tracks.to_csv('tracks_mega.csv')"
   ]
  },
  {
   "cell_type": "code",
   "execution_count": null,
   "metadata": {},
   "outputs": [],
   "source": []
  }
 ],
 "metadata": {
  "kernelspec": {
   "display_name": "Python 3",
   "language": "python",
   "name": "python3"
  },
  "language_info": {
   "codemirror_mode": {
    "name": "ipython",
    "version": 3
   },
   "file_extension": ".py",
   "mimetype": "text/x-python",
   "name": "python",
   "nbconvert_exporter": "python",
   "pygments_lexer": "ipython3",
   "version": "3.6.8"
  },
  "toc": {
   "base_numbering": 1,
   "nav_menu": {},
   "number_sections": true,
   "sideBar": true,
   "skip_h1_title": false,
   "title_cell": "Table of Contents",
   "title_sidebar": "Contents",
   "toc_cell": false,
   "toc_position": {
    "height": "calc(100% - 180px)",
    "left": "10px",
    "top": "150px",
    "width": "370.59375px"
   },
   "toc_section_display": true,
   "toc_window_display": true
  },
  "varInspector": {
   "cols": {
    "lenName": 16,
    "lenType": 16,
    "lenVar": 40
   },
   "kernels_config": {
    "python": {
     "delete_cmd_postfix": "",
     "delete_cmd_prefix": "del ",
     "library": "var_list.py",
     "varRefreshCmd": "print(var_dic_list())"
    },
    "r": {
     "delete_cmd_postfix": ") ",
     "delete_cmd_prefix": "rm(",
     "library": "var_list.r",
     "varRefreshCmd": "cat(var_dic_list()) "
    }
   },
   "position": {
    "height": "537px",
    "left": "1338px",
    "right": "20px",
    "top": "120px",
    "width": "322px"
   },
   "types_to_exclude": [
    "module",
    "function",
    "builtin_function_or_method",
    "instance",
    "_Feature"
   ],
   "window_display": false
  }
 },
 "nbformat": 4,
 "nbformat_minor": 2
}
