{
 "cells": [
  {
   "cell_type": "code",
   "execution_count": 170,
   "metadata": {
    "ExecuteTime": {
     "end_time": "2019-05-29T20:42:57.364327Z",
     "start_time": "2019-05-29T20:42:57.287735Z"
    }
   },
   "outputs": [],
   "source": [
    "import numpy as np\n",
    "import pandas as pd\n",
    "from sklearn.preprocessing import MinMaxScaler, normalize\n",
    "from sklearn.metrics import mean_squared_error"
   ]
  },
  {
   "cell_type": "code",
   "execution_count": 171,
   "metadata": {
    "ExecuteTime": {
     "end_time": "2019-05-29T20:42:58.035897Z",
     "start_time": "2019-05-29T20:42:58.002277Z"
    }
   },
   "outputs": [],
   "source": [
    "# configure plots\n",
    "import matplotlib.pyplot as plt\n",
    "%matplotlib inline\n",
    "from matplotlib.pylab import rcParams\n",
    "rcParams['figure.figsize'] = 6,4"
   ]
  },
  {
   "cell_type": "markdown",
   "metadata": {},
   "source": [
    "# Data"
   ]
  },
  {
   "cell_type": "markdown",
   "metadata": {},
   "source": [
    "## Raw Data"
   ]
  },
  {
   "cell_type": "code",
   "execution_count": 172,
   "metadata": {
    "ExecuteTime": {
     "end_time": "2019-05-29T20:42:59.947706Z",
     "start_time": "2019-05-29T20:42:58.615196Z"
    }
   },
   "outputs": [],
   "source": [
    "X = pd.read_csv('./9_Station/X.csv', index_col=0)\n",
    "y = pd.read_csv('./9_Station/y.csv', index_col=0)"
   ]
  },
  {
   "cell_type": "code",
   "execution_count": 173,
   "metadata": {
    "ExecuteTime": {
     "end_time": "2019-05-29T20:43:01.122590Z",
     "start_time": "2019-05-29T20:43:01.101047Z"
    }
   },
   "outputs": [
    {
     "data": {
      "text/html": [
       "<div>\n",
       "<style scoped>\n",
       "    .dataframe tbody tr th:only-of-type {\n",
       "        vertical-align: middle;\n",
       "    }\n",
       "\n",
       "    .dataframe tbody tr th {\n",
       "        vertical-align: top;\n",
       "    }\n",
       "\n",
       "    .dataframe thead th {\n",
       "        text-align: right;\n",
       "    }\n",
       "</style>\n",
       "<table border=\"1\" class=\"dataframe\">\n",
       "  <thead>\n",
       "    <tr style=\"text-align: right;\">\n",
       "      <th></th>\n",
       "      <th>pt</th>\n",
       "      <th>q</th>\n",
       "      <th>q/pt</th>\n",
       "      <th>eta_median</th>\n",
       "      <th>phi_median</th>\n",
       "      <th>theta_median</th>\n",
       "      <th>hit_count</th>\n",
       "    </tr>\n",
       "  </thead>\n",
       "  <tbody>\n",
       "    <tr>\n",
       "      <th>0</th>\n",
       "      <td>30.163197</td>\n",
       "      <td>1.0</td>\n",
       "      <td>0.033153</td>\n",
       "      <td>1.620299</td>\n",
       "      <td>141.058455</td>\n",
       "      <td>22.381725</td>\n",
       "      <td>6.0</td>\n",
       "    </tr>\n",
       "    <tr>\n",
       "      <th>1</th>\n",
       "      <td>45.874340</td>\n",
       "      <td>1.0</td>\n",
       "      <td>0.021799</td>\n",
       "      <td>2.020179</td>\n",
       "      <td>-141.673995</td>\n",
       "      <td>15.110317</td>\n",
       "      <td>8.0</td>\n",
       "    </tr>\n",
       "    <tr>\n",
       "      <th>2</th>\n",
       "      <td>89.106621</td>\n",
       "      <td>-1.0</td>\n",
       "      <td>-0.011223</td>\n",
       "      <td>1.684747</td>\n",
       "      <td>-110.063550</td>\n",
       "      <td>21.016869</td>\n",
       "      <td>7.0</td>\n",
       "    </tr>\n",
       "    <tr>\n",
       "      <th>3</th>\n",
       "      <td>58.869408</td>\n",
       "      <td>1.0</td>\n",
       "      <td>0.016987</td>\n",
       "      <td>2.388656</td>\n",
       "      <td>113.099700</td>\n",
       "      <td>10.484757</td>\n",
       "      <td>8.0</td>\n",
       "    </tr>\n",
       "    <tr>\n",
       "      <th>4</th>\n",
       "      <td>57.881783</td>\n",
       "      <td>1.0</td>\n",
       "      <td>0.017277</td>\n",
       "      <td>2.125661</td>\n",
       "      <td>47.813921</td>\n",
       "      <td>13.612605</td>\n",
       "      <td>8.0</td>\n",
       "    </tr>\n",
       "  </tbody>\n",
       "</table>\n",
       "</div>"
      ],
      "text/plain": [
       "          pt    q      q/pt  eta_median  phi_median  theta_median  hit_count\n",
       "0  30.163197  1.0  0.033153    1.620299  141.058455     22.381725        6.0\n",
       "1  45.874340  1.0  0.021799    2.020179 -141.673995     15.110317        8.0\n",
       "2  89.106621 -1.0 -0.011223    1.684747 -110.063550     21.016869        7.0\n",
       "3  58.869408  1.0  0.016987    2.388656  113.099700     10.484757        8.0\n",
       "4  57.881783  1.0  0.017277    2.125661   47.813921     13.612605        8.0"
      ]
     },
     "execution_count": 173,
     "metadata": {},
     "output_type": "execute_result"
    }
   ],
   "source": [
    "y.head()"
   ]
  },
  {
   "cell_type": "code",
   "execution_count": 174,
   "metadata": {
    "ExecuteTime": {
     "end_time": "2019-05-29T20:43:04.314231Z",
     "start_time": "2019-05-29T20:43:04.288994Z"
    }
   },
   "outputs": [],
   "source": [
    "scaler = MinMaxScaler(feature_range=(-1, 1))\n",
    "y_standard = scaler.fit_transform(pd.DataFrame(y['pt']))\n",
    "y_standard = pd.DataFrame(y_standard, columns=['pt_s'], index=y.index)\n",
    "y['pt_s'] = y_standard['pt_s']"
   ]
  },
  {
   "cell_type": "code",
   "execution_count": 175,
   "metadata": {
    "ExecuteTime": {
     "end_time": "2019-05-29T20:43:05.537065Z",
     "start_time": "2019-05-29T20:43:05.496393Z"
    }
   },
   "outputs": [],
   "source": [
    "X = X.fillna(0)\n",
    "# X = normalize(X)"
   ]
  },
  {
   "cell_type": "markdown",
   "metadata": {},
   "source": [
    "## Train Test Split"
   ]
  },
  {
   "cell_type": "code",
   "execution_count": 176,
   "metadata": {
    "ExecuteTime": {
     "end_time": "2019-05-29T20:43:06.936573Z",
     "start_time": "2019-05-29T20:43:06.864248Z"
    }
   },
   "outputs": [],
   "source": [
    "from sklearn.model_selection import train_test_split\n",
    "X_train, X_test, y_train, y_test = train_test_split(X, y, test_size=0.2, random_state = 1)"
   ]
  },
  {
   "cell_type": "markdown",
   "metadata": {},
   "source": [
    "# Baseline Model"
   ]
  },
  {
   "cell_type": "code",
   "execution_count": 146,
   "metadata": {
    "ExecuteTime": {
     "end_time": "2019-05-19T19:20:19.309850Z",
     "start_time": "2019-05-19T19:20:19.306720Z"
    }
   },
   "outputs": [],
   "source": [
    "from sklearn.ensemble import RandomForestRegressor\n",
    "regressor_RF = RandomForestRegressor(n_estimators = 80, max_depth = 10)"
   ]
  },
  {
   "cell_type": "markdown",
   "metadata": {},
   "source": [
    "## Predict pt"
   ]
  },
  {
   "cell_type": "code",
   "execution_count": 147,
   "metadata": {
    "ExecuteTime": {
     "end_time": "2019-05-19T19:20:59.063477Z",
     "start_time": "2019-05-19T19:20:20.356680Z"
    }
   },
   "outputs": [
    {
     "data": {
      "text/plain": [
       "RandomForestRegressor(bootstrap=True, criterion='mse', max_depth=10,\n",
       "           max_features='auto', max_leaf_nodes=None,\n",
       "           min_impurity_decrease=0.0, min_impurity_split=None,\n",
       "           min_samples_leaf=1, min_samples_split=2,\n",
       "           min_weight_fraction_leaf=0.0, n_estimators=80, n_jobs=None,\n",
       "           oob_score=False, random_state=None, verbose=0, warm_start=False)"
      ]
     },
     "execution_count": 147,
     "metadata": {},
     "output_type": "execute_result"
    }
   ],
   "source": [
    "regressor_RF.fit(X_train, y_train['pt'])"
   ]
  },
  {
   "cell_type": "code",
   "execution_count": 148,
   "metadata": {
    "ExecuteTime": {
     "end_time": "2019-05-19T19:28:21.388262Z",
     "start_time": "2019-05-19T19:28:21.302680Z"
    }
   },
   "outputs": [],
   "source": [
    "y_pred = regressor_RF.predict(X_test)"
   ]
  },
  {
   "cell_type": "markdown",
   "metadata": {},
   "source": [
    "# Visualize Baseline Model"
   ]
  },
  {
   "cell_type": "code",
   "execution_count": 185,
   "metadata": {
    "ExecuteTime": {
     "end_time": "2019-05-29T20:51:49.790469Z",
     "start_time": "2019-05-29T20:51:49.773491Z"
    }
   },
   "outputs": [],
   "source": [
    "visual = y_test.reset_index()"
   ]
  },
  {
   "cell_type": "markdown",
   "metadata": {},
   "source": [
    "## Predict pt"
   ]
  },
  {
   "cell_type": "code",
   "execution_count": 203,
   "metadata": {
    "ExecuteTime": {
     "end_time": "2019-05-29T22:39:07.602679Z",
     "start_time": "2019-05-29T22:39:07.596596Z"
    }
   },
   "outputs": [],
   "source": [
    "visual['pt_pred'] = scaler.inverse_transform(pd.DataFrame(y_pred))"
   ]
  },
  {
   "cell_type": "code",
   "execution_count": 204,
   "metadata": {
    "ExecuteTime": {
     "end_time": "2019-05-29T22:39:08.051044Z",
     "start_time": "2019-05-29T22:39:08.046240Z"
    }
   },
   "outputs": [],
   "source": [
    "visual['q/pt_pred'] = visual['q'] / visual['pt_pred']"
   ]
  },
  {
   "cell_type": "code",
   "execution_count": 205,
   "metadata": {
    "ExecuteTime": {
     "end_time": "2019-05-29T22:39:08.407452Z",
     "start_time": "2019-05-29T22:39:08.402506Z"
    }
   },
   "outputs": [],
   "source": [
    "visual['delta_1/pt'] = 1/visual['pt'] - 1/visual['pt_pred']"
   ]
  },
  {
   "cell_type": "code",
   "execution_count": 206,
   "metadata": {
    "ExecuteTime": {
     "end_time": "2019-05-29T22:39:08.753196Z",
     "start_time": "2019-05-29T22:39:08.748615Z"
    }
   },
   "outputs": [],
   "source": [
    "visual['relative_delta'] = (visual['pt_pred'] - visual['pt']) / visual['pt']"
   ]
  },
  {
   "cell_type": "code",
   "execution_count": 207,
   "metadata": {
    "ExecuteTime": {
     "end_time": "2019-05-29T22:39:09.816461Z",
     "start_time": "2019-05-29T22:39:09.591691Z"
    }
   },
   "outputs": [
    {
     "data": {
      "image/png": "[encoded data removed]",
      "text/plain": [
       "<Figure size 432x288 with 1 Axes>"
      ]
     },
     "metadata": {
      "needs_background": "light"
     },
     "output_type": "display_data"
    }
   ],
   "source": [
    "visual_sample = visual.sample(n = 10000)\n",
    "fig, ax = plt.subplots()\n",
    "line = [0, 100]\n",
    "ax.plot(line, line)\n",
    "ax.scatter(visual_sample['pt'], \n",
    "           visual_sample['pt_pred'], \n",
    "#            c = visual_sample['hit_count'], \n",
    "           cmap = 'copper', \n",
    "           s = 2, \n",
    "           alpha = 1\n",
    "          )\n",
    "# plt.ylim(-1, 1)\n",
    "ax.grid(True)"
   ]
  },
  {
   "cell_type": "markdown",
   "metadata": {},
   "source": [
    "## Bias and Resolution"
   ]
  },
  {
   "cell_type": "code",
   "execution_count": 208,
   "metadata": {
    "ExecuteTime": {
     "end_time": "2019-05-29T22:39:13.664895Z",
     "start_time": "2019-05-29T22:39:13.661869Z"
    }
   },
   "outputs": [],
   "source": [
    "points = range(2, 100)\n",
    "bias = []\n",
    "resolution = []"
   ]
  },
  {
   "cell_type": "code",
   "execution_count": 209,
   "metadata": {
    "ExecuteTime": {
     "end_time": "2019-05-29T22:39:14.586247Z",
     "start_time": "2019-05-29T22:39:14.426172Z"
    }
   },
   "outputs": [],
   "source": [
    "for i in points:\n",
    "    temp = visual[(visual['pt']>i) & (visual['pt']<i+1)]\n",
    "    bias.append(temp['delta_1/pt'].mean())\n",
    "    resolution.append(temp['delta_1/pt'].std())\n",
    "#     resolution.append((temp['delta_1/pt'].max() - temp['delta_1/pt'].min())/2)"
   ]
  },
  {
   "cell_type": "code",
   "execution_count": 212,
   "metadata": {
    "ExecuteTime": {
     "end_time": "2019-05-29T22:49:19.431908Z",
     "start_time": "2019-05-29T22:49:18.665019Z"
    }
   },
   "outputs": [
    {
     "data": {
      "image/png": "[encoded data removed]",
      "text/plain": [
       "<Figure size 432x288 with 1 Axes>"
      ]
     },
     "metadata": {
      "needs_background": "light"
     },
     "output_type": "display_data"
    }
   ],
   "source": [
    "fig, ax = plt.subplots()\n",
    "ax.errorbar(points, bias, color='firebrick', yerr=resolution, errorevery=2)\n",
    "plt.ylim(-0.1, 0.2)\n",
    "ax.set(xlabel=r'gen $p_t$ [GeV]', ylabel=r' $\\Delta(p_t)/p_t$ bias')\n",
    "ax.grid(True)\n",
    "# ax.set_title('all errorbars')\n",
    "fig.savefig('9s_nn.jpg', format='jpg', dpi=900)"
   ]
  },
  {
   "cell_type": "markdown",
   "metadata": {},
   "source": [
    "# NN"
   ]
  },
  {
   "cell_type": "code",
   "execution_count": 198,
   "metadata": {
    "ExecuteTime": {
     "end_time": "2019-05-29T22:19:54.772866Z",
     "start_time": "2019-05-29T22:19:54.760886Z"
    }
   },
   "outputs": [],
   "source": [
    "import keras\n",
    "from keras.models import Sequential\n",
    "from keras.layers import Dense\n",
    "from keras import regularizers\n",
    "from keras.wrappers.scikit_learn import KerasRegressor"
   ]
  },
  {
   "cell_type": "code",
   "execution_count": 199,
   "metadata": {
    "ExecuteTime": {
     "end_time": "2019-05-29T22:19:55.270108Z",
     "start_time": "2019-05-29T22:19:55.266195Z"
    }
   },
   "outputs": [
    {
     "data": {
      "text/plain": [
       "(138011, 37)"
      ]
     },
     "execution_count": 199,
     "metadata": {},
     "output_type": "execute_result"
    }
   ],
   "source": [
    "X.shape"
   ]
  },
  {
   "cell_type": "code",
   "execution_count": 200,
   "metadata": {
    "ExecuteTime": {
     "end_time": "2019-05-29T22:19:56.006616Z",
     "start_time": "2019-05-29T22:19:55.989615Z"
    }
   },
   "outputs": [],
   "source": [
    "# 搭建模型\n",
    "def create_model():\n",
    "    classifier = Sequential()\n",
    "    # 输入层及第一个隐藏层\n",
    "    classifier.add(Dense(activation=\"tanh\", \n",
    "                         input_dim= 37,\n",
    "                         units=80, \n",
    "                         kernel_initializer=\"RandomUniform\"\n",
    "#                          kernel_regularizer=regularizers.l2(0.1),\n",
    "#                          activity_regularizer=regularizers.l1(0.1)\n",
    "                        ))\n",
    "    # 第二个隐藏层\n",
    "    classifier.add(Dense(activation=\"tanh\", \n",
    "                         units=50, \n",
    "                         kernel_initializer=\"RandomUniform\"\n",
    "#                          kernel_regularizer=regularizers.l2(0.1),\n",
    "#                          activity_regularizer=regularizers.l1(0.1)\n",
    "                        ))\n",
    "    # 第三个隐藏层\n",
    "    classifier.add(Dense(activation=\"tanh\", \n",
    "                         units=30, \n",
    "                         kernel_initializer=\"RandomUniform\"\n",
    "#                          kernel_regularizer=regularizers.l2(0.1),\n",
    "#                          activity_regularizer=regularizers.l1(0.1)\n",
    "                        ))\n",
    "    # 输出层\n",
    "    classifier.add(Dense(activation=\"tanh\", \n",
    "                         units=1, \n",
    "                         kernel_initializer=\"RandomUniform\"))\n",
    "    \n",
    "    classifier.compile(optimizer = 'adam', \n",
    "                       loss = 'mse', \n",
    "                       metrics = ['mse'])\n",
    "    return classifier\n",
    "\n",
    "model = KerasRegressor(build_fn=create_model)"
   ]
  },
  {
   "cell_type": "code",
   "execution_count": 201,
   "metadata": {
    "ExecuteTime": {
     "end_time": "2019-05-29T22:35:24.073616Z",
     "start_time": "2019-05-29T22:19:58.349618Z"
    },
    "scrolled": false
   },
   "outputs": [
    {
     "name": "stdout",
     "output_type": "stream",
     "text": [
      "Train on 110408 samples, validate on 27603 samples\n",
      "Epoch 1/20\n",
      "110408/110408 [==============================] - 50s 454us/step - loss: 0.1665 - mean_squared_error: 0.1665 - val_loss: 0.1208 - val_mean_squared_error: 0.1208\n",
      "Epoch 2/20\n",
      "110408/110408 [==============================] - 46s 420us/step - loss: 0.1154 - mean_squared_error: 0.1154 - val_loss: 0.1044 - val_mean_squared_error: 0.1044\n",
      "Epoch 3/20\n",
      "110408/110408 [==============================] - 46s 418us/step - loss: 0.1066 - mean_squared_error: 0.1066 - val_loss: 0.0980 - val_mean_squared_error: 0.0980\n",
      "Epoch 4/20\n",
      "110408/110408 [==============================] - 46s 418us/step - loss: 0.1027 - mean_squared_error: 0.1027 - val_loss: 0.0932 - val_mean_squared_error: 0.0932\n",
      "Epoch 5/20\n",
      "110408/110408 [==============================] - 44s 400us/step - loss: 0.0993 - mean_squared_error: 0.0993 - val_loss: 0.0978 - val_mean_squared_error: 0.0978\n",
      "Epoch 6/20\n",
      "110408/110408 [==============================] - 43s 387us/step - loss: 0.0967 - mean_squared_error: 0.0967 - val_loss: 0.0929 - val_mean_squared_error: 0.0929\n",
      "Epoch 7/20\n",
      "110408/110408 [==============================] - 46s 413us/step - loss: 0.0953 - mean_squared_error: 0.0953 - val_loss: 0.0931 - val_mean_squared_error: 0.0931\n",
      "Epoch 8/20\n",
      "110408/110408 [==============================] - 44s 399us/step - loss: 0.0931 - mean_squared_error: 0.0931 - val_loss: 0.0995 - val_mean_squared_error: 0.0995\n",
      "Epoch 9/20\n",
      "110408/110408 [==============================] - 46s 412us/step - loss: 0.0916 - mean_squared_error: 0.0916 - val_loss: 0.1042 - val_mean_squared_error: 0.1042\n",
      "Epoch 10/20\n",
      "110408/110408 [==============================] - 49s 441us/step - loss: 0.0903 - mean_squared_error: 0.0903 - val_loss: 0.0873 - val_mean_squared_error: 0.0873\n",
      "Epoch 11/20\n",
      "110408/110408 [==============================] - 47s 424us/step - loss: 0.0891 - mean_squared_error: 0.0891 - val_loss: 0.0975 - val_mean_squared_error: 0.0975\n",
      "Epoch 12/20\n",
      "110408/110408 [==============================] - 46s 414us/step - loss: 0.0880 - mean_squared_error: 0.0880 - val_loss: 0.0898 - val_mean_squared_error: 0.0898\n",
      "Epoch 13/20\n",
      "110408/110408 [==============================] - 46s 414us/step - loss: 0.0871 - mean_squared_error: 0.0871 - val_loss: 0.0870 - val_mean_squared_error: 0.0870\n",
      "Epoch 14/20\n",
      "110408/110408 [==============================] - 46s 414us/step - loss: 0.0859 - mean_squared_error: 0.0859 - val_loss: 0.0829 - val_mean_squared_error: 0.0829\n",
      "Epoch 15/20\n",
      "110408/110408 [==============================] - 45s 411us/step - loss: 0.0854 - mean_squared_error: 0.0854 - val_loss: 0.0849 - val_mean_squared_error: 0.0849\n",
      "Epoch 16/20\n",
      "110408/110408 [==============================] - 48s 437us/step - loss: 0.0845 - mean_squared_error: 0.0845 - val_loss: 0.0864 - val_mean_squared_error: 0.0864\n",
      "Epoch 17/20\n",
      "110408/110408 [==============================] - 48s 435us/step - loss: 0.0837 - mean_squared_error: 0.0837 - val_loss: 0.0826 - val_mean_squared_error: 0.0826\n",
      "Epoch 18/20\n",
      "110408/110408 [==============================] - 45s 411us/step - loss: 0.0833 - mean_squared_error: 0.0833 - val_loss: 0.0860 - val_mean_squared_error: 0.0860\n",
      "Epoch 19/20\n",
      "110408/110408 [==============================] - 48s 435us/step - loss: 0.0833 - mean_squared_error: 0.0833 - val_loss: 0.0814 - val_mean_squared_error: 0.0814\n",
      "Epoch 20/20\n",
      "110408/110408 [==============================] - 47s 422us/step - loss: 0.0825 - mean_squared_error: 0.0825 - val_loss: 0.0795 - val_mean_squared_error: 0.0795\n"
     ]
    },
    {
     "data": {
      "text/plain": [
       "<keras.callbacks.History at 0x1a3b9aa160>"
      ]
     },
     "execution_count": 201,
     "metadata": {},
     "output_type": "execute_result"
    }
   ],
   "source": [
    "model.fit(X_train,\n",
    "          y_train['pt_s'], \n",
    "          validation_data = (X_test, y_test['pt_s']),\n",
    "          batch_size=5, \n",
    "          epochs = 20)"
   ]
  },
  {
   "cell_type": "code",
   "execution_count": 202,
   "metadata": {
    "ExecuteTime": {
     "end_time": "2019-05-29T22:39:02.912508Z",
     "start_time": "2019-05-29T22:39:01.485192Z"
    }
   },
   "outputs": [],
   "source": [
    "y_pred = model.predict(X_test)"
   ]
  },
  {
   "cell_type": "code",
   "execution_count": 211,
   "metadata": {
    "ExecuteTime": {
     "end_time": "2019-05-29T22:39:27.768312Z",
     "start_time": "2019-05-29T22:39:27.193770Z"
    }
   },
   "outputs": [],
   "source": [
    "visual.to_csv('result_9_full_nn_run2.csv')"
   ]
  },
  {
   "cell_type": "markdown",
   "metadata": {},
   "source": [
    "Run1: 60-45-30\n",
    "\n",
    "Run2: 80-50-30"
   ]
  },
  {
   "cell_type": "code",
   "execution_count": null,
   "metadata": {},
   "outputs": [],
   "source": []
  }
 ],
 "metadata": {
  "kernelspec": {
   "display_name": "Python 3",
   "language": "python",
   "name": "python3"
  },
  "language_info": {
   "codemirror_mode": {
    "name": "ipython",
    "version": 3
   },
   "file_extension": ".py",
   "mimetype": "text/x-python",
   "name": "python",
   "nbconvert_exporter": "python",
   "pygments_lexer": "ipython3",
   "version": "3.6.8"
  },
  "toc": {
   "base_numbering": 1,
   "nav_menu": {},
   "number_sections": true,
   "sideBar": true,
   "skip_h1_title": false,
   "title_cell": "Table of Contents",
   "title_sidebar": "Contents",
   "toc_cell": false,
   "toc_position": {},
   "toc_section_display": true,
   "toc_window_display": false
  },
  "varInspector": {
   "cols": {
    "lenName": 16,
    "lenType": 16,
    "lenVar": 40
   },
   "kernels_config": {
    "python": {
     "delete_cmd_postfix": "",
     "delete_cmd_prefix": "del ",
     "library": "var_list.py",
     "varRefreshCmd": "print(var_dic_list())"
    },
    "r": {
     "delete_cmd_postfix": ") ",
     "delete_cmd_prefix": "rm(",
     "library": "var_list.r",
     "varRefreshCmd": "cat(var_dic_list()) "
    }
   },
   "types_to_exclude": [
    "module",
    "function",
    "builtin_function_or_method",
    "instance",
    "_Feature"
   ],
   "window_display": false
  }
 },
 "nbformat": 4,
 "nbformat_minor": 2
}
