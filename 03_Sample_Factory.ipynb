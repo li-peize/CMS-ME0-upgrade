{
 "cells": [
  {
   "cell_type": "code",
   "execution_count": 27,
   "metadata": {
    "ExecuteTime": {
     "end_time": "2019-05-29T20:41:25.405686Z",
     "start_time": "2019-05-29T20:41:25.403068Z"
    }
   },
   "outputs": [],
   "source": [
    "import pandas as pd\n",
    "import numpy as np\n",
    "from sklearn.model_selection import train_test_split"
   ]
  },
  {
   "cell_type": "code",
   "execution_count": 28,
   "metadata": {
    "ExecuteTime": {
     "end_time": "2019-05-29T20:41:29.200914Z",
     "start_time": "2019-05-29T20:41:25.784389Z"
    }
   },
   "outputs": [],
   "source": [
    "data = pd.read_csv('tracks_mega.csv', index_col = 0)"
   ]
  },
  {
   "cell_type": "code",
   "execution_count": 29,
   "metadata": {
    "ExecuteTime": {
     "end_time": "2019-05-29T20:41:31.399725Z",
     "start_time": "2019-05-29T20:41:31.374859Z"
    }
   },
   "outputs": [
    {
     "data": {
      "text/html": [
       "<div>\n",
       "<style scoped>\n",
       "    .dataframe tbody tr th:only-of-type {\n",
       "        vertical-align: middle;\n",
       "    }\n",
       "\n",
       "    .dataframe tbody tr th {\n",
       "        vertical-align: top;\n",
       "    }\n",
       "\n",
       "    .dataframe thead th {\n",
       "        text-align: right;\n",
       "    }\n",
       "</style>\n",
       "<table border=\"1\" class=\"dataframe\">\n",
       "  <thead>\n",
       "    <tr style=\"text-align: right;\">\n",
       "      <th></th>\n",
       "      <th>ve_id</th>\n",
       "      <th>delta_theta</th>\n",
       "      <th>delta_phi</th>\n",
       "      <th>delta_eta</th>\n",
       "      <th>vh_pattern</th>\n",
       "      <th>vh_quality</th>\n",
       "      <th>vh_bend</th>\n",
       "      <th>vh_fr</th>\n",
       "      <th>exist</th>\n",
       "      <th>exist_name</th>\n",
       "      <th>...</th>\n",
       "      <th>vh_fr_re42re43</th>\n",
       "      <th>exist_re42re43</th>\n",
       "      <th>exist_name_re42re43</th>\n",
       "      <th>theta_median</th>\n",
       "      <th>phi_median</th>\n",
       "      <th>eta_median</th>\n",
       "      <th>median_virtual_station</th>\n",
       "      <th>pt</th>\n",
       "      <th>q</th>\n",
       "      <th>q/pt</th>\n",
       "    </tr>\n",
       "  </thead>\n",
       "  <tbody>\n",
       "    <tr>\n",
       "      <th>0</th>\n",
       "      <td>0</td>\n",
       "      <td>NaN</td>\n",
       "      <td>NaN</td>\n",
       "      <td>NaN</td>\n",
       "      <td>NaN</td>\n",
       "      <td>NaN</td>\n",
       "      <td>NaN</td>\n",
       "      <td>NaN</td>\n",
       "      <td>NaN</td>\n",
       "      <td>NaN</td>\n",
       "      <td>...</td>\n",
       "      <td>1.0</td>\n",
       "      <td>1.0</td>\n",
       "      <td>re42re43</td>\n",
       "      <td>22.381725</td>\n",
       "      <td>141.058455</td>\n",
       "      <td>1.620299</td>\n",
       "      <td>7.0</td>\n",
       "      <td>30.163197</td>\n",
       "      <td>1.0</td>\n",
       "      <td>0.033153</td>\n",
       "    </tr>\n",
       "    <tr>\n",
       "      <th>1</th>\n",
       "      <td>1</td>\n",
       "      <td>-0.344954</td>\n",
       "      <td>0.280825</td>\n",
       "      <td>0.023355</td>\n",
       "      <td>1.0</td>\n",
       "      <td>17.0</td>\n",
       "      <td>-3.0</td>\n",
       "      <td>1.0</td>\n",
       "      <td>1.0</td>\n",
       "      <td>me0</td>\n",
       "      <td>...</td>\n",
       "      <td>NaN</td>\n",
       "      <td>NaN</td>\n",
       "      <td>NaN</td>\n",
       "      <td>15.110317</td>\n",
       "      <td>-141.673995</td>\n",
       "      <td>2.020179</td>\n",
       "      <td>6.0</td>\n",
       "      <td>45.874340</td>\n",
       "      <td>1.0</td>\n",
       "      <td>0.021799</td>\n",
       "    </tr>\n",
       "    <tr>\n",
       "      <th>2</th>\n",
       "      <td>2</td>\n",
       "      <td>NaN</td>\n",
       "      <td>NaN</td>\n",
       "      <td>NaN</td>\n",
       "      <td>NaN</td>\n",
       "      <td>NaN</td>\n",
       "      <td>NaN</td>\n",
       "      <td>NaN</td>\n",
       "      <td>NaN</td>\n",
       "      <td>NaN</td>\n",
       "      <td>...</td>\n",
       "      <td>0.0</td>\n",
       "      <td>1.0</td>\n",
       "      <td>re42re43</td>\n",
       "      <td>21.016869</td>\n",
       "      <td>-110.063550</td>\n",
       "      <td>1.684747</td>\n",
       "      <td>6.0</td>\n",
       "      <td>89.106621</td>\n",
       "      <td>-1.0</td>\n",
       "      <td>-0.011223</td>\n",
       "    </tr>\n",
       "    <tr>\n",
       "      <th>3</th>\n",
       "      <td>3</td>\n",
       "      <td>0.330953</td>\n",
       "      <td>0.040215</td>\n",
       "      <td>-0.031257</td>\n",
       "      <td>1.0</td>\n",
       "      <td>0.0</td>\n",
       "      <td>0.0</td>\n",
       "      <td>0.0</td>\n",
       "      <td>1.0</td>\n",
       "      <td>me0</td>\n",
       "      <td>...</td>\n",
       "      <td>NaN</td>\n",
       "      <td>NaN</td>\n",
       "      <td>NaN</td>\n",
       "      <td>10.484757</td>\n",
       "      <td>113.099700</td>\n",
       "      <td>2.388656</td>\n",
       "      <td>10.0</td>\n",
       "      <td>58.869408</td>\n",
       "      <td>1.0</td>\n",
       "      <td>0.016987</td>\n",
       "    </tr>\n",
       "    <tr>\n",
       "      <th>4</th>\n",
       "      <td>4</td>\n",
       "      <td>-0.204488</td>\n",
       "      <td>0.184381</td>\n",
       "      <td>0.015275</td>\n",
       "      <td>1.0</td>\n",
       "      <td>0.0</td>\n",
       "      <td>0.0</td>\n",
       "      <td>0.0</td>\n",
       "      <td>1.0</td>\n",
       "      <td>me0</td>\n",
       "      <td>...</td>\n",
       "      <td>NaN</td>\n",
       "      <td>NaN</td>\n",
       "      <td>NaN</td>\n",
       "      <td>13.612605</td>\n",
       "      <td>47.813921</td>\n",
       "      <td>2.125661</td>\n",
       "      <td>5.0</td>\n",
       "      <td>57.881783</td>\n",
       "      <td>1.0</td>\n",
       "      <td>0.017277</td>\n",
       "    </tr>\n",
       "  </tbody>\n",
       "</table>\n",
       "<p>5 rows × 163 columns</p>\n",
       "</div>"
      ],
      "text/plain": [
       "   ve_id  delta_theta  delta_phi  delta_eta  vh_pattern  vh_quality  vh_bend  \\\n",
       "0      0          NaN        NaN        NaN         NaN         NaN      NaN   \n",
       "1      1    -0.344954   0.280825   0.023355         1.0        17.0     -3.0   \n",
       "2      2          NaN        NaN        NaN         NaN         NaN      NaN   \n",
       "3      3     0.330953   0.040215  -0.031257         1.0         0.0      0.0   \n",
       "4      4    -0.204488   0.184381   0.015275         1.0         0.0      0.0   \n",
       "\n",
       "   vh_fr  exist exist_name  ...  vh_fr_re42re43  exist_re42re43  \\\n",
       "0    NaN    NaN        NaN  ...             1.0             1.0   \n",
       "1    1.0    1.0        me0  ...             NaN             NaN   \n",
       "2    NaN    NaN        NaN  ...             0.0             1.0   \n",
       "3    0.0    1.0        me0  ...             NaN             NaN   \n",
       "4    0.0    1.0        me0  ...             NaN             NaN   \n",
       "\n",
       "   exist_name_re42re43  theta_median  phi_median  eta_median  \\\n",
       "0             re42re43     22.381725  141.058455    1.620299   \n",
       "1                  NaN     15.110317 -141.673995    2.020179   \n",
       "2             re42re43     21.016869 -110.063550    1.684747   \n",
       "3                  NaN     10.484757  113.099700    2.388656   \n",
       "4                  NaN     13.612605   47.813921    2.125661   \n",
       "\n",
       "   median_virtual_station         pt    q      q/pt  \n",
       "0                     7.0  30.163197  1.0  0.033153  \n",
       "1                     6.0  45.874340  1.0  0.021799  \n",
       "2                     6.0  89.106621 -1.0 -0.011223  \n",
       "3                    10.0  58.869408  1.0  0.016987  \n",
       "4                     5.0  57.881783  1.0  0.017277  \n",
       "\n",
       "[5 rows x 163 columns]"
      ]
     },
     "execution_count": 29,
     "metadata": {},
     "output_type": "execute_result"
    }
   ],
   "source": [
    "data.head()"
   ]
  },
  {
   "cell_type": "code",
   "execution_count": 30,
   "metadata": {
    "ExecuteTime": {
     "end_time": "2019-05-29T20:41:40.445094Z",
     "start_time": "2019-05-29T20:41:40.307481Z"
    }
   },
   "outputs": [],
   "source": [
    "data = data.dropna(subset=['delta_theta_me1'])"
   ]
  },
  {
   "cell_type": "code",
   "execution_count": 31,
   "metadata": {
    "ExecuteTime": {
     "end_time": "2019-05-29T20:41:41.249984Z",
     "start_time": "2019-05-29T20:41:40.715564Z"
    }
   },
   "outputs": [],
   "source": [
    "data['4station_hitcount']=(data['exist_me1'].fillna(0) + \n",
    "                        data['exist_me2'].fillna(0) + \n",
    "                        data['exist_me3'].fillna(0) + \n",
    "                        data['exist_me4'].fillna(0))"
   ]
  },
  {
   "cell_type": "code",
   "execution_count": 33,
   "metadata": {
    "ExecuteTime": {
     "end_time": "2019-05-29T20:41:47.720952Z",
     "start_time": "2019-05-29T20:41:47.701011Z"
    }
   },
   "outputs": [],
   "source": [
    "data['9station_hitcount'] = (data['exist_me1'].fillna(0) + \n",
    "                               data['exist_me2'].fillna(0) + \n",
    "                               data['exist_me3'].fillna(0) + \n",
    "                               data['exist_me4'].fillna(0)+\n",
    "                               data['exist_re1'].fillna(0) + \n",
    "                               data['exist_ge2re2'].fillna(0) + \n",
    "                               data['exist_re3'].fillna(0) + \n",
    "                               data['exist_re4'].fillna(0)+\n",
    "                               data['exist_ge1me0'].fillna(0))"
   ]
  },
  {
   "cell_type": "code",
   "execution_count": 34,
   "metadata": {
    "ExecuteTime": {
     "end_time": "2019-05-29T20:41:50.244330Z",
     "start_time": "2019-05-29T20:41:49.925308Z"
    }
   },
   "outputs": [],
   "source": [
    "data = data[data['9station_hitcount']>2]"
   ]
  },
  {
   "cell_type": "markdown",
   "metadata": {},
   "source": [
    "# 4 Station"
   ]
  },
  {
   "cell_type": "markdown",
   "metadata": {},
   "source": [
    "## Station Selection"
   ]
  },
  {
   "cell_type": "code",
   "execution_count": 43,
   "metadata": {
    "ExecuteTime": {
     "end_time": "2019-05-29T21:02:04.574210Z",
     "start_time": "2019-05-29T21:02:04.352372Z"
    }
   },
   "outputs": [],
   "source": [
    "data_4_station = data[['delta_theta_me1','delta_phi_me1','vh_pattern_me1','vh_quality_me1','vh_bend_me1','vh_fr_me1', \n",
    "                       'delta_theta_me2','delta_phi_me2','vh_pattern_me2','vh_quality_me2','vh_bend_me2','vh_fr_me2', \n",
    "                       'delta_theta_me3','delta_phi_me3','vh_pattern_me3','vh_quality_me3','vh_bend_me3','vh_fr_me3', \n",
    "                       'delta_theta_me4','delta_phi_me4','vh_pattern_me4','vh_quality_me4','vh_bend_me4','vh_fr_me4', \n",
    "                       'exist_me1','exist_me2','exist_me3','exist_me4', \n",
    "                       'exist_name_me1','exist_name_me2','exist_name_me3','exist_name_me4', \n",
    "                       'theta_median','phi_median','eta_median','median_virtual_station',\n",
    "                       'pt', 'q', 'q/pt'\n",
    "                      ]]"
   ]
  },
  {
   "cell_type": "markdown",
   "metadata": {},
   "source": [
    "## Hit Count Selection"
   ]
  },
  {
   "cell_type": "code",
   "execution_count": 44,
   "metadata": {
    "ExecuteTime": {
     "end_time": "2019-05-29T21:02:06.039497Z",
     "start_time": "2019-05-29T21:02:05.426699Z"
    },
    "scrolled": true
   },
   "outputs": [
    {
     "name": "stderr",
     "output_type": "stream",
     "text": [
      "/anaconda3/lib/python3.6/site-packages/ipykernel_launcher.py:4: SettingWithCopyWarning: \n",
      "A value is trying to be set on a copy of a slice from a DataFrame.\n",
      "Try using .loc[row_indexer,col_indexer] = value instead\n",
      "\n",
      "See the caveats in the documentation: http://pandas.pydata.org/pandas-docs/stable/indexing.html#indexing-view-versus-copy\n",
      "  after removing the cwd from sys.path.\n"
     ]
    }
   ],
   "source": [
    "data_4_station['hit_count']  = (data_4_station['exist_me1'].fillna(0) + \n",
    "                               data_4_station['exist_me2'].fillna(0) + \n",
    "                               data_4_station['exist_me3'].fillna(0) + \n",
    "                               data_4_station['exist_me4'].fillna(0))"
   ]
  },
  {
   "cell_type": "code",
   "execution_count": 45,
   "metadata": {
    "ExecuteTime": {
     "end_time": "2019-05-29T21:02:08.140613Z",
     "start_time": "2019-05-29T21:02:08.132506Z"
    },
    "scrolled": true
   },
   "outputs": [
    {
     "data": {
      "text/plain": [
       "4.0    94472\n",
       "3.0    37878\n",
       "2.0     5261\n",
       "1.0      400\n",
       "Name: hit_count, dtype: int64"
      ]
     },
     "execution_count": 45,
     "metadata": {},
     "output_type": "execute_result"
    }
   ],
   "source": [
    "data_4_station['hit_count'].value_counts()"
   ]
  },
  {
   "cell_type": "code",
   "execution_count": 9,
   "metadata": {
    "ExecuteTime": {
     "end_time": "2019-05-16T14:40:30.047452Z",
     "start_time": "2019-05-16T14:40:29.950305Z"
    }
   },
   "outputs": [],
   "source": [
    "data_4_station = data_4_station[data_4_station['hit_count']==4]"
   ]
  },
  {
   "cell_type": "markdown",
   "metadata": {},
   "source": [
    "## X/y Split"
   ]
  },
  {
   "cell_type": "code",
   "execution_count": 46,
   "metadata": {
    "ExecuteTime": {
     "end_time": "2019-05-29T21:02:18.655190Z",
     "start_time": "2019-05-29T21:02:18.588201Z"
    }
   },
   "outputs": [],
   "source": [
    "X = data_4_station[['delta_theta_me1','delta_phi_me1','vh_pattern_me1','vh_quality_me1','vh_bend_me1','vh_fr_me1', \n",
    "                    'delta_theta_me2','delta_phi_me2','vh_pattern_me2','vh_quality_me2','vh_bend_me2','vh_fr_me2', \n",
    "                    'delta_theta_me3','delta_phi_me3','vh_pattern_me3','vh_quality_me3','vh_bend_me3','vh_fr_me3', \n",
    "                    'delta_theta_me4','delta_phi_me4','vh_pattern_me4','vh_quality_me4','vh_bend_me4','vh_fr_me4', \n",
    "                    'phi_median', 'theta_median', 'median_virtual_station']]"
   ]
  },
  {
   "cell_type": "code",
   "execution_count": 47,
   "metadata": {
    "ExecuteTime": {
     "end_time": "2019-05-29T21:02:19.194076Z",
     "start_time": "2019-05-29T21:02:19.186068Z"
    }
   },
   "outputs": [],
   "source": [
    "y = data_4_station[['pt', 'q', 'q/pt', 'eta_median']]"
   ]
  },
  {
   "cell_type": "markdown",
   "metadata": {},
   "source": [
    "## Output"
   ]
  },
  {
   "cell_type": "code",
   "execution_count": 48,
   "metadata": {
    "ExecuteTime": {
     "end_time": "2019-05-29T21:02:26.180119Z",
     "start_time": "2019-05-29T21:02:21.434901Z"
    }
   },
   "outputs": [],
   "source": [
    "X.to_csv('X.csv')\n",
    "y.to_csv('y.csv')"
   ]
  },
  {
   "cell_type": "markdown",
   "metadata": {},
   "source": [
    "# 9 Station Full Upgrade"
   ]
  },
  {
   "cell_type": "markdown",
   "metadata": {},
   "source": [
    "## Station Selection"
   ]
  },
  {
   "cell_type": "code",
   "execution_count": 35,
   "metadata": {
    "ExecuteTime": {
     "end_time": "2019-05-29T20:41:54.141861Z",
     "start_time": "2019-05-29T20:41:54.004878Z"
    }
   },
   "outputs": [],
   "source": [
    "data_9_station = data[['delta_theta_me1','delta_phi_me1','vh_pattern_me1','vh_quality_me1','vh_bend_me1','vh_fr_me1', \n",
    "                        'delta_theta_me2','delta_phi_me2','vh_pattern_me2','vh_quality_me2','vh_bend_me2','vh_fr_me2', \n",
    "                        'delta_theta_me3','delta_phi_me3','vh_pattern_me3','vh_quality_me3','vh_bend_me3','vh_fr_me3', \n",
    "                        'delta_theta_me4','delta_phi_me4','vh_pattern_me4','vh_quality_me4','vh_bend_me4','vh_fr_me4', \n",
    "                        'delta_theta_ge1me0','delta_phi_ge1me0','vh_pattern_ge1me0','vh_quality_ge1me0','vh_bend_ge1me0','vh_fr_ge1me0', \n",
    "                        'delta_theta_re1','delta_phi_re1','vh_pattern_re1','vh_quality_re1','vh_bend_re1','vh_fr_re1', \n",
    "                        'delta_theta_ge2re2','delta_phi_ge2re2','vh_pattern_ge2re2','vh_quality_ge2re2','vh_bend_ge2re2','vh_fr_ge2re2', \n",
    "                        'delta_theta_re3','delta_phi_re3','vh_pattern_re3','vh_quality_re3','vh_bend_re3','vh_fr_re3', \n",
    "                        'delta_theta_re4','delta_phi_re4','vh_pattern_re4','vh_quality_re4','vh_bend_re4','vh_fr_re4', \n",
    "                        'exist_me1','exist_me2','exist_me3','exist_me4','exist_ge1me0','exist_re1','exist_ge2re2','exist_re3','exist_re4',\n",
    "                        'exist_name_me1','exist_name_me2','exist_name_me3','exist_name_me4','exist_name_ge1me0',\n",
    "                        'exist_name_re1','exist_name_ge2re2','exist_name_re3','exist_name_re4', \n",
    "                        'theta_median','phi_median','eta_median','median_virtual_station',\n",
    "                        'pt', 'q', 'q/pt'\n",
    "                        ]]"
   ]
  },
  {
   "cell_type": "markdown",
   "metadata": {},
   "source": [
    "## Hit Count Selection"
   ]
  },
  {
   "cell_type": "code",
   "execution_count": 36,
   "metadata": {
    "ExecuteTime": {
     "end_time": "2019-05-29T20:41:55.000048Z",
     "start_time": "2019-05-29T20:41:54.700918Z"
    }
   },
   "outputs": [
    {
     "name": "stderr",
     "output_type": "stream",
     "text": [
      "/anaconda3/lib/python3.6/site-packages/ipykernel_launcher.py:9: SettingWithCopyWarning: \n",
      "A value is trying to be set on a copy of a slice from a DataFrame.\n",
      "Try using .loc[row_indexer,col_indexer] = value instead\n",
      "\n",
      "See the caveats in the documentation: http://pandas.pydata.org/pandas-docs/stable/indexing.html#indexing-view-versus-copy\n",
      "  if __name__ == '__main__':\n"
     ]
    }
   ],
   "source": [
    "data_9_station['hit_count']  = (data_9_station['exist_me1'].fillna(0) + \n",
    "                               data_9_station['exist_me2'].fillna(0) + \n",
    "                               data_9_station['exist_me3'].fillna(0) + \n",
    "                               data_9_station['exist_me4'].fillna(0)+\n",
    "                               data_9_station['exist_re1'].fillna(0) + \n",
    "                               data_9_station['exist_ge2re2'].fillna(0) + \n",
    "                               data_9_station['exist_re3'].fillna(0) + \n",
    "                               data_9_station['exist_re4'].fillna(0)+\n",
    "                               data_9_station['exist_ge1me0'].fillna(0))"
   ]
  },
  {
   "cell_type": "code",
   "execution_count": 37,
   "metadata": {
    "ExecuteTime": {
     "end_time": "2019-05-29T20:42:00.764100Z",
     "start_time": "2019-05-29T20:42:00.755203Z"
    },
    "scrolled": false
   },
   "outputs": [
    {
     "data": {
      "text/plain": [
       "8.0    59807\n",
       "7.0    49373\n",
       "6.0    20981\n",
       "5.0     5504\n",
       "4.0     1121\n",
       "9.0      792\n",
       "3.0      433\n",
       "Name: hit_count, dtype: int64"
      ]
     },
     "execution_count": 37,
     "metadata": {},
     "output_type": "execute_result"
    }
   ],
   "source": [
    "data_9_station['hit_count'].value_counts()"
   ]
  },
  {
   "cell_type": "markdown",
   "metadata": {},
   "source": [
    "## X/y Split"
   ]
  },
  {
   "cell_type": "code",
   "execution_count": 38,
   "metadata": {
    "ExecuteTime": {
     "end_time": "2019-05-29T20:42:04.941871Z",
     "start_time": "2019-05-29T20:42:04.817615Z"
    }
   },
   "outputs": [],
   "source": [
    "X = data_9_station[['delta_theta_me1','delta_phi_me1','vh_pattern_me1','vh_quality_me1','vh_bend_me1','vh_fr_me1', \n",
    "                    'delta_theta_me2','delta_phi_me2','vh_pattern_me2','vh_quality_me2','vh_bend_me2','vh_fr_me2', \n",
    "                    'delta_theta_me3','delta_phi_me3','vh_pattern_me3','vh_quality_me3','vh_bend_me3','vh_fr_me3', \n",
    "                    'delta_theta_me4','delta_phi_me4','vh_pattern_me4','vh_quality_me4','vh_bend_me4','vh_fr_me4', \n",
    "                    'delta_theta_ge1me0','delta_phi_ge1me0','vh_pattern_ge1me0','vh_quality_ge1me0','vh_bend_ge1me0','vh_fr_ge1me0',\n",
    "                    'delta_theta_re1','delta_phi_re1','vh_pattern_re1','vh_quality_re1','vh_bend_re1','vh_fr_re1', \n",
    "                    'delta_theta_ge2re2','delta_phi_ge2re2','vh_pattern_ge2re2','vh_quality_ge2re2','vh_bend_ge2re2','vh_fr_ge2re2', \n",
    "                    'delta_theta_re3','delta_phi_re3','vh_pattern_re3','vh_quality_re3','vh_bend_re3','vh_fr_re3', \n",
    "                    'delta_theta_re4','delta_phi_re4','vh_pattern_re4','vh_quality_re4','vh_bend_re4','vh_fr_re4',\n",
    "                    'phi_median', 'theta_median', 'median_virtual_station']]"
   ]
  },
  {
   "cell_type": "code",
   "execution_count": 39,
   "metadata": {
    "ExecuteTime": {
     "end_time": "2019-05-29T20:42:09.967469Z",
     "start_time": "2019-05-29T20:42:09.929413Z"
    }
   },
   "outputs": [],
   "source": [
    "X = data_9_station[['delta_theta_me1','delta_phi_me1','vh_bend_me1','vh_fr_me1', \n",
    "                    'delta_theta_me2','delta_phi_me2','vh_bend_me2',\n",
    "                    'delta_theta_me3','delta_phi_me3','vh_bend_me3',\n",
    "                    'delta_theta_me4','delta_phi_me4','vh_bend_me4',\n",
    "                    'delta_theta_ge1me0','delta_phi_ge1me0','vh_bend_ge1me0','vh_fr_ge1me0',\n",
    "                    'delta_theta_re1','delta_phi_re1',\n",
    "                    'delta_theta_ge2re2','delta_phi_ge2re2',\n",
    "                    'delta_theta_re3','delta_phi_re3',\n",
    "                    'delta_theta_re4','delta_phi_re4',\n",
    "                    'phi_median', 'theta_median', 'median_virtual_station',\n",
    "                    'exist_me1','exist_me2','exist_me3','exist_me4','exist_ge1me0','exist_re1','exist_ge2re2','exist_re3','exist_re4'\n",
    "                   ]]"
   ]
  },
  {
   "cell_type": "code",
   "execution_count": 40,
   "metadata": {
    "ExecuteTime": {
     "end_time": "2019-05-29T20:42:12.028307Z",
     "start_time": "2019-05-29T20:42:12.022940Z"
    }
   },
   "outputs": [],
   "source": [
    "y = data_9_station[['pt', 'q', 'q/pt', 'eta_median','phi_median', 'theta_median','hit_count']]"
   ]
  },
  {
   "cell_type": "code",
   "execution_count": 41,
   "metadata": {
    "ExecuteTime": {
     "end_time": "2019-05-29T20:42:12.735214Z",
     "start_time": "2019-05-29T20:42:12.728773Z"
    }
   },
   "outputs": [
    {
     "data": {
      "text/plain": [
       "6.937705000000008"
      ]
     },
     "execution_count": 41,
     "metadata": {},
     "output_type": "execute_result"
    }
   ],
   "source": [
    "X['delta_phi_me1'].max()"
   ]
  },
  {
   "cell_type": "markdown",
   "metadata": {},
   "source": [
    "## Output"
   ]
  },
  {
   "cell_type": "code",
   "execution_count": 42,
   "metadata": {
    "ExecuteTime": {
     "end_time": "2019-05-29T20:42:23.673650Z",
     "start_time": "2019-05-29T20:42:16.617175Z"
    }
   },
   "outputs": [],
   "source": [
    "X.to_csv('X.csv')\n",
    "y.to_csv('y.csv')"
   ]
  },
  {
   "cell_type": "markdown",
   "metadata": {},
   "source": [
    "# 9 Station with GEM and ME0"
   ]
  },
  {
   "cell_type": "markdown",
   "metadata": {},
   "source": [
    "## Station Selection"
   ]
  },
  {
   "cell_type": "code",
   "execution_count": 49,
   "metadata": {
    "ExecuteTime": {
     "end_time": "2019-05-29T21:02:53.383188Z",
     "start_time": "2019-05-29T21:02:53.204238Z"
    }
   },
   "outputs": [],
   "source": [
    "data_9_station_me0 = data[['delta_theta_me1','delta_phi_me1','vh_pattern_me1','vh_quality_me1','vh_bend_me1','vh_fr_me1', \n",
    "                        'delta_theta_me2','delta_phi_me2','vh_pattern_me2','vh_quality_me2','vh_bend_me2','vh_fr_me2', \n",
    "                        'delta_theta_me3','delta_phi_me3','vh_pattern_me3','vh_quality_me3','vh_bend_me3','vh_fr_me3', \n",
    "                        'delta_theta_me4','delta_phi_me4','vh_pattern_me4','vh_quality_me4','vh_bend_me4','vh_fr_me4', \n",
    "                        'delta_theta_ge1me0','delta_phi_ge1me0','vh_pattern_ge1me0','vh_quality_ge1me0','vh_bend_ge1me0','vh_fr_ge1me0', \n",
    "                        'delta_theta_re1','delta_phi_re1','vh_pattern_re1','vh_quality_re1','vh_bend_re1','vh_fr_re1', \n",
    "                        'delta_theta_ge2re2','delta_phi_ge2re2','vh_pattern_ge2re2','vh_quality_ge2re2','vh_bend_ge2re2','vh_fr_ge2re2', \n",
    "                        'delta_theta_re32re33','delta_phi_re32re33','vh_pattern_re32re33','vh_quality_re32re33','vh_bend_re32re33','vh_fr_re32re33', \n",
    "                        'delta_theta_re42re43','delta_phi_re42re43','vh_pattern_re42re43','vh_quality_re42re43','vh_bend_re42re43','vh_fr_re42re43', \n",
    "                        'exist_me1','exist_me2','exist_me3','exist_me4','exist_ge1me0','exist_re1','exist_ge2re2','exist_re32re33','exist_re42re43',\n",
    "                        'exist_name_me1','exist_name_me2','exist_name_me3','exist_name_me4','exist_name_ge1me0',\n",
    "                        'exist_name_re1','exist_name_ge2re2','exist_name_re32re33','exist_name_re42re43', \n",
    "                        'theta_median','phi_median','eta_median','median_virtual_station',\n",
    "                        'pt', 'q', 'q/pt'\n",
    "                        ]]"
   ]
  },
  {
   "cell_type": "markdown",
   "metadata": {},
   "source": [
    "## Hit Count Selection"
   ]
  },
  {
   "cell_type": "code",
   "execution_count": 56,
   "metadata": {
    "ExecuteTime": {
     "end_time": "2019-05-29T21:03:31.209955Z",
     "start_time": "2019-05-29T21:03:30.906745Z"
    }
   },
   "outputs": [],
   "source": [
    "data_9_station_me0['hit_count']  = (data_9_station_me0['exist_me1'].fillna(0) + \n",
    "                                   data_9_station_me0['exist_me2'].fillna(0) + \n",
    "                                   data_9_station_me0['exist_me3'].fillna(0) + \n",
    "                                   data_9_station_me0['exist_me4'].fillna(0)+\n",
    "                                   data_9_station_me0['exist_re1'].fillna(0) + \n",
    "                                   data_9_station_me0['exist_ge2re2'].fillna(0) + \n",
    "                                   data_9_station_me0['exist_re32re33'].fillna(0) + \n",
    "                                   data_9_station_me0['exist_re42re43'].fillna(0)+\n",
    "                                   data_9_station_me0['exist_ge1me0'].fillna(0))"
   ]
  },
  {
   "cell_type": "code",
   "execution_count": 57,
   "metadata": {
    "ExecuteTime": {
     "end_time": "2019-05-29T21:03:31.671706Z",
     "start_time": "2019-05-29T21:03:31.662346Z"
    }
   },
   "outputs": [
    {
     "data": {
      "text/plain": [
       "6.0    58075\n",
       "7.0    31031\n",
       "8.0    20881\n",
       "9.0      792\n",
       "Name: hit_count, dtype: int64"
      ]
     },
     "execution_count": 57,
     "metadata": {},
     "output_type": "execute_result"
    }
   ],
   "source": [
    "data_9_station_me0['hit_count'].value_counts()"
   ]
  },
  {
   "cell_type": "markdown",
   "metadata": {},
   "source": [
    "## X/y Split"
   ]
  },
  {
   "cell_type": "code",
   "execution_count": 58,
   "metadata": {
    "ExecuteTime": {
     "end_time": "2019-05-29T21:03:34.449670Z",
     "start_time": "2019-05-29T21:03:34.410135Z"
    }
   },
   "outputs": [],
   "source": [
    "X = data_9_station_me0[['delta_theta_me1','delta_phi_me1','vh_pattern_me1','vh_quality_me1','vh_bend_me1','vh_fr_me1', \n",
    "                    'delta_theta_me2','delta_phi_me2','vh_pattern_me2','vh_quality_me2','vh_bend_me2','vh_fr_me2', \n",
    "                    'delta_theta_me3','delta_phi_me3','vh_pattern_me3','vh_quality_me3','vh_bend_me3','vh_fr_me3', \n",
    "                    'delta_theta_me4','delta_phi_me4','vh_pattern_me4','vh_quality_me4','vh_bend_me4','vh_fr_me4', \n",
    "                    'delta_theta_ge1me0','delta_phi_ge1me0','vh_pattern_ge1me0','vh_quality_ge1me0','vh_bend_ge1me0','vh_fr_ge1me0',\n",
    "                    'delta_theta_re1','delta_phi_re1','vh_pattern_re1','vh_quality_re1','vh_bend_re1','vh_fr_re1', \n",
    "                    'delta_theta_ge2re2','delta_phi_ge2re2','vh_pattern_ge2re2','vh_quality_ge2re2','vh_bend_ge2re2','vh_fr_ge2re2', \n",
    "                    'delta_theta_re32re33','delta_phi_re32re33','vh_pattern_re32re33','vh_quality_re32re33','vh_bend_re32re33','vh_fr_re32re33', \n",
    "                    'delta_theta_re42re43','delta_phi_re42re43','vh_pattern_re42re43','vh_quality_re42re43','vh_bend_re42re43','vh_fr_re42re43',\n",
    "                    'phi_median', 'theta_median', 'median_virtual_station']]"
   ]
  },
  {
   "cell_type": "code",
   "execution_count": 59,
   "metadata": {
    "ExecuteTime": {
     "end_time": "2019-05-29T21:03:34.937871Z",
     "start_time": "2019-05-29T21:03:34.930204Z"
    }
   },
   "outputs": [],
   "source": [
    "y = data_9_station_me0[['pt', 'q', 'q/pt', 'eta_median']]"
   ]
  },
  {
   "cell_type": "markdown",
   "metadata": {},
   "source": [
    "## Output"
   ]
  },
  {
   "cell_type": "code",
   "execution_count": 61,
   "metadata": {
    "ExecuteTime": {
     "end_time": "2019-05-29T21:03:54.288586Z",
     "start_time": "2019-05-29T21:03:47.250574Z"
    }
   },
   "outputs": [],
   "source": [
    "X.to_csv('X.csv')\n",
    "y.to_csv('y.csv')"
   ]
  },
  {
   "cell_type": "markdown",
   "metadata": {},
   "source": [
    "# 9 Station with GEM"
   ]
  },
  {
   "cell_type": "markdown",
   "metadata": {},
   "source": [
    "## Station Selection"
   ]
  },
  {
   "cell_type": "code",
   "execution_count": 74,
   "metadata": {
    "ExecuteTime": {
     "end_time": "2019-05-29T21:26:11.873769Z",
     "start_time": "2019-05-29T21:26:11.797353Z"
    }
   },
   "outputs": [],
   "source": [
    "data_9_station_gem = data[['delta_theta_me1','delta_phi_me1','vh_pattern_me1','vh_quality_me1','vh_bend_me1','vh_fr_me1', \n",
    "                        'delta_theta_me2','delta_phi_me2','vh_pattern_me2','vh_quality_me2','vh_bend_me2','vh_fr_me2', \n",
    "                        'delta_theta_me3','delta_phi_me3','vh_pattern_me3','vh_quality_me3','vh_bend_me3','vh_fr_me3', \n",
    "                        'delta_theta_me4','delta_phi_me4','vh_pattern_me4','vh_quality_me4','vh_bend_me4','vh_fr_me4', \n",
    "                        'delta_theta_ge1','delta_phi_ge1','vh_pattern_ge1','vh_quality_ge1','vh_bend_ge1','vh_fr_ge1', \n",
    "                        'delta_theta_re1','delta_phi_re1','vh_pattern_re1','vh_quality_re1','vh_bend_re1','vh_fr_re1', \n",
    "                        'delta_theta_ge2re2','delta_phi_ge2re2','vh_pattern_ge2re2','vh_quality_ge2re2','vh_bend_ge2re2','vh_fr_ge2re2', \n",
    "                        'delta_theta_re32re33','delta_phi_re32re33','vh_pattern_re32re33','vh_quality_re32re33','vh_bend_re32re33','vh_fr_re32re33', \n",
    "                        'delta_theta_re42re43','delta_phi_re42re43','vh_pattern_re42re43','vh_quality_re42re43','vh_bend_re42re43','vh_fr_re42re43', \n",
    "                        'exist_me1','exist_me2','exist_me3','exist_me4','exist_ge1','exist_re1','exist_ge2re2','exist_re32re33','exist_re42re43',\n",
    "                        'exist_name_me1','exist_name_me2','exist_name_me3','exist_name_me4','exist_name_ge1',\n",
    "                        'exist_name_re1','exist_name_ge2re2','exist_name_re32re33','exist_name_re42re43', \n",
    "                        'theta_median','phi_median','eta_median','median_virtual_station',\n",
    "                        'pt', 'q', 'q/pt'\n",
    "                        ]]"
   ]
  },
  {
   "cell_type": "markdown",
   "metadata": {},
   "source": [
    "## Hit Count Selection"
   ]
  },
  {
   "cell_type": "code",
   "execution_count": 75,
   "metadata": {
    "ExecuteTime": {
     "end_time": "2019-05-29T21:26:12.746922Z",
     "start_time": "2019-05-29T21:26:12.440501Z"
    },
    "scrolled": true
   },
   "outputs": [
    {
     "name": "stderr",
     "output_type": "stream",
     "text": [
      "/anaconda3/lib/python3.6/site-packages/ipykernel_launcher.py:9: SettingWithCopyWarning: \n",
      "A value is trying to be set on a copy of a slice from a DataFrame.\n",
      "Try using .loc[row_indexer,col_indexer] = value instead\n",
      "\n",
      "See the caveats in the documentation: http://pandas.pydata.org/pandas-docs/stable/indexing.html#indexing-view-versus-copy\n",
      "  if __name__ == '__main__':\n"
     ]
    }
   ],
   "source": [
    "data_9_station_gem['hit_count']  = (data_9_station_gem['exist_me1'].fillna(0) + \n",
    "                                   data_9_station_gem['exist_me2'].fillna(0) + \n",
    "                                   data_9_station_gem['exist_me3'].fillna(0) + \n",
    "                                   data_9_station_gem['exist_me4'].fillna(0)+\n",
    "                                   data_9_station_gem['exist_re1'].fillna(0) + \n",
    "                                   data_9_station_gem['exist_ge2re2'].fillna(0) + \n",
    "                                   data_9_station_gem['exist_re32re33'].fillna(0) + \n",
    "                                   data_9_station_gem['exist_re42re43'].fillna(0)+\n",
    "                                   data_9_station_gem['exist_ge1'].fillna(0))"
   ]
  },
  {
   "cell_type": "code",
   "execution_count": 76,
   "metadata": {
    "ExecuteTime": {
     "end_time": "2019-05-29T21:26:13.099775Z",
     "start_time": "2019-05-29T21:26:13.089089Z"
    },
    "scrolled": true
   },
   "outputs": [
    {
     "data": {
      "text/plain": [
       "6.0    37964\n",
       "5.0    33762\n",
       "7.0    31023\n",
       "8.0    20880\n",
       "4.0     9896\n",
       "3.0     2985\n",
       "9.0      792\n",
       "2.0      680\n",
       "1.0       29\n",
       "Name: hit_count, dtype: int64"
      ]
     },
     "execution_count": 76,
     "metadata": {},
     "output_type": "execute_result"
    }
   ],
   "source": [
    "data_9_station_gem['hit_count'].value_counts()"
   ]
  },
  {
   "cell_type": "markdown",
   "metadata": {},
   "source": [
    "## X/y Split"
   ]
  },
  {
   "cell_type": "code",
   "execution_count": 77,
   "metadata": {
    "ExecuteTime": {
     "end_time": "2019-05-29T21:26:15.024408Z",
     "start_time": "2019-05-29T21:26:14.903876Z"
    }
   },
   "outputs": [],
   "source": [
    "X = data_9_station_gem[['delta_theta_me1','delta_phi_me1','vh_pattern_me1','vh_quality_me1','vh_bend_me1','vh_fr_me1', \n",
    "                    'delta_theta_me2','delta_phi_me2','vh_pattern_me2','vh_quality_me2','vh_bend_me2','vh_fr_me2', \n",
    "                    'delta_theta_me3','delta_phi_me3','vh_pattern_me3','vh_quality_me3','vh_bend_me3','vh_fr_me3', \n",
    "                    'delta_theta_me4','delta_phi_me4','vh_pattern_me4','vh_quality_me4','vh_bend_me4','vh_fr_me4', \n",
    "                    'delta_theta_ge1','delta_phi_ge1','vh_pattern_ge1','vh_quality_ge1','vh_bend_ge1','vh_fr_ge1',\n",
    "                    'delta_theta_re1','delta_phi_re1','vh_pattern_re1','vh_quality_re1','vh_bend_re1','vh_fr_re1', \n",
    "                    'delta_theta_ge2re2','delta_phi_ge2re2','vh_pattern_ge2re2','vh_quality_ge2re2','vh_bend_ge2re2','vh_fr_ge2re2', \n",
    "                    'delta_theta_re32re33','delta_phi_re32re33','vh_pattern_re32re33','vh_quality_re32re33','vh_bend_re32re33','vh_fr_re32re33', \n",
    "                    'delta_theta_re42re43','delta_phi_re42re43','vh_pattern_re42re43','vh_quality_re42re43','vh_bend_re42re43','vh_fr_re42re43',\n",
    "                    'phi_median', 'theta_median', 'median_virtual_station']]"
   ]
  },
  {
   "cell_type": "code",
   "execution_count": 78,
   "metadata": {
    "ExecuteTime": {
     "end_time": "2019-05-29T21:26:15.357255Z",
     "start_time": "2019-05-29T21:26:15.349678Z"
    }
   },
   "outputs": [],
   "source": [
    "y = data_9_station_gem[['pt', 'q', 'q/pt', 'eta_median']]"
   ]
  },
  {
   "cell_type": "markdown",
   "metadata": {},
   "source": [
    "## Output"
   ]
  },
  {
   "cell_type": "code",
   "execution_count": 79,
   "metadata": {
    "ExecuteTime": {
     "end_time": "2019-05-29T21:26:25.304918Z",
     "start_time": "2019-05-29T21:26:17.244074Z"
    }
   },
   "outputs": [],
   "source": [
    "X.to_csv('X.csv')\n",
    "y.to_csv('y.csv')"
   ]
  },
  {
   "cell_type": "markdown",
   "metadata": {},
   "source": [
    "# 8 Station"
   ]
  },
  {
   "cell_type": "markdown",
   "metadata": {},
   "source": [
    "## Station Selection"
   ]
  },
  {
   "cell_type": "code",
   "execution_count": 68,
   "metadata": {
    "ExecuteTime": {
     "end_time": "2019-05-29T21:06:16.425756Z",
     "start_time": "2019-05-29T21:06:16.342468Z"
    }
   },
   "outputs": [],
   "source": [
    "data_8_station = data[['delta_theta_me1','delta_phi_me1','vh_pattern_me1','vh_quality_me1','vh_bend_me1','vh_fr_me1', \n",
    "                        'delta_theta_me2','delta_phi_me2','vh_pattern_me2','vh_quality_me2','vh_bend_me2','vh_fr_me2', \n",
    "                        'delta_theta_me3','delta_phi_me3','vh_pattern_me3','vh_quality_me3','vh_bend_me3','vh_fr_me3', \n",
    "                        'delta_theta_me4','delta_phi_me4','vh_pattern_me4','vh_quality_me4','vh_bend_me4','vh_fr_me4', \n",
    "                        'delta_theta_re1','delta_phi_re1','vh_pattern_re1','vh_quality_re1','vh_bend_re1','vh_fr_re1', \n",
    "                        'delta_theta_re2','delta_phi_re2','vh_pattern_re2','vh_quality_re2','vh_bend_re2','vh_fr_re2', \n",
    "                        'delta_theta_re32re33','delta_phi_re32re33','vh_pattern_re32re33','vh_quality_re32re33','vh_bend_re32re33','vh_fr_re32re33', \n",
    "                        'delta_theta_re42re43','delta_phi_re42re43','vh_pattern_re42re43','vh_quality_re42re43','vh_bend_re42re43','vh_fr_re42re43', \n",
    "                        'exist_me1','exist_me2','exist_me3','exist_me4','exist_re1','exist_re2','exist_re32re33','exist_re42re43',\n",
    "                        'exist_name_me1','exist_name_me2','exist_name_me3','exist_name_me4',\n",
    "                        'exist_name_re1','exist_name_re2','exist_name_re32re33','exist_name_re42re43', \n",
    "                        'theta_median','phi_median','eta_median','median_virtual_station',\n",
    "                        'pt', 'q', 'q/pt'\n",
    "                        ]]"
   ]
  },
  {
   "cell_type": "markdown",
   "metadata": {},
   "source": [
    "## Hit Count Selection"
   ]
  },
  {
   "cell_type": "code",
   "execution_count": 69,
   "metadata": {
    "ExecuteTime": {
     "end_time": "2019-05-29T21:06:17.068636Z",
     "start_time": "2019-05-29T21:06:16.775352Z"
    }
   },
   "outputs": [
    {
     "name": "stderr",
     "output_type": "stream",
     "text": [
      "/anaconda3/lib/python3.6/site-packages/ipykernel_launcher.py:8: SettingWithCopyWarning: \n",
      "A value is trying to be set on a copy of a slice from a DataFrame.\n",
      "Try using .loc[row_indexer,col_indexer] = value instead\n",
      "\n",
      "See the caveats in the documentation: http://pandas.pydata.org/pandas-docs/stable/indexing.html#indexing-view-versus-copy\n",
      "  \n"
     ]
    }
   ],
   "source": [
    "data_8_station['hit_count']  = (data_8_station['exist_me1'].fillna(0) + \n",
    "                               data_8_station['exist_me2'].fillna(0) + \n",
    "                               data_8_station['exist_me3'].fillna(0) + \n",
    "                               data_8_station['exist_me4'].fillna(0)+\n",
    "                               data_8_station['exist_re1'].fillna(0) + \n",
    "                               data_8_station['exist_re2'].fillna(0) + \n",
    "                               data_8_station['exist_re32re33'].fillna(0) + \n",
    "                               data_8_station['exist_re42re43'].fillna(0))"
   ]
  },
  {
   "cell_type": "code",
   "execution_count": 70,
   "metadata": {
    "ExecuteTime": {
     "end_time": "2019-05-29T21:06:17.396609Z",
     "start_time": "2019-05-29T21:06:17.386066Z"
    },
    "scrolled": true
   },
   "outputs": [
    {
     "data": {
      "text/plain": [
       "4.0    56953\n",
       "7.0    18594\n",
       "5.0    17626\n",
       "8.0    15417\n",
       "6.0    14366\n",
       "3.0    11680\n",
       "2.0     3030\n",
       "1.0      345\n",
       "Name: hit_count, dtype: int64"
      ]
     },
     "execution_count": 70,
     "metadata": {},
     "output_type": "execute_result"
    }
   ],
   "source": [
    "data_8_station['hit_count'].value_counts()"
   ]
  },
  {
   "cell_type": "markdown",
   "metadata": {},
   "source": [
    "## X/y Split"
   ]
  },
  {
   "cell_type": "code",
   "execution_count": 71,
   "metadata": {
    "ExecuteTime": {
     "end_time": "2019-05-29T21:06:20.672403Z",
     "start_time": "2019-05-29T21:06:20.563411Z"
    }
   },
   "outputs": [],
   "source": [
    "X = data_8_station[['delta_theta_me1','delta_phi_me1','vh_pattern_me1','vh_quality_me1','vh_bend_me1','vh_fr_me1', \n",
    "                    'delta_theta_me2','delta_phi_me2','vh_pattern_me2','vh_quality_me2','vh_bend_me2','vh_fr_me2', \n",
    "                    'delta_theta_me3','delta_phi_me3','vh_pattern_me3','vh_quality_me3','vh_bend_me3','vh_fr_me3', \n",
    "                    'delta_theta_me4','delta_phi_me4','vh_pattern_me4','vh_quality_me4','vh_bend_me4','vh_fr_me4', \n",
    "                    'delta_theta_re1','delta_phi_re1','vh_pattern_re1','vh_quality_re1','vh_bend_re1','vh_fr_re1', \n",
    "                    'delta_theta_re2','delta_phi_re2','vh_pattern_re2','vh_quality_re2','vh_bend_re2','vh_fr_re2', \n",
    "                    'delta_theta_re32re33','delta_phi_re32re33','vh_pattern_re32re33','vh_quality_re32re33','vh_bend_re32re33','vh_fr_re32re33', \n",
    "                    'delta_theta_re42re43','delta_phi_re42re43','vh_pattern_re42re43','vh_quality_re42re43','vh_bend_re42re43','vh_fr_re42re43',\n",
    "                    'phi_median', 'theta_median', 'median_virtual_station']]"
   ]
  },
  {
   "cell_type": "code",
   "execution_count": 72,
   "metadata": {
    "ExecuteTime": {
     "end_time": "2019-05-29T21:06:21.031505Z",
     "start_time": "2019-05-29T21:06:21.024442Z"
    }
   },
   "outputs": [],
   "source": [
    "y = data_8_station[['pt', 'q', 'q/pt', 'eta_median']]"
   ]
  },
  {
   "cell_type": "markdown",
   "metadata": {},
   "source": [
    "## Output"
   ]
  },
  {
   "cell_type": "code",
   "execution_count": 73,
   "metadata": {
    "ExecuteTime": {
     "end_time": "2019-05-29T21:06:31.091492Z",
     "start_time": "2019-05-29T21:06:22.621821Z"
    }
   },
   "outputs": [],
   "source": [
    "X.to_csv('X.csv')\n",
    "y.to_csv('y.csv')"
   ]
  },
  {
   "cell_type": "markdown",
   "metadata": {},
   "source": [
    "# 4 Stations with Back-up"
   ]
  },
  {
   "cell_type": "markdown",
   "metadata": {},
   "source": [
    "## Station Selection"
   ]
  },
  {
   "cell_type": "code",
   "execution_count": 45,
   "metadata": {
    "ExecuteTime": {
     "end_time": "2019-05-17T15:56:40.196600Z",
     "start_time": "2019-05-17T15:56:39.947529Z"
    }
   },
   "outputs": [],
   "source": [
    "data_9_station = data[['delta_theta_me1','delta_phi_me1','vh_pattern_me1','vh_quality_me1','vh_bend_me1','vh_fr_me1', \n",
    "                        'delta_theta_me2','delta_phi_me2','vh_pattern_me2','vh_quality_me2','vh_bend_me2','vh_fr_me2', \n",
    "                        'delta_theta_me3','delta_phi_me3','vh_pattern_me3','vh_quality_me3','vh_bend_me3','vh_fr_me3', \n",
    "                        'delta_theta_me4','delta_phi_me4','vh_pattern_me4','vh_quality_me4','vh_bend_me4','vh_fr_me4', \n",
    "                        'delta_theta_ge1me0','delta_phi_ge1me0','vh_pattern_ge1me0','vh_quality_ge1me0','vh_bend_ge1me0','vh_fr_ge1me0', \n",
    "                        'delta_theta_re1','delta_phi_re1','vh_pattern_re1','vh_quality_re1','vh_bend_re1','vh_fr_re1', \n",
    "                        'delta_theta_ge2re2','delta_phi_ge2re2','vh_pattern_ge2re2','vh_quality_ge2re2','vh_bend_ge2re2','vh_fr_ge2re2', \n",
    "                        'delta_theta_re32re33','delta_phi_re32re33','vh_pattern_re32re33','vh_quality_re32re33','vh_bend_re32re33','vh_fr_re32re33', \n",
    "                        'delta_theta_re42re43','delta_phi_re42re43','vh_pattern_re42re43','vh_quality_re42re43','vh_bend_re42re43','vh_fr_re42re43', \n",
    "                        'exist_me1','exist_me2','exist_me3','exist_me4','exist_ge1me0','exist_re1','exist_ge2re2','exist_re32re33','exist_re42re43',\n",
    "                        'exist_name_me1','exist_name_me2','exist_name_me3','exist_name_me4','exist_name_ge1me0',\n",
    "                        'exist_name_re1','exist_name_ge2re2','exist_name_re32re33','exist_name_re42re43', \n",
    "                        'theta_median','phi_median','eta_median','median_virtual_station',\n",
    "                        'pt', 'q', 'q/pt'\n",
    "                        ]]"
   ]
  },
  {
   "cell_type": "markdown",
   "metadata": {},
   "source": [
    "## Hit Count Selection"
   ]
  },
  {
   "cell_type": "code",
   "execution_count": null,
   "metadata": {},
   "outputs": [],
   "source": []
  },
  {
   "cell_type": "markdown",
   "metadata": {},
   "source": [
    "## X/y Split"
   ]
  },
  {
   "cell_type": "code",
   "execution_count": null,
   "metadata": {},
   "outputs": [],
   "source": []
  },
  {
   "cell_type": "markdown",
   "metadata": {},
   "source": [
    "## Output"
   ]
  },
  {
   "cell_type": "code",
   "execution_count": null,
   "metadata": {},
   "outputs": [],
   "source": []
  },
  {
   "cell_type": "markdown",
   "metadata": {},
   "source": [
    "# 12 Station"
   ]
  },
  {
   "cell_type": "code",
   "execution_count": null,
   "metadata": {},
   "outputs": [],
   "source": []
  }
 ],
 "metadata": {
  "kernelspec": {
   "display_name": "Python 3",
   "language": "python",
   "name": "python3"
  },
  "language_info": {
   "codemirror_mode": {
    "name": "ipython",
    "version": 3
   },
   "file_extension": ".py",
   "mimetype": "text/x-python",
   "name": "python",
   "nbconvert_exporter": "python",
   "pygments_lexer": "ipython3",
   "version": "3.6.8"
  },
  "toc": {
   "base_numbering": 1,
   "nav_menu": {},
   "number_sections": true,
   "sideBar": true,
   "skip_h1_title": false,
   "title_cell": "Table of Contents",
   "title_sidebar": "Contents",
   "toc_cell": false,
   "toc_position": {
    "height": "807px",
    "left": "21px",
    "top": "137px",
    "width": "212px"
   },
   "toc_section_display": true,
   "toc_window_display": true
  },
  "varInspector": {
   "cols": {
    "lenName": 16,
    "lenType": 16,
    "lenVar": 40
   },
   "kernels_config": {
    "python": {
     "delete_cmd_postfix": "",
     "delete_cmd_prefix": "del ",
     "library": "var_list.py",
     "varRefreshCmd": "print(var_dic_list())"
    },
    "r": {
     "delete_cmd_postfix": ") ",
     "delete_cmd_prefix": "rm(",
     "library": "var_list.r",
     "varRefreshCmd": "cat(var_dic_list()) "
    }
   },
   "types_to_exclude": [
    "module",
    "function",
    "builtin_function_or_method",
    "instance",
    "_Feature"
   ],
   "window_display": false
  }
 },
 "nbformat": 4,
 "nbformat_minor": 2
}
