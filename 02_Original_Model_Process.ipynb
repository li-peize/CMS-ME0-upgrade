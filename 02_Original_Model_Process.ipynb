{
 "cells": [
  {
   "cell_type": "markdown",
   "metadata": {},
   "source": [
    "# All Data"
   ]
  },
  {
   "cell_type": "code",
   "execution_count": 1,
   "metadata": {
    "ExecuteTime": {
     "end_time": "2019-05-29T14:43:53.039096Z",
     "start_time": "2019-05-29T14:43:52.504955Z"
    }
   },
   "outputs": [],
   "source": [
    "import numpy as np\n",
    "import pandas as pd"
   ]
  },
  {
   "cell_type": "code",
   "execution_count": 2,
   "metadata": {
    "ExecuteTime": {
     "end_time": "2019-05-29T14:44:07.127138Z",
     "start_time": "2019-05-29T14:44:06.887288Z"
    }
   },
   "outputs": [],
   "source": [
    "# configure plots\n",
    "import matplotlib.pyplot as plt\n",
    "%matplotlib inline\n",
    "from matplotlib.pylab import rcParams\n",
    "rcParams['figure.figsize'] = 6, 4"
   ]
  },
  {
   "cell_type": "code",
   "execution_count": 3,
   "metadata": {
    "ExecuteTime": {
     "end_time": "2019-05-29T14:45:02.139097Z",
     "start_time": "2019-05-29T14:44:07.687404Z"
    }
   },
   "outputs": [],
   "source": [
    "data = np.load(\"data_all.npy\")"
   ]
  },
  {
   "cell_type": "code",
   "execution_count": 4,
   "metadata": {
    "ExecuteTime": {
     "end_time": "2019-05-29T14:45:04.947084Z",
     "start_time": "2019-05-29T14:45:04.937828Z"
    }
   },
   "outputs": [
    {
     "data": {
      "text/plain": [
       "163737"
      ]
     },
     "execution_count": 4,
     "metadata": {},
     "output_type": "execute_result"
    }
   ],
   "source": [
    "len(data['vh_size'])"
   ]
  },
  {
   "cell_type": "markdown",
   "metadata": {},
   "source": [
    "# Part Data"
   ]
  },
  {
   "cell_type": "code",
   "execution_count": 147,
   "metadata": {
    "ExecuteTime": {
     "end_time": "2019-05-29T19:39:50.842840Z",
     "start_time": "2019-05-29T19:39:23.229093Z"
    }
   },
   "outputs": [],
   "source": [
    "data_part = np.load('data1_full.npy')"
   ]
  },
  {
   "cell_type": "code",
   "execution_count": 148,
   "metadata": {
    "ExecuteTime": {
     "end_time": "2019-05-29T19:40:04.256222Z",
     "start_time": "2019-05-29T19:40:04.169147Z"
    }
   },
   "outputs": [],
   "source": [
    "df_part = pd.DataFrame(data_part)"
   ]
  },
  {
   "cell_type": "code",
   "execution_count": 149,
   "metadata": {
    "ExecuteTime": {
     "end_time": "2019-05-29T19:40:12.356638Z",
     "start_time": "2019-05-29T19:40:12.320119Z"
    }
   },
   "outputs": [
    {
     "data": {
      "text/html": [
       "<div>\n",
       "<style scoped>\n",
       "    .dataframe tbody tr th:only-of-type {\n",
       "        vertical-align: middle;\n",
       "    }\n",
       "\n",
       "    .dataframe tbody tr th {\n",
       "        vertical-align: top;\n",
       "    }\n",
       "\n",
       "    .dataframe thead th {\n",
       "        text-align: right;\n",
       "    }\n",
       "</style>\n",
       "<table border=\"1\" class=\"dataframe\">\n",
       "  <thead>\n",
       "    <tr style=\"text-align: right;\">\n",
       "      <th></th>\n",
       "      <th>vh_endcap</th>\n",
       "      <th>vh_station</th>\n",
       "      <th>vh_ring</th>\n",
       "      <th>vh_sector</th>\n",
       "      <th>vh_subsector</th>\n",
       "      <th>vh_chamber</th>\n",
       "      <th>vh_cscid</th>\n",
       "      <th>vh_bx</th>\n",
       "      <th>vh_type</th>\n",
       "      <th>vh_neighbor</th>\n",
       "      <th>...</th>\n",
       "      <th>vp_event</th>\n",
       "      <th>vp_pdgid</th>\n",
       "      <th>vp_status</th>\n",
       "      <th>vp_genp</th>\n",
       "      <th>vp_size</th>\n",
       "      <th>ve_event</th>\n",
       "      <th>ve_run</th>\n",
       "      <th>ve_lumi</th>\n",
       "      <th>ve_npv</th>\n",
       "      <th>ve_size</th>\n",
       "    </tr>\n",
       "  </thead>\n",
       "  <tbody>\n",
       "    <tr>\n",
       "      <th>0</th>\n",
       "      <td>[1, 1, 1, 1, 1, 1, 1, 1, -1, -1, -1, -1, -1, -...</td>\n",
       "      <td>[1, 1, 1, 1, 3, 3, 4, 4, 1, 1, 1, 1, 3, 3, 4]</td>\n",
       "      <td>[1, 1, 1, 2, 2, 2, 2, 2, 1, 1, 2, 2, 2, 2, 2]</td>\n",
       "      <td>[3, 3, 3, 3, 3, 3, 3, 3, 6, 6, 6, 6, 6, 6, 6]</td>\n",
       "      <td>[1, 1, 1, 1, 0, 0, 0, 0, 1, 1, 1, 1, 0, 0, 0]</td>\n",
       "      <td>[15, 15, 15, 15, 15, 15, 15, 15, 34, 34, 34, 3...</td>\n",
       "      <td>[1, 1, 1, 4, 4, 4, 4, 4, 2, 2, 5, 5, 5, 5, 5]</td>\n",
       "      <td>[0, 0, 0, 0, 0, 0, 0, 0, 0, 0, 0, 0, 0, 0, 0]</td>\n",
       "      <td>[3, 3, 3, 1, 1, 2, 1, 2, 1, 3, 1, 2, 1, 2, 1]</td>\n",
       "      <td>[0, 0, 0, 0, 0, 0, 0, 0, 0, 0, 0, 0, 0, 0, 0]</td>\n",
       "      <td>...</td>\n",
       "      <td>[0, 0]</td>\n",
       "      <td>[-13, 13]</td>\n",
       "      <td>[1, 1]</td>\n",
       "      <td>[0, 1]</td>\n",
       "      <td>2</td>\n",
       "      <td>[244986]</td>\n",
       "      <td>[1]</td>\n",
       "      <td>[246]</td>\n",
       "      <td>[0]</td>\n",
       "      <td>1</td>\n",
       "    </tr>\n",
       "    <tr>\n",
       "      <th>1</th>\n",
       "      <td>[1, 1, 1, 1, 1, 1, 1, 1, 1, 1, 1, 1, -1, -1, -...</td>\n",
       "      <td>[1, 1, 1, 1, 2, 1, 2, 3, 3, 4, 4, 4, 1, 1, 1, ...</td>\n",
       "      <td>[1, 1, 1, 1, 1, 1, 1, 1, 1, 1, 1, 1, 1, 1, 1, ...</td>\n",
       "      <td>[4, 4, 4, 4, 4, 4, 4, 4, 4, 4, 4, 4, 1, 1, 1, ...</td>\n",
       "      <td>[1, 1, 1, 1, 0, 0, 0, 0, 0, 0, 0, 0, 1, 1, 1, ...</td>\n",
       "      <td>[23, 23, 23, 23, 12, 12, 12, 12, 12, 12, 12, 1...</td>\n",
       "      <td>[3, 3, 3, 3, 2, 2, 2, 2, 2, 2, 2, 2, 3, 3, 3, ...</td>\n",
       "      <td>[0, 0, 0, 0, 0, 0, 0, 0, 0, 0, 0, 0, 0, 0, 0, ...</td>\n",
       "      <td>[1, 1, 3, 3, 3, 4, 1, 1, 2, 1, 2, 2, 1, 3, 3, ...</td>\n",
       "      <td>[0, 0, 0, 0, 0, 0, 0, 0, 0, 0, 0, 0, 0, 0, 0, ...</td>\n",
       "      <td>...</td>\n",
       "      <td>[0, 0]</td>\n",
       "      <td>[-13, 13]</td>\n",
       "      <td>[1, 1]</td>\n",
       "      <td>[0, 1]</td>\n",
       "      <td>2</td>\n",
       "      <td>[244987]</td>\n",
       "      <td>[1]</td>\n",
       "      <td>[246]</td>\n",
       "      <td>[0]</td>\n",
       "      <td>1</td>\n",
       "    </tr>\n",
       "  </tbody>\n",
       "</table>\n",
       "<p>2 rows × 82 columns</p>\n",
       "</div>"
      ],
      "text/plain": [
       "                                           vh_endcap  \\\n",
       "0  [1, 1, 1, 1, 1, 1, 1, 1, -1, -1, -1, -1, -1, -...   \n",
       "1  [1, 1, 1, 1, 1, 1, 1, 1, 1, 1, 1, 1, -1, -1, -...   \n",
       "\n",
       "                                          vh_station  \\\n",
       "0      [1, 1, 1, 1, 3, 3, 4, 4, 1, 1, 1, 1, 3, 3, 4]   \n",
       "1  [1, 1, 1, 1, 2, 1, 2, 3, 3, 4, 4, 4, 1, 1, 1, ...   \n",
       "\n",
       "                                             vh_ring  \\\n",
       "0      [1, 1, 1, 2, 2, 2, 2, 2, 1, 1, 2, 2, 2, 2, 2]   \n",
       "1  [1, 1, 1, 1, 1, 1, 1, 1, 1, 1, 1, 1, 1, 1, 1, ...   \n",
       "\n",
       "                                           vh_sector  \\\n",
       "0      [3, 3, 3, 3, 3, 3, 3, 3, 6, 6, 6, 6, 6, 6, 6]   \n",
       "1  [4, 4, 4, 4, 4, 4, 4, 4, 4, 4, 4, 4, 1, 1, 1, ...   \n",
       "\n",
       "                                        vh_subsector  \\\n",
       "0      [1, 1, 1, 1, 0, 0, 0, 0, 1, 1, 1, 1, 0, 0, 0]   \n",
       "1  [1, 1, 1, 1, 0, 0, 0, 0, 0, 0, 0, 0, 1, 1, 1, ...   \n",
       "\n",
       "                                          vh_chamber  \\\n",
       "0  [15, 15, 15, 15, 15, 15, 15, 15, 34, 34, 34, 3...   \n",
       "1  [23, 23, 23, 23, 12, 12, 12, 12, 12, 12, 12, 1...   \n",
       "\n",
       "                                            vh_cscid  \\\n",
       "0      [1, 1, 1, 4, 4, 4, 4, 4, 2, 2, 5, 5, 5, 5, 5]   \n",
       "1  [3, 3, 3, 3, 2, 2, 2, 2, 2, 2, 2, 2, 3, 3, 3, ...   \n",
       "\n",
       "                                               vh_bx  \\\n",
       "0      [0, 0, 0, 0, 0, 0, 0, 0, 0, 0, 0, 0, 0, 0, 0]   \n",
       "1  [0, 0, 0, 0, 0, 0, 0, 0, 0, 0, 0, 0, 0, 0, 0, ...   \n",
       "\n",
       "                                             vh_type  \\\n",
       "0      [3, 3, 3, 1, 1, 2, 1, 2, 1, 3, 1, 2, 1, 2, 1]   \n",
       "1  [1, 1, 3, 3, 3, 4, 1, 1, 2, 1, 2, 2, 1, 3, 3, ...   \n",
       "\n",
       "                                         vh_neighbor  ... vp_event   vp_pdgid  \\\n",
       "0      [0, 0, 0, 0, 0, 0, 0, 0, 0, 0, 0, 0, 0, 0, 0]  ...   [0, 0]  [-13, 13]   \n",
       "1  [0, 0, 0, 0, 0, 0, 0, 0, 0, 0, 0, 0, 0, 0, 0, ...  ...   [0, 0]  [-13, 13]   \n",
       "\n",
       "  vp_status vp_genp vp_size  ve_event ve_run ve_lumi ve_npv ve_size  \n",
       "0    [1, 1]  [0, 1]       2  [244986]    [1]   [246]    [0]       1  \n",
       "1    [1, 1]  [0, 1]       2  [244987]    [1]   [246]    [0]       1  \n",
       "\n",
       "[2 rows x 82 columns]"
      ]
     },
     "execution_count": 149,
     "metadata": {},
     "output_type": "execute_result"
    }
   ],
   "source": [
    "df_part.head(2)"
   ]
  },
  {
   "cell_type": "markdown",
   "metadata": {
    "ExecuteTime": {
     "end_time": "2019-03-27T12:48:49.214254Z",
     "start_time": "2019-03-27T12:48:49.203131Z"
    }
   },
   "source": [
    "# Column Names"
   ]
  },
  {
   "cell_type": "code",
   "execution_count": 150,
   "metadata": {
    "ExecuteTime": {
     "end_time": "2019-05-29T19:40:20.561440Z",
     "start_time": "2019-05-29T19:40:20.555831Z"
    }
   },
   "outputs": [],
   "source": [
    "column_names = df_part.columns"
   ]
  },
  {
   "cell_type": "code",
   "execution_count": 151,
   "metadata": {
    "ExecuteTime": {
     "end_time": "2019-05-29T19:40:28.881039Z",
     "start_time": "2019-05-29T19:40:28.875673Z"
    }
   },
   "outputs": [
    {
     "data": {
      "text/plain": [
       "Index(['vh_endcap', 'vh_station', 'vh_ring', 'vh_sector', 'vh_subsector',\n",
       "       'vh_chamber', 'vh_cscid', 'vh_bx', 'vh_type', 'vh_neighbor', 'vh_strip',\n",
       "       'vh_wire', 'vh_roll', 'vh_pattern', 'vh_quality', 'vh_bend', 'vh_time',\n",
       "       'vh_fr', 'vh_emtf_phi', 'vh_emtf_theta', 'vh_sim_phi', 'vh_sim_theta',\n",
       "       'vh_sim_eta', 'vh_sim_r', 'vh_sim_z', 'vh_sim_tp1', 'vh_sim_tp2',\n",
       "       'vh_size', 'vt_pt', 'vt_xml_pt', 'vt_phi', 'vt_eta', 'vt_theta', 'vt_q',\n",
       "       'vt_address', 'vt_mode', 'vt_endcap', 'vt_sector', 'vt_bx',\n",
       "       'vt_hitref1', 'vt_hitref2', 'vt_hitref3', 'vt_hitref4', 'vt_size',\n",
       "       'vu_pt', 'vu_phi', 'vu_eta', 'vu_theta', 'vu_q', 'vu_vx', 'vu_vy',\n",
       "       'vu_vz', 'vu_rinv', 'vu_chi2', 'vu_ndof', 'vu_sector', 'vu_sim_pt',\n",
       "       'vu_sim_phi', 'vu_sim_eta', 'vu_sim_tp', 'vu_sim_pdgid', 'vu_sim_assoc',\n",
       "       'vu_size', 'vp_pt', 'vp_phi', 'vp_eta', 'vp_theta', 'vp_vx', 'vp_vy',\n",
       "       'vp_vz', 'vp_q', 'vp_bx', 'vp_event', 'vp_pdgid', 'vp_status',\n",
       "       'vp_genp', 'vp_size', 've_event', 've_run', 've_lumi', 've_npv',\n",
       "       've_size'],\n",
       "      dtype='object')"
      ]
     },
     "execution_count": 151,
     "metadata": {},
     "output_type": "execute_result"
    }
   ],
   "source": [
    "column_names"
   ]
  },
  {
   "cell_type": "markdown",
   "metadata": {},
   "source": [
    "# Create Hit Data Container"
   ]
  },
  {
   "cell_type": "code",
   "execution_count": 64,
   "metadata": {
    "ExecuteTime": {
     "end_time": "2019-03-27T13:11:10.375886Z",
     "start_time": "2019-03-27T13:11:10.367281Z"
    }
   },
   "outputs": [
    {
     "data": {
      "text/plain": [
       "Index(['vh_endcap', 'vh_station', 'vh_ring', 'vh_sector', 'vh_subsector',\n",
       "       'vh_chamber', 'vh_cscid', 'vh_bx', 'vh_type', 'vh_neighbor', 'vh_strip',\n",
       "       'vh_wire', 'vh_roll', 'vh_pattern', 'vh_quality', 'vh_bend', 'vh_time',\n",
       "       'vh_fr', 'vh_emtf_phi', 'vh_emtf_theta', 'vh_sim_phi', 'vh_sim_theta',\n",
       "       'vh_sim_eta', 'vh_sim_r', 'vh_sim_z', 'vh_sim_tp1', 'vh_sim_tp2'],\n",
       "      dtype='object')"
      ]
     },
     "execution_count": 64,
     "metadata": {},
     "output_type": "execute_result"
    }
   ],
   "source": [
    "hit_names = column_names[0:27]\n",
    "hit_names"
   ]
  },
  {
   "cell_type": "code",
   "execution_count": 154,
   "metadata": {
    "ExecuteTime": {
     "end_time": "2019-05-29T19:41:57.116631Z",
     "start_time": "2019-05-29T19:41:57.112405Z"
    }
   },
   "outputs": [
    {
     "data": {
      "text/plain": [
       "Index(['vt_pt', 'vt_xml_pt', 'vt_phi', 'vt_eta', 'vt_theta', 'vt_q',\n",
       "       'vt_address', 'vt_mode', 'vt_endcap', 'vt_sector', 'vt_bx',\n",
       "       'vt_hitref1', 'vt_hitref2', 'vt_hitref3', 'vt_hitref4'],\n",
       "      dtype='object')"
      ]
     },
     "execution_count": 154,
     "metadata": {},
     "output_type": "execute_result"
    }
   ],
   "source": [
    "track_names = column_names[28:43]\n",
    "track_names"
   ]
  },
  {
   "cell_type": "code",
   "execution_count": 67,
   "metadata": {
    "ExecuteTime": {
     "end_time": "2019-03-27T13:13:41.761996Z",
     "start_time": "2019-03-27T13:13:41.755204Z"
    }
   },
   "outputs": [
    {
     "data": {
      "text/plain": [
       "3240189"
      ]
     },
     "execution_count": 67,
     "metadata": {},
     "output_type": "execute_result"
    }
   ],
   "source": [
    "hit_count = data['vh_size'].sum()\n",
    "hit_count"
   ]
  },
  {
   "cell_type": "code",
   "execution_count": 155,
   "metadata": {
    "ExecuteTime": {
     "end_time": "2019-05-29T19:42:29.130291Z",
     "start_time": "2019-05-29T19:42:28.401563Z"
    }
   },
   "outputs": [
    {
     "data": {
      "text/plain": [
       "395882"
      ]
     },
     "execution_count": 155,
     "metadata": {},
     "output_type": "execute_result"
    }
   ],
   "source": [
    "track_count = data['vt_size'].sum()\n",
    "track_count"
   ]
  },
  {
   "cell_type": "code",
   "execution_count": 68,
   "metadata": {
    "ExecuteTime": {
     "end_time": "2019-03-27T13:16:02.495291Z",
     "start_time": "2019-03-27T13:15:53.742613Z"
    }
   },
   "outputs": [],
   "source": [
    "hit_df = pd.DataFrame(index = range(hit_count), columns = hit_names)"
   ]
  },
  {
   "cell_type": "code",
   "execution_count": 156,
   "metadata": {
    "ExecuteTime": {
     "end_time": "2019-05-29T19:42:49.390916Z",
     "start_time": "2019-05-29T19:42:48.769624Z"
    }
   },
   "outputs": [],
   "source": [
    "track_df = pd.DataFrame(index = range(track_count), columns = track_names)"
   ]
  },
  {
   "cell_type": "markdown",
   "metadata": {
    "ExecuteTime": {
     "end_time": "2019-03-27T13:16:46.507625Z",
     "start_time": "2019-03-27T13:16:44.322391Z"
    }
   },
   "source": [
    "# Transpose and Fill"
   ]
  },
  {
   "cell_type": "code",
   "execution_count": 80,
   "metadata": {
    "ExecuteTime": {
     "end_time": "2019-03-27T13:26:45.004514Z",
     "start_time": "2019-03-27T13:26:17.233825Z"
    }
   },
   "outputs": [],
   "source": [
    "for name in hit_names:\n",
    "    hit_df[name] = np.hstack(data[name])"
   ]
  },
  {
   "cell_type": "code",
   "execution_count": 157,
   "metadata": {
    "ExecuteTime": {
     "end_time": "2019-05-29T19:43:35.718025Z",
     "start_time": "2019-05-29T19:43:19.607034Z"
    }
   },
   "outputs": [],
   "source": [
    "for name in track_names:\n",
    "    track_df[name] = np.hstack(data[name])"
   ]
  },
  {
   "cell_type": "markdown",
   "metadata": {},
   "source": [
    "# Save Hit Data"
   ]
  },
  {
   "cell_type": "code",
   "execution_count": 82,
   "metadata": {
    "ExecuteTime": {
     "end_time": "2019-03-27T13:33:35.053381Z",
     "start_time": "2019-03-27T13:31:42.826218Z"
    }
   },
   "outputs": [],
   "source": [
    "hit_df.to_csv('hit_df.csv')"
   ]
  },
  {
   "cell_type": "code",
   "execution_count": 166,
   "metadata": {
    "ExecuteTime": {
     "end_time": "2019-05-29T19:46:20.099884Z",
     "start_time": "2019-05-29T19:46:12.992309Z"
    }
   },
   "outputs": [],
   "source": [
    "track_df.to_csv('track_csctf')"
   ]
  },
  {
   "cell_type": "markdown",
   "metadata": {
    "ExecuteTime": {
     "end_time": "2019-03-27T13:21:30.454742Z",
     "start_time": "2019-03-27T13:21:30.107789Z"
    }
   },
   "source": [
    "# Add Event Index"
   ]
  },
  {
   "cell_type": "code",
   "execution_count": 159,
   "metadata": {
    "ExecuteTime": {
     "end_time": "2019-05-29T19:44:27.383013Z",
     "start_time": "2019-05-29T19:44:27.372831Z"
    }
   },
   "outputs": [
    {
     "data": {
      "text/plain": [
       "163737"
      ]
     },
     "execution_count": 159,
     "metadata": {},
     "output_type": "execute_result"
    }
   ],
   "source": [
    "event_count = len(data)\n",
    "event_count"
   ]
  },
  {
   "cell_type": "code",
   "execution_count": 88,
   "metadata": {
    "ExecuteTime": {
     "end_time": "2019-03-27T13:52:36.040547Z",
     "start_time": "2019-03-27T13:52:36.035783Z"
    }
   },
   "outputs": [],
   "source": [
    "hit_size = data['vh_size']"
   ]
  },
  {
   "cell_type": "code",
   "execution_count": 160,
   "metadata": {
    "ExecuteTime": {
     "end_time": "2019-05-29T19:44:41.263123Z",
     "start_time": "2019-05-29T19:44:41.259795Z"
    }
   },
   "outputs": [],
   "source": [
    "track_size = data['vt_size']"
   ]
  },
  {
   "cell_type": "code",
   "execution_count": 161,
   "metadata": {
    "ExecuteTime": {
     "end_time": "2019-05-29T19:44:53.349999Z",
     "start_time": "2019-05-29T19:44:53.346951Z"
    }
   },
   "outputs": [],
   "source": [
    "event_index = np.empty(0,dtype=np.int32)"
   ]
  },
  {
   "cell_type": "code",
   "execution_count": 128,
   "metadata": {
    "ExecuteTime": {
     "end_time": "2019-03-27T14:38:08.831742Z",
     "start_time": "2019-03-27T14:36:36.308152Z"
    }
   },
   "outputs": [],
   "source": [
    "for i in range(len(hit_size)):\n",
    "    event_index = np.hstack((event_index, np.full(hit_size[i],i,np.int32)))"
   ]
  },
  {
   "cell_type": "code",
   "execution_count": 162,
   "metadata": {
    "ExecuteTime": {
     "end_time": "2019-05-29T19:45:30.334471Z",
     "start_time": "2019-05-29T19:45:24.201513Z"
    }
   },
   "outputs": [],
   "source": [
    "for i in range(len(track_size)):\n",
    "    event_index = np.hstack((event_index, np.full(track_size[i],i,np.int32)))"
   ]
  },
  {
   "cell_type": "code",
   "execution_count": 163,
   "metadata": {
    "ExecuteTime": {
     "end_time": "2019-05-29T19:45:38.233578Z",
     "start_time": "2019-05-29T19:45:38.230178Z"
    }
   },
   "outputs": [
    {
     "name": "stdout",
     "output_type": "stream",
     "text": [
      "395882\n"
     ]
    }
   ],
   "source": [
    "print(len(event_index))"
   ]
  },
  {
   "cell_type": "code",
   "execution_count": 164,
   "metadata": {
    "ExecuteTime": {
     "end_time": "2019-05-29T19:45:50.659640Z",
     "start_time": "2019-05-29T19:45:50.654943Z"
    }
   },
   "outputs": [
    {
     "data": {
      "text/plain": [
       "array([     0,      0,      1, ..., 163736, 163736, 163736], dtype=int32)"
      ]
     },
     "execution_count": 164,
     "metadata": {},
     "output_type": "execute_result"
    }
   ],
   "source": [
    "event_index"
   ]
  },
  {
   "cell_type": "code",
   "execution_count": 131,
   "metadata": {
    "ExecuteTime": {
     "end_time": "2019-03-27T14:38:17.772438Z",
     "start_time": "2019-03-27T14:38:17.767567Z"
    }
   },
   "outputs": [],
   "source": [
    "hit_df['ve_id'] = event_index"
   ]
  },
  {
   "cell_type": "code",
   "execution_count": 165,
   "metadata": {
    "ExecuteTime": {
     "end_time": "2019-05-29T19:46:03.952498Z",
     "start_time": "2019-05-29T19:46:03.947826Z"
    }
   },
   "outputs": [],
   "source": [
    "track_df['ve_id'] = event_index"
   ]
  },
  {
   "cell_type": "code",
   "execution_count": 167,
   "metadata": {
    "ExecuteTime": {
     "end_time": "2019-05-29T19:47:14.944872Z",
     "start_time": "2019-05-29T19:47:14.868094Z"
    }
   },
   "outputs": [],
   "source": [
    "track_df = track_df.drop_duplicates(subset = 've_id', keep = 'first')"
   ]
  },
  {
   "cell_type": "code",
   "execution_count": 133,
   "metadata": {
    "ExecuteTime": {
     "end_time": "2019-03-27T14:40:48.089966Z",
     "start_time": "2019-03-27T14:38:51.967554Z"
    }
   },
   "outputs": [],
   "source": [
    "hit_df.to_csv('hit_df.csv')"
   ]
  },
  {
   "cell_type": "markdown",
   "metadata": {},
   "source": [
    "# Feature Preselection"
   ]
  },
  {
   "cell_type": "code",
   "execution_count": null,
   "metadata": {},
   "outputs": [],
   "source": []
  },
  {
   "cell_type": "markdown",
   "metadata": {},
   "source": [
    "# Median"
   ]
  },
  {
   "cell_type": "code",
   "execution_count": 5,
   "metadata": {
    "ExecuteTime": {
     "end_time": "2019-05-29T14:45:55.266126Z",
     "start_time": "2019-05-29T14:45:46.379881Z"
    }
   },
   "outputs": [
    {
     "name": "stderr",
     "output_type": "stream",
     "text": [
      "/anaconda3/lib/python3.6/site-packages/numpy/lib/arraysetops.py:522: FutureWarning: elementwise comparison failed; returning scalar instead, but in the future will perform elementwise comparison\n",
      "  mask |= (ar1 == a)\n"
     ]
    }
   ],
   "source": [
    "hit_df = pd.read_csv('hit_df.csv', index_col = 0)"
   ]
  },
  {
   "cell_type": "code",
   "execution_count": 8,
   "metadata": {
    "ExecuteTime": {
     "end_time": "2019-05-29T14:46:12.910099Z",
     "start_time": "2019-05-29T14:46:12.905576Z"
    },
    "scrolled": true
   },
   "outputs": [
    {
     "data": {
      "text/plain": [
       "(3240189, 28)"
      ]
     },
     "execution_count": 8,
     "metadata": {},
     "output_type": "execute_result"
    }
   ],
   "source": [
    "hit_df.shape"
   ]
  },
  {
   "cell_type": "markdown",
   "metadata": {},
   "source": [
    "## Split Endcaps"
   ]
  },
  {
   "cell_type": "code",
   "execution_count": 9,
   "metadata": {
    "ExecuteTime": {
     "end_time": "2019-05-29T14:46:59.052296Z",
     "start_time": "2019-05-29T14:46:58.342721Z"
    }
   },
   "outputs": [],
   "source": [
    "hit_ec1 = hit_df[hit_df['vh_endcap']==1]"
   ]
  },
  {
   "cell_type": "code",
   "execution_count": 5,
   "metadata": {
    "ExecuteTime": {
     "end_time": "2019-05-11T10:55:34.240077Z",
     "start_time": "2019-05-11T10:55:34.067039Z"
    }
   },
   "outputs": [],
   "source": [
    "hit_ec2 = hit_df[hit_df['vh_endcap']==-1]"
   ]
  },
  {
   "cell_type": "markdown",
   "metadata": {},
   "source": [
    "## Get Median"
   ]
  },
  {
   "cell_type": "code",
   "execution_count": 49,
   "metadata": {
    "ExecuteTime": {
     "end_time": "2019-05-21T02:29:59.894315Z",
     "start_time": "2019-05-21T02:29:59.883856Z"
    }
   },
   "outputs": [
    {
     "data": {
      "text/plain": [
       "(1614816, 28)"
      ]
     },
     "execution_count": 49,
     "metadata": {},
     "output_type": "execute_result"
    }
   ],
   "source": [
    "hit_ec1.shape"
   ]
  },
  {
   "cell_type": "code",
   "execution_count": 241,
   "metadata": {
    "ExecuteTime": {
     "end_time": "2019-05-14T11:53:27.746931Z",
     "start_time": "2019-05-14T11:53:27.718325Z"
    }
   },
   "outputs": [],
   "source": [
    "ids = hit_ec1['ve_id'].unique()"
   ]
  },
  {
   "cell_type": "code",
   "execution_count": 242,
   "metadata": {
    "ExecuteTime": {
     "end_time": "2019-05-14T11:53:31.718468Z",
     "start_time": "2019-05-14T11:53:31.712283Z"
    }
   },
   "outputs": [],
   "source": [
    "theta_median = []"
   ]
  },
  {
   "cell_type": "code",
   "execution_count": 243,
   "metadata": {
    "ExecuteTime": {
     "end_time": "2019-05-14T11:59:08.095615Z",
     "start_time": "2019-05-14T11:53:36.254768Z"
    }
   },
   "outputs": [],
   "source": [
    "for i in ids:\n",
    "    theta_median.append(hit_ec1[hit_ec1['ve_id']==i]['vh_sim_theta'].median())"
   ]
  },
  {
   "cell_type": "code",
   "execution_count": 244,
   "metadata": {
    "ExecuteTime": {
     "end_time": "2019-05-14T11:59:11.769044Z",
     "start_time": "2019-05-14T11:59:11.765728Z"
    }
   },
   "outputs": [],
   "source": [
    "phi_median = []"
   ]
  },
  {
   "cell_type": "code",
   "execution_count": 245,
   "metadata": {
    "ExecuteTime": {
     "end_time": "2019-05-14T12:04:57.905526Z",
     "start_time": "2019-05-14T11:59:15.243974Z"
    }
   },
   "outputs": [],
   "source": [
    "for i in ids:\n",
    "    phi_median.append(hit_ec1[hit_ec1['ve_id']==i]['vh_sim_phi'].median())"
   ]
  },
  {
   "cell_type": "code",
   "execution_count": 246,
   "metadata": {
    "ExecuteTime": {
     "end_time": "2019-05-14T12:05:01.762348Z",
     "start_time": "2019-05-14T12:05:01.759352Z"
    }
   },
   "outputs": [],
   "source": [
    "eta_median = []"
   ]
  },
  {
   "cell_type": "code",
   "execution_count": 247,
   "metadata": {
    "ExecuteTime": {
     "end_time": "2019-05-14T12:10:52.553305Z",
     "start_time": "2019-05-14T12:05:05.453156Z"
    }
   },
   "outputs": [],
   "source": [
    "for i in ids:\n",
    "    eta_median.append(hit_ec1[hit_ec1['ve_id']==i]['vh_sim_eta'].median())"
   ]
  },
  {
   "cell_type": "code",
   "execution_count": 248,
   "metadata": {
    "ExecuteTime": {
     "end_time": "2019-05-14T12:10:56.289903Z",
     "start_time": "2019-05-14T12:10:56.278067Z"
    }
   },
   "outputs": [],
   "source": [
    "median_df = pd.DataFrame()"
   ]
  },
  {
   "cell_type": "code",
   "execution_count": 249,
   "metadata": {
    "ExecuteTime": {
     "end_time": "2019-05-14T12:11:00.143964Z",
     "start_time": "2019-05-14T12:11:00.064124Z"
    }
   },
   "outputs": [],
   "source": [
    "median_df['ve_id'] = ids"
   ]
  },
  {
   "cell_type": "code",
   "execution_count": 250,
   "metadata": {
    "ExecuteTime": {
     "end_time": "2019-05-14T12:11:03.896433Z",
     "start_time": "2019-05-14T12:11:03.882271Z"
    }
   },
   "outputs": [],
   "source": [
    "median_df['theta_median'] = theta_median"
   ]
  },
  {
   "cell_type": "code",
   "execution_count": 251,
   "metadata": {
    "ExecuteTime": {
     "end_time": "2019-05-14T12:11:07.617079Z",
     "start_time": "2019-05-14T12:11:07.597767Z"
    }
   },
   "outputs": [],
   "source": [
    "median_df['phi_median'] = phi_median"
   ]
  },
  {
   "cell_type": "code",
   "execution_count": 252,
   "metadata": {
    "ExecuteTime": {
     "end_time": "2019-05-14T12:11:11.289949Z",
     "start_time": "2019-05-14T12:11:11.276182Z"
    }
   },
   "outputs": [],
   "source": [
    "median_df['eta_median'] = eta_median"
   ]
  },
  {
   "cell_type": "code",
   "execution_count": 279,
   "metadata": {
    "ExecuteTime": {
     "end_time": "2019-05-14T22:11:26.883944Z",
     "start_time": "2019-05-14T22:11:26.872417Z"
    }
   },
   "outputs": [
    {
     "data": {
      "text/html": [
       "<div>\n",
       "<style scoped>\n",
       "    .dataframe tbody tr th:only-of-type {\n",
       "        vertical-align: middle;\n",
       "    }\n",
       "\n",
       "    .dataframe tbody tr th {\n",
       "        vertical-align: top;\n",
       "    }\n",
       "\n",
       "    .dataframe thead th {\n",
       "        text-align: right;\n",
       "    }\n",
       "</style>\n",
       "<table border=\"1\" class=\"dataframe\">\n",
       "  <thead>\n",
       "    <tr style=\"text-align: right;\">\n",
       "      <th></th>\n",
       "      <th>ve_id</th>\n",
       "      <th>theta_median</th>\n",
       "      <th>phi_median</th>\n",
       "      <th>eta_median</th>\n",
       "    </tr>\n",
       "  </thead>\n",
       "  <tbody>\n",
       "    <tr>\n",
       "      <th>0</th>\n",
       "      <td>0</td>\n",
       "      <td>22.381725</td>\n",
       "      <td>141.058455</td>\n",
       "      <td>1.620299</td>\n",
       "    </tr>\n",
       "    <tr>\n",
       "      <th>1</th>\n",
       "      <td>1</td>\n",
       "      <td>15.110317</td>\n",
       "      <td>-141.673995</td>\n",
       "      <td>2.020179</td>\n",
       "    </tr>\n",
       "    <tr>\n",
       "      <th>2</th>\n",
       "      <td>2</td>\n",
       "      <td>21.016869</td>\n",
       "      <td>-110.063550</td>\n",
       "      <td>1.684747</td>\n",
       "    </tr>\n",
       "    <tr>\n",
       "      <th>3</th>\n",
       "      <td>3</td>\n",
       "      <td>10.484757</td>\n",
       "      <td>113.099700</td>\n",
       "      <td>2.388656</td>\n",
       "    </tr>\n",
       "    <tr>\n",
       "      <th>4</th>\n",
       "      <td>4</td>\n",
       "      <td>13.612604</td>\n",
       "      <td>47.813921</td>\n",
       "      <td>2.125661</td>\n",
       "    </tr>\n",
       "  </tbody>\n",
       "</table>\n",
       "</div>"
      ],
      "text/plain": [
       "   ve_id  theta_median  phi_median  eta_median\n",
       "0      0     22.381725  141.058455    1.620299\n",
       "1      1     15.110317 -141.673995    2.020179\n",
       "2      2     21.016869 -110.063550    1.684747\n",
       "3      3     10.484757  113.099700    2.388656\n",
       "4      4     13.612604   47.813921    2.125661"
      ]
     },
     "execution_count": 279,
     "metadata": {},
     "output_type": "execute_result"
    }
   ],
   "source": [
    "median_df.head()"
   ]
  },
  {
   "cell_type": "markdown",
   "metadata": {},
   "source": [
    "## Get Phi Median Hit Data"
   ]
  },
  {
   "cell_type": "code",
   "execution_count": 275,
   "metadata": {
    "ExecuteTime": {
     "end_time": "2019-05-14T21:40:44.786441Z",
     "start_time": "2019-05-14T21:40:43.803895Z"
    }
   },
   "outputs": [],
   "source": [
    "hit_ec1 = hit_ec1.sort_values(by=['ve_id', 'vh_sim_phi'])"
   ]
  },
  {
   "cell_type": "code",
   "execution_count": 277,
   "metadata": {
    "ExecuteTime": {
     "end_time": "2019-05-14T21:41:46.612518Z",
     "start_time": "2019-05-14T21:41:46.603062Z"
    }
   },
   "outputs": [],
   "source": [
    "median_station = []\n",
    "median_type = []\n",
    "median_ring = []"
   ]
  },
  {
   "cell_type": "code",
   "execution_count": 278,
   "metadata": {
    "ExecuteTime": {
     "end_time": "2019-05-14T22:10:57.717564Z",
     "start_time": "2019-05-14T21:45:46.833204Z"
    }
   },
   "outputs": [],
   "source": [
    "for i in ids:\n",
    "    tempindex = hit_ec1[hit_ec1['ve_id']==i]['vh_sim_phi'].shape[0]\n",
    "    medianindex = tempindex // 2\n",
    "    median_station.append(hit_ec1[hit_ec1['ve_id']==i].iloc[medianindex, :]['vh_station'])\n",
    "    median_type.append(hit_ec1[hit_ec1['ve_id']==i].iloc[medianindex, :]['vh_type'])\n",
    "    median_ring.append(hit_ec1[hit_ec1['ve_id']==i].iloc[medianindex, :]['vh_ring'])"
   ]
  },
  {
   "cell_type": "code",
   "execution_count": 280,
   "metadata": {
    "ExecuteTime": {
     "end_time": "2019-05-14T22:12:31.745936Z",
     "start_time": "2019-05-14T22:12:31.683358Z"
    }
   },
   "outputs": [],
   "source": [
    "median_df['median_station'] = median_station\n",
    "median_df['median_type'] = median_type\n",
    "median_df['median_ring'] = median_ring"
   ]
  },
  {
   "cell_type": "markdown",
   "metadata": {},
   "source": [
    "## Calculate Median Virtual Station"
   ]
  },
  {
   "cell_type": "code",
   "execution_count": 285,
   "metadata": {
    "ExecuteTime": {
     "end_time": "2019-05-14T22:32:35.499630Z",
     "start_time": "2019-05-14T22:32:35.495518Z"
    }
   },
   "outputs": [],
   "source": [
    "median_df['median_virtual_station'] = 0"
   ]
  },
  {
   "cell_type": "code",
   "execution_count": 296,
   "metadata": {
    "ExecuteTime": {
     "end_time": "2019-05-15T09:08:57.861118Z",
     "start_time": "2019-05-15T09:08:57.848493Z"
    }
   },
   "outputs": [
    {
     "data": {
      "text/plain": [
       "True"
      ]
     },
     "execution_count": 296,
     "metadata": {},
     "output_type": "execute_result"
    }
   ],
   "source": [
    "median_df[median_df['ve_id']==0]['median_type'].item() == 1"
   ]
  },
  {
   "cell_type": "code",
   "execution_count": 317,
   "metadata": {
    "ExecuteTime": {
     "end_time": "2019-05-15T10:41:09.250176Z",
     "start_time": "2019-05-15T10:41:09.236001Z"
    }
   },
   "outputs": [
    {
     "data": {
      "text/html": [
       "<div>\n",
       "<style scoped>\n",
       "    .dataframe tbody tr th:only-of-type {\n",
       "        vertical-align: middle;\n",
       "    }\n",
       "\n",
       "    .dataframe tbody tr th {\n",
       "        vertical-align: top;\n",
       "    }\n",
       "\n",
       "    .dataframe thead th {\n",
       "        text-align: right;\n",
       "    }\n",
       "</style>\n",
       "<table border=\"1\" class=\"dataframe\">\n",
       "  <thead>\n",
       "    <tr style=\"text-align: right;\">\n",
       "      <th></th>\n",
       "      <th>ve_id</th>\n",
       "      <th>theta_median</th>\n",
       "      <th>phi_median</th>\n",
       "      <th>eta_median</th>\n",
       "      <th>median_station</th>\n",
       "      <th>median_type</th>\n",
       "      <th>median_ring</th>\n",
       "    </tr>\n",
       "  </thead>\n",
       "  <tbody>\n",
       "    <tr>\n",
       "      <th>0</th>\n",
       "      <td>0</td>\n",
       "      <td>22.381725</td>\n",
       "      <td>141.058455</td>\n",
       "      <td>1.620299</td>\n",
       "      <td>3.0</td>\n",
       "      <td>1.0</td>\n",
       "      <td>2.0</td>\n",
       "    </tr>\n",
       "    <tr>\n",
       "      <th>1</th>\n",
       "      <td>1</td>\n",
       "      <td>15.110317</td>\n",
       "      <td>-141.673995</td>\n",
       "      <td>2.020179</td>\n",
       "      <td>2.0</td>\n",
       "      <td>1.0</td>\n",
       "      <td>1.0</td>\n",
       "    </tr>\n",
       "    <tr>\n",
       "      <th>2</th>\n",
       "      <td>2</td>\n",
       "      <td>21.016869</td>\n",
       "      <td>-110.063550</td>\n",
       "      <td>1.684747</td>\n",
       "      <td>2.0</td>\n",
       "      <td>1.0</td>\n",
       "      <td>1.0</td>\n",
       "    </tr>\n",
       "    <tr>\n",
       "      <th>3</th>\n",
       "      <td>3</td>\n",
       "      <td>10.484757</td>\n",
       "      <td>113.099700</td>\n",
       "      <td>2.388656</td>\n",
       "      <td>4.0</td>\n",
       "      <td>2.0</td>\n",
       "      <td>1.0</td>\n",
       "    </tr>\n",
       "    <tr>\n",
       "      <th>4</th>\n",
       "      <td>4</td>\n",
       "      <td>13.612605</td>\n",
       "      <td>47.813921</td>\n",
       "      <td>2.125661</td>\n",
       "      <td>2.0</td>\n",
       "      <td>3.0</td>\n",
       "      <td>1.0</td>\n",
       "    </tr>\n",
       "  </tbody>\n",
       "</table>\n",
       "</div>"
      ],
      "text/plain": [
       "   ve_id  theta_median  phi_median  eta_median  median_station  median_type  \\\n",
       "0      0     22.381725  141.058455    1.620299             3.0          1.0   \n",
       "1      1     15.110317 -141.673995    2.020179             2.0          1.0   \n",
       "2      2     21.016869 -110.063550    1.684747             2.0          1.0   \n",
       "3      3     10.484757  113.099700    2.388656             4.0          2.0   \n",
       "4      4     13.612605   47.813921    2.125661             2.0          3.0   \n",
       "\n",
       "   median_ring  \n",
       "0          2.0  \n",
       "1          1.0  \n",
       "2          1.0  \n",
       "3          1.0  \n",
       "4          1.0  "
      ]
     },
     "execution_count": 317,
     "metadata": {},
     "output_type": "execute_result"
    }
   ],
   "source": [
    "median_df.head()"
   ]
  },
  {
   "cell_type": "code",
   "execution_count": 340,
   "metadata": {
    "ExecuteTime": {
     "end_time": "2019-05-15T11:05:15.451028Z",
     "start_time": "2019-05-15T11:05:15.437247Z"
    }
   },
   "outputs": [
    {
     "name": "stdout",
     "output_type": "stream",
     "text": [
      "3.0    4159\n",
      "2.0    3190\n",
      "1.0    2473\n",
      "4.0    1309\n",
      "Name: median_ring, dtype: int64\n"
     ]
    }
   ],
   "source": [
    "print(median_df[(median_df['median_type']==1) & (median_df['median_station']==1)]['median_ring'].value_counts())"
   ]
  },
  {
   "cell_type": "code",
   "execution_count": 339,
   "metadata": {
    "ExecuteTime": {
     "end_time": "2019-05-15T11:04:32.257214Z",
     "start_time": "2019-05-15T11:04:32.253120Z"
    }
   },
   "outputs": [
    {
     "data": {
      "text/plain": [
       "9822"
      ]
     },
     "execution_count": 339,
     "metadata": {},
     "output_type": "execute_result"
    }
   ],
   "source": [
    "4159 + 2473 + 3190"
   ]
  },
  {
   "cell_type": "code",
   "execution_count": 334,
   "metadata": {
    "ExecuteTime": {
     "end_time": "2019-05-15T10:58:20.014524Z",
     "start_time": "2019-05-15T10:58:19.980501Z"
    }
   },
   "outputs": [
    {
     "name": "stdout",
     "output_type": "stream",
     "text": [
      "4.0    717\n",
      "Name: median_type, dtype: int64\n",
      "3.0    1789\n",
      "Name: median_type, dtype: int64\n",
      "3.0    24436\n",
      "Name: median_type, dtype: int64\n",
      "2.0    3869\n",
      "Name: median_type, dtype: int64\n",
      "2.0    4661\n",
      "Name: median_type, dtype: int64\n",
      "2.0    16235\n",
      "Name: median_type, dtype: int64\n",
      "2.0    13540\n",
      "Name: median_type, dtype: int64\n",
      "1.0    2473\n",
      "Name: median_type, dtype: int64\n",
      "1.0    3190\n",
      "Name: median_type, dtype: int64\n",
      "1.0    43388\n",
      "Name: median_type, dtype: int64\n",
      "1.0    26595\n",
      "Name: median_type, dtype: int64\n",
      "1.0    17129\n",
      "Name: median_type, dtype: int64\n",
      "1.0    4159\n",
      "Name: median_type, dtype: int64\n"
     ]
    }
   ],
   "source": [
    "print(temp_8['median_type'].value_counts())\n",
    "print(temp_9['median_type'].value_counts())\n",
    "print(temp_10['median_type'].value_counts())\n",
    "print(temp_11['median_type'].value_counts())\n",
    "print(temp_12['median_type'].value_counts())\n",
    "print(temp_13['median_type'].value_counts())"
   ]
  },
  {
   "cell_type": "code",
   "execution_count": 316,
   "metadata": {
    "ExecuteTime": {
     "end_time": "2019-05-15T10:40:21.406821Z",
     "start_time": "2019-05-15T10:40:21.397433Z"
    }
   },
   "outputs": [
    {
     "data": {
      "text/plain": [
       "(2473, 7)"
      ]
     },
     "execution_count": 316,
     "metadata": {},
     "output_type": "execute_result"
    }
   ],
   "source": [
    "median_df[(median_df['median_type']==1) & (median_df['median_station']==1)& (median_df['median_ring']==1)].shape"
   ]
  },
  {
   "cell_type": "code",
   "execution_count": 327,
   "metadata": {
    "ExecuteTime": {
     "end_time": "2019-05-15T10:54:05.777026Z",
     "start_time": "2019-05-15T10:54:05.766971Z"
    }
   },
   "outputs": [
    {
     "data": {
      "text/plain": [
       "(3190, 7)"
      ]
     },
     "execution_count": 327,
     "metadata": {},
     "output_type": "execute_result"
    }
   ],
   "source": [
    "median_df[(median_df['median_type']==1) & (median_df['median_station']==1)& (median_df['median_ring']==2)].shape"
   ]
  },
  {
   "cell_type": "code",
   "execution_count": 328,
   "metadata": {
    "ExecuteTime": {
     "end_time": "2019-05-15T10:54:26.933365Z",
     "start_time": "2019-05-15T10:54:26.920598Z"
    }
   },
   "outputs": [
    {
     "data": {
      "text/plain": [
       "(4159, 7)"
      ]
     },
     "execution_count": 328,
     "metadata": {},
     "output_type": "execute_result"
    }
   ],
   "source": [
    "median_df[(median_df['median_type']==1) & (median_df['median_station']==1)& (median_df['median_ring']==3)].shape"
   ]
  },
  {
   "cell_type": "code",
   "execution_count": 341,
   "metadata": {
    "ExecuteTime": {
     "end_time": "2019-05-15T11:07:16.444612Z",
     "start_time": "2019-05-15T11:07:10.093019Z"
    },
    "scrolled": true
   },
   "outputs": [
    {
     "name": "stderr",
     "output_type": "stream",
     "text": [
      "/anaconda3/lib/python3.6/site-packages/ipykernel_launcher.py:2: SettingWithCopyWarning: \n",
      "A value is trying to be set on a copy of a slice from a DataFrame.\n",
      "Try using .loc[row_indexer,col_indexer] = value instead\n",
      "\n",
      "See the caveats in the documentation: http://pandas.pydata.org/pandas-docs/stable/indexing.html#indexing-view-versus-copy\n",
      "  \n",
      "/anaconda3/lib/python3.6/site-packages/ipykernel_launcher.py:4: SettingWithCopyWarning: \n",
      "A value is trying to be set on a copy of a slice from a DataFrame.\n",
      "Try using .loc[row_indexer,col_indexer] = value instead\n",
      "\n",
      "See the caveats in the documentation: http://pandas.pydata.org/pandas-docs/stable/indexing.html#indexing-view-versus-copy\n",
      "  after removing the cwd from sys.path.\n",
      "/anaconda3/lib/python3.6/site-packages/ipykernel_launcher.py:6: SettingWithCopyWarning: \n",
      "A value is trying to be set on a copy of a slice from a DataFrame.\n",
      "Try using .loc[row_indexer,col_indexer] = value instead\n",
      "\n",
      "See the caveats in the documentation: http://pandas.pydata.org/pandas-docs/stable/indexing.html#indexing-view-versus-copy\n",
      "  \n",
      "/anaconda3/lib/python3.6/site-packages/ipykernel_launcher.py:8: SettingWithCopyWarning: \n",
      "A value is trying to be set on a copy of a slice from a DataFrame.\n",
      "Try using .loc[row_indexer,col_indexer] = value instead\n",
      "\n",
      "See the caveats in the documentation: http://pandas.pydata.org/pandas-docs/stable/indexing.html#indexing-view-versus-copy\n",
      "  \n",
      "/anaconda3/lib/python3.6/site-packages/ipykernel_launcher.py:10: SettingWithCopyWarning: \n",
      "A value is trying to be set on a copy of a slice from a DataFrame.\n",
      "Try using .loc[row_indexer,col_indexer] = value instead\n",
      "\n",
      "See the caveats in the documentation: http://pandas.pydata.org/pandas-docs/stable/indexing.html#indexing-view-versus-copy\n",
      "  # Remove the CWD from sys.path while we load stuff.\n",
      "/anaconda3/lib/python3.6/site-packages/ipykernel_launcher.py:12: SettingWithCopyWarning: \n",
      "A value is trying to be set on a copy of a slice from a DataFrame.\n",
      "Try using .loc[row_indexer,col_indexer] = value instead\n",
      "\n",
      "See the caveats in the documentation: http://pandas.pydata.org/pandas-docs/stable/indexing.html#indexing-view-versus-copy\n",
      "  if sys.path[0] == '':\n",
      "/anaconda3/lib/python3.6/site-packages/ipykernel_launcher.py:14: SettingWithCopyWarning: \n",
      "A value is trying to be set on a copy of a slice from a DataFrame.\n",
      "Try using .loc[row_indexer,col_indexer] = value instead\n",
      "\n",
      "See the caveats in the documentation: http://pandas.pydata.org/pandas-docs/stable/indexing.html#indexing-view-versus-copy\n",
      "  \n",
      "/anaconda3/lib/python3.6/site-packages/ipykernel_launcher.py:16: SettingWithCopyWarning: \n",
      "A value is trying to be set on a copy of a slice from a DataFrame.\n",
      "Try using .loc[row_indexer,col_indexer] = value instead\n",
      "\n",
      "See the caveats in the documentation: http://pandas.pydata.org/pandas-docs/stable/indexing.html#indexing-view-versus-copy\n",
      "  app.launch_new_instance()\n",
      "/anaconda3/lib/python3.6/site-packages/ipykernel_launcher.py:18: SettingWithCopyWarning: \n",
      "A value is trying to be set on a copy of a slice from a DataFrame.\n",
      "Try using .loc[row_indexer,col_indexer] = value instead\n",
      "\n",
      "See the caveats in the documentation: http://pandas.pydata.org/pandas-docs/stable/indexing.html#indexing-view-versus-copy\n",
      "/anaconda3/lib/python3.6/site-packages/ipykernel_launcher.py:20: SettingWithCopyWarning: \n",
      "A value is trying to be set on a copy of a slice from a DataFrame.\n",
      "Try using .loc[row_indexer,col_indexer] = value instead\n",
      "\n",
      "See the caveats in the documentation: http://pandas.pydata.org/pandas-docs/stable/indexing.html#indexing-view-versus-copy\n",
      "/anaconda3/lib/python3.6/site-packages/ipykernel_launcher.py:22: SettingWithCopyWarning: \n",
      "A value is trying to be set on a copy of a slice from a DataFrame.\n",
      "Try using .loc[row_indexer,col_indexer] = value instead\n",
      "\n",
      "See the caveats in the documentation: http://pandas.pydata.org/pandas-docs/stable/indexing.html#indexing-view-versus-copy\n",
      "/anaconda3/lib/python3.6/site-packages/ipykernel_launcher.py:24: SettingWithCopyWarning: \n",
      "A value is trying to be set on a copy of a slice from a DataFrame.\n",
      "Try using .loc[row_indexer,col_indexer] = value instead\n",
      "\n",
      "See the caveats in the documentation: http://pandas.pydata.org/pandas-docs/stable/indexing.html#indexing-view-versus-copy\n",
      "/anaconda3/lib/python3.6/site-packages/ipykernel_launcher.py:26: SettingWithCopyWarning: \n",
      "A value is trying to be set on a copy of a slice from a DataFrame.\n",
      "Try using .loc[row_indexer,col_indexer] = value instead\n",
      "\n",
      "See the caveats in the documentation: http://pandas.pydata.org/pandas-docs/stable/indexing.html#indexing-view-versus-copy\n",
      "/anaconda3/lib/python3.6/site-packages/ipykernel_launcher.py:28: SettingWithCopyWarning: \n",
      "A value is trying to be set on a copy of a slice from a DataFrame.\n",
      "Try using .loc[row_indexer,col_indexer] = value instead\n",
      "\n",
      "See the caveats in the documentation: http://pandas.pydata.org/pandas-docs/stable/indexing.html#indexing-view-versus-copy\n"
     ]
    }
   ],
   "source": [
    "temp_1 = median_df[median_df['median_type']==4]\n",
    "temp_1['median_virtual_station'] = 1\n",
    "temp_2 = median_df[(median_df['median_type']==3) & (median_df['median_station']==1)]\n",
    "temp_2['median_virtual_station'] = 1\n",
    "temp_3 = median_df[(median_df['median_type']==3) & (median_df['median_station']==2)]\n",
    "temp_3['median_virtual_station'] = 5\n",
    "temp_4 = median_df[(median_df['median_type']==2) & (median_df['median_station']==1)]\n",
    "temp_4['median_virtual_station'] = 4\n",
    "temp_5 = median_df[(median_df['median_type']==2) & (median_df['median_station']==2)]\n",
    "temp_5['median_virtual_station'] = 5\n",
    "temp_6 = median_df[(median_df['median_type']==2) & (median_df['median_station']==3)]\n",
    "temp_6['median_virtual_station'] = 8\n",
    "temp_7 = median_df[(median_df['median_type']==2) & (median_df['median_station']==4)]\n",
    "temp_7['median_virtual_station'] = 10\n",
    "temp_8 = median_df[(median_df['median_type']==1) & (median_df['median_station']==1)& (median_df['median_ring']==1)]\n",
    "temp_8['median_virtual_station'] = 2\n",
    "temp_14 = median_df[(median_df['median_type']==1) & (median_df['median_station']==1)& (median_df['median_ring']==4)]\n",
    "temp_14['median_virtual_station'] = 2\n",
    "temp_9 = median_df[(median_df['median_type']==1) & (median_df['median_station']==1)& (median_df['median_ring']==2)]\n",
    "temp_9['median_virtual_station'] = 3\n",
    "temp_13 = median_df[(median_df['median_type']==1) & (median_df['median_station']==1)& (median_df['median_ring']==3)]\n",
    "temp_13['median_virtual_station'] = 3\n",
    "temp_10 = median_df[(median_df['median_type']==1) & (median_df['median_station']==2)]\n",
    "temp_10['median_virtual_station'] = 6\n",
    "temp_11 = median_df[(median_df['median_type']==1) & (median_df['median_station']==3)]\n",
    "temp_11['median_virtual_station'] = 7\n",
    "temp_12 = median_df[(median_df['median_type']==1) & (median_df['median_station']==4)]\n",
    "temp_12['median_virtual_station'] = 9"
   ]
  },
  {
   "cell_type": "code",
   "execution_count": 342,
   "metadata": {
    "ExecuteTime": {
     "end_time": "2019-05-15T11:07:35.963152Z",
     "start_time": "2019-05-15T11:07:35.949459Z"
    }
   },
   "outputs": [],
   "source": [
    "temps = [temp_1, temp_2, temp_3, temp_4, temp_5, temp_6, temp_7, \n",
    "         temp_8, temp_9, temp_10, temp_11, temp_12, temp_13, temp_14]"
   ]
  },
  {
   "cell_type": "code",
   "execution_count": 343,
   "metadata": {
    "ExecuteTime": {
     "end_time": "2019-05-15T11:07:43.747363Z",
     "start_time": "2019-05-15T11:07:43.718373Z"
    }
   },
   "outputs": [],
   "source": [
    "median_df = pd.concat(temps)"
   ]
  },
  {
   "cell_type": "code",
   "execution_count": 346,
   "metadata": {
    "ExecuteTime": {
     "end_time": "2019-05-15T11:08:32.789438Z",
     "start_time": "2019-05-15T11:08:32.766620Z"
    }
   },
   "outputs": [],
   "source": [
    "median_df = median_df.sort_values(by=['ve_id'])"
   ]
  },
  {
   "cell_type": "code",
   "execution_count": 348,
   "metadata": {
    "ExecuteTime": {
     "end_time": "2019-05-15T11:09:14.504956Z",
     "start_time": "2019-05-15T11:09:14.491592Z"
    }
   },
   "outputs": [
    {
     "data": {
      "text/html": [
       "<div>\n",
       "<style scoped>\n",
       "    .dataframe tbody tr th:only-of-type {\n",
       "        vertical-align: middle;\n",
       "    }\n",
       "\n",
       "    .dataframe tbody tr th {\n",
       "        vertical-align: top;\n",
       "    }\n",
       "\n",
       "    .dataframe thead th {\n",
       "        text-align: right;\n",
       "    }\n",
       "</style>\n",
       "<table border=\"1\" class=\"dataframe\">\n",
       "  <thead>\n",
       "    <tr style=\"text-align: right;\">\n",
       "      <th></th>\n",
       "      <th>ve_id</th>\n",
       "      <th>theta_median</th>\n",
       "      <th>phi_median</th>\n",
       "      <th>eta_median</th>\n",
       "      <th>median_station</th>\n",
       "      <th>median_type</th>\n",
       "      <th>median_ring</th>\n",
       "      <th>median_virtual_station</th>\n",
       "    </tr>\n",
       "  </thead>\n",
       "  <tbody>\n",
       "    <tr>\n",
       "      <th>0</th>\n",
       "      <td>0</td>\n",
       "      <td>22.381725</td>\n",
       "      <td>141.058455</td>\n",
       "      <td>1.620299</td>\n",
       "      <td>3.0</td>\n",
       "      <td>1.0</td>\n",
       "      <td>2.0</td>\n",
       "      <td>7</td>\n",
       "    </tr>\n",
       "    <tr>\n",
       "      <th>1</th>\n",
       "      <td>1</td>\n",
       "      <td>15.110317</td>\n",
       "      <td>-141.673995</td>\n",
       "      <td>2.020179</td>\n",
       "      <td>2.0</td>\n",
       "      <td>1.0</td>\n",
       "      <td>1.0</td>\n",
       "      <td>6</td>\n",
       "    </tr>\n",
       "    <tr>\n",
       "      <th>2</th>\n",
       "      <td>2</td>\n",
       "      <td>21.016869</td>\n",
       "      <td>-110.063550</td>\n",
       "      <td>1.684747</td>\n",
       "      <td>2.0</td>\n",
       "      <td>1.0</td>\n",
       "      <td>1.0</td>\n",
       "      <td>6</td>\n",
       "    </tr>\n",
       "    <tr>\n",
       "      <th>3</th>\n",
       "      <td>3</td>\n",
       "      <td>10.484757</td>\n",
       "      <td>113.099700</td>\n",
       "      <td>2.388656</td>\n",
       "      <td>4.0</td>\n",
       "      <td>2.0</td>\n",
       "      <td>1.0</td>\n",
       "      <td>10</td>\n",
       "    </tr>\n",
       "    <tr>\n",
       "      <th>4</th>\n",
       "      <td>4</td>\n",
       "      <td>13.612605</td>\n",
       "      <td>47.813921</td>\n",
       "      <td>2.125661</td>\n",
       "      <td>2.0</td>\n",
       "      <td>3.0</td>\n",
       "      <td>1.0</td>\n",
       "      <td>5</td>\n",
       "    </tr>\n",
       "  </tbody>\n",
       "</table>\n",
       "</div>"
      ],
      "text/plain": [
       "   ve_id  theta_median  phi_median  eta_median  median_station  median_type  \\\n",
       "0      0     22.381725  141.058455    1.620299             3.0          1.0   \n",
       "1      1     15.110317 -141.673995    2.020179             2.0          1.0   \n",
       "2      2     21.016869 -110.063550    1.684747             2.0          1.0   \n",
       "3      3     10.484757  113.099700    2.388656             4.0          2.0   \n",
       "4      4     13.612605   47.813921    2.125661             2.0          3.0   \n",
       "\n",
       "   median_ring  median_virtual_station  \n",
       "0          2.0                       7  \n",
       "1          1.0                       6  \n",
       "2          1.0                       6  \n",
       "3          1.0                      10  \n",
       "4          1.0                       5  "
      ]
     },
     "execution_count": 348,
     "metadata": {},
     "output_type": "execute_result"
    }
   ],
   "source": [
    "median_df.head()"
   ]
  },
  {
   "cell_type": "markdown",
   "metadata": {},
   "source": [
    "## Save Median Data"
   ]
  },
  {
   "cell_type": "code",
   "execution_count": 282,
   "metadata": {
    "ExecuteTime": {
     "end_time": "2019-05-14T22:22:44.585783Z",
     "start_time": "2019-05-14T22:22:43.141479Z"
    }
   },
   "outputs": [],
   "source": [
    "median_df.to_csv('median_virtual_station.csv')"
   ]
  },
  {
   "cell_type": "code",
   "execution_count": 10,
   "metadata": {
    "ExecuteTime": {
     "end_time": "2019-05-29T15:06:20.266226Z",
     "start_time": "2019-05-29T15:06:20.033579Z"
    }
   },
   "outputs": [],
   "source": [
    "median_df = pd.read_csv('median_virtual_station.csv', index_col = 0)"
   ]
  },
  {
   "cell_type": "markdown",
   "metadata": {},
   "source": [
    "## Add Median to Hit Data"
   ]
  },
  {
   "cell_type": "code",
   "execution_count": 11,
   "metadata": {
    "ExecuteTime": {
     "end_time": "2019-05-29T15:08:38.543268Z",
     "start_time": "2019-05-29T15:08:37.952352Z"
    }
   },
   "outputs": [],
   "source": [
    "hit_ec1_new = hit_ec1.join(median_df.set_index('ve_id'), on='ve_id')"
   ]
  },
  {
   "cell_type": "code",
   "execution_count": 13,
   "metadata": {
    "ExecuteTime": {
     "end_time": "2019-05-29T15:08:46.334097Z",
     "start_time": "2019-05-29T15:08:46.328140Z"
    }
   },
   "outputs": [
    {
     "data": {
      "text/plain": [
       "(1614816, 35)"
      ]
     },
     "execution_count": 13,
     "metadata": {},
     "output_type": "execute_result"
    }
   ],
   "source": [
    "hit_ec1_new.shape"
   ]
  },
  {
   "cell_type": "markdown",
   "metadata": {},
   "source": [
    "## Get Delta and Delta ABS"
   ]
  },
  {
   "cell_type": "code",
   "execution_count": 14,
   "metadata": {
    "ExecuteTime": {
     "end_time": "2019-05-29T15:10:07.397214Z",
     "start_time": "2019-05-29T15:10:07.359920Z"
    }
   },
   "outputs": [],
   "source": [
    "hit_ec1_new['delta_theta'] = hit_ec1_new['vh_sim_theta'] - hit_ec1_new['theta_median']"
   ]
  },
  {
   "cell_type": "code",
   "execution_count": 15,
   "metadata": {
    "ExecuteTime": {
     "end_time": "2019-05-29T15:10:09.861799Z",
     "start_time": "2019-05-29T15:10:09.854009Z"
    }
   },
   "outputs": [],
   "source": [
    "hit_ec1_new['delta_phi'] = hit_ec1_new['vh_sim_phi'] - hit_ec1_new['phi_median']"
   ]
  },
  {
   "cell_type": "code",
   "execution_count": 16,
   "metadata": {
    "ExecuteTime": {
     "end_time": "2019-05-29T15:10:12.451916Z",
     "start_time": "2019-05-29T15:10:12.437467Z"
    }
   },
   "outputs": [],
   "source": [
    "hit_ec1_new['delta_eta'] = hit_ec1_new['vh_sim_eta'] - hit_ec1_new['eta_median']"
   ]
  },
  {
   "cell_type": "markdown",
   "metadata": {},
   "source": [
    "### Solve Delta Phi 360 Degree Problem"
   ]
  },
  {
   "cell_type": "code",
   "execution_count": 26,
   "metadata": {
    "ExecuteTime": {
     "end_time": "2019-05-29T15:14:09.962298Z",
     "start_time": "2019-05-29T15:14:09.943006Z"
    }
   },
   "outputs": [
    {
     "data": {
      "text/plain": [
       "179.979355"
      ]
     },
     "execution_count": 26,
     "metadata": {},
     "output_type": "execute_result"
    }
   ],
   "source": [
    "hit_ec1_new['delta_phi'].max()"
   ]
  },
  {
   "cell_type": "code",
   "execution_count": 18,
   "metadata": {
    "ExecuteTime": {
     "end_time": "2019-05-29T15:10:36.866982Z",
     "start_time": "2019-05-29T15:10:36.419065Z"
    }
   },
   "outputs": [
    {
     "data": {
      "text/plain": [
       "(548, 38)"
      ]
     },
     "execution_count": 18,
     "metadata": {},
     "output_type": "execute_result"
    }
   ],
   "source": [
    "hit_ec1_new[hit_ec1_new['delta_phi']<-180].shape"
   ]
  },
  {
   "cell_type": "code",
   "execution_count": 23,
   "metadata": {
    "ExecuteTime": {
     "end_time": "2019-05-29T15:13:43.235716Z",
     "start_time": "2019-05-29T15:13:43.222967Z"
    }
   },
   "outputs": [],
   "source": [
    "plus = hit_ec1_new[hit_ec1_new['delta_phi'] > 180]\n",
    "minus = hit_ec1_new[hit_ec1_new['delta_phi'] < -180]"
   ]
  },
  {
   "cell_type": "code",
   "execution_count": 24,
   "metadata": {
    "ExecuteTime": {
     "end_time": "2019-05-29T15:13:51.165009Z",
     "start_time": "2019-05-29T15:13:50.906365Z"
    },
    "scrolled": true
   },
   "outputs": [
    {
     "name": "stderr",
     "output_type": "stream",
     "text": [
      "/anaconda3/lib/python3.6/site-packages/ipykernel_launcher.py:1: SettingWithCopyWarning: \n",
      "A value is trying to be set on a copy of a slice from a DataFrame.\n",
      "Try using .loc[row_indexer,col_indexer] = value instead\n",
      "\n",
      "See the caveats in the documentation: http://pandas.pydata.org/pandas-docs/stable/indexing.html#indexing-view-versus-copy\n",
      "  \"\"\"Entry point for launching an IPython kernel.\n",
      "/anaconda3/lib/python3.6/site-packages/ipykernel_launcher.py:2: SettingWithCopyWarning: \n",
      "A value is trying to be set on a copy of a slice from a DataFrame.\n",
      "Try using .loc[row_indexer,col_indexer] = value instead\n",
      "\n",
      "See the caveats in the documentation: http://pandas.pydata.org/pandas-docs/stable/indexing.html#indexing-view-versus-copy\n",
      "  \n"
     ]
    }
   ],
   "source": [
    "plus['delta_phi'] = plus['delta_phi'] - 360\n",
    "minus['delta_phi'] = minus['delta_phi'] + 360"
   ]
  },
  {
   "cell_type": "code",
   "execution_count": 25,
   "metadata": {
    "ExecuteTime": {
     "end_time": "2019-05-29T15:14:07.018202Z",
     "start_time": "2019-05-29T15:14:06.415964Z"
    }
   },
   "outputs": [],
   "source": [
    "hit_ec1_new.loc[hit_ec1_new['delta_phi'] > 180] = plus\n",
    "hit_ec1_new.loc[hit_ec1_new['delta_phi'] < -180] = minus"
   ]
  },
  {
   "cell_type": "code",
   "execution_count": 27,
   "metadata": {
    "ExecuteTime": {
     "end_time": "2019-05-29T15:14:52.488649Z",
     "start_time": "2019-05-29T15:14:51.940567Z"
    }
   },
   "outputs": [
    {
     "data": {
      "image/png": "[encoded data removed]",
      "text/plain": [
       "<Figure size 432x288 with 1 Axes>"
      ]
     },
     "metadata": {
      "needs_background": "light"
     },
     "output_type": "display_data"
    }
   ],
   "source": [
    "fig, ax = plt.subplots()\n",
    "ax.hist(hit_ec1_new['delta_phi'],200)\n",
    "plt.xlim(-10, 10)\n",
    "ax.grid(True)\n",
    "# fig.savefig('1.jpg', format='jpg', dpi=900)"
   ]
  },
  {
   "cell_type": "markdown",
   "metadata": {},
   "source": [
    "### Delta ABS"
   ]
  },
  {
   "cell_type": "code",
   "execution_count": 28,
   "metadata": {
    "ExecuteTime": {
     "end_time": "2019-05-29T15:15:11.351977Z",
     "start_time": "2019-05-29T15:15:11.311291Z"
    }
   },
   "outputs": [],
   "source": [
    "hit_ec1_new['delta_theta_abs'] = hit_ec1_new['delta_theta'].abs()\n",
    "hit_ec1_new['delta_phi_abs'] = hit_ec1_new['delta_phi'].abs()\n",
    "hit_ec1_new['delta_eta_abs'] = hit_ec1_new['delta_eta'].abs()"
   ]
  },
  {
   "cell_type": "code",
   "execution_count": 29,
   "metadata": {
    "ExecuteTime": {
     "end_time": "2019-05-29T15:16:39.191311Z",
     "start_time": "2019-05-29T15:16:39.186479Z"
    }
   },
   "outputs": [
    {
     "data": {
      "text/plain": [
       "(1614816, 41)"
      ]
     },
     "execution_count": 29,
     "metadata": {},
     "output_type": "execute_result"
    }
   ],
   "source": [
    "hit_ec1_new.shape"
   ]
  },
  {
   "cell_type": "code",
   "execution_count": 30,
   "metadata": {
    "ExecuteTime": {
     "end_time": "2019-05-29T15:17:50.525080Z",
     "start_time": "2019-05-29T15:17:49.806376Z"
    }
   },
   "outputs": [],
   "source": [
    "hit_ec1_new = hit_ec1_new[hit_ec1_new['delta_phi_abs']<7]"
   ]
  },
  {
   "cell_type": "code",
   "execution_count": 31,
   "metadata": {
    "ExecuteTime": {
     "end_time": "2019-05-29T15:17:53.232447Z",
     "start_time": "2019-05-29T15:17:53.226531Z"
    }
   },
   "outputs": [
    {
     "data": {
      "text/plain": [
       "(1609936, 41)"
      ]
     },
     "execution_count": 31,
     "metadata": {},
     "output_type": "execute_result"
    }
   ],
   "source": [
    "hit_ec1_new.shape"
   ]
  },
  {
   "cell_type": "markdown",
   "metadata": {},
   "source": [
    "## Save Hit Data of Endcap 1 with Median"
   ]
  },
  {
   "cell_type": "code",
   "execution_count": 32,
   "metadata": {
    "ExecuteTime": {
     "end_time": "2019-05-29T15:19:41.489782Z",
     "start_time": "2019-05-29T15:18:33.751631Z"
    }
   },
   "outputs": [],
   "source": [
    "hit_ec1_new.to_csv('hit_ec1_median_delta_abs_outlier.csv')"
   ]
  },
  {
   "cell_type": "markdown",
   "metadata": {},
   "source": [
    "## Load Hit Data of Endcap 1 with Median"
   ]
  },
  {
   "cell_type": "code",
   "execution_count": 33,
   "metadata": {
    "ExecuteTime": {
     "end_time": "2019-05-29T15:19:53.024416Z",
     "start_time": "2019-05-29T15:19:44.291765Z"
    }
   },
   "outputs": [
    {
     "name": "stderr",
     "output_type": "stream",
     "text": [
      "/anaconda3/lib/python3.6/site-packages/numpy/lib/arraysetops.py:522: FutureWarning: elementwise comparison failed; returning scalar instead, but in the future will perform elementwise comparison\n",
      "  mask |= (ar1 == a)\n"
     ]
    }
   ],
   "source": [
    "hit_ec1 = pd.read_csv('hit_ec1_median_delta_abs_outlier.csv', index_col = 0)"
   ]
  },
  {
   "cell_type": "code",
   "execution_count": 34,
   "metadata": {
    "ExecuteTime": {
     "end_time": "2019-05-29T15:19:57.353937Z",
     "start_time": "2019-05-29T15:19:57.349008Z"
    }
   },
   "outputs": [
    {
     "data": {
      "text/plain": [
       "Index(['vh_endcap', 'vh_station', 'vh_ring', 'vh_sector', 'vh_subsector',\n",
       "       'vh_chamber', 'vh_cscid', 'vh_bx', 'vh_type', 'vh_neighbor', 'vh_strip',\n",
       "       'vh_wire', 'vh_roll', 'vh_pattern', 'vh_quality', 'vh_bend', 'vh_time',\n",
       "       'vh_fr', 'vh_emtf_phi', 'vh_emtf_theta', 'vh_sim_phi', 'vh_sim_theta',\n",
       "       'vh_sim_eta', 'vh_sim_r', 'vh_sim_z', 'vh_sim_tp1', 'vh_sim_tp2',\n",
       "       've_id', 'theta_median', 'phi_median', 'eta_median', 'median_station',\n",
       "       'median_type', 'median_ring', 'median_virtual_station', 'delta_theta',\n",
       "       'delta_phi', 'delta_eta', 'delta_theta_abs', 'delta_phi_abs',\n",
       "       'delta_eta_abs'],\n",
       "      dtype='object')"
      ]
     },
     "execution_count": 34,
     "metadata": {},
     "output_type": "execute_result"
    }
   ],
   "source": [
    "hit_ec1.columns"
   ]
  },
  {
   "cell_type": "markdown",
   "metadata": {},
   "source": [
    "# Sort"
   ]
  },
  {
   "cell_type": "code",
   "execution_count": 35,
   "metadata": {
    "ExecuteTime": {
     "end_time": "2019-05-29T15:20:13.240190Z",
     "start_time": "2019-05-29T15:20:11.610325Z"
    },
    "scrolled": true
   },
   "outputs": [],
   "source": [
    "hit_ec1 = hit_ec1.sort_values(by=['ve_id', 'delta_phi_abs', 'delta_theta_abs'])"
   ]
  },
  {
   "cell_type": "markdown",
   "metadata": {},
   "source": [
    "# Split Virtual Stations"
   ]
  },
  {
   "cell_type": "markdown",
   "metadata": {},
   "source": [
    "## ME0\n",
    "\n",
    "type = 4"
   ]
  },
  {
   "cell_type": "code",
   "execution_count": 36,
   "metadata": {
    "ExecuteTime": {
     "end_time": "2019-05-29T15:20:16.530813Z",
     "start_time": "2019-05-29T15:20:16.447999Z"
    }
   },
   "outputs": [],
   "source": [
    "hit_me0 = hit_ec1[hit_ec1['vh_type']==4]"
   ]
  },
  {
   "cell_type": "code",
   "execution_count": 37,
   "metadata": {
    "ExecuteTime": {
     "end_time": "2019-05-29T15:20:19.205998Z",
     "start_time": "2019-05-29T15:20:19.200612Z"
    }
   },
   "outputs": [],
   "source": [
    "hit_me0_sel = hit_me0[['ve_id', \n",
    "                       'delta_theta', \n",
    "                       'delta_phi', \n",
    "                       'delta_eta', \n",
    "                       'vh_pattern', \n",
    "                       'vh_quality', \n",
    "                       'vh_bend', \n",
    "                       'vh_fr']]"
   ]
  },
  {
   "cell_type": "markdown",
   "metadata": {},
   "source": [
    "Choose the first hit"
   ]
  },
  {
   "cell_type": "code",
   "execution_count": 38,
   "metadata": {
    "ExecuteTime": {
     "end_time": "2019-05-29T15:20:22.157330Z",
     "start_time": "2019-05-29T15:20:22.126941Z"
    }
   },
   "outputs": [],
   "source": [
    "me0_ec1 = hit_me0_sel.drop_duplicates(subset = 've_id', keep = 'first')"
   ]
  },
  {
   "cell_type": "code",
   "execution_count": 39,
   "metadata": {
    "ExecuteTime": {
     "end_time": "2019-05-29T15:20:25.516604Z",
     "start_time": "2019-05-29T15:20:24.959755Z"
    }
   },
   "outputs": [],
   "source": [
    "me0_ec1.to_csv('me0_ec1_minphi.csv')"
   ]
  },
  {
   "cell_type": "markdown",
   "metadata": {},
   "source": [
    "## ME1\n",
    "\n",
    "type = 1\n",
    "\n",
    "station = 1"
   ]
  },
  {
   "cell_type": "markdown",
   "metadata": {},
   "source": [
    "ME"
   ]
  },
  {
   "cell_type": "code",
   "execution_count": 40,
   "metadata": {
    "ExecuteTime": {
     "end_time": "2019-05-29T15:20:28.973397Z",
     "start_time": "2019-05-29T15:20:28.753316Z"
    }
   },
   "outputs": [],
   "source": [
    "hit_me = hit_ec1[hit_ec1['vh_type']==1]"
   ]
  },
  {
   "cell_type": "markdown",
   "metadata": {},
   "source": [
    "ME1"
   ]
  },
  {
   "cell_type": "code",
   "execution_count": 41,
   "metadata": {
    "ExecuteTime": {
     "end_time": "2019-05-29T15:20:32.784754Z",
     "start_time": "2019-05-29T15:20:32.711085Z"
    }
   },
   "outputs": [],
   "source": [
    "hit_me1 = hit_me[hit_me['vh_station']==1]"
   ]
  },
  {
   "cell_type": "code",
   "execution_count": 42,
   "metadata": {
    "ExecuteTime": {
     "end_time": "2019-05-29T15:20:36.676493Z",
     "start_time": "2019-05-29T15:20:36.669531Z"
    }
   },
   "outputs": [],
   "source": [
    "hit_me1_sel = hit_me1[['ve_id', \n",
    "                       'delta_theta', \n",
    "                       'delta_phi', \n",
    "                       'delta_eta', \n",
    "                       'vh_pattern', \n",
    "                       'vh_quality', \n",
    "                       'vh_bend', \n",
    "                       'vh_fr']]"
   ]
  },
  {
   "cell_type": "code",
   "execution_count": 43,
   "metadata": {
    "ExecuteTime": {
     "end_time": "2019-05-29T15:20:40.557141Z",
     "start_time": "2019-05-29T15:20:40.537962Z"
    }
   },
   "outputs": [],
   "source": [
    "me1_ec1 = hit_me1_sel.drop_duplicates(subset = 've_id', keep = 'first')"
   ]
  },
  {
   "cell_type": "code",
   "execution_count": 44,
   "metadata": {
    "ExecuteTime": {
     "end_time": "2019-05-29T15:20:45.969160Z",
     "start_time": "2019-05-29T15:20:44.479366Z"
    }
   },
   "outputs": [],
   "source": [
    "me1_ec1.to_csv('me1_ec1_minphi.csv')"
   ]
  },
  {
   "cell_type": "markdown",
   "metadata": {},
   "source": [
    "## ME1/1\n",
    "\n",
    "type = 1\n",
    "\n",
    "station = 1\n",
    "\n",
    "ring = 1 or 4"
   ]
  },
  {
   "cell_type": "code",
   "execution_count": 45,
   "metadata": {
    "ExecuteTime": {
     "end_time": "2019-05-29T15:20:49.814661Z",
     "start_time": "2019-05-29T15:20:49.797258Z"
    }
   },
   "outputs": [],
   "source": [
    "hit_me11b = hit_me1[hit_me1['vh_ring']==1]"
   ]
  },
  {
   "cell_type": "code",
   "execution_count": 46,
   "metadata": {
    "ExecuteTime": {
     "end_time": "2019-05-29T15:20:53.894268Z",
     "start_time": "2019-05-29T15:20:53.876316Z"
    }
   },
   "outputs": [],
   "source": [
    "hit_me11a = hit_me1[hit_me1['vh_ring']==4]"
   ]
  },
  {
   "cell_type": "code",
   "execution_count": 47,
   "metadata": {
    "ExecuteTime": {
     "end_time": "2019-05-29T15:20:57.566252Z",
     "start_time": "2019-05-29T15:20:57.528939Z"
    }
   },
   "outputs": [],
   "source": [
    "hit_me11 = pd.concat([hit_me11b, hit_me11a])"
   ]
  },
  {
   "cell_type": "code",
   "execution_count": 48,
   "metadata": {
    "ExecuteTime": {
     "end_time": "2019-05-29T15:21:01.302893Z",
     "start_time": "2019-05-29T15:21:01.225150Z"
    }
   },
   "outputs": [],
   "source": [
    "hit_me11 = hit_me11.sort_values(by=['ve_id'])"
   ]
  },
  {
   "cell_type": "code",
   "execution_count": 49,
   "metadata": {
    "ExecuteTime": {
     "end_time": "2019-05-29T15:21:05.012572Z",
     "start_time": "2019-05-29T15:21:05.006691Z"
    }
   },
   "outputs": [],
   "source": [
    "hit_me11_sel = hit_me11[['ve_id', \n",
    "                       'delta_theta', \n",
    "                       'delta_phi', \n",
    "                       'delta_eta', \n",
    "                       'vh_pattern', \n",
    "                       'vh_quality', \n",
    "                       'vh_bend', \n",
    "                       'vh_fr']]"
   ]
  },
  {
   "cell_type": "code",
   "execution_count": 50,
   "metadata": {
    "ExecuteTime": {
     "end_time": "2019-05-29T15:21:08.956331Z",
     "start_time": "2019-05-29T15:21:08.939414Z"
    }
   },
   "outputs": [],
   "source": [
    "me11_ec1 = hit_me11_sel.drop_duplicates(subset = 've_id', keep = 'first')"
   ]
  },
  {
   "cell_type": "code",
   "execution_count": 51,
   "metadata": {
    "ExecuteTime": {
     "end_time": "2019-05-29T15:21:13.710288Z",
     "start_time": "2019-05-29T15:21:12.759752Z"
    }
   },
   "outputs": [],
   "source": [
    "me11_ec1.to_csv('me11_ec1_minphi.csv')"
   ]
  },
  {
   "cell_type": "markdown",
   "metadata": {},
   "source": [
    "## ME1/2\n",
    "\n",
    "type = 1\n",
    "\n",
    "station = 1\n",
    "\n",
    "ring = 2 or 3"
   ]
  },
  {
   "cell_type": "code",
   "execution_count": 52,
   "metadata": {
    "ExecuteTime": {
     "end_time": "2019-05-29T15:21:17.435304Z",
     "start_time": "2019-05-29T15:21:17.413117Z"
    }
   },
   "outputs": [],
   "source": [
    "hit_me12a = hit_me1[hit_me1['vh_ring']==2]\n",
    "hit_me12b = hit_me1[hit_me1['vh_ring']==3]"
   ]
  },
  {
   "cell_type": "code",
   "execution_count": 53,
   "metadata": {
    "ExecuteTime": {
     "end_time": "2019-05-29T15:21:21.293240Z",
     "start_time": "2019-05-29T15:21:21.267536Z"
    }
   },
   "outputs": [],
   "source": [
    "hit_me12 = pd.concat([hit_me12b, hit_me12a])"
   ]
  },
  {
   "cell_type": "code",
   "execution_count": 54,
   "metadata": {
    "ExecuteTime": {
     "end_time": "2019-05-29T15:21:25.266986Z",
     "start_time": "2019-05-29T15:21:25.223081Z"
    }
   },
   "outputs": [],
   "source": [
    "hit_me12 = hit_me12.sort_values(by=['ve_id'])"
   ]
  },
  {
   "cell_type": "code",
   "execution_count": 55,
   "metadata": {
    "ExecuteTime": {
     "end_time": "2019-05-29T15:21:29.873665Z",
     "start_time": "2019-05-29T15:21:29.867323Z"
    }
   },
   "outputs": [],
   "source": [
    "hit_me12_sel = hit_me12[['ve_id', \n",
    "                       'delta_theta', \n",
    "                       'delta_phi', \n",
    "                       'delta_eta', \n",
    "                       'vh_pattern', \n",
    "                       'vh_quality', \n",
    "                       'vh_bend', \n",
    "                       'vh_fr']]"
   ]
  },
  {
   "cell_type": "code",
   "execution_count": 56,
   "metadata": {
    "ExecuteTime": {
     "end_time": "2019-05-29T15:21:34.576498Z",
     "start_time": "2019-05-29T15:21:34.556835Z"
    }
   },
   "outputs": [],
   "source": [
    "me12_ec1 = hit_me12_sel.drop_duplicates(subset = 've_id', keep = 'first')"
   ]
  },
  {
   "cell_type": "code",
   "execution_count": 57,
   "metadata": {
    "ExecuteTime": {
     "end_time": "2019-05-29T15:21:39.535353Z",
     "start_time": "2019-05-29T15:21:38.740007Z"
    }
   },
   "outputs": [],
   "source": [
    "me12_ec1.to_csv('me12_ec1_minphi.csv')"
   ]
  },
  {
   "cell_type": "markdown",
   "metadata": {},
   "source": [
    "## ME2\n",
    "\n",
    "type = 1\n",
    "\n",
    "station = 2"
   ]
  },
  {
   "cell_type": "code",
   "execution_count": 58,
   "metadata": {
    "ExecuteTime": {
     "end_time": "2019-05-29T15:21:43.724320Z",
     "start_time": "2019-05-29T15:21:43.659261Z"
    }
   },
   "outputs": [],
   "source": [
    "hit_me2 = hit_me[hit_me['vh_station']==2]"
   ]
  },
  {
   "cell_type": "code",
   "execution_count": 59,
   "metadata": {
    "ExecuteTime": {
     "end_time": "2019-05-29T15:21:48.652345Z",
     "start_time": "2019-05-29T15:21:48.644142Z"
    }
   },
   "outputs": [],
   "source": [
    "hit_me2_sel = hit_me2[['ve_id', \n",
    "                       'delta_theta', \n",
    "                       'delta_phi', \n",
    "                       'delta_eta', \n",
    "                       'vh_pattern', \n",
    "                       'vh_quality', \n",
    "                       'vh_bend', \n",
    "                       'vh_fr']]"
   ]
  },
  {
   "cell_type": "code",
   "execution_count": 60,
   "metadata": {
    "ExecuteTime": {
     "end_time": "2019-05-29T15:21:53.198114Z",
     "start_time": "2019-05-29T15:21:53.173991Z"
    }
   },
   "outputs": [],
   "source": [
    "me2_ec1 = hit_me2_sel.drop_duplicates(subset = 've_id', keep = 'first')"
   ]
  },
  {
   "cell_type": "code",
   "execution_count": 61,
   "metadata": {
    "ExecuteTime": {
     "end_time": "2019-05-29T15:21:59.918566Z",
     "start_time": "2019-05-29T15:21:58.425477Z"
    }
   },
   "outputs": [],
   "source": [
    "me2_ec1.to_csv('me2_ec1_minphi.csv')"
   ]
  },
  {
   "cell_type": "markdown",
   "metadata": {},
   "source": [
    "## ME3\n",
    "\n",
    "type = 1\n",
    "\n",
    "station = 3"
   ]
  },
  {
   "cell_type": "code",
   "execution_count": 62,
   "metadata": {
    "ExecuteTime": {
     "end_time": "2019-05-29T15:22:04.574174Z",
     "start_time": "2019-05-29T15:22:04.513672Z"
    }
   },
   "outputs": [],
   "source": [
    "hit_me3 = hit_me[hit_me['vh_station']==3]"
   ]
  },
  {
   "cell_type": "code",
   "execution_count": 63,
   "metadata": {
    "ExecuteTime": {
     "end_time": "2019-05-29T15:22:09.391696Z",
     "start_time": "2019-05-29T15:22:09.384762Z"
    }
   },
   "outputs": [],
   "source": [
    "hit_me3_sel = hit_me3[['ve_id', \n",
    "                       'delta_theta', \n",
    "                       'delta_phi', \n",
    "                       'delta_eta', \n",
    "                       'vh_pattern', \n",
    "                       'vh_quality', \n",
    "                       'vh_bend', \n",
    "                       'vh_fr']]"
   ]
  },
  {
   "cell_type": "code",
   "execution_count": 64,
   "metadata": {
    "ExecuteTime": {
     "end_time": "2019-05-29T15:22:14.455247Z",
     "start_time": "2019-05-29T15:22:14.432709Z"
    }
   },
   "outputs": [],
   "source": [
    "me3_ec1 = hit_me3_sel.drop_duplicates(subset = 've_id', keep = 'first')"
   ]
  },
  {
   "cell_type": "code",
   "execution_count": 65,
   "metadata": {
    "ExecuteTime": {
     "end_time": "2019-05-29T15:22:20.484791Z",
     "start_time": "2019-05-29T15:22:19.112974Z"
    }
   },
   "outputs": [],
   "source": [
    "me3_ec1.to_csv('me3_ec1_minphi.csv')"
   ]
  },
  {
   "cell_type": "markdown",
   "metadata": {},
   "source": [
    "## ME4\n",
    "\n",
    "type = 1\n",
    "\n",
    "station = 4"
   ]
  },
  {
   "cell_type": "code",
   "execution_count": 66,
   "metadata": {
    "ExecuteTime": {
     "end_time": "2019-05-29T15:22:25.358386Z",
     "start_time": "2019-05-29T15:22:25.304193Z"
    }
   },
   "outputs": [],
   "source": [
    "hit_me4 = hit_me[hit_me['vh_station']==4]"
   ]
  },
  {
   "cell_type": "code",
   "execution_count": 67,
   "metadata": {
    "ExecuteTime": {
     "end_time": "2019-05-29T15:22:30.123983Z",
     "start_time": "2019-05-29T15:22:30.117321Z"
    }
   },
   "outputs": [],
   "source": [
    "hit_me4_sel = hit_me4[['ve_id', \n",
    "                       'delta_theta', \n",
    "                       'delta_phi', \n",
    "                       'delta_eta', \n",
    "                       'vh_pattern', \n",
    "                       'vh_quality', \n",
    "                       'vh_bend', \n",
    "                       'vh_fr']]"
   ]
  },
  {
   "cell_type": "code",
   "execution_count": 68,
   "metadata": {
    "ExecuteTime": {
     "end_time": "2019-05-29T15:22:35.338177Z",
     "start_time": "2019-05-29T15:22:35.314447Z"
    }
   },
   "outputs": [],
   "source": [
    "me4_ec1 = hit_me4_sel.drop_duplicates(subset = 've_id', keep = 'first')"
   ]
  },
  {
   "cell_type": "code",
   "execution_count": 69,
   "metadata": {
    "ExecuteTime": {
     "end_time": "2019-05-29T15:22:42.373892Z",
     "start_time": "2019-05-29T15:22:41.083241Z"
    }
   },
   "outputs": [],
   "source": [
    "me4_ec1.to_csv('me4_ec1_minphi.csv')"
   ]
  },
  {
   "cell_type": "markdown",
   "metadata": {},
   "source": [
    "## GE1\n",
    "\n",
    "type = 3\n",
    "\n",
    "station = 1"
   ]
  },
  {
   "cell_type": "markdown",
   "metadata": {},
   "source": [
    "GE"
   ]
  },
  {
   "cell_type": "code",
   "execution_count": 70,
   "metadata": {
    "ExecuteTime": {
     "end_time": "2019-05-29T15:22:48.359128Z",
     "start_time": "2019-05-29T15:22:48.257652Z"
    }
   },
   "outputs": [],
   "source": [
    "hit_ge = hit_ec1[hit_ec1['vh_type']==3]"
   ]
  },
  {
   "cell_type": "markdown",
   "metadata": {},
   "source": [
    "GE1"
   ]
  },
  {
   "cell_type": "code",
   "execution_count": 71,
   "metadata": {
    "ExecuteTime": {
     "end_time": "2019-05-29T15:22:53.378828Z",
     "start_time": "2019-05-29T15:22:53.350795Z"
    }
   },
   "outputs": [],
   "source": [
    "hit_ge1 = hit_ge[hit_ge['vh_station']==1]"
   ]
  },
  {
   "cell_type": "code",
   "execution_count": 72,
   "metadata": {
    "ExecuteTime": {
     "end_time": "2019-05-29T15:22:59.202028Z",
     "start_time": "2019-05-29T15:22:59.195203Z"
    }
   },
   "outputs": [],
   "source": [
    "hit_ge1_sel = hit_ge1[['ve_id', \n",
    "                       'delta_theta', \n",
    "                       'delta_phi', \n",
    "                       'delta_eta', \n",
    "                       'vh_pattern', \n",
    "                       'vh_quality', \n",
    "                       'vh_bend', \n",
    "                       'vh_fr']]"
   ]
  },
  {
   "cell_type": "code",
   "execution_count": 73,
   "metadata": {
    "ExecuteTime": {
     "end_time": "2019-05-29T15:23:04.225938Z",
     "start_time": "2019-05-29T15:23:04.210463Z"
    }
   },
   "outputs": [],
   "source": [
    "ge1_ec1 = hit_ge1_sel.drop_duplicates(subset = 've_id', keep = 'first')"
   ]
  },
  {
   "cell_type": "code",
   "execution_count": 74,
   "metadata": {
    "ExecuteTime": {
     "end_time": "2019-05-29T15:23:09.930589Z",
     "start_time": "2019-05-29T15:23:09.324213Z"
    }
   },
   "outputs": [],
   "source": [
    "ge1_ec1.to_csv('ge1_ec1_minphi.csv')"
   ]
  },
  {
   "cell_type": "markdown",
   "metadata": {},
   "source": [
    "## GE2\n",
    "\n",
    "type = 3\n",
    "\n",
    "station = 2"
   ]
  },
  {
   "cell_type": "markdown",
   "metadata": {},
   "source": [
    "GE2"
   ]
  },
  {
   "cell_type": "code",
   "execution_count": 75,
   "metadata": {
    "ExecuteTime": {
     "end_time": "2019-05-29T15:23:15.882543Z",
     "start_time": "2019-05-29T15:23:15.839529Z"
    }
   },
   "outputs": [],
   "source": [
    "hit_ge2 = hit_ge[hit_ge['vh_station']==2]"
   ]
  },
  {
   "cell_type": "code",
   "execution_count": 76,
   "metadata": {
    "ExecuteTime": {
     "end_time": "2019-05-29T15:23:21.268823Z",
     "start_time": "2019-05-29T15:23:21.261155Z"
    }
   },
   "outputs": [],
   "source": [
    "hit_ge2_sel = hit_ge2[['ve_id', \n",
    "                       'delta_theta', \n",
    "                       'delta_phi', \n",
    "                       'delta_eta', \n",
    "                       'vh_pattern', \n",
    "                       'vh_quality', \n",
    "                       'vh_bend', \n",
    "                       'vh_fr']]"
   ]
  },
  {
   "cell_type": "code",
   "execution_count": 77,
   "metadata": {
    "ExecuteTime": {
     "end_time": "2019-05-29T15:23:26.866967Z",
     "start_time": "2019-05-29T15:23:26.846440Z"
    }
   },
   "outputs": [],
   "source": [
    "ge2_ec1 = hit_ge2_sel.drop_duplicates(subset = 've_id', keep = 'first')"
   ]
  },
  {
   "cell_type": "code",
   "execution_count": 78,
   "metadata": {
    "ExecuteTime": {
     "end_time": "2019-05-29T15:23:33.479224Z",
     "start_time": "2019-05-29T15:23:32.582962Z"
    }
   },
   "outputs": [],
   "source": [
    "ge2_ec1.to_csv('ge2_ec1_minphi.csv')"
   ]
  },
  {
   "cell_type": "markdown",
   "metadata": {},
   "source": [
    "## RE1\n",
    "\n",
    "type = 2\n",
    "\n",
    "station = 1"
   ]
  },
  {
   "cell_type": "markdown",
   "metadata": {},
   "source": [
    "RE"
   ]
  },
  {
   "cell_type": "code",
   "execution_count": 79,
   "metadata": {
    "ExecuteTime": {
     "end_time": "2019-05-29T15:23:39.649790Z",
     "start_time": "2019-05-29T15:23:39.513614Z"
    }
   },
   "outputs": [],
   "source": [
    "hit_re = hit_ec1[hit_ec1['vh_type']==2]"
   ]
  },
  {
   "cell_type": "markdown",
   "metadata": {},
   "source": [
    "RE1"
   ]
  },
  {
   "cell_type": "code",
   "execution_count": 80,
   "metadata": {
    "ExecuteTime": {
     "end_time": "2019-05-29T15:23:45.439426Z",
     "start_time": "2019-05-29T15:23:45.409944Z"
    }
   },
   "outputs": [],
   "source": [
    "hit_re1 = hit_re[hit_re['vh_station']==1]"
   ]
  },
  {
   "cell_type": "code",
   "execution_count": 81,
   "metadata": {
    "ExecuteTime": {
     "end_time": "2019-05-29T15:23:51.141070Z",
     "start_time": "2019-05-29T15:23:51.137151Z"
    }
   },
   "outputs": [],
   "source": [
    "hit_re1_sel = hit_re1[['ve_id', \n",
    "                       'delta_theta', \n",
    "                       'delta_phi', \n",
    "                       'delta_eta', \n",
    "                       'vh_pattern', \n",
    "                       'vh_quality', \n",
    "                       'vh_bend', \n",
    "                       'vh_fr']]"
   ]
  },
  {
   "cell_type": "code",
   "execution_count": 82,
   "metadata": {
    "ExecuteTime": {
     "end_time": "2019-05-29T15:23:56.858300Z",
     "start_time": "2019-05-29T15:23:56.842352Z"
    }
   },
   "outputs": [],
   "source": [
    "re1_ec1 = hit_re1_sel.drop_duplicates(subset = 've_id', keep = 'first')"
   ]
  },
  {
   "cell_type": "code",
   "execution_count": 83,
   "metadata": {
    "ExecuteTime": {
     "end_time": "2019-05-29T15:24:03.383687Z",
     "start_time": "2019-05-29T15:24:02.960067Z"
    }
   },
   "outputs": [],
   "source": [
    "re1_ec1.to_csv('re1_ec1_minphi.csv')"
   ]
  },
  {
   "cell_type": "markdown",
   "metadata": {},
   "source": [
    "## RE2\n",
    "\n",
    "type = 2\n",
    "\n",
    "station = 2"
   ]
  },
  {
   "cell_type": "markdown",
   "metadata": {},
   "source": [
    "RE2"
   ]
  },
  {
   "cell_type": "code",
   "execution_count": 84,
   "metadata": {
    "ExecuteTime": {
     "end_time": "2019-05-29T15:24:08.930376Z",
     "start_time": "2019-05-29T15:24:08.910666Z"
    }
   },
   "outputs": [],
   "source": [
    "hit_re2 = hit_re[hit_re['vh_station']==2]"
   ]
  },
  {
   "cell_type": "code",
   "execution_count": 85,
   "metadata": {
    "ExecuteTime": {
     "end_time": "2019-05-29T15:24:14.584813Z",
     "start_time": "2019-05-29T15:24:14.580315Z"
    }
   },
   "outputs": [],
   "source": [
    "hit_re2_sel = hit_re2[['ve_id', \n",
    "                       'delta_theta', \n",
    "                       'delta_phi', \n",
    "                       'delta_eta', \n",
    "                       'vh_pattern', \n",
    "                       'vh_quality', \n",
    "                       'vh_bend', \n",
    "                       'vh_fr']]"
   ]
  },
  {
   "cell_type": "code",
   "execution_count": 86,
   "metadata": {
    "ExecuteTime": {
     "end_time": "2019-05-29T15:24:20.327822Z",
     "start_time": "2019-05-29T15:24:20.314922Z"
    }
   },
   "outputs": [],
   "source": [
    "re2_ec1 = hit_re2_sel.drop_duplicates(subset = 've_id', keep = 'first')"
   ]
  },
  {
   "cell_type": "code",
   "execution_count": 87,
   "metadata": {
    "ExecuteTime": {
     "end_time": "2019-05-29T15:24:26.358698Z",
     "start_time": "2019-05-29T15:24:25.984464Z"
    }
   },
   "outputs": [],
   "source": [
    "re2_ec1.to_csv('re2_ec1_minphi.csv')"
   ]
  },
  {
   "cell_type": "markdown",
   "metadata": {},
   "source": [
    "## RE3\n",
    "\n",
    "type = 2\n",
    "\n",
    "station = 3"
   ]
  },
  {
   "cell_type": "markdown",
   "metadata": {},
   "source": [
    "RE3"
   ]
  },
  {
   "cell_type": "code",
   "execution_count": 88,
   "metadata": {
    "ExecuteTime": {
     "end_time": "2019-05-29T15:24:32.141204Z",
     "start_time": "2019-05-29T15:24:32.087802Z"
    }
   },
   "outputs": [],
   "source": [
    "hit_re3 = hit_re[hit_re['vh_station']==3]"
   ]
  },
  {
   "cell_type": "code",
   "execution_count": 89,
   "metadata": {
    "ExecuteTime": {
     "end_time": "2019-05-29T15:24:38.005495Z",
     "start_time": "2019-05-29T15:24:37.998130Z"
    }
   },
   "outputs": [],
   "source": [
    "hit_re3_sel = hit_re3[['ve_id', \n",
    "                       'delta_theta', \n",
    "                       'delta_phi', \n",
    "                       'delta_eta', \n",
    "                       'vh_pattern', \n",
    "                       'vh_quality', \n",
    "                       'vh_bend', \n",
    "                       'vh_fr']]"
   ]
  },
  {
   "cell_type": "code",
   "execution_count": 90,
   "metadata": {
    "ExecuteTime": {
     "end_time": "2019-05-29T15:24:43.791544Z",
     "start_time": "2019-05-29T15:24:43.767668Z"
    }
   },
   "outputs": [],
   "source": [
    "re3_ec1 = hit_re3_sel.drop_duplicates(subset = 've_id', keep = 'first')"
   ]
  },
  {
   "cell_type": "code",
   "execution_count": 91,
   "metadata": {
    "ExecuteTime": {
     "end_time": "2019-05-29T15:24:50.854942Z",
     "start_time": "2019-05-29T15:24:49.616533Z"
    }
   },
   "outputs": [],
   "source": [
    "re3_ec1.to_csv('re3_ec1_minphi.csv')"
   ]
  },
  {
   "cell_type": "markdown",
   "metadata": {},
   "source": [
    "## RE4\n",
    "\n",
    "type = 2\n",
    "\n",
    "station = 4"
   ]
  },
  {
   "cell_type": "markdown",
   "metadata": {},
   "source": [
    "RE4"
   ]
  },
  {
   "cell_type": "code",
   "execution_count": 92,
   "metadata": {
    "ExecuteTime": {
     "end_time": "2019-05-29T15:24:56.741967Z",
     "start_time": "2019-05-29T15:24:56.691593Z"
    }
   },
   "outputs": [],
   "source": [
    "hit_re4 = hit_re[hit_re['vh_station']==4]"
   ]
  },
  {
   "cell_type": "code",
   "execution_count": 93,
   "metadata": {
    "ExecuteTime": {
     "end_time": "2019-05-29T15:25:02.682643Z",
     "start_time": "2019-05-29T15:25:02.675710Z"
    }
   },
   "outputs": [],
   "source": [
    "hit_re4_sel = hit_re4[['ve_id', \n",
    "                       'delta_theta', \n",
    "                       'delta_phi', \n",
    "                       'delta_eta', \n",
    "                       'vh_pattern', \n",
    "                       'vh_quality', \n",
    "                       'vh_bend', \n",
    "                       'vh_fr']]"
   ]
  },
  {
   "cell_type": "code",
   "execution_count": 94,
   "metadata": {
    "ExecuteTime": {
     "end_time": "2019-05-29T15:25:08.606747Z",
     "start_time": "2019-05-29T15:25:08.581489Z"
    }
   },
   "outputs": [],
   "source": [
    "re4_ec1 = hit_re4_sel.drop_duplicates(subset = 've_id', keep = 'first')"
   ]
  },
  {
   "cell_type": "code",
   "execution_count": 95,
   "metadata": {
    "ExecuteTime": {
     "end_time": "2019-05-29T15:25:15.742513Z",
     "start_time": "2019-05-29T15:25:14.550346Z"
    }
   },
   "outputs": [],
   "source": [
    "re4_ec1.to_csv('re4_ec1_minphi.csv')"
   ]
  },
  {
   "cell_type": "markdown",
   "metadata": {},
   "source": [
    "## GE1 + ME0"
   ]
  },
  {
   "cell_type": "markdown",
   "metadata": {},
   "source": [
    "Which detector is the hit from?"
   ]
  },
  {
   "cell_type": "code",
   "execution_count": 96,
   "metadata": {
    "ExecuteTime": {
     "end_time": "2019-05-29T15:25:21.735336Z",
     "start_time": "2019-05-29T15:25:21.720048Z"
    }
   },
   "outputs": [],
   "source": [
    "hit_ge1me0 = hit_re[(hit_re['vh_type']==4)|((hit_re['vh_type']==3)&(hit_re['vh_station']==1))]"
   ]
  },
  {
   "cell_type": "code",
   "execution_count": 97,
   "metadata": {
    "ExecuteTime": {
     "end_time": "2019-05-29T15:25:27.634732Z",
     "start_time": "2019-05-29T15:25:27.630247Z"
    }
   },
   "outputs": [],
   "source": [
    "hit_ge1me0_sel = hit_ge1me0[['ve_id', \n",
    "                            'delta_theta', \n",
    "                            'delta_phi', \n",
    "                            'delta_eta', \n",
    "                            'vh_pattern', \n",
    "                            'vh_quality', \n",
    "                            'vh_bend', \n",
    "                            'vh_fr']]"
   ]
  },
  {
   "cell_type": "code",
   "execution_count": 98,
   "metadata": {
    "ExecuteTime": {
     "end_time": "2019-05-29T15:25:33.481546Z",
     "start_time": "2019-05-29T15:25:33.478347Z"
    }
   },
   "outputs": [],
   "source": [
    "ge1me0_ec1 = hit_ge1me0_sel.drop_duplicates(subset = 've_id', keep = 'first')"
   ]
  },
  {
   "cell_type": "markdown",
   "metadata": {},
   "source": [
    "Abandon the above method"
   ]
  },
  {
   "cell_type": "code",
   "execution_count": 99,
   "metadata": {
    "ExecuteTime": {
     "end_time": "2019-05-29T15:25:39.331308Z",
     "start_time": "2019-05-29T15:25:39.328319Z"
    }
   },
   "outputs": [],
   "source": [
    "detectors = [ge1_ec1, me0_ec1]"
   ]
  },
  {
   "cell_type": "code",
   "execution_count": 100,
   "metadata": {
    "ExecuteTime": {
     "end_time": "2019-05-29T15:25:45.262984Z",
     "start_time": "2019-05-29T15:25:45.255311Z"
    }
   },
   "outputs": [],
   "source": [
    "me0ge1_ec1 = pd.concat(detectors)"
   ]
  },
  {
   "cell_type": "code",
   "execution_count": 101,
   "metadata": {
    "ExecuteTime": {
     "end_time": "2019-05-29T15:25:51.241446Z",
     "start_time": "2019-05-29T15:25:51.237768Z"
    }
   },
   "outputs": [
    {
     "data": {
      "text/plain": [
       "(114817, 8)"
      ]
     },
     "execution_count": 101,
     "metadata": {},
     "output_type": "execute_result"
    }
   ],
   "source": [
    "me0ge1_ec1.shape"
   ]
  },
  {
   "cell_type": "code",
   "execution_count": 102,
   "metadata": {
    "ExecuteTime": {
     "end_time": "2019-05-29T15:25:57.215157Z",
     "start_time": "2019-05-29T15:25:57.210774Z"
    }
   },
   "outputs": [],
   "source": [
    "me0ge1_ec1['delta_phi_abs'] = me0ge1_ec1['delta_phi'].abs()"
   ]
  },
  {
   "cell_type": "code",
   "execution_count": 103,
   "metadata": {
    "ExecuteTime": {
     "end_time": "2019-05-29T15:26:03.283852Z",
     "start_time": "2019-05-29T15:26:03.202920Z"
    }
   },
   "outputs": [],
   "source": [
    "me0ge1_ec1 = me0ge1_ec1.sort_values(by=['ve_id', 'delta_phi_abs'])"
   ]
  },
  {
   "cell_type": "code",
   "execution_count": 104,
   "metadata": {
    "ExecuteTime": {
     "end_time": "2019-05-29T15:26:09.331293Z",
     "start_time": "2019-05-29T15:26:09.308870Z"
    }
   },
   "outputs": [],
   "source": [
    "me0ge1_ec1 = me0ge1_ec1.drop_duplicates(subset = 've_id', keep = 'first')"
   ]
  },
  {
   "cell_type": "code",
   "execution_count": 105,
   "metadata": {
    "ExecuteTime": {
     "end_time": "2019-05-29T15:26:16.462619Z",
     "start_time": "2019-05-29T15:26:15.429068Z"
    }
   },
   "outputs": [],
   "source": [
    "me0ge1_ec1.to_csv('me0ge1_ec1_minphi.csv')"
   ]
  },
  {
   "cell_type": "markdown",
   "metadata": {},
   "source": [
    "## GE2 + RE2"
   ]
  },
  {
   "cell_type": "code",
   "execution_count": 106,
   "metadata": {
    "ExecuteTime": {
     "end_time": "2019-05-29T15:26:22.601188Z",
     "start_time": "2019-05-29T15:26:22.598524Z"
    }
   },
   "outputs": [],
   "source": [
    "detectors = [ge2_ec1, re2_ec1]"
   ]
  },
  {
   "cell_type": "code",
   "execution_count": 107,
   "metadata": {
    "ExecuteTime": {
     "end_time": "2019-05-29T15:26:28.629158Z",
     "start_time": "2019-05-29T15:26:28.619597Z"
    }
   },
   "outputs": [],
   "source": [
    "ge2re2_ec1 = pd.concat(detectors)"
   ]
  },
  {
   "cell_type": "code",
   "execution_count": 108,
   "metadata": {
    "ExecuteTime": {
     "end_time": "2019-05-29T15:26:34.698524Z",
     "start_time": "2019-05-29T15:26:34.694487Z"
    }
   },
   "outputs": [
    {
     "data": {
      "text/plain": [
       "(115859, 8)"
      ]
     },
     "execution_count": 108,
     "metadata": {},
     "output_type": "execute_result"
    }
   ],
   "source": [
    "ge2re2_ec1.shape"
   ]
  },
  {
   "cell_type": "code",
   "execution_count": 109,
   "metadata": {
    "ExecuteTime": {
     "end_time": "2019-05-29T15:26:40.781610Z",
     "start_time": "2019-05-29T15:26:40.776575Z"
    }
   },
   "outputs": [],
   "source": [
    "ge2re2_ec1['delta_phi_abs'] = ge2re2_ec1['delta_phi'].abs()"
   ]
  },
  {
   "cell_type": "code",
   "execution_count": 110,
   "metadata": {
    "ExecuteTime": {
     "end_time": "2019-05-29T15:26:46.902780Z",
     "start_time": "2019-05-29T15:26:46.828897Z"
    }
   },
   "outputs": [],
   "source": [
    "ge2re2_ec1 = ge2re2_ec1.sort_values(by=['ve_id', 'delta_phi_abs'])"
   ]
  },
  {
   "cell_type": "code",
   "execution_count": 111,
   "metadata": {
    "ExecuteTime": {
     "end_time": "2019-05-29T15:26:52.983773Z",
     "start_time": "2019-05-29T15:26:52.955668Z"
    }
   },
   "outputs": [],
   "source": [
    "ge2re2_ec1 = ge2re2_ec1.drop_duplicates(subset = 've_id', keep = 'first')"
   ]
  },
  {
   "cell_type": "code",
   "execution_count": 112,
   "metadata": {
    "ExecuteTime": {
     "end_time": "2019-05-29T15:27:00.385896Z",
     "start_time": "2019-05-29T15:26:59.101941Z"
    }
   },
   "outputs": [],
   "source": [
    "ge2re2_ec1.to_csv('ge2re2_ec1_minphi.csv')"
   ]
  },
  {
   "cell_type": "markdown",
   "metadata": {},
   "source": [
    "## RE3/2 + RE3/3"
   ]
  },
  {
   "cell_type": "code",
   "execution_count": 113,
   "metadata": {
    "ExecuteTime": {
     "end_time": "2019-05-29T15:27:06.524245Z",
     "start_time": "2019-05-29T15:27:06.501731Z"
    }
   },
   "outputs": [],
   "source": [
    "hit_re32re33 = hit_re3[hit_re3['vh_ring']!=1]"
   ]
  },
  {
   "cell_type": "code",
   "execution_count": 114,
   "metadata": {
    "ExecuteTime": {
     "end_time": "2019-05-29T15:27:12.711475Z",
     "start_time": "2019-05-29T15:27:12.705460Z"
    }
   },
   "outputs": [],
   "source": [
    "hit_re32re33_sel = hit_re32re33[['ve_id', \n",
    "                                'delta_theta', \n",
    "                                'delta_phi', \n",
    "                                'delta_eta', \n",
    "                                'vh_pattern', \n",
    "                                'vh_quality', \n",
    "                                'vh_bend', \n",
    "                                'vh_fr']]"
   ]
  },
  {
   "cell_type": "code",
   "execution_count": 115,
   "metadata": {
    "ExecuteTime": {
     "end_time": "2019-05-29T15:27:18.911717Z",
     "start_time": "2019-05-29T15:27:18.895009Z"
    }
   },
   "outputs": [],
   "source": [
    "re32re33_ec1 = hit_re32re33_sel.drop_duplicates(subset = 've_id', keep = 'first')"
   ]
  },
  {
   "cell_type": "code",
   "execution_count": 116,
   "metadata": {
    "ExecuteTime": {
     "end_time": "2019-05-29T15:27:25.814320Z",
     "start_time": "2019-05-29T15:27:25.206382Z"
    }
   },
   "outputs": [],
   "source": [
    "re32re33_ec1.to_csv('re32re33_ec1_minphi.csv')"
   ]
  },
  {
   "cell_type": "markdown",
   "metadata": {},
   "source": [
    "## RE4/2 + RE4/3"
   ]
  },
  {
   "cell_type": "code",
   "execution_count": 117,
   "metadata": {
    "ExecuteTime": {
     "end_time": "2019-05-29T15:27:32.111582Z",
     "start_time": "2019-05-29T15:27:32.089814Z"
    }
   },
   "outputs": [],
   "source": [
    "hit_re42re43 = hit_re4[hit_re4['vh_ring']!=1]"
   ]
  },
  {
   "cell_type": "code",
   "execution_count": 118,
   "metadata": {
    "ExecuteTime": {
     "end_time": "2019-05-29T15:27:38.438863Z",
     "start_time": "2019-05-29T15:27:38.433528Z"
    }
   },
   "outputs": [],
   "source": [
    "hit_re42re43_sel = hit_re42re43[['ve_id', \n",
    "                                'delta_theta', \n",
    "                                'delta_phi', \n",
    "                                'delta_eta', \n",
    "                                'vh_pattern', \n",
    "                                'vh_quality', \n",
    "                                'vh_bend', \n",
    "                                'vh_fr']]"
   ]
  },
  {
   "cell_type": "code",
   "execution_count": 119,
   "metadata": {
    "ExecuteTime": {
     "end_time": "2019-05-29T15:27:44.804871Z",
     "start_time": "2019-05-29T15:27:44.791013Z"
    }
   },
   "outputs": [],
   "source": [
    "re42re43_ec1 = hit_re42re43_sel.drop_duplicates(subset = 've_id', keep = 'first')"
   ]
  },
  {
   "cell_type": "code",
   "execution_count": 120,
   "metadata": {
    "ExecuteTime": {
     "end_time": "2019-05-29T15:27:51.816732Z",
     "start_time": "2019-05-29T15:27:51.187300Z"
    }
   },
   "outputs": [],
   "source": [
    "re42re43_ec1.to_csv('re42re43_ec1_minphi.csv')"
   ]
  },
  {
   "cell_type": "markdown",
   "metadata": {},
   "source": [
    "# Track Variables"
   ]
  },
  {
   "cell_type": "markdown",
   "metadata": {},
   "source": [
    "## Medians"
   ]
  },
  {
   "cell_type": "code",
   "execution_count": 121,
   "metadata": {
    "ExecuteTime": {
     "end_time": "2019-05-29T15:27:58.280234Z",
     "start_time": "2019-05-29T15:27:58.240240Z"
    }
   },
   "outputs": [],
   "source": [
    "medians = hit_ec1[['ve_id', 'theta_median', 'phi_median', 'eta_median', 'median_virtual_station']]"
   ]
  },
  {
   "cell_type": "code",
   "execution_count": 122,
   "metadata": {
    "ExecuteTime": {
     "end_time": "2019-05-29T15:28:04.745456Z",
     "start_time": "2019-05-29T15:28:04.671298Z"
    }
   },
   "outputs": [],
   "source": [
    "medians = medians.drop_duplicates(subset = 've_id', keep = 'first')"
   ]
  },
  {
   "cell_type": "markdown",
   "metadata": {},
   "source": [
    "## Pattern Recognition"
   ]
  },
  {
   "cell_type": "markdown",
   "metadata": {},
   "source": [
    "# Merge Track"
   ]
  },
  {
   "cell_type": "markdown",
   "metadata": {},
   "source": [
    "## Join 4 station data\n",
    "\n",
    "ME1 ME2 ME3 ME4"
   ]
  },
  {
   "cell_type": "code",
   "execution_count": 150,
   "metadata": {
    "ExecuteTime": {
     "end_time": "2019-05-12T10:41:16.609087Z",
     "start_time": "2019-05-12T10:41:16.604716Z"
    }
   },
   "outputs": [],
   "source": [
    "index = pd.DataFrame(np.arange(1, 163737, dtype=np.int32), columns = ['ve_id'])"
   ]
  },
  {
   "cell_type": "code",
   "execution_count": 151,
   "metadata": {
    "ExecuteTime": {
     "end_time": "2019-05-12T10:41:19.444685Z",
     "start_time": "2019-05-12T10:41:19.070003Z"
    }
   },
   "outputs": [
    {
     "name": "stderr",
     "output_type": "stream",
     "text": [
      "/anaconda3/lib/python3.6/site-packages/ipykernel_launcher.py:1: SettingWithCopyWarning: \n",
      "A value is trying to be set on a copy of a slice from a DataFrame.\n",
      "Try using .loc[row_indexer,col_indexer] = value instead\n",
      "\n",
      "See the caveats in the documentation: http://pandas.pydata.org/pandas-docs/stable/indexing.html#indexing-view-versus-copy\n",
      "  \"\"\"Entry point for launching an IPython kernel.\n",
      "/anaconda3/lib/python3.6/site-packages/ipykernel_launcher.py:2: SettingWithCopyWarning: \n",
      "A value is trying to be set on a copy of a slice from a DataFrame.\n",
      "Try using .loc[row_indexer,col_indexer] = value instead\n",
      "\n",
      "See the caveats in the documentation: http://pandas.pydata.org/pandas-docs/stable/indexing.html#indexing-view-versus-copy\n",
      "  \n",
      "/anaconda3/lib/python3.6/site-packages/ipykernel_launcher.py:3: SettingWithCopyWarning: \n",
      "A value is trying to be set on a copy of a slice from a DataFrame.\n",
      "Try using .loc[row_indexer,col_indexer] = value instead\n",
      "\n",
      "See the caveats in the documentation: http://pandas.pydata.org/pandas-docs/stable/indexing.html#indexing-view-versus-copy\n",
      "  This is separate from the ipykernel package so we can avoid doing imports until\n",
      "/anaconda3/lib/python3.6/site-packages/ipykernel_launcher.py:4: SettingWithCopyWarning: \n",
      "A value is trying to be set on a copy of a slice from a DataFrame.\n",
      "Try using .loc[row_indexer,col_indexer] = value instead\n",
      "\n",
      "See the caveats in the documentation: http://pandas.pydata.org/pandas-docs/stable/indexing.html#indexing-view-versus-copy\n",
      "  after removing the cwd from sys.path.\n"
     ]
    }
   ],
   "source": [
    "me1_ec1['exist'] = 1\n",
    "me2_ec1['exist'] = 1\n",
    "me3_ec1['exist'] = 1\n",
    "me4_ec1['exist'] = 1"
   ]
  },
  {
   "cell_type": "code",
   "execution_count": 152,
   "metadata": {
    "ExecuteTime": {
     "end_time": "2019-05-12T10:41:26.098117Z",
     "start_time": "2019-05-12T10:41:26.044809Z"
    }
   },
   "outputs": [],
   "source": [
    "tracks = index.join(me1_ec1.set_index('ve_id'), on='ve_id')"
   ]
  },
  {
   "cell_type": "code",
   "execution_count": 153,
   "metadata": {
    "ExecuteTime": {
     "end_time": "2019-05-12T10:41:28.902152Z",
     "start_time": "2019-05-12T10:41:28.771160Z"
    }
   },
   "outputs": [],
   "source": [
    "tracks = tracks.join(me2_ec1.set_index('ve_id'), on='ve_id', rsuffix='_me2')\n",
    "tracks = tracks.join(me3_ec1.set_index('ve_id'), on='ve_id', rsuffix='_me3')\n",
    "tracks = tracks.join(me4_ec1.set_index('ve_id'), on='ve_id', rsuffix='_me4')"
   ]
  },
  {
   "cell_type": "code",
   "execution_count": 155,
   "metadata": {
    "ExecuteTime": {
     "end_time": "2019-05-12T10:47:44.497647Z",
     "start_time": "2019-05-12T10:47:44.483748Z"
    }
   },
   "outputs": [],
   "source": [
    "tracks['hit_count'] = tracks['exist'].fillna(0) + tracks['exist_me2'].fillna(0) + tracks['exist_me3'].fillna(0) + tracks['exist_me4'].fillna(0)"
   ]
  },
  {
   "cell_type": "code",
   "execution_count": 156,
   "metadata": {
    "ExecuteTime": {
     "end_time": "2019-05-12T10:48:26.366831Z",
     "start_time": "2019-05-12T10:48:26.353249Z"
    }
   },
   "outputs": [
    {
     "data": {
      "text/plain": [
       "4.0    94542\n",
       "3.0    43324\n",
       "2.0    21104\n",
       "1.0     4327\n",
       "0.0      439\n",
       "Name: hit_count, dtype: int64"
      ]
     },
     "execution_count": 156,
     "metadata": {},
     "output_type": "execute_result"
    }
   ],
   "source": [
    "tracks['hit_count'].value_counts()"
   ]
  },
  {
   "cell_type": "markdown",
   "metadata": {},
   "source": [
    "## Join 12 station data"
   ]
  },
  {
   "cell_type": "code",
   "execution_count": 198,
   "metadata": {
    "ExecuteTime": {
     "end_time": "2019-05-12T23:21:43.806129Z",
     "start_time": "2019-05-12T23:21:43.802190Z"
    }
   },
   "outputs": [],
   "source": [
    "index = pd.DataFrame(np.arange(1, 163737, dtype=np.int32), columns = ['ve_id'])"
   ]
  },
  {
   "cell_type": "code",
   "execution_count": 202,
   "metadata": {
    "ExecuteTime": {
     "end_time": "2019-05-12T23:24:07.694726Z",
     "start_time": "2019-05-12T23:24:06.854192Z"
    },
    "scrolled": true
   },
   "outputs": [
    {
     "name": "stderr",
     "output_type": "stream",
     "text": [
      "/anaconda3/lib/python3.6/site-packages/ipykernel_launcher.py:1: SettingWithCopyWarning: \n",
      "A value is trying to be set on a copy of a slice from a DataFrame.\n",
      "Try using .loc[row_indexer,col_indexer] = value instead\n",
      "\n",
      "See the caveats in the documentation: http://pandas.pydata.org/pandas-docs/stable/indexing.html#indexing-view-versus-copy\n",
      "  \"\"\"Entry point for launching an IPython kernel.\n",
      "/anaconda3/lib/python3.6/site-packages/ipykernel_launcher.py:2: SettingWithCopyWarning: \n",
      "A value is trying to be set on a copy of a slice from a DataFrame.\n",
      "Try using .loc[row_indexer,col_indexer] = value instead\n",
      "\n",
      "See the caveats in the documentation: http://pandas.pydata.org/pandas-docs/stable/indexing.html#indexing-view-versus-copy\n",
      "  \n",
      "/anaconda3/lib/python3.6/site-packages/ipykernel_launcher.py:3: SettingWithCopyWarning: \n",
      "A value is trying to be set on a copy of a slice from a DataFrame.\n",
      "Try using .loc[row_indexer,col_indexer] = value instead\n",
      "\n",
      "See the caveats in the documentation: http://pandas.pydata.org/pandas-docs/stable/indexing.html#indexing-view-versus-copy\n",
      "  This is separate from the ipykernel package so we can avoid doing imports until\n",
      "/anaconda3/lib/python3.6/site-packages/ipykernel_launcher.py:4: SettingWithCopyWarning: \n",
      "A value is trying to be set on a copy of a slice from a DataFrame.\n",
      "Try using .loc[row_indexer,col_indexer] = value instead\n",
      "\n",
      "See the caveats in the documentation: http://pandas.pydata.org/pandas-docs/stable/indexing.html#indexing-view-versus-copy\n",
      "  after removing the cwd from sys.path.\n",
      "/anaconda3/lib/python3.6/site-packages/ipykernel_launcher.py:5: SettingWithCopyWarning: \n",
      "A value is trying to be set on a copy of a slice from a DataFrame.\n",
      "Try using .loc[row_indexer,col_indexer] = value instead\n",
      "\n",
      "See the caveats in the documentation: http://pandas.pydata.org/pandas-docs/stable/indexing.html#indexing-view-versus-copy\n",
      "  \"\"\"\n",
      "/anaconda3/lib/python3.6/site-packages/ipykernel_launcher.py:6: SettingWithCopyWarning: \n",
      "A value is trying to be set on a copy of a slice from a DataFrame.\n",
      "Try using .loc[row_indexer,col_indexer] = value instead\n",
      "\n",
      "See the caveats in the documentation: http://pandas.pydata.org/pandas-docs/stable/indexing.html#indexing-view-versus-copy\n",
      "  \n",
      "/anaconda3/lib/python3.6/site-packages/ipykernel_launcher.py:7: SettingWithCopyWarning: \n",
      "A value is trying to be set on a copy of a slice from a DataFrame.\n",
      "Try using .loc[row_indexer,col_indexer] = value instead\n",
      "\n",
      "See the caveats in the documentation: http://pandas.pydata.org/pandas-docs/stable/indexing.html#indexing-view-versus-copy\n",
      "  import sys\n",
      "/anaconda3/lib/python3.6/site-packages/ipykernel_launcher.py:8: SettingWithCopyWarning: \n",
      "A value is trying to be set on a copy of a slice from a DataFrame.\n",
      "Try using .loc[row_indexer,col_indexer] = value instead\n",
      "\n",
      "See the caveats in the documentation: http://pandas.pydata.org/pandas-docs/stable/indexing.html#indexing-view-versus-copy\n",
      "  \n",
      "/anaconda3/lib/python3.6/site-packages/ipykernel_launcher.py:9: SettingWithCopyWarning: \n",
      "A value is trying to be set on a copy of a slice from a DataFrame.\n",
      "Try using .loc[row_indexer,col_indexer] = value instead\n",
      "\n",
      "See the caveats in the documentation: http://pandas.pydata.org/pandas-docs/stable/indexing.html#indexing-view-versus-copy\n",
      "  if __name__ == '__main__':\n",
      "/anaconda3/lib/python3.6/site-packages/ipykernel_launcher.py:10: SettingWithCopyWarning: \n",
      "A value is trying to be set on a copy of a slice from a DataFrame.\n",
      "Try using .loc[row_indexer,col_indexer] = value instead\n",
      "\n",
      "See the caveats in the documentation: http://pandas.pydata.org/pandas-docs/stable/indexing.html#indexing-view-versus-copy\n",
      "  # Remove the CWD from sys.path while we load stuff.\n",
      "/anaconda3/lib/python3.6/site-packages/ipykernel_launcher.py:11: SettingWithCopyWarning: \n",
      "A value is trying to be set on a copy of a slice from a DataFrame.\n",
      "Try using .loc[row_indexer,col_indexer] = value instead\n",
      "\n",
      "See the caveats in the documentation: http://pandas.pydata.org/pandas-docs/stable/indexing.html#indexing-view-versus-copy\n",
      "  # This is added back by InteractiveShellApp.init_path()\n",
      "/anaconda3/lib/python3.6/site-packages/ipykernel_launcher.py:12: SettingWithCopyWarning: \n",
      "A value is trying to be set on a copy of a slice from a DataFrame.\n",
      "Try using .loc[row_indexer,col_indexer] = value instead\n",
      "\n",
      "See the caveats in the documentation: http://pandas.pydata.org/pandas-docs/stable/indexing.html#indexing-view-versus-copy\n",
      "  if sys.path[0] == '':\n"
     ]
    }
   ],
   "source": [
    "me0_ec1['exist'] = 1\n",
    "me11_ec1['exist'] = 1\n",
    "me12_ec1['exist'] = 1\n",
    "me2_ec1['exist'] = 1\n",
    "me3_ec1['exist'] = 1\n",
    "me4_ec1['exist'] = 1\n",
    "ge1_ec1['exist'] = 1\n",
    "ge2_ec1['exist'] = 1\n",
    "re1_ec1['exist'] = 1\n",
    "re2_ec1['exist'] = 1\n",
    "re3_ec1['exist'] = 1\n",
    "re4_ec1['exist'] = 1"
   ]
  },
  {
   "cell_type": "code",
   "execution_count": 203,
   "metadata": {
    "ExecuteTime": {
     "end_time": "2019-05-12T23:27:10.615764Z",
     "start_time": "2019-05-12T23:27:10.559756Z"
    }
   },
   "outputs": [],
   "source": [
    "tracks = index.join(me0_ec1.set_index('ve_id'), on='ve_id')"
   ]
  },
  {
   "cell_type": "code",
   "execution_count": 204,
   "metadata": {
    "ExecuteTime": {
     "end_time": "2019-05-12T23:27:15.182083Z",
     "start_time": "2019-05-12T23:27:14.477557Z"
    }
   },
   "outputs": [],
   "source": [
    "tracks = tracks.join(me11_ec1.set_index('ve_id'), on='ve_id', rsuffix='_me11')\n",
    "tracks = tracks.join(me12_ec1.set_index('ve_id'), on='ve_id', rsuffix='_me12')\n",
    "tracks = tracks.join(me2_ec1.set_index('ve_id'), on='ve_id', rsuffix='_me2')\n",
    "tracks = tracks.join(me3_ec1.set_index('ve_id'), on='ve_id', rsuffix='_me3')\n",
    "tracks = tracks.join(me4_ec1.set_index('ve_id'), on='ve_id', rsuffix='_me4')\n",
    "tracks = tracks.join(ge1_ec1.set_index('ve_id'), on='ve_id', rsuffix='_ge1')\n",
    "tracks = tracks.join(ge2_ec1.set_index('ve_id'), on='ve_id', rsuffix='_ge2')\n",
    "tracks = tracks.join(re1_ec1.set_index('ve_id'), on='ve_id', rsuffix='_re1')\n",
    "tracks = tracks.join(re2_ec1.set_index('ve_id'), on='ve_id', rsuffix='_re2')\n",
    "tracks = tracks.join(re3_ec1.set_index('ve_id'), on='ve_id', rsuffix='_re3')\n",
    "tracks = tracks.join(re4_ec1.set_index('ve_id'), on='ve_id', rsuffix='_re4')"
   ]
  },
  {
   "cell_type": "markdown",
   "metadata": {},
   "source": [
    "Create a column to indicate hit counts."
   ]
  },
  {
   "cell_type": "code",
   "execution_count": 205,
   "metadata": {
    "ExecuteTime": {
     "end_time": "2019-05-12T23:29:02.048636Z",
     "start_time": "2019-05-12T23:29:02.011569Z"
    }
   },
   "outputs": [],
   "source": [
    "tracks['hit_count'] = (tracks['exist'].fillna(0) + \n",
    "                       tracks['exist_me11'].fillna(0) + \n",
    "                       tracks['exist_me12'].fillna(0) + \n",
    "                       tracks['exist_me2'].fillna(0) + \n",
    "                       tracks['exist_me3'].fillna(0) + \n",
    "                       tracks['exist_me4'].fillna(0) + \n",
    "                       tracks['exist_ge1'].fillna(0) + \n",
    "                       tracks['exist_ge2'].fillna(0) + \n",
    "                       tracks['exist_re1'].fillna(0) +\n",
    "                       tracks['exist_re2'].fillna(0) +\n",
    "                       tracks['exist_re3'].fillna(0) +\n",
    "                       tracks['exist_re4'].fillna(0))"
   ]
  },
  {
   "cell_type": "code",
   "execution_count": 206,
   "metadata": {
    "ExecuteTime": {
     "end_time": "2019-05-12T23:29:05.926578Z",
     "start_time": "2019-05-12T23:29:05.914541Z"
    }
   },
   "outputs": [
    {
     "data": {
      "text/plain": [
       "8.0     54178\n",
       "7.0     45933\n",
       "6.0     20137\n",
       "9.0     13967\n",
       "2.0     10422\n",
       "5.0      6585\n",
       "3.0      5491\n",
       "1.0      3273\n",
       "4.0      3136\n",
       "10.0      364\n",
       "0.0       247\n",
       "11.0        3\n",
       "Name: hit_count, dtype: int64"
      ]
     },
     "execution_count": 206,
     "metadata": {},
     "output_type": "execute_result"
    }
   ],
   "source": [
    "tracks['hit_count'].value_counts()"
   ]
  },
  {
   "cell_type": "markdown",
   "metadata": {},
   "source": [
    "## Join ALL MEGA Station Data"
   ]
  },
  {
   "cell_type": "code",
   "execution_count": 123,
   "metadata": {
    "ExecuteTime": {
     "end_time": "2019-05-29T15:38:53.879660Z",
     "start_time": "2019-05-29T15:38:51.500895Z"
    }
   },
   "outputs": [],
   "source": [
    "me0_ec1 = pd.read_csv('me0_ec1_minphi.csv', index_col = 0)\n",
    "me1_ec1 = pd.read_csv('me1_ec1_minphi.csv', index_col = 0)\n",
    "me11_ec1 = pd.read_csv('me11_ec1_minphi.csv', index_col = 0)\n",
    "me12_ec1 = pd.read_csv('me12_ec1_minphi.csv', index_col = 0)\n",
    "me2_ec1 = pd.read_csv('me2_ec1_minphi.csv', index_col = 0)\n",
    "me3_ec1 = pd.read_csv('me3_ec1_minphi.csv', index_col = 0)\n",
    "me4_ec1 = pd.read_csv('me4_ec1_minphi.csv', index_col = 0)\n",
    "ge1_ec1 = pd.read_csv('ge1_ec1_minphi.csv', index_col = 0)\n",
    "ge2_ec1 = pd.read_csv('ge2_ec1_minphi.csv', index_col = 0)\n",
    "re1_ec1 = pd.read_csv('re1_ec1_minphi.csv', index_col = 0)\n",
    "re2_ec1 = pd.read_csv('re2_ec1_minphi.csv', index_col = 0)\n",
    "re3_ec1 = pd.read_csv('re3_ec1_minphi.csv', index_col = 0)\n",
    "re4_ec1 = pd.read_csv('re4_ec1_minphi.csv', index_col = 0)\n",
    "ge1me0_ec1 = pd.read_csv('me0ge1_ec1_minphi.csv', index_col = 0)\n",
    "ge2re2_ec1 = pd.read_csv('ge2re2_ec1_minphi.csv', index_col = 0)\n",
    "re32re33_ec1 = pd.read_csv('re32re33_ec1_minphi.csv', index_col = 0)\n",
    "re42re43_ec1 = pd.read_csv('re42re43_ec1_minphi.csv', index_col = 0)"
   ]
  },
  {
   "cell_type": "code",
   "execution_count": 124,
   "metadata": {
    "ExecuteTime": {
     "end_time": "2019-05-29T15:39:08.555057Z",
     "start_time": "2019-05-29T15:39:08.551208Z"
    }
   },
   "outputs": [],
   "source": [
    "index = pd.DataFrame(np.arange(1, 163737, dtype=np.int32), columns = ['ve_id'])"
   ]
  },
  {
   "cell_type": "code",
   "execution_count": 125,
   "metadata": {
    "ExecuteTime": {
     "end_time": "2019-05-29T15:39:15.830184Z",
     "start_time": "2019-05-29T15:39:15.746447Z"
    },
    "scrolled": true
   },
   "outputs": [],
   "source": [
    "me0_ec1['exist'] = 1\n",
    "me1_ec1['exist'] = 1\n",
    "me11_ec1['exist'] = 1\n",
    "me12_ec1['exist'] = 1\n",
    "me2_ec1['exist'] = 1\n",
    "me3_ec1['exist'] = 1\n",
    "me4_ec1['exist'] = 1\n",
    "ge1_ec1['exist'] = 1\n",
    "ge2_ec1['exist'] = 1\n",
    "re1_ec1['exist'] = 1\n",
    "re2_ec1['exist'] = 1\n",
    "re3_ec1['exist'] = 1\n",
    "re4_ec1['exist'] = 1\n",
    "ge1me0_ec1['exist'] = 1\n",
    "ge2re2_ec1['exist'] = 1\n",
    "re32re33_ec1['exist'] = 1\n",
    "re42re43_ec1['exist'] = 1\n",
    "me0_ec1['exist_name'] = 'me0'\n",
    "me1_ec1['exist_name'] = 'me1'\n",
    "me11_ec1['exist_name'] = 'me11'\n",
    "me12_ec1['exist_name'] = 'me12'\n",
    "me2_ec1['exist_name'] = 'me2'\n",
    "me3_ec1['exist_name'] = 'me3'\n",
    "me4_ec1['exist_name'] = 'me4'\n",
    "ge1_ec1['exist_name'] = 'ge1'\n",
    "ge2_ec1['exist_name'] = 'ge2'\n",
    "re1_ec1['exist_name'] = 're1'\n",
    "re2_ec1['exist_name'] = 're2'\n",
    "re3_ec1['exist_name'] = 're3'\n",
    "re4_ec1['exist_name'] = 're4'\n",
    "ge1me0_ec1['exist_name'] = 'ge1me0'\n",
    "ge2re2_ec1['exist_name'] = 'ge2re2'\n",
    "re32re33_ec1['exist_name'] = 're32re33'\n",
    "re42re43_ec1['exist_name'] = 're42re43'"
   ]
  },
  {
   "cell_type": "code",
   "execution_count": 126,
   "metadata": {
    "ExecuteTime": {
     "end_time": "2019-05-29T15:39:22.896435Z",
     "start_time": "2019-05-29T15:39:22.847672Z"
    }
   },
   "outputs": [],
   "source": [
    "tracks = index.join(me0_ec1.set_index('ve_id'), on='ve_id')"
   ]
  },
  {
   "cell_type": "code",
   "execution_count": 127,
   "metadata": {
    "ExecuteTime": {
     "end_time": "2019-05-29T15:47:25.871420Z",
     "start_time": "2019-05-29T15:47:23.973100Z"
    }
   },
   "outputs": [],
   "source": [
    "tracks = tracks.join(me1_ec1.set_index('ve_id'), on='ve_id', rsuffix='_me1')\n",
    "tracks = tracks.join(me11_ec1.set_index('ve_id'), on='ve_id', rsuffix='_me11')\n",
    "tracks = tracks.join(me12_ec1.set_index('ve_id'), on='ve_id', rsuffix='_me12')\n",
    "tracks = tracks.join(me2_ec1.set_index('ve_id'), on='ve_id', rsuffix='_me2')\n",
    "tracks = tracks.join(me3_ec1.set_index('ve_id'), on='ve_id', rsuffix='_me3')\n",
    "tracks = tracks.join(me4_ec1.set_index('ve_id'), on='ve_id', rsuffix='_me4')\n",
    "tracks = tracks.join(ge1_ec1.set_index('ve_id'), on='ve_id', rsuffix='_ge1')\n",
    "tracks = tracks.join(ge2_ec1.set_index('ve_id'), on='ve_id', rsuffix='_ge2')\n",
    "tracks = tracks.join(re1_ec1.set_index('ve_id'), on='ve_id', rsuffix='_re1')\n",
    "tracks = tracks.join(re2_ec1.set_index('ve_id'), on='ve_id', rsuffix='_re2')\n",
    "tracks = tracks.join(re3_ec1.set_index('ve_id'), on='ve_id', rsuffix='_re3')\n",
    "tracks = tracks.join(re4_ec1.set_index('ve_id'), on='ve_id', rsuffix='_re4')\n",
    "tracks = tracks.join(ge1me0_ec1.set_index('ve_id'), on='ve_id', rsuffix='_ge1me0')\n",
    "tracks = tracks.join(ge2re2_ec1.set_index('ve_id'), on='ve_id', rsuffix='_ge2re2')\n",
    "tracks = tracks.join(re32re33_ec1.set_index('ve_id'), on='ve_id', rsuffix='_re32re33')\n",
    "tracks = tracks.join(re42re43_ec1.set_index('ve_id'), on='ve_id', rsuffix='_re42re43')"
   ]
  },
  {
   "cell_type": "markdown",
   "metadata": {},
   "source": [
    "Did not calculate the total count"
   ]
  },
  {
   "cell_type": "markdown",
   "metadata": {},
   "source": [
    "## Fill NaN"
   ]
  },
  {
   "cell_type": "markdown",
   "metadata": {},
   "source": [
    "## Add Track Variable"
   ]
  },
  {
   "cell_type": "code",
   "execution_count": 128,
   "metadata": {
    "ExecuteTime": {
     "end_time": "2019-05-29T15:47:34.031089Z",
     "start_time": "2019-05-29T15:47:33.832641Z"
    }
   },
   "outputs": [],
   "source": [
    "tracks = tracks.join(median_df.set_index('ve_id'), on='ve_id')"
   ]
  },
  {
   "cell_type": "code",
   "execution_count": 129,
   "metadata": {
    "ExecuteTime": {
     "end_time": "2019-05-29T15:47:40.685973Z",
     "start_time": "2019-05-29T15:47:40.655763Z"
    }
   },
   "outputs": [
    {
     "data": {
      "text/html": [
       "<div>\n",
       "<style scoped>\n",
       "    .dataframe tbody tr th:only-of-type {\n",
       "        vertical-align: middle;\n",
       "    }\n",
       "\n",
       "    .dataframe tbody tr th {\n",
       "        vertical-align: top;\n",
       "    }\n",
       "\n",
       "    .dataframe thead th {\n",
       "        text-align: right;\n",
       "    }\n",
       "</style>\n",
       "<table border=\"1\" class=\"dataframe\">\n",
       "  <thead>\n",
       "    <tr style=\"text-align: right;\">\n",
       "      <th></th>\n",
       "      <th>ve_id</th>\n",
       "      <th>delta_theta</th>\n",
       "      <th>delta_phi</th>\n",
       "      <th>delta_eta</th>\n",
       "      <th>vh_pattern</th>\n",
       "      <th>vh_quality</th>\n",
       "      <th>vh_bend</th>\n",
       "      <th>vh_fr</th>\n",
       "      <th>exist</th>\n",
       "      <th>exist_name</th>\n",
       "      <th>...</th>\n",
       "      <th>vh_fr_re42re43</th>\n",
       "      <th>exist_re42re43</th>\n",
       "      <th>exist_name_re42re43</th>\n",
       "      <th>theta_median</th>\n",
       "      <th>phi_median</th>\n",
       "      <th>eta_median</th>\n",
       "      <th>median_station</th>\n",
       "      <th>median_type</th>\n",
       "      <th>median_ring</th>\n",
       "      <th>median_virtual_station</th>\n",
       "    </tr>\n",
       "  </thead>\n",
       "  <tbody>\n",
       "    <tr>\n",
       "      <th>0</th>\n",
       "      <td>1</td>\n",
       "      <td>-0.344954</td>\n",
       "      <td>0.280825</td>\n",
       "      <td>0.023355</td>\n",
       "      <td>1.0</td>\n",
       "      <td>17.0</td>\n",
       "      <td>-3.0</td>\n",
       "      <td>1.0</td>\n",
       "      <td>1.0</td>\n",
       "      <td>me0</td>\n",
       "      <td>...</td>\n",
       "      <td>NaN</td>\n",
       "      <td>NaN</td>\n",
       "      <td>NaN</td>\n",
       "      <td>15.110317</td>\n",
       "      <td>-141.673995</td>\n",
       "      <td>2.020179</td>\n",
       "      <td>2.0</td>\n",
       "      <td>1.0</td>\n",
       "      <td>1.0</td>\n",
       "      <td>6.0</td>\n",
       "    </tr>\n",
       "    <tr>\n",
       "      <th>1</th>\n",
       "      <td>2</td>\n",
       "      <td>NaN</td>\n",
       "      <td>NaN</td>\n",
       "      <td>NaN</td>\n",
       "      <td>NaN</td>\n",
       "      <td>NaN</td>\n",
       "      <td>NaN</td>\n",
       "      <td>NaN</td>\n",
       "      <td>NaN</td>\n",
       "      <td>NaN</td>\n",
       "      <td>...</td>\n",
       "      <td>0.0</td>\n",
       "      <td>1.0</td>\n",
       "      <td>re42re43</td>\n",
       "      <td>21.016869</td>\n",
       "      <td>-110.063550</td>\n",
       "      <td>1.684747</td>\n",
       "      <td>2.0</td>\n",
       "      <td>1.0</td>\n",
       "      <td>1.0</td>\n",
       "      <td>6.0</td>\n",
       "    </tr>\n",
       "    <tr>\n",
       "      <th>2</th>\n",
       "      <td>3</td>\n",
       "      <td>0.330953</td>\n",
       "      <td>0.040215</td>\n",
       "      <td>-0.031257</td>\n",
       "      <td>1.0</td>\n",
       "      <td>0.0</td>\n",
       "      <td>0.0</td>\n",
       "      <td>0.0</td>\n",
       "      <td>1.0</td>\n",
       "      <td>me0</td>\n",
       "      <td>...</td>\n",
       "      <td>NaN</td>\n",
       "      <td>NaN</td>\n",
       "      <td>NaN</td>\n",
       "      <td>10.484757</td>\n",
       "      <td>113.099700</td>\n",
       "      <td>2.388656</td>\n",
       "      <td>4.0</td>\n",
       "      <td>2.0</td>\n",
       "      <td>1.0</td>\n",
       "      <td>10.0</td>\n",
       "    </tr>\n",
       "    <tr>\n",
       "      <th>3</th>\n",
       "      <td>4</td>\n",
       "      <td>-0.204488</td>\n",
       "      <td>0.184381</td>\n",
       "      <td>0.015275</td>\n",
       "      <td>1.0</td>\n",
       "      <td>0.0</td>\n",
       "      <td>0.0</td>\n",
       "      <td>0.0</td>\n",
       "      <td>1.0</td>\n",
       "      <td>me0</td>\n",
       "      <td>...</td>\n",
       "      <td>NaN</td>\n",
       "      <td>NaN</td>\n",
       "      <td>NaN</td>\n",
       "      <td>13.612605</td>\n",
       "      <td>47.813921</td>\n",
       "      <td>2.125661</td>\n",
       "      <td>2.0</td>\n",
       "      <td>3.0</td>\n",
       "      <td>1.0</td>\n",
       "      <td>5.0</td>\n",
       "    </tr>\n",
       "    <tr>\n",
       "      <th>4</th>\n",
       "      <td>5</td>\n",
       "      <td>0.395316</td>\n",
       "      <td>-0.361645</td>\n",
       "      <td>-0.027399</td>\n",
       "      <td>1.0</td>\n",
       "      <td>0.0</td>\n",
       "      <td>0.0</td>\n",
       "      <td>0.0</td>\n",
       "      <td>1.0</td>\n",
       "      <td>me0</td>\n",
       "      <td>...</td>\n",
       "      <td>NaN</td>\n",
       "      <td>NaN</td>\n",
       "      <td>NaN</td>\n",
       "      <td>14.388595</td>\n",
       "      <td>-82.739825</td>\n",
       "      <td>2.069663</td>\n",
       "      <td>4.0</td>\n",
       "      <td>1.0</td>\n",
       "      <td>1.0</td>\n",
       "      <td>9.0</td>\n",
       "    </tr>\n",
       "  </tbody>\n",
       "</table>\n",
       "<p>5 rows × 163 columns</p>\n",
       "</div>"
      ],
      "text/plain": [
       "   ve_id  delta_theta  delta_phi  delta_eta  vh_pattern  vh_quality  vh_bend  \\\n",
       "0      1    -0.344954   0.280825   0.023355         1.0        17.0     -3.0   \n",
       "1      2          NaN        NaN        NaN         NaN         NaN      NaN   \n",
       "2      3     0.330953   0.040215  -0.031257         1.0         0.0      0.0   \n",
       "3      4    -0.204488   0.184381   0.015275         1.0         0.0      0.0   \n",
       "4      5     0.395316  -0.361645  -0.027399         1.0         0.0      0.0   \n",
       "\n",
       "   vh_fr  exist exist_name  ...  vh_fr_re42re43  exist_re42re43  \\\n",
       "0    1.0    1.0        me0  ...             NaN             NaN   \n",
       "1    NaN    NaN        NaN  ...             0.0             1.0   \n",
       "2    0.0    1.0        me0  ...             NaN             NaN   \n",
       "3    0.0    1.0        me0  ...             NaN             NaN   \n",
       "4    0.0    1.0        me0  ...             NaN             NaN   \n",
       "\n",
       "   exist_name_re42re43  theta_median  phi_median  eta_median  median_station  \\\n",
       "0                  NaN     15.110317 -141.673995    2.020179             2.0   \n",
       "1             re42re43     21.016869 -110.063550    1.684747             2.0   \n",
       "2                  NaN     10.484757  113.099700    2.388656             4.0   \n",
       "3                  NaN     13.612605   47.813921    2.125661             2.0   \n",
       "4                  NaN     14.388595  -82.739825    2.069663             4.0   \n",
       "\n",
       "   median_type median_ring  median_virtual_station  \n",
       "0          1.0         1.0                     6.0  \n",
       "1          1.0         1.0                     6.0  \n",
       "2          2.0         1.0                    10.0  \n",
       "3          3.0         1.0                     5.0  \n",
       "4          1.0         1.0                     9.0  \n",
       "\n",
       "[5 rows x 163 columns]"
      ]
     },
     "execution_count": 129,
     "metadata": {},
     "output_type": "execute_result"
    }
   ],
   "source": [
    "tracks.head()"
   ]
  },
  {
   "cell_type": "markdown",
   "metadata": {},
   "source": [
    "## Calculate hit counts"
   ]
  },
  {
   "cell_type": "markdown",
   "metadata": {},
   "source": [
    "# Frequent Modes Analysis"
   ]
  },
  {
   "cell_type": "markdown",
   "metadata": {},
   "source": [
    "# Target Value (y)"
   ]
  },
  {
   "cell_type": "code",
   "execution_count": 171,
   "metadata": {
    "ExecuteTime": {
     "end_time": "2019-05-29T20:48:38.729677Z",
     "start_time": "2019-05-29T20:48:38.662205Z"
    }
   },
   "outputs": [
    {
     "data": {
      "text/plain": [
       "array([array([30.163197, 30.163197], dtype=float32),\n",
       "       array([45.87434, 45.87434], dtype=float32),\n",
       "       array([89.10662, 89.10662], dtype=float32), ...,\n",
       "       array([60.514774, 60.514774], dtype=float32),\n",
       "       array([93.74769, 93.74769], dtype=float32),\n",
       "       array([2.8926315, 2.8926315], dtype=float32)], dtype=object)"
      ]
     },
     "execution_count": 171,
     "metadata": {},
     "output_type": "execute_result"
    }
   ],
   "source": [
    "data['vp_pt']"
   ]
  },
  {
   "cell_type": "code",
   "execution_count": 172,
   "metadata": {
    "ExecuteTime": {
     "end_time": "2019-05-29T20:48:54.791035Z",
     "start_time": "2019-05-29T20:48:54.776495Z"
    }
   },
   "outputs": [],
   "source": [
    "data['vp_pt'][55307] = [50, 50]"
   ]
  },
  {
   "cell_type": "code",
   "execution_count": 173,
   "metadata": {
    "ExecuteTime": {
     "end_time": "2019-05-29T20:49:07.273271Z",
     "start_time": "2019-05-29T20:49:07.266733Z"
    }
   },
   "outputs": [
    {
     "data": {
      "text/plain": [
       "array([array([ 1, -1], dtype=int16), array([ 1, -1], dtype=int16),\n",
       "       array([ 1, -1], dtype=int16), ..., array([ 1, -1], dtype=int16),\n",
       "       array([ 1, -1], dtype=int16), array([ 1, -1], dtype=int16)],\n",
       "      dtype=object)"
      ]
     },
     "execution_count": 173,
     "metadata": {},
     "output_type": "execute_result"
    }
   ],
   "source": [
    "data['vp_q']"
   ]
  },
  {
   "cell_type": "code",
   "execution_count": 45,
   "metadata": {
    "ExecuteTime": {
     "end_time": "2019-05-11T20:21:02.056499Z",
     "start_time": "2019-05-11T20:21:02.050651Z"
    }
   },
   "outputs": [
    {
     "data": {
      "text/plain": [
       "array([array([ 1.6087198, -1.6087198], dtype=float32),\n",
       "       array([ 2.014989 , -2.0149887], dtype=float32),\n",
       "       array([-1.7026838,  1.7026838], dtype=float32), ...,\n",
       "       array([-2.412733,  2.412733], dtype=float32),\n",
       "       array([ 1.1898016, -1.1898016], dtype=float32),\n",
       "       array([-1.437928,  1.437928], dtype=float32)], dtype=object)"
      ]
     },
     "execution_count": 45,
     "metadata": {},
     "output_type": "execute_result"
    }
   ],
   "source": [
    "data['vp_eta']"
   ]
  },
  {
   "cell_type": "code",
   "execution_count": 174,
   "metadata": {
    "ExecuteTime": {
     "end_time": "2019-05-29T20:49:23.593817Z",
     "start_time": "2019-05-29T20:49:23.527810Z"
    }
   },
   "outputs": [],
   "source": [
    "pt_df = pd.DataFrame(index = range(327474), columns = ['pt'])"
   ]
  },
  {
   "cell_type": "code",
   "execution_count": 131,
   "metadata": {
    "ExecuteTime": {
     "end_time": "2019-05-29T15:49:38.119504Z",
     "start_time": "2019-05-29T15:49:34.938428Z"
    }
   },
   "outputs": [
    {
     "data": {
      "text/plain": [
       "array([[30.163197 , 30.163197 ],\n",
       "       [45.87434  , 45.87434  ],\n",
       "       [89.10662  , 89.10662  ],\n",
       "       ...,\n",
       "       [60.514774 , 60.514774 ],\n",
       "       [93.74769  , 93.74769  ],\n",
       "       [ 2.8926315,  2.8926315]], dtype=float32)"
      ]
     },
     "execution_count": 131,
     "metadata": {},
     "output_type": "execute_result"
    }
   ],
   "source": [
    "np.reshape(np.hstack(data['vp_pt']), (-1, 2))"
   ]
  },
  {
   "cell_type": "code",
   "execution_count": 175,
   "metadata": {
    "ExecuteTime": {
     "end_time": "2019-05-29T20:49:41.560924Z",
     "start_time": "2019-05-29T20:49:34.735989Z"
    }
   },
   "outputs": [],
   "source": [
    "pt_df['pt'] = np.hstack(data['vp_pt'])"
   ]
  },
  {
   "cell_type": "code",
   "execution_count": 176,
   "metadata": {
    "ExecuteTime": {
     "end_time": "2019-05-29T20:49:55.600784Z",
     "start_time": "2019-05-29T20:49:55.180950Z"
    }
   },
   "outputs": [],
   "source": [
    "pt = pd.DataFrame(np.reshape(np.hstack(data['vp_pt']), (-1, 2)), columns = ['pt', 'del'])"
   ]
  },
  {
   "cell_type": "code",
   "execution_count": 177,
   "metadata": {
    "ExecuteTime": {
     "end_time": "2019-05-29T20:50:09.094874Z",
     "start_time": "2019-05-29T20:50:07.230713Z"
    }
   },
   "outputs": [],
   "source": [
    "q = pd.DataFrame(np.reshape(np.hstack(data['vp_q']), (-1, 2)), columns = ['q1', 'q2'])"
   ]
  },
  {
   "cell_type": "code",
   "execution_count": 178,
   "metadata": {
    "ExecuteTime": {
     "end_time": "2019-05-29T20:50:21.317359Z",
     "start_time": "2019-05-29T20:50:20.751164Z"
    }
   },
   "outputs": [],
   "source": [
    "eta = pd.DataFrame(np.reshape(np.hstack(data['vp_eta']), (-1, 2)), columns = ['eta1', 'eta2'])"
   ]
  },
  {
   "cell_type": "code",
   "execution_count": 179,
   "metadata": {
    "ExecuteTime": {
     "end_time": "2019-05-29T20:50:31.955546Z",
     "start_time": "2019-05-29T20:50:31.905064Z"
    }
   },
   "outputs": [],
   "source": [
    "pt['q'] = np.sign(eta['eta1'])"
   ]
  },
  {
   "cell_type": "code",
   "execution_count": 180,
   "metadata": {
    "ExecuteTime": {
     "end_time": "2019-05-29T20:50:42.574039Z",
     "start_time": "2019-05-29T20:50:42.562305Z"
    }
   },
   "outputs": [],
   "source": [
    "del pt['del']"
   ]
  },
  {
   "cell_type": "code",
   "execution_count": 181,
   "metadata": {
    "ExecuteTime": {
     "end_time": "2019-05-29T20:50:52.827466Z",
     "start_time": "2019-05-29T20:50:52.790737Z"
    }
   },
   "outputs": [],
   "source": [
    "pt['q/pt'] = pt['q'] / pt['pt']"
   ]
  },
  {
   "cell_type": "code",
   "execution_count": 140,
   "metadata": {
    "ExecuteTime": {
     "end_time": "2019-05-29T15:50:49.431246Z",
     "start_time": "2019-05-29T15:50:49.422316Z"
    }
   },
   "outputs": [
    {
     "data": {
      "text/html": [
       "<div>\n",
       "<style scoped>\n",
       "    .dataframe tbody tr th:only-of-type {\n",
       "        vertical-align: middle;\n",
       "    }\n",
       "\n",
       "    .dataframe tbody tr th {\n",
       "        vertical-align: top;\n",
       "    }\n",
       "\n",
       "    .dataframe thead th {\n",
       "        text-align: right;\n",
       "    }\n",
       "</style>\n",
       "<table border=\"1\" class=\"dataframe\">\n",
       "  <thead>\n",
       "    <tr style=\"text-align: right;\">\n",
       "      <th></th>\n",
       "      <th>pt</th>\n",
       "      <th>q</th>\n",
       "      <th>q/pt</th>\n",
       "    </tr>\n",
       "  </thead>\n",
       "  <tbody>\n",
       "    <tr>\n",
       "      <th>0</th>\n",
       "      <td>30.163197</td>\n",
       "      <td>1.0</td>\n",
       "      <td>0.033153</td>\n",
       "    </tr>\n",
       "    <tr>\n",
       "      <th>1</th>\n",
       "      <td>45.874340</td>\n",
       "      <td>1.0</td>\n",
       "      <td>0.021799</td>\n",
       "    </tr>\n",
       "    <tr>\n",
       "      <th>2</th>\n",
       "      <td>89.106621</td>\n",
       "      <td>-1.0</td>\n",
       "      <td>-0.011223</td>\n",
       "    </tr>\n",
       "    <tr>\n",
       "      <th>3</th>\n",
       "      <td>58.869408</td>\n",
       "      <td>1.0</td>\n",
       "      <td>0.016987</td>\n",
       "    </tr>\n",
       "    <tr>\n",
       "      <th>4</th>\n",
       "      <td>57.881783</td>\n",
       "      <td>1.0</td>\n",
       "      <td>0.017277</td>\n",
       "    </tr>\n",
       "  </tbody>\n",
       "</table>\n",
       "</div>"
      ],
      "text/plain": [
       "          pt    q      q/pt\n",
       "0  30.163197  1.0  0.033153\n",
       "1  45.874340  1.0  0.021799\n",
       "2  89.106621 -1.0 -0.011223\n",
       "3  58.869408  1.0  0.016987\n",
       "4  57.881783  1.0  0.017277"
      ]
     },
     "execution_count": 140,
     "metadata": {},
     "output_type": "execute_result"
    }
   ],
   "source": [
    "pt.head()"
   ]
  },
  {
   "cell_type": "code",
   "execution_count": 70,
   "metadata": {
    "ExecuteTime": {
     "end_time": "2019-05-12T04:35:49.122676Z",
     "start_time": "2019-05-12T04:35:48.418643Z"
    }
   },
   "outputs": [],
   "source": [
    "pt.to_csv('target.csv')"
   ]
  },
  {
   "cell_type": "code",
   "execution_count": 183,
   "metadata": {
    "ExecuteTime": {
     "end_time": "2019-05-29T20:53:05.597673Z",
     "start_time": "2019-05-29T20:53:05.576436Z"
    }
   },
   "outputs": [
    {
     "data": {
      "text/html": [
       "<div>\n",
       "<style scoped>\n",
       "    .dataframe tbody tr th:only-of-type {\n",
       "        vertical-align: middle;\n",
       "    }\n",
       "\n",
       "    .dataframe tbody tr th {\n",
       "        vertical-align: top;\n",
       "    }\n",
       "\n",
       "    .dataframe thead th {\n",
       "        text-align: right;\n",
       "    }\n",
       "</style>\n",
       "<table border=\"1\" class=\"dataframe\">\n",
       "  <thead>\n",
       "    <tr style=\"text-align: right;\">\n",
       "      <th></th>\n",
       "      <th>pt</th>\n",
       "      <th>q</th>\n",
       "      <th>q/pt</th>\n",
       "      <th>ve_id</th>\n",
       "    </tr>\n",
       "  </thead>\n",
       "  <tbody>\n",
       "    <tr>\n",
       "      <th>0</th>\n",
       "      <td>30.163197</td>\n",
       "      <td>1.0</td>\n",
       "      <td>0.033153</td>\n",
       "      <td>0</td>\n",
       "    </tr>\n",
       "    <tr>\n",
       "      <th>1</th>\n",
       "      <td>45.874340</td>\n",
       "      <td>1.0</td>\n",
       "      <td>0.021799</td>\n",
       "      <td>1</td>\n",
       "    </tr>\n",
       "    <tr>\n",
       "      <th>2</th>\n",
       "      <td>89.106621</td>\n",
       "      <td>-1.0</td>\n",
       "      <td>-0.011223</td>\n",
       "      <td>2</td>\n",
       "    </tr>\n",
       "    <tr>\n",
       "      <th>3</th>\n",
       "      <td>58.869408</td>\n",
       "      <td>1.0</td>\n",
       "      <td>0.016987</td>\n",
       "      <td>3</td>\n",
       "    </tr>\n",
       "    <tr>\n",
       "      <th>4</th>\n",
       "      <td>57.881783</td>\n",
       "      <td>1.0</td>\n",
       "      <td>0.017277</td>\n",
       "      <td>4</td>\n",
       "    </tr>\n",
       "  </tbody>\n",
       "</table>\n",
       "</div>"
      ],
      "text/plain": [
       "          pt    q      q/pt  ve_id\n",
       "0  30.163197  1.0  0.033153      0\n",
       "1  45.874340  1.0  0.021799      1\n",
       "2  89.106621 -1.0 -0.011223      2\n",
       "3  58.869408  1.0  0.016987      3\n",
       "4  57.881783  1.0  0.017277      4"
      ]
     },
     "execution_count": 183,
     "metadata": {},
     "output_type": "execute_result"
    }
   ],
   "source": [
    "pt.head()"
   ]
  },
  {
   "cell_type": "code",
   "execution_count": 182,
   "metadata": {
    "ExecuteTime": {
     "end_time": "2019-05-29T20:51:03.208043Z",
     "start_time": "2019-05-29T20:51:03.198334Z"
    }
   },
   "outputs": [],
   "source": [
    "pt['ve_id'] = np.arange(0, 163737, dtype=np.int32)"
   ]
  },
  {
   "cell_type": "markdown",
   "metadata": {},
   "source": [
    "## Add target variable"
   ]
  },
  {
   "cell_type": "code",
   "execution_count": 37,
   "metadata": {
    "ExecuteTime": {
     "end_time": "2019-05-17T12:18:03.501093Z",
     "start_time": "2019-05-17T12:18:03.377973Z"
    }
   },
   "outputs": [],
   "source": [
    "pt = pd.read_csv('target.csv', index_col = 0)"
   ]
  },
  {
   "cell_type": "code",
   "execution_count": 38,
   "metadata": {
    "ExecuteTime": {
     "end_time": "2019-05-17T12:18:04.114018Z",
     "start_time": "2019-05-17T12:18:04.110022Z"
    }
   },
   "outputs": [],
   "source": [
    "pt['ve_id'] = np.arange(0, 163737, dtype=np.int32)"
   ]
  },
  {
   "cell_type": "code",
   "execution_count": 184,
   "metadata": {
    "ExecuteTime": {
     "end_time": "2019-05-29T20:53:15.067384Z",
     "start_time": "2019-05-29T20:53:14.874877Z"
    },
    "scrolled": true
   },
   "outputs": [
    {
     "ename": "ValueError",
     "evalue": "columns overlap but no suffix specified: Index(['pt', 'q', 'q/pt'], dtype='object')",
     "output_type": "error",
     "traceback": [
      "\u001b[0;31m---------------------------------------------------------------------------\u001b[0m",
      "\u001b[0;31mValueError\u001b[0m                                Traceback (most recent call last)",
      "\u001b[0;32m<ipython-input-184-0ac756c25b37>\u001b[0m in \u001b[0;36m<module>\u001b[0;34m\u001b[0m\n\u001b[0;32m----> 1\u001b[0;31m \u001b[0mtracks\u001b[0m \u001b[0;34m=\u001b[0m \u001b[0mtracks\u001b[0m\u001b[0;34m.\u001b[0m\u001b[0mjoin\u001b[0m\u001b[0;34m(\u001b[0m\u001b[0mpt\u001b[0m\u001b[0;34m.\u001b[0m\u001b[0mset_index\u001b[0m\u001b[0;34m(\u001b[0m\u001b[0;34m've_id'\u001b[0m\u001b[0;34m)\u001b[0m\u001b[0;34m,\u001b[0m \u001b[0mon\u001b[0m\u001b[0;34m=\u001b[0m\u001b[0;34m've_id'\u001b[0m\u001b[0;34m)\u001b[0m\u001b[0;34m\u001b[0m\u001b[0;34m\u001b[0m\u001b[0m\n\u001b[0m",
      "\u001b[0;32m/anaconda3/lib/python3.6/site-packages/pandas/core/frame.py\u001b[0m in \u001b[0;36mjoin\u001b[0;34m(self, other, on, how, lsuffix, rsuffix, sort)\u001b[0m\n\u001b[1;32m   6813\u001b[0m         \u001b[0;31m# For SparseDataFrame's benefit\u001b[0m\u001b[0;34m\u001b[0m\u001b[0;34m\u001b[0m\u001b[0;34m\u001b[0m\u001b[0m\n\u001b[1;32m   6814\u001b[0m         return self._join_compat(other, on=on, how=how, lsuffix=lsuffix,\n\u001b[0;32m-> 6815\u001b[0;31m                                  rsuffix=rsuffix, sort=sort)\n\u001b[0m\u001b[1;32m   6816\u001b[0m \u001b[0;34m\u001b[0m\u001b[0m\n\u001b[1;32m   6817\u001b[0m     def _join_compat(self, other, on=None, how='left', lsuffix='', rsuffix='',\n",
      "\u001b[0;32m/anaconda3/lib/python3.6/site-packages/pandas/core/frame.py\u001b[0m in \u001b[0;36m_join_compat\u001b[0;34m(self, other, on, how, lsuffix, rsuffix, sort)\u001b[0m\n\u001b[1;32m   6828\u001b[0m             return merge(self, other, left_on=on, how=how,\n\u001b[1;32m   6829\u001b[0m                          \u001b[0mleft_index\u001b[0m\u001b[0;34m=\u001b[0m\u001b[0mon\u001b[0m \u001b[0;32mis\u001b[0m \u001b[0;32mNone\u001b[0m\u001b[0;34m,\u001b[0m \u001b[0mright_index\u001b[0m\u001b[0;34m=\u001b[0m\u001b[0;32mTrue\u001b[0m\u001b[0;34m,\u001b[0m\u001b[0;34m\u001b[0m\u001b[0;34m\u001b[0m\u001b[0m\n\u001b[0;32m-> 6830\u001b[0;31m                          suffixes=(lsuffix, rsuffix), sort=sort)\n\u001b[0m\u001b[1;32m   6831\u001b[0m         \u001b[0;32melse\u001b[0m\u001b[0;34m:\u001b[0m\u001b[0;34m\u001b[0m\u001b[0;34m\u001b[0m\u001b[0m\n\u001b[1;32m   6832\u001b[0m             \u001b[0;32mif\u001b[0m \u001b[0mon\u001b[0m \u001b[0;32mis\u001b[0m \u001b[0;32mnot\u001b[0m \u001b[0;32mNone\u001b[0m\u001b[0;34m:\u001b[0m\u001b[0;34m\u001b[0m\u001b[0;34m\u001b[0m\u001b[0m\n",
      "\u001b[0;32m/anaconda3/lib/python3.6/site-packages/pandas/core/reshape/merge.py\u001b[0m in \u001b[0;36mmerge\u001b[0;34m(left, right, how, on, left_on, right_on, left_index, right_index, sort, suffixes, copy, indicator, validate)\u001b[0m\n\u001b[1;32m     46\u001b[0m                          \u001b[0mcopy\u001b[0m\u001b[0;34m=\u001b[0m\u001b[0mcopy\u001b[0m\u001b[0;34m,\u001b[0m \u001b[0mindicator\u001b[0m\u001b[0;34m=\u001b[0m\u001b[0mindicator\u001b[0m\u001b[0;34m,\u001b[0m\u001b[0;34m\u001b[0m\u001b[0;34m\u001b[0m\u001b[0m\n\u001b[1;32m     47\u001b[0m                          validate=validate)\n\u001b[0;32m---> 48\u001b[0;31m     \u001b[0;32mreturn\u001b[0m \u001b[0mop\u001b[0m\u001b[0;34m.\u001b[0m\u001b[0mget_result\u001b[0m\u001b[0;34m(\u001b[0m\u001b[0;34m)\u001b[0m\u001b[0;34m\u001b[0m\u001b[0;34m\u001b[0m\u001b[0m\n\u001b[0m\u001b[1;32m     49\u001b[0m \u001b[0;34m\u001b[0m\u001b[0m\n\u001b[1;32m     50\u001b[0m \u001b[0;34m\u001b[0m\u001b[0m\n",
      "\u001b[0;32m/anaconda3/lib/python3.6/site-packages/pandas/core/reshape/merge.py\u001b[0m in \u001b[0;36mget_result\u001b[0;34m(self)\u001b[0m\n\u001b[1;32m    550\u001b[0m \u001b[0;34m\u001b[0m\u001b[0m\n\u001b[1;32m    551\u001b[0m         llabels, rlabels = items_overlap_with_suffix(ldata.items, lsuf,\n\u001b[0;32m--> 552\u001b[0;31m                                                      rdata.items, rsuf)\n\u001b[0m\u001b[1;32m    553\u001b[0m \u001b[0;34m\u001b[0m\u001b[0m\n\u001b[1;32m    554\u001b[0m         \u001b[0mlindexers\u001b[0m \u001b[0;34m=\u001b[0m \u001b[0;34m{\u001b[0m\u001b[0;36m1\u001b[0m\u001b[0;34m:\u001b[0m \u001b[0mleft_indexer\u001b[0m\u001b[0;34m}\u001b[0m \u001b[0;32mif\u001b[0m \u001b[0mleft_indexer\u001b[0m \u001b[0;32mis\u001b[0m \u001b[0;32mnot\u001b[0m \u001b[0;32mNone\u001b[0m \u001b[0;32melse\u001b[0m \u001b[0;34m{\u001b[0m\u001b[0;34m}\u001b[0m\u001b[0;34m\u001b[0m\u001b[0;34m\u001b[0m\u001b[0m\n",
      "\u001b[0;32m/anaconda3/lib/python3.6/site-packages/pandas/core/internals/managers.py\u001b[0m in \u001b[0;36mitems_overlap_with_suffix\u001b[0;34m(left, lsuffix, right, rsuffix)\u001b[0m\n\u001b[1;32m   1970\u001b[0m         \u001b[0;32mif\u001b[0m \u001b[0;32mnot\u001b[0m \u001b[0mlsuffix\u001b[0m \u001b[0;32mand\u001b[0m \u001b[0;32mnot\u001b[0m \u001b[0mrsuffix\u001b[0m\u001b[0;34m:\u001b[0m\u001b[0;34m\u001b[0m\u001b[0;34m\u001b[0m\u001b[0m\n\u001b[1;32m   1971\u001b[0m             raise ValueError('columns overlap but no suffix specified: '\n\u001b[0;32m-> 1972\u001b[0;31m                              '{rename}'.format(rename=to_rename))\n\u001b[0m\u001b[1;32m   1973\u001b[0m \u001b[0;34m\u001b[0m\u001b[0m\n\u001b[1;32m   1974\u001b[0m         \u001b[0;32mdef\u001b[0m \u001b[0mlrenamer\u001b[0m\u001b[0;34m(\u001b[0m\u001b[0mx\u001b[0m\u001b[0;34m)\u001b[0m\u001b[0;34m:\u001b[0m\u001b[0;34m\u001b[0m\u001b[0;34m\u001b[0m\u001b[0m\n",
      "\u001b[0;31mValueError\u001b[0m: columns overlap but no suffix specified: Index(['pt', 'q', 'q/pt'], dtype='object')"
     ]
    }
   ],
   "source": [
    "tracks = tracks.join(pt.set_index('ve_id'), on='ve_id')"
   ]
  },
  {
   "cell_type": "code",
   "execution_count": 186,
   "metadata": {
    "ExecuteTime": {
     "end_time": "2019-05-29T20:54:09.583758Z",
     "start_time": "2019-05-29T20:54:09.504509Z"
    }
   },
   "outputs": [],
   "source": [
    "csctf_results = track_df.join(pt.set_index('ve_id'), on='ve_id')"
   ]
  },
  {
   "cell_type": "code",
   "execution_count": 188,
   "metadata": {
    "ExecuteTime": {
     "end_time": "2019-05-29T20:54:35.898729Z",
     "start_time": "2019-05-29T20:54:32.269652Z"
    }
   },
   "outputs": [],
   "source": [
    "csctf_results.to_csv('results_csctf.csv')"
   ]
  },
  {
   "cell_type": "markdown",
   "metadata": {},
   "source": [
    "# Output mega data for Factory"
   ]
  },
  {
   "cell_type": "code",
   "execution_count": 144,
   "metadata": {
    "ExecuteTime": {
     "end_time": "2019-05-29T15:51:47.439380Z",
     "start_time": "2019-05-29T15:51:47.435165Z"
    }
   },
   "outputs": [
    {
     "data": {
      "text/plain": [
       "(163736, 166)"
      ]
     },
     "execution_count": 144,
     "metadata": {},
     "output_type": "execute_result"
    }
   ],
   "source": [
    "tracks.shape"
   ]
  },
  {
   "cell_type": "code",
   "execution_count": 145,
   "metadata": {
    "ExecuteTime": {
     "end_time": "2019-05-29T15:51:54.216939Z",
     "start_time": "2019-05-29T15:51:54.212220Z"
    }
   },
   "outputs": [
    {
     "data": {
      "text/plain": [
       "Index(['ve_id', 'delta_theta', 'delta_phi', 'delta_eta', 'vh_pattern',\n",
       "       'vh_quality', 'vh_bend', 'vh_fr', 'exist', 'exist_name',\n",
       "       ...\n",
       "       'theta_median', 'phi_median', 'eta_median', 'median_station',\n",
       "       'median_type', 'median_ring', 'median_virtual_station', 'pt', 'q',\n",
       "       'q/pt'],\n",
       "      dtype='object', length=166)"
      ]
     },
     "execution_count": 145,
     "metadata": {},
     "output_type": "execute_result"
    }
   ],
   "source": [
    "tracks.columns"
   ]
  },
  {
   "cell_type": "code",
   "execution_count": 146,
   "metadata": {
    "ExecuteTime": {
     "end_time": "2019-05-29T15:52:52.158435Z",
     "start_time": "2019-05-29T15:52:27.515905Z"
    }
   },
   "outputs": [],
   "source": [
    "tracks.to_csv('tracks_mega.csv')"
   ]
  },
  {
   "cell_type": "code",
   "execution_count": null,
   "metadata": {},
   "outputs": [],
   "source": []
  }
 ],
 "metadata": {
  "kernelspec": {
   "display_name": "Python 3",
   "language": "python",
   "name": "python3"
  },
  "language_info": {
   "codemirror_mode": {
    "name": "ipython",
    "version": 3
   },
   "file_extension": ".py",
   "mimetype": "text/x-python",
   "name": "python",
   "nbconvert_exporter": "python",
   "pygments_lexer": "ipython3",
   "version": "3.6.8"
  },
  "toc": {
   "base_numbering": 1,
   "nav_menu": {},
   "number_sections": true,
   "sideBar": true,
   "skip_h1_title": false,
   "title_cell": "Table of Contents",
   "title_sidebar": "Contents",
   "toc_cell": false,
   "toc_position": {
    "height": "calc(100% - 180px)",
    "left": "10px",
    "top": "150px",
    "width": "370.59375px"
   },
   "toc_section_display": true,
   "toc_window_display": true
  },
  "varInspector": {
   "cols": {
    "lenName": 16,
    "lenType": 16,
    "lenVar": 40
   },
   "kernels_config": {
    "python": {
     "delete_cmd_postfix": "",
     "delete_cmd_prefix": "del ",
     "library": "var_list.py",
     "varRefreshCmd": "print(var_dic_list())"
    },
    "r": {
     "delete_cmd_postfix": ") ",
     "delete_cmd_prefix": "rm(",
     "library": "var_list.r",
     "varRefreshCmd": "cat(var_dic_list()) "
    }
   },
   "position": {
    "height": "537px",
    "left": "1338px",
    "right": "20px",
    "top": "120px",
    "width": "322px"
   },
   "types_to_exclude": [
    "module",
    "function",
    "builtin_function_or_method",
    "instance",
    "_Feature"
   ],
   "window_display": false
  }
 },
 "nbformat": 4,
 "nbformat_minor": 2
}
