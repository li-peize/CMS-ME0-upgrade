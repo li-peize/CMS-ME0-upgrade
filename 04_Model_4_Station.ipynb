{
 "cells": [
  {
   "cell_type": "code",
   "execution_count": 9,
   "metadata": {
    "ExecuteTime": {
     "end_time": "2019-05-29T21:09:15.873595Z",
     "start_time": "2019-05-29T21:09:15.842161Z"
    }
   },
   "outputs": [],
   "source": [
    "import numpy as np\n",
    "import pandas as pd\n",
    "from sklearn.preprocessing import MinMaxScaler\n",
    "from sklearn.metrics import mean_squared_error"
   ]
  },
  {
   "cell_type": "code",
   "execution_count": 31,
   "metadata": {
    "ExecuteTime": {
     "end_time": "2019-05-29T21:20:33.079110Z",
     "start_time": "2019-05-29T21:20:33.074334Z"
    }
   },
   "outputs": [],
   "source": [
    "# configure plots\n",
    "import matplotlib.pyplot as plt\n",
    "%matplotlib inline\n",
    "from matplotlib.pylab import rcParams\n",
    "rcParams['figure.figsize'] = 6, 4"
   ]
  },
  {
   "cell_type": "markdown",
   "metadata": {},
   "source": [
    "# Data"
   ]
  },
  {
   "cell_type": "markdown",
   "metadata": {},
   "source": [
    "## Raw Data"
   ]
  },
  {
   "cell_type": "code",
   "execution_count": 11,
   "metadata": {
    "ExecuteTime": {
     "end_time": "2019-05-29T21:09:18.133508Z",
     "start_time": "2019-05-29T21:09:17.337630Z"
    }
   },
   "outputs": [],
   "source": [
    "X = pd.read_csv('./4_Station/X.csv', index_col=0)\n",
    "y = pd.read_csv('./4_Station/y.csv', index_col=0)"
   ]
  },
  {
   "cell_type": "markdown",
   "metadata": {},
   "source": [
    "## Normalize"
   ]
  },
  {
   "cell_type": "code",
   "execution_count": 12,
   "metadata": {
    "ExecuteTime": {
     "end_time": "2019-05-29T21:09:37.974781Z",
     "start_time": "2019-05-29T21:09:37.948332Z"
    }
   },
   "outputs": [],
   "source": [
    "scaler = MinMaxScaler(feature_range=(-1, 1))\n",
    "y_standard = scaler.fit_transform(pd.DataFrame(y['pt']))\n",
    "y_standard = pd.DataFrame(y_standard, columns=['pt_s'], index=y.index)\n",
    "y['pt_s'] = y_standard['pt_s']"
   ]
  },
  {
   "cell_type": "code",
   "execution_count": 18,
   "metadata": {
    "ExecuteTime": {
     "end_time": "2019-05-29T21:11:24.077431Z",
     "start_time": "2019-05-29T21:11:24.044501Z"
    }
   },
   "outputs": [],
   "source": [
    "X = X.fillna(0)"
   ]
  },
  {
   "cell_type": "markdown",
   "metadata": {},
   "source": [
    "## Train Test Split"
   ]
  },
  {
   "cell_type": "code",
   "execution_count": 19,
   "metadata": {
    "ExecuteTime": {
     "end_time": "2019-05-29T21:11:25.663912Z",
     "start_time": "2019-05-29T21:11:25.611424Z"
    }
   },
   "outputs": [],
   "source": [
    "from sklearn.model_selection import train_test_split\n",
    "X_train, X_test, y_train, y_test = train_test_split(X, y, test_size=0.2, random_state = 1)"
   ]
  },
  {
   "cell_type": "markdown",
   "metadata": {},
   "source": [
    "# Models"
   ]
  },
  {
   "cell_type": "code",
   "execution_count": 20,
   "metadata": {
    "ExecuteTime": {
     "end_time": "2019-05-29T21:11:26.300698Z",
     "start_time": "2019-05-29T21:11:26.297201Z"
    }
   },
   "outputs": [],
   "source": [
    "import keras\n",
    "from keras.models import Sequential\n",
    "from keras.layers import Dense\n",
    "from keras import optimizers\n",
    "from keras.wrappers.scikit_learn import KerasRegressor"
   ]
  },
  {
   "cell_type": "code",
   "execution_count": 21,
   "metadata": {
    "ExecuteTime": {
     "end_time": "2019-05-29T21:11:26.799556Z",
     "start_time": "2019-05-29T21:11:26.795084Z"
    }
   },
   "outputs": [
    {
     "data": {
      "text/plain": [
       "(138011, 27)"
      ]
     },
     "execution_count": 21,
     "metadata": {},
     "output_type": "execute_result"
    }
   ],
   "source": [
    "X.shape"
   ]
  },
  {
   "cell_type": "code",
   "execution_count": 22,
   "metadata": {
    "ExecuteTime": {
     "end_time": "2019-05-29T21:11:28.334537Z",
     "start_time": "2019-05-29T21:11:28.327965Z"
    }
   },
   "outputs": [],
   "source": [
    "# 搭建模型\n",
    "def create_model():\n",
    "    classifier = Sequential()\n",
    "    # 输入层及第一个隐藏层\n",
    "    classifier.add(Dense(activation=\"tanh\", \n",
    "                         input_dim=27, \n",
    "                         units=60, \n",
    "                         kernel_initializer=\"uniform\"))\n",
    "    # 第二个隐藏层\n",
    "    classifier.add(Dense(activation=\"tanh\", \n",
    "                         units=30, \n",
    "                         kernel_initializer=\"uniform\"))\n",
    "    # 第三个隐藏层\n",
    "    classifier.add(Dense(activation=\"tanh\", \n",
    "                         units=30, \n",
    "                         kernel_initializer=\"uniform\"))\n",
    "    # 输出层\n",
    "    classifier.add(Dense(activation=\"tanh\", \n",
    "                         units=1, \n",
    "                         kernel_initializer=\"uniform\"))\n",
    "    \n",
    "    sgd = optimizers.SGD(lr=0.01, decay=1e-6, momentum=0.9, nesterov=True)\n",
    "    \n",
    "    classifier.compile(optimizer = 'adam', \n",
    "                       loss = 'mean_absolute_error', \n",
    "                       metrics = ['mse'])\n",
    "    return classifier\n",
    "\n",
    "model = KerasRegressor(build_fn=create_model)"
   ]
  },
  {
   "cell_type": "code",
   "execution_count": 23,
   "metadata": {
    "ExecuteTime": {
     "end_time": "2019-05-29T21:17:19.156530Z",
     "start_time": "2019-05-29T21:11:28.827638Z"
    }
   },
   "outputs": [
    {
     "name": "stdout",
     "output_type": "stream",
     "text": [
      "Epoch 1/20\n",
      "110408/110408 [==============================] - 18s 166us/step - loss: 0.3763 - mean_squared_error: 0.2242\n",
      "Epoch 2/20\n",
      "110408/110408 [==============================] - 17s 154us/step - loss: 0.2868 - mean_squared_error: 0.1460\n",
      "Epoch 3/20\n",
      "110408/110408 [==============================] - 17s 151us/step - loss: 0.2697 - mean_squared_error: 0.1331\n",
      "Epoch 4/20\n",
      "110408/110408 [==============================] - 17s 157us/step - loss: 0.2630 - mean_squared_error: 0.1281\n",
      "Epoch 5/20\n",
      "110408/110408 [==============================] - 19s 168us/step - loss: 0.2592 - mean_squared_error: 0.1249\n",
      "Epoch 6/20\n",
      "110408/110408 [==============================] - 18s 165us/step - loss: 0.2559 - mean_squared_error: 0.1226\n",
      "Epoch 7/20\n",
      "110408/110408 [==============================] - 17s 155us/step - loss: 0.2543 - mean_squared_error: 0.1214\n",
      "Epoch 8/20\n",
      "110408/110408 [==============================] - 17s 155us/step - loss: 0.2532 - mean_squared_error: 0.1207\n",
      "Epoch 9/20\n",
      "110408/110408 [==============================] - 17s 151us/step - loss: 0.2511 - mean_squared_error: 0.1191\n",
      "Epoch 10/20\n",
      "110408/110408 [==============================] - 16s 148us/step - loss: 0.2502 - mean_squared_error: 0.1183\n",
      "Epoch 11/20\n",
      "110408/110408 [==============================] - 17s 151us/step - loss: 0.2489 - mean_squared_error: 0.1176\n",
      "Epoch 12/20\n",
      "110408/110408 [==============================] - 18s 160us/step - loss: 0.2487 - mean_squared_error: 0.1173\n",
      "Epoch 13/20\n",
      "110408/110408 [==============================] - 18s 165us/step - loss: 0.2477 - mean_squared_error: 0.1168\n",
      "Epoch 14/20\n",
      "110408/110408 [==============================] - 18s 166us/step - loss: 0.2474 - mean_squared_error: 0.1164\n",
      "Epoch 15/20\n",
      "110408/110408 [==============================] - 16s 149us/step - loss: 0.2471 - mean_squared_error: 0.1161s - loss: 0.2471 - mean_squared_error: 0.11\n",
      "Epoch 16/20\n",
      "110408/110408 [==============================] - 16s 149us/step - loss: 0.2460 - mean_squared_error: 0.1154\n",
      "Epoch 17/20\n",
      "110408/110408 [==============================] - 18s 163us/step - loss: 0.2458 - mean_squared_error: 0.1149\n",
      "Epoch 18/20\n",
      "110408/110408 [==============================] - 18s 167us/step - loss: 0.2454 - mean_squared_error: 0.1148\n",
      "Epoch 19/20\n",
      "110408/110408 [==============================] - 18s 162us/step - loss: 0.2451 - mean_squared_error: 0.1146\n",
      "Epoch 20/20\n",
      "110408/110408 [==============================] - 19s 168us/step - loss: 0.2447 - mean_squared_error: 0.1141\n"
     ]
    },
    {
     "data": {
      "text/plain": [
       "<keras.callbacks.History at 0x1a2c9aaba8>"
      ]
     },
     "execution_count": 23,
     "metadata": {},
     "output_type": "execute_result"
    }
   ],
   "source": [
    "model.fit(X_train,y_train['pt_s'], batch_size=10, epochs = 20)"
   ]
  },
  {
   "cell_type": "code",
   "execution_count": 24,
   "metadata": {
    "ExecuteTime": {
     "end_time": "2019-05-29T21:20:03.400287Z",
     "start_time": "2019-05-29T21:20:02.706769Z"
    }
   },
   "outputs": [],
   "source": [
    "y_pred = model.predict(X_test)"
   ]
  },
  {
   "cell_type": "markdown",
   "metadata": {},
   "source": [
    "# Visualization"
   ]
  },
  {
   "cell_type": "markdown",
   "metadata": {},
   "source": [
    "## Gather Results"
   ]
  },
  {
   "cell_type": "code",
   "execution_count": 25,
   "metadata": {
    "ExecuteTime": {
     "end_time": "2019-05-29T21:20:06.670508Z",
     "start_time": "2019-05-29T21:20:06.665947Z"
    }
   },
   "outputs": [],
   "source": [
    "visual = y_test.reset_index()"
   ]
  },
  {
   "cell_type": "code",
   "execution_count": 26,
   "metadata": {
    "ExecuteTime": {
     "end_time": "2019-05-29T21:20:07.218138Z",
     "start_time": "2019-05-29T21:20:07.212291Z"
    }
   },
   "outputs": [],
   "source": [
    "visual['pt_pred'] = scaler.inverse_transform(pd.DataFrame(y_pred))"
   ]
  },
  {
   "cell_type": "markdown",
   "metadata": {},
   "source": [
    "## Visualization Features"
   ]
  },
  {
   "cell_type": "code",
   "execution_count": 27,
   "metadata": {
    "ExecuteTime": {
     "end_time": "2019-05-29T21:20:08.577907Z",
     "start_time": "2019-05-29T21:20:08.558455Z"
    }
   },
   "outputs": [],
   "source": [
    "visual['q/pt_pred'] = visual['q'] / visual['pt_pred']"
   ]
  },
  {
   "cell_type": "markdown",
   "metadata": {},
   "source": [
    "## Scatter"
   ]
  },
  {
   "cell_type": "code",
   "execution_count": 28,
   "metadata": {
    "ExecuteTime": {
     "end_time": "2019-05-29T21:20:10.649985Z",
     "start_time": "2019-05-29T21:20:10.643896Z"
    }
   },
   "outputs": [],
   "source": [
    "visual['delta_1/pt'] = 1/visual['pt'] - 1/visual['pt_pred']"
   ]
  },
  {
   "cell_type": "code",
   "execution_count": 37,
   "metadata": {
    "ExecuteTime": {
     "end_time": "2019-05-29T21:21:57.363124Z",
     "start_time": "2019-05-29T21:21:57.124885Z"
    }
   },
   "outputs": [
    {
     "data": {
      "image/png": "[encoded data removed]",
      "text/plain": [
       "<Figure size 432x288 with 1 Axes>"
      ]
     },
     "metadata": {
      "needs_background": "light"
     },
     "output_type": "display_data"
    }
   ],
   "source": [
    "visual_sample = visual.sample(n = 10000)\n",
    "fig, ax = plt.subplots()\n",
    "line = [0, 100]\n",
    "ax.plot(line, line)\n",
    "ax.scatter(visual_sample['pt'], \n",
    "           visual_sample['pt_pred'], \n",
    "#            c = visual_sample['hit_count'], \n",
    "           cmap = 'copper', \n",
    "           s = 2, \n",
    "           alpha = 1\n",
    "          )\n",
    "# plt.ylim(-1, 1)\n",
    "ax.grid(True)"
   ]
  },
  {
   "cell_type": "code",
   "execution_count": 42,
   "metadata": {
    "ExecuteTime": {
     "end_time": "2019-05-29T21:22:25.763961Z",
     "start_time": "2019-05-29T21:22:25.758508Z"
    }
   },
   "outputs": [],
   "source": [
    "visual['delta_1/pt'] = 1/visual['pt'] - 1/visual['pt_pred']"
   ]
  },
  {
   "cell_type": "code",
   "execution_count": 46,
   "metadata": {
    "ExecuteTime": {
     "end_time": "2019-05-29T21:23:02.168490Z",
     "start_time": "2019-05-29T21:23:02.165747Z"
    }
   },
   "outputs": [],
   "source": [
    "points = range(2, 100)\n",
    "bias = []\n",
    "resolution = []"
   ]
  },
  {
   "cell_type": "code",
   "execution_count": 47,
   "metadata": {
    "ExecuteTime": {
     "end_time": "2019-05-29T21:23:02.959111Z",
     "start_time": "2019-05-29T21:23:02.811751Z"
    }
   },
   "outputs": [],
   "source": [
    "for i in points:\n",
    "    temp = visual[(visual['pt']>i) & (visual['pt']<i+1)]\n",
    "    bias.append(temp['delta_1/pt'].mean())\n",
    "    resolution.append(temp['delta_1/pt'].std())\n",
    "#     resolution.append((temp['delta_1/pt'].max() - temp['delta_1/pt'].min())/2)"
   ]
  },
  {
   "cell_type": "code",
   "execution_count": 50,
   "metadata": {
    "ExecuteTime": {
     "end_time": "2019-05-29T22:58:21.641547Z",
     "start_time": "2019-05-29T22:58:20.843956Z"
    }
   },
   "outputs": [
    {
     "data": {
      "image/png": "[encoded data removed]",
      "text/plain": [
       "<Figure size 432x288 with 1 Axes>"
      ]
     },
     "metadata": {
      "needs_background": "light"
     },
     "output_type": "display_data"
    }
   ],
   "source": [
    "fig, ax = plt.subplots()\n",
    "ax.errorbar(points, bias, color='firebrick', yerr=resolution, errorevery=2)\n",
    "plt.ylim(-0.1, 0.2)\n",
    "ax.set(xlabel=r'gen $p_t$ [GeV]', ylabel=r' $\\Delta(p_t)/p_t$ bias')\n",
    "ax.grid(True)\n",
    "# ax.set_title('all errorbars')\n",
    "fig.savefig('4s.jpg', format='jpg', dpi=900)"
   ]
  },
  {
   "cell_type": "markdown",
   "metadata": {},
   "source": [
    "# Save Results"
   ]
  },
  {
   "cell_type": "code",
   "execution_count": 49,
   "metadata": {
    "ExecuteTime": {
     "end_time": "2019-05-29T21:24:00.583850Z",
     "start_time": "2019-05-29T21:24:00.144929Z"
    }
   },
   "outputs": [],
   "source": [
    "visual.to_csv('result_4s_nn_run1.csv')"
   ]
  },
  {
   "cell_type": "code",
   "execution_count": null,
   "metadata": {},
   "outputs": [],
   "source": []
  }
 ],
 "metadata": {
  "kernelspec": {
   "display_name": "Python 3",
   "language": "python",
   "name": "python3"
  },
  "toc": {
   "base_numbering": 1,
   "nav_menu": {},
   "number_sections": true,
   "sideBar": true,
   "skip_h1_title": false,
   "title_cell": "Table of Contents",
   "title_sidebar": "Contents",
   "toc_cell": false,
   "toc_position": {},
   "toc_section_display": true,
   "toc_window_display": false
  },
  "varInspector": {
   "cols": {
    "lenName": 16,
    "lenType": 16,
    "lenVar": 40
   },
   "kernels_config": {
    "python": {
     "delete_cmd_postfix": "",
     "delete_cmd_prefix": "del ",
     "library": "var_list.py",
     "varRefreshCmd": "print(var_dic_list())"
    },
    "r": {
     "delete_cmd_postfix": ") ",
     "delete_cmd_prefix": "rm(",
     "library": "var_list.r",
     "varRefreshCmd": "cat(var_dic_list()) "
    }
   },
   "types_to_exclude": [
    "module",
    "function",
    "builtin_function_or_method",
    "instance",
    "_Feature"
   ],
   "window_display": false
  }
 },
 "nbformat": 4,
 "nbformat_minor": 2
}
